{
 "cells": [
  {
   "cell_type": "code",
   "execution_count": 1,
   "id": "d12de5d0-90dd-420d-b5a7-dc43b4fe7919",
   "metadata": {},
   "outputs": [
    {
     "name": "stdout",
     "output_type": "stream",
     "text": [
      "(96, 27)\n"
     ]
    },
    {
     "data": {
      "text/html": [
       "<div>\n",
       "<style scoped>\n",
       "    .dataframe tbody tr th:only-of-type {\n",
       "        vertical-align: middle;\n",
       "    }\n",
       "\n",
       "    .dataframe tbody tr th {\n",
       "        vertical-align: top;\n",
       "    }\n",
       "\n",
       "    .dataframe thead th {\n",
       "        text-align: right;\n",
       "    }\n",
       "</style>\n",
       "<table border=\"1\" class=\"dataframe\">\n",
       "  <thead>\n",
       "    <tr style=\"text-align: right;\">\n",
       "      <th></th>\n",
       "      <th>year</th>\n",
       "      <th>region</th>\n",
       "      <th>round</th>\n",
       "      <th>high_bracket_seed</th>\n",
       "      <th>high_team_id</th>\n",
       "      <th>low_bracket_seed</th>\n",
       "      <th>low_team_id</th>\n",
       "      <th>win</th>\n",
       "      <th>adj_oe</th>\n",
       "      <th>adj_de</th>\n",
       "      <th>...</th>\n",
       "      <th>ftr</th>\n",
       "      <th>ftrd</th>\n",
       "      <th>2p%</th>\n",
       "      <th>2p%d</th>\n",
       "      <th>3p%</th>\n",
       "      <th>3p%d</th>\n",
       "      <th>3pr</th>\n",
       "      <th>3prd</th>\n",
       "      <th>adj_tempo</th>\n",
       "      <th>wab</th>\n",
       "    </tr>\n",
       "  </thead>\n",
       "  <tbody>\n",
       "    <tr>\n",
       "      <th>1</th>\n",
       "      <td>2021</td>\n",
       "      <td>East</td>\n",
       "      <td>Second Round</td>\n",
       "      <td>1</td>\n",
       "      <td>2021 Stanford</td>\n",
       "      <td>8</td>\n",
       "      <td>2021 Oklahoma St.</td>\n",
       "      <td>1</td>\n",
       "      <td>0.9000</td>\n",
       "      <td>25.5000</td>\n",
       "      <td>...</td>\n",
       "      <td>-0.3000</td>\n",
       "      <td>1.8000</td>\n",
       "      <td>14.4000</td>\n",
       "      <td>-9.7000</td>\n",
       "      <td>2.2000</td>\n",
       "      <td>-8.4000</td>\n",
       "      <td>5.3000</td>\n",
       "      <td>9.2000</td>\n",
       "      <td>-0.3000</td>\n",
       "      <td>8.7000</td>\n",
       "    </tr>\n",
       "    <tr>\n",
       "      <th>2</th>\n",
       "      <td>2021</td>\n",
       "      <td>East</td>\n",
       "      <td>Sweet 16</td>\n",
       "      <td>1</td>\n",
       "      <td>2021 Stanford</td>\n",
       "      <td>5</td>\n",
       "      <td>2021 Missouri St.</td>\n",
       "      <td>1</td>\n",
       "      <td>2.0000</td>\n",
       "      <td>26.6000</td>\n",
       "      <td>...</td>\n",
       "      <td>-7.2000</td>\n",
       "      <td>-2.3000</td>\n",
       "      <td>7.8000</td>\n",
       "      <td>-10.3000</td>\n",
       "      <td>7.3000</td>\n",
       "      <td>-4.0000</td>\n",
       "      <td>0.2000</td>\n",
       "      <td>7.1000</td>\n",
       "      <td>0.5000</td>\n",
       "      <td>8.3000</td>\n",
       "    </tr>\n",
       "    <tr>\n",
       "      <th>4</th>\n",
       "      <td>2021</td>\n",
       "      <td>East</td>\n",
       "      <td>Sweet 16</td>\n",
       "      <td>6</td>\n",
       "      <td>2021 Oregon</td>\n",
       "      <td>2</td>\n",
       "      <td>2021 Louisville</td>\n",
       "      <td>0</td>\n",
       "      <td>-3.3000</td>\n",
       "      <td>3.4000</td>\n",
       "      <td>...</td>\n",
       "      <td>-9.7000</td>\n",
       "      <td>3.2000</td>\n",
       "      <td>7.6000</td>\n",
       "      <td>-11.7000</td>\n",
       "      <td>8.1000</td>\n",
       "      <td>-3.7000</td>\n",
       "      <td>4.0000</td>\n",
       "      <td>-0.6000</td>\n",
       "      <td>-0.9000</td>\n",
       "      <td>-3.7000</td>\n",
       "    </tr>\n",
       "    <tr>\n",
       "      <th>5</th>\n",
       "      <td>2021</td>\n",
       "      <td>East</td>\n",
       "      <td>Second Round</td>\n",
       "      <td>7</td>\n",
       "      <td>2021 Northwestern</td>\n",
       "      <td>2</td>\n",
       "      <td>2021 Louisville</td>\n",
       "      <td>1</td>\n",
       "      <td>-15.8000</td>\n",
       "      <td>7.3000</td>\n",
       "      <td>...</td>\n",
       "      <td>3.2000</td>\n",
       "      <td>9.2000</td>\n",
       "      <td>3.1000</td>\n",
       "      <td>-6.1000</td>\n",
       "      <td>-1.2000</td>\n",
       "      <td>-3.6000</td>\n",
       "      <td>-3.5000</td>\n",
       "      <td>-0.5000</td>\n",
       "      <td>-0.4000</td>\n",
       "      <td>-4.1000</td>\n",
       "    </tr>\n",
       "    <tr>\n",
       "      <th>9</th>\n",
       "      <td>2021</td>\n",
       "      <td>South</td>\n",
       "      <td>Second Round</td>\n",
       "      <td>11</td>\n",
       "      <td>2021 BYU</td>\n",
       "      <td>3</td>\n",
       "      <td>2021 Arizona</td>\n",
       "      <td>0</td>\n",
       "      <td>-24.3000</td>\n",
       "      <td>11.1000</td>\n",
       "      <td>...</td>\n",
       "      <td>-6.9000</td>\n",
       "      <td>2.1000</td>\n",
       "      <td>12.1000</td>\n",
       "      <td>-6.2000</td>\n",
       "      <td>1.5000</td>\n",
       "      <td>-1.5000</td>\n",
       "      <td>4.2000</td>\n",
       "      <td>6.2000</td>\n",
       "      <td>-1.5000</td>\n",
       "      <td>-5.1900</td>\n",
       "    </tr>\n",
       "  </tbody>\n",
       "</table>\n",
       "<p>5 rows × 27 columns</p>\n",
       "</div>"
      ],
      "text/plain": [
       "   year region         round  high_bracket_seed       high_team_id  \\\n",
       "1  2021   East  Second Round                  1      2021 Stanford   \n",
       "2  2021   East      Sweet 16                  1      2021 Stanford   \n",
       "4  2021   East      Sweet 16                  6        2021 Oregon   \n",
       "5  2021   East  Second Round                  7  2021 Northwestern   \n",
       "9  2021  South  Second Round                 11           2021 BYU   \n",
       "\n",
       "   low_bracket_seed        low_team_id  win   adj_oe  adj_de  ...     ftr  \\\n",
       "1                 8  2021 Oklahoma St.    1   0.9000 25.5000  ... -0.3000   \n",
       "2                 5  2021 Missouri St.    1   2.0000 26.6000  ... -7.2000   \n",
       "4                 2    2021 Louisville    0  -3.3000  3.4000  ... -9.7000   \n",
       "5                 2    2021 Louisville    1 -15.8000  7.3000  ...  3.2000   \n",
       "9                 3       2021 Arizona    0 -24.3000 11.1000  ... -6.9000   \n",
       "\n",
       "     ftrd     2p%     2p%d     3p%    3p%d     3pr    3prd  adj_tempo     wab  \n",
       "1  1.8000 14.4000  -9.7000  2.2000 -8.4000  5.3000  9.2000    -0.3000  8.7000  \n",
       "2 -2.3000  7.8000 -10.3000  7.3000 -4.0000  0.2000  7.1000     0.5000  8.3000  \n",
       "4  3.2000  7.6000 -11.7000  8.1000 -3.7000  4.0000 -0.6000    -0.9000 -3.7000  \n",
       "5  9.2000  3.1000  -6.1000 -1.2000 -3.6000 -3.5000 -0.5000    -0.4000 -4.1000  \n",
       "9  2.1000 12.1000  -6.2000  1.5000 -1.5000  4.2000  6.2000    -1.5000 -5.1900  \n",
       "\n",
       "[5 rows x 27 columns]"
      ]
     },
     "execution_count": 1,
     "metadata": {},
     "output_type": "execute_result"
    }
   ],
   "source": [
    "### Setup Environment ###\n",
    "import numpy as np\n",
    "import pandas as pd\n",
    "import plotly_express as px\n",
    "import plotly.graph_objects as go\n",
    "import matplotlib.pyplot as plt\n",
    "import seaborn as sns\n",
    "from sklearn.preprocessing import StandardScaler, MinMaxScaler\n",
    "from scipy.stats import chi2_contingency\n",
    "from mlxtend.feature_selection import ExhaustiveFeatureSelector as EFS\n",
    "from sklearn.feature_selection import f_classif\n",
    "from sklearn.feature_selection import mutual_info_regression\n",
    "from sklearn.feature_selection import RFE\n",
    "from sklearn.linear_model import LogisticRegression\n",
    "from sklearn.tree import DecisionTreeClassifier\n",
    "from sklearn.ensemble import ExtraTreesClassifier\n",
    "from sklearn.metrics import f1_score\n",
    "from sklearn.ensemble import RandomForestClassifier\n",
    "import statsmodels.api as sm\n",
    "from itertools import combinations\n",
    "\n",
    "np.set_printoptions(suppress=True, formatter={'float_kind':'{:0.4f}'.format})\n",
    "pd.set_option('display.float_format', lambda x: '%.4f' % x)\n",
    "pd.set_option('display.max_rows', None)\n",
    "\n",
    "from sklearn.model_selection import train_test_split\n",
    "from sklearn.feature_selection import mutual_info_classif, f_classif, SelectKBest, SelectFromModel, SequentialFeatureSelector\n",
    "from sklearn.linear_model import Lasso, LogisticRegression\n",
    "from sklearn.tree import DecisionTreeClassifier\n",
    "from sklearn.ensemble import RandomForestRegressor, RandomForestClassifier\n",
    "from sklearn.metrics import roc_auc_score, r2_score\n",
    "from sklearn.preprocessing import StandardScaler\n",
    "\n",
    "df = pd.read_csv('womens_matchups.csv')\n",
    "df = df[df['round'].isin(['Second Round', 'Sweet 16'])]\n",
    "print(df.shape)\n",
    "df.head()"
   ]
  },
  {
   "cell_type": "code",
   "execution_count": 2,
   "id": "02d33038-c26e-44f3-b909-dee4b8fdd10c",
   "metadata": {},
   "outputs": [
    {
     "data": {
      "text/plain": [
       "1   0.5625\n",
       "0   0.4375\n",
       "Name: win, dtype: float64"
      ]
     },
     "execution_count": 2,
     "metadata": {},
     "output_type": "execute_result"
    }
   ],
   "source": [
    "df['win'].value_counts(normalize=True)"
   ]
  },
  {
   "cell_type": "code",
   "execution_count": 3,
   "id": "e332d18b-c8f7-44ce-8185-3d155ecb77d0",
   "metadata": {},
   "outputs": [
    {
     "data": {
      "text/plain": [
       "Index(['year', 'region', 'round', 'high_bracket_seed', 'high_team_id',\n",
       "       'low_bracket_seed', 'low_team_id', 'win', 'adj_oe', 'adj_de', 'barthag',\n",
       "       'efg%', 'efgd%', 'tor', 'tord', 'orb%', 'drb%', 'ftr', 'ftrd', '2p%',\n",
       "       '2p%d', '3p%', '3p%d', '3pr', '3prd', 'adj_tempo', 'wab'],\n",
       "      dtype='object')"
      ]
     },
     "execution_count": 3,
     "metadata": {},
     "output_type": "execute_result"
    }
   ],
   "source": [
    "df.columns"
   ]
  },
  {
   "cell_type": "code",
   "execution_count": 4,
   "id": "f13f418b-2dfa-4715-bb3f-ab9a6e4eb764",
   "metadata": {},
   "outputs": [],
   "source": [
    "eda_df = df[[\n",
    "    'win',\n",
    "    'adj_oe', \n",
    "    'adj_de', \n",
    "    'barthag',\n",
    "    'efg%', \n",
    "    'efgd%', \n",
    "    'tor', \n",
    "    'tord', \n",
    "    'orb%', \n",
    "    'drb%', \n",
    "    'ftr', \n",
    "    'ftrd',\n",
    "    '2p%', \n",
    "    '2p%d', \n",
    "    '3p%', \n",
    "    '3p%d', \n",
    "    '3pr', \n",
    "    '3prd', \n",
    "    'adj_tempo', \n",
    "    'wab']]"
   ]
  },
  {
   "cell_type": "code",
   "execution_count": 5,
   "id": "62109f62-1f36-417e-a5a5-b3fbe8909576",
   "metadata": {},
   "outputs": [
    {
     "name": "stdout",
     "output_type": "stream",
     "text": [
      "(67, 20)\n",
      "(29, 20)\n"
     ]
    }
   ],
   "source": [
    "# Split dataset into a train and test set\n",
    "X = eda_df.iloc[:,1:]\n",
    "Y = eda_df['win']\n",
    "\n",
    "X_train, X_test, y_train, y_test = train_test_split(X, Y, test_size=0.3, random_state=42)\n",
    "\n",
    "train_df = pd.concat([X_train, y_train], axis=1)\n",
    "test_df = pd.concat([X_test, y_test], axis=1)\n",
    "\n",
    "print(train_df.shape)\n",
    "print(test_df.shape)"
   ]
  },
  {
   "cell_type": "markdown",
   "id": "f716ac10-bd07-4f3a-9bfc-1412b09f4e66",
   "metadata": {},
   "source": [
    "### I. Numerical Tests"
   ]
  },
  {
   "cell_type": "code",
   "execution_count": 6,
   "id": "0cda4eca-2a5e-4e54-9220-335362166637",
   "metadata": {},
   "outputs": [
    {
     "name": "stdout",
     "output_type": "stream",
     "text": [
      "adj_oe       36.5400\n",
      "adj_de       50.6100\n",
      "barthag      54.5600\n",
      "orb%         23.1500\n",
      "ftr          10.1000\n",
      "3pr          23.7900\n",
      "3prd         19.5500\n",
      "adj_tempo    19.0900\n",
      "wab          54.9000\n",
      "win         100.0000\n",
      "Name: win, dtype: float64\n"
     ]
    }
   ],
   "source": [
    "corr_matrix = train_df.corr()\n",
    "correlation_with_target = round(abs(corr_matrix['win'])*100,2)\n",
    "correlation_with_target = correlation_with_target[correlation_with_target >= 10]\n",
    "print(correlation_with_target)"
   ]
  },
  {
   "cell_type": "code",
   "execution_count": 7,
   "id": "eed75435-e14a-43b2-8a20-e557de2734e3",
   "metadata": {},
   "outputs": [
    {
     "data": {
      "text/html": [
       "<div>\n",
       "<style scoped>\n",
       "    .dataframe tbody tr th:only-of-type {\n",
       "        vertical-align: middle;\n",
       "    }\n",
       "\n",
       "    .dataframe tbody tr th {\n",
       "        vertical-align: top;\n",
       "    }\n",
       "\n",
       "    .dataframe thead th {\n",
       "        text-align: right;\n",
       "    }\n",
       "</style>\n",
       "<table border=\"1\" class=\"dataframe\">\n",
       "  <thead>\n",
       "    <tr style=\"text-align: right;\">\n",
       "      <th></th>\n",
       "      <th>feature</th>\n",
       "      <th>f_values</th>\n",
       "      <th>p_values</th>\n",
       "      <th>mutual_info</th>\n",
       "    </tr>\n",
       "  </thead>\n",
       "  <tbody>\n",
       "    <tr>\n",
       "      <th>0</th>\n",
       "      <td>adj_oe</td>\n",
       "      <td>10.0139</td>\n",
       "      <td>0.0024</td>\n",
       "      <td>0.0238</td>\n",
       "    </tr>\n",
       "    <tr>\n",
       "      <th>1</th>\n",
       "      <td>adj_de</td>\n",
       "      <td>22.3780</td>\n",
       "      <td>0.0000</td>\n",
       "      <td>0.1702</td>\n",
       "    </tr>\n",
       "    <tr>\n",
       "      <th>2</th>\n",
       "      <td>barthag</td>\n",
       "      <td>27.5437</td>\n",
       "      <td>0.0000</td>\n",
       "      <td>0.2249</td>\n",
       "    </tr>\n",
       "    <tr>\n",
       "      <th>3</th>\n",
       "      <td>efg%</td>\n",
       "      <td>0.0629</td>\n",
       "      <td>0.8027</td>\n",
       "      <td>0.0459</td>\n",
       "    </tr>\n",
       "    <tr>\n",
       "      <th>4</th>\n",
       "      <td>efgd%</td>\n",
       "      <td>0.0294</td>\n",
       "      <td>0.8643</td>\n",
       "      <td>0.0466</td>\n",
       "    </tr>\n",
       "    <tr>\n",
       "      <th>5</th>\n",
       "      <td>tor</td>\n",
       "      <td>0.5300</td>\n",
       "      <td>0.4692</td>\n",
       "      <td>0.0000</td>\n",
       "    </tr>\n",
       "    <tr>\n",
       "      <th>6</th>\n",
       "      <td>tord</td>\n",
       "      <td>0.0769</td>\n",
       "      <td>0.7824</td>\n",
       "      <td>0.0071</td>\n",
       "    </tr>\n",
       "    <tr>\n",
       "      <th>7</th>\n",
       "      <td>orb%</td>\n",
       "      <td>3.6797</td>\n",
       "      <td>0.0595</td>\n",
       "      <td>0.0830</td>\n",
       "    </tr>\n",
       "    <tr>\n",
       "      <th>8</th>\n",
       "      <td>drb%</td>\n",
       "      <td>0.0006</td>\n",
       "      <td>0.9806</td>\n",
       "      <td>0.0000</td>\n",
       "    </tr>\n",
       "    <tr>\n",
       "      <th>9</th>\n",
       "      <td>ftr</td>\n",
       "      <td>0.6705</td>\n",
       "      <td>0.4159</td>\n",
       "      <td>0.0199</td>\n",
       "    </tr>\n",
       "    <tr>\n",
       "      <th>10</th>\n",
       "      <td>ftrd</td>\n",
       "      <td>0.3392</td>\n",
       "      <td>0.5623</td>\n",
       "      <td>0.0223</td>\n",
       "    </tr>\n",
       "    <tr>\n",
       "      <th>11</th>\n",
       "      <td>2p%</td>\n",
       "      <td>0.0276</td>\n",
       "      <td>0.8686</td>\n",
       "      <td>0.0367</td>\n",
       "    </tr>\n",
       "    <tr>\n",
       "      <th>12</th>\n",
       "      <td>2p%d</td>\n",
       "      <td>0.0449</td>\n",
       "      <td>0.8328</td>\n",
       "      <td>0.0023</td>\n",
       "    </tr>\n",
       "    <tr>\n",
       "      <th>13</th>\n",
       "      <td>3p%</td>\n",
       "      <td>0.5761</td>\n",
       "      <td>0.4506</td>\n",
       "      <td>0.0000</td>\n",
       "    </tr>\n",
       "    <tr>\n",
       "      <th>14</th>\n",
       "      <td>3p%d</td>\n",
       "      <td>0.4070</td>\n",
       "      <td>0.5258</td>\n",
       "      <td>0.0000</td>\n",
       "    </tr>\n",
       "    <tr>\n",
       "      <th>15</th>\n",
       "      <td>3pr</td>\n",
       "      <td>3.9002</td>\n",
       "      <td>0.0525</td>\n",
       "      <td>0.0929</td>\n",
       "    </tr>\n",
       "    <tr>\n",
       "      <th>16</th>\n",
       "      <td>3prd</td>\n",
       "      <td>2.5838</td>\n",
       "      <td>0.1128</td>\n",
       "      <td>0.0000</td>\n",
       "    </tr>\n",
       "    <tr>\n",
       "      <th>17</th>\n",
       "      <td>adj_tempo</td>\n",
       "      <td>2.4582</td>\n",
       "      <td>0.1218</td>\n",
       "      <td>0.0616</td>\n",
       "    </tr>\n",
       "    <tr>\n",
       "      <th>18</th>\n",
       "      <td>wab</td>\n",
       "      <td>28.0473</td>\n",
       "      <td>0.0000</td>\n",
       "      <td>0.2012</td>\n",
       "    </tr>\n",
       "  </tbody>\n",
       "</table>\n",
       "</div>"
      ],
      "text/plain": [
       "      feature  f_values  p_values  mutual_info\n",
       "0      adj_oe   10.0139    0.0024       0.0238\n",
       "1      adj_de   22.3780    0.0000       0.1702\n",
       "2     barthag   27.5437    0.0000       0.2249\n",
       "3        efg%    0.0629    0.8027       0.0459\n",
       "4       efgd%    0.0294    0.8643       0.0466\n",
       "5         tor    0.5300    0.4692       0.0000\n",
       "6        tord    0.0769    0.7824       0.0071\n",
       "7        orb%    3.6797    0.0595       0.0830\n",
       "8        drb%    0.0006    0.9806       0.0000\n",
       "9         ftr    0.6705    0.4159       0.0199\n",
       "10       ftrd    0.3392    0.5623       0.0223\n",
       "11        2p%    0.0276    0.8686       0.0367\n",
       "12       2p%d    0.0449    0.8328       0.0023\n",
       "13        3p%    0.5761    0.4506       0.0000\n",
       "14       3p%d    0.4070    0.5258       0.0000\n",
       "15        3pr    3.9002    0.0525       0.0929\n",
       "16       3prd    2.5838    0.1128       0.0000\n",
       "17  adj_tempo    2.4582    0.1218       0.0616\n",
       "18        wab   28.0473    0.0000       0.2012"
      ]
     },
     "execution_count": 7,
     "metadata": {},
     "output_type": "execute_result"
    }
   ],
   "source": [
    "X = train_df.drop('win', axis=1)\n",
    "y = train_df['win']\n",
    "\n",
    "# ANOVA\n",
    "f_values, p_values = f_classif(X, y)\n",
    "# Mutual Information\n",
    "mi = mutual_info_regression(X, y)\n",
    "\n",
    "column_names = np.array(X.columns)\n",
    "stats_df = pd.DataFrame({\n",
    "    'feature': column_names,\n",
    "    'f_values': f_values,\n",
    "    'p_values': p_values,\n",
    "    'mutual_info': mi\n",
    "})\n",
    "stats_df"
   ]
  },
  {
   "cell_type": "code",
   "execution_count": 8,
   "id": "f7e81533-ab59-4bc8-9c2c-2dc40d314ef5",
   "metadata": {},
   "outputs": [
    {
     "data": {
      "text/html": [
       "<div>\n",
       "<style scoped>\n",
       "    .dataframe tbody tr th:only-of-type {\n",
       "        vertical-align: middle;\n",
       "    }\n",
       "\n",
       "    .dataframe tbody tr th {\n",
       "        vertical-align: top;\n",
       "    }\n",
       "\n",
       "    .dataframe thead th {\n",
       "        text-align: right;\n",
       "    }\n",
       "</style>\n",
       "<table border=\"1\" class=\"dataframe\">\n",
       "  <thead>\n",
       "    <tr style=\"text-align: right;\">\n",
       "      <th></th>\n",
       "      <th>feature</th>\n",
       "      <th>f_values</th>\n",
       "      <th>p_values</th>\n",
       "      <th>mutual_info</th>\n",
       "    </tr>\n",
       "  </thead>\n",
       "  <tbody>\n",
       "    <tr>\n",
       "      <th>1</th>\n",
       "      <td>adj_de</td>\n",
       "      <td>22.3780</td>\n",
       "      <td>0.0000</td>\n",
       "      <td>0.1702</td>\n",
       "    </tr>\n",
       "    <tr>\n",
       "      <th>2</th>\n",
       "      <td>barthag</td>\n",
       "      <td>27.5437</td>\n",
       "      <td>0.0000</td>\n",
       "      <td>0.2249</td>\n",
       "    </tr>\n",
       "    <tr>\n",
       "      <th>7</th>\n",
       "      <td>orb%</td>\n",
       "      <td>3.6797</td>\n",
       "      <td>0.0595</td>\n",
       "      <td>0.0830</td>\n",
       "    </tr>\n",
       "    <tr>\n",
       "      <th>15</th>\n",
       "      <td>3pr</td>\n",
       "      <td>3.9002</td>\n",
       "      <td>0.0525</td>\n",
       "      <td>0.0929</td>\n",
       "    </tr>\n",
       "    <tr>\n",
       "      <th>17</th>\n",
       "      <td>adj_tempo</td>\n",
       "      <td>2.4582</td>\n",
       "      <td>0.1218</td>\n",
       "      <td>0.0616</td>\n",
       "    </tr>\n",
       "    <tr>\n",
       "      <th>18</th>\n",
       "      <td>wab</td>\n",
       "      <td>28.0473</td>\n",
       "      <td>0.0000</td>\n",
       "      <td>0.2012</td>\n",
       "    </tr>\n",
       "  </tbody>\n",
       "</table>\n",
       "</div>"
      ],
      "text/plain": [
       "      feature  f_values  p_values  mutual_info\n",
       "1      adj_de   22.3780    0.0000       0.1702\n",
       "2     barthag   27.5437    0.0000       0.2249\n",
       "7        orb%    3.6797    0.0595       0.0830\n",
       "15        3pr    3.9002    0.0525       0.0929\n",
       "17  adj_tempo    2.4582    0.1218       0.0616\n",
       "18        wab   28.0473    0.0000       0.2012"
      ]
     },
     "execution_count": 8,
     "metadata": {},
     "output_type": "execute_result"
    }
   ],
   "source": [
    "stats_df[stats_df['mutual_info'] > .05]"
   ]
  },
  {
   "cell_type": "code",
   "execution_count": 9,
   "id": "de71f098-303d-49a4-b603-fd384c0d37c3",
   "metadata": {},
   "outputs": [
    {
     "data": {
      "text/html": [
       "<div>\n",
       "<style scoped>\n",
       "    .dataframe tbody tr th:only-of-type {\n",
       "        vertical-align: middle;\n",
       "    }\n",
       "\n",
       "    .dataframe tbody tr th {\n",
       "        vertical-align: top;\n",
       "    }\n",
       "\n",
       "    .dataframe thead th {\n",
       "        text-align: right;\n",
       "    }\n",
       "</style>\n",
       "<table border=\"1\" class=\"dataframe\">\n",
       "  <thead>\n",
       "    <tr style=\"text-align: right;\">\n",
       "      <th></th>\n",
       "      <th>feature</th>\n",
       "      <th>f_values</th>\n",
       "      <th>p_values</th>\n",
       "      <th>mutual_info</th>\n",
       "    </tr>\n",
       "  </thead>\n",
       "  <tbody>\n",
       "    <tr>\n",
       "      <th>0</th>\n",
       "      <td>adj_oe</td>\n",
       "      <td>10.0139</td>\n",
       "      <td>0.0024</td>\n",
       "      <td>0.0238</td>\n",
       "    </tr>\n",
       "    <tr>\n",
       "      <th>1</th>\n",
       "      <td>adj_de</td>\n",
       "      <td>22.3780</td>\n",
       "      <td>0.0000</td>\n",
       "      <td>0.1702</td>\n",
       "    </tr>\n",
       "    <tr>\n",
       "      <th>2</th>\n",
       "      <td>barthag</td>\n",
       "      <td>27.5437</td>\n",
       "      <td>0.0000</td>\n",
       "      <td>0.2249</td>\n",
       "    </tr>\n",
       "    <tr>\n",
       "      <th>18</th>\n",
       "      <td>wab</td>\n",
       "      <td>28.0473</td>\n",
       "      <td>0.0000</td>\n",
       "      <td>0.2012</td>\n",
       "    </tr>\n",
       "  </tbody>\n",
       "</table>\n",
       "</div>"
      ],
      "text/plain": [
       "    feature  f_values  p_values  mutual_info\n",
       "0    adj_oe   10.0139    0.0024       0.0238\n",
       "1    adj_de   22.3780    0.0000       0.1702\n",
       "2   barthag   27.5437    0.0000       0.2249\n",
       "18      wab   28.0473    0.0000       0.2012"
      ]
     },
     "execution_count": 9,
     "metadata": {},
     "output_type": "execute_result"
    }
   ],
   "source": [
    "stats_df[stats_df['p_values'] < .05]"
   ]
  },
  {
   "cell_type": "code",
   "execution_count": 10,
   "id": "f76cd4ca-300d-49de-972b-0c45f86582ba",
   "metadata": {},
   "outputs": [
    {
     "data": {
      "text/html": [
       "<div>\n",
       "<style scoped>\n",
       "    .dataframe tbody tr th:only-of-type {\n",
       "        vertical-align: middle;\n",
       "    }\n",
       "\n",
       "    .dataframe tbody tr th {\n",
       "        vertical-align: top;\n",
       "    }\n",
       "\n",
       "    .dataframe thead th {\n",
       "        text-align: right;\n",
       "    }\n",
       "</style>\n",
       "<table border=\"1\" class=\"dataframe\">\n",
       "  <thead>\n",
       "    <tr style=\"text-align: right;\">\n",
       "      <th></th>\n",
       "      <th>feature</th>\n",
       "      <th>f_values</th>\n",
       "      <th>p_values</th>\n",
       "      <th>mutual_info</th>\n",
       "    </tr>\n",
       "  </thead>\n",
       "  <tbody>\n",
       "    <tr>\n",
       "      <th>0</th>\n",
       "      <td>adj_oe</td>\n",
       "      <td>10.0139</td>\n",
       "      <td>0.0024</td>\n",
       "      <td>0.0238</td>\n",
       "    </tr>\n",
       "    <tr>\n",
       "      <th>1</th>\n",
       "      <td>adj_de</td>\n",
       "      <td>22.3780</td>\n",
       "      <td>0.0000</td>\n",
       "      <td>0.1702</td>\n",
       "    </tr>\n",
       "    <tr>\n",
       "      <th>2</th>\n",
       "      <td>barthag</td>\n",
       "      <td>27.5437</td>\n",
       "      <td>0.0000</td>\n",
       "      <td>0.2249</td>\n",
       "    </tr>\n",
       "    <tr>\n",
       "      <th>18</th>\n",
       "      <td>wab</td>\n",
       "      <td>28.0473</td>\n",
       "      <td>0.0000</td>\n",
       "      <td>0.2012</td>\n",
       "    </tr>\n",
       "  </tbody>\n",
       "</table>\n",
       "</div>"
      ],
      "text/plain": [
       "    feature  f_values  p_values  mutual_info\n",
       "0    adj_oe   10.0139    0.0024       0.0238\n",
       "1    adj_de   22.3780    0.0000       0.1702\n",
       "2   barthag   27.5437    0.0000       0.2249\n",
       "18      wab   28.0473    0.0000       0.2012"
      ]
     },
     "execution_count": 10,
     "metadata": {},
     "output_type": "execute_result"
    }
   ],
   "source": [
    "stats_df[stats_df['f_values'] > 5]"
   ]
  },
  {
   "cell_type": "markdown",
   "id": "1727be76-a80c-4ff3-9574-1ee7107a4bef",
   "metadata": {},
   "source": [
    "### II. Wrapper Methods"
   ]
  },
  {
   "cell_type": "code",
   "execution_count": 11,
   "id": "799ed371-fd4b-42dd-b361-bef8b5e00c2e",
   "metadata": {},
   "outputs": [],
   "source": [
    "X_train = train_df.drop('win', axis=1)\n",
    "y_train = train_df['win']\n",
    "\n",
    "X_test = test_df.drop('win', axis=1)\n",
    "y_test = test_df['win']\n",
    "\n",
    "float64_columns = X_train.select_dtypes(include=['float64']).columns\n",
    "\n",
    "scaler = StandardScaler()\n",
    "\n",
    "X_train_scaled = X_train.copy()\n",
    "X_train_scaled[float64_columns] = scaler.fit_transform(X_train[float64_columns])\n",
    "\n",
    "X_test_scaled = X_test.copy()\n",
    "X_test_scaled[float64_columns] = scaler.transform(X_test[float64_columns])"
   ]
  },
  {
   "cell_type": "code",
   "execution_count": 12,
   "id": "35cd251d-2f1c-4afd-a460-8bd6ebcdac6c",
   "metadata": {},
   "outputs": [
    {
     "data": {
      "text/html": [
       "<style>#sk-container-id-1 {color: black;background-color: white;}#sk-container-id-1 pre{padding: 0;}#sk-container-id-1 div.sk-toggleable {background-color: white;}#sk-container-id-1 label.sk-toggleable__label {cursor: pointer;display: block;width: 100%;margin-bottom: 0;padding: 0.3em;box-sizing: border-box;text-align: center;}#sk-container-id-1 label.sk-toggleable__label-arrow:before {content: \"▸\";float: left;margin-right: 0.25em;color: #696969;}#sk-container-id-1 label.sk-toggleable__label-arrow:hover:before {color: black;}#sk-container-id-1 div.sk-estimator:hover label.sk-toggleable__label-arrow:before {color: black;}#sk-container-id-1 div.sk-toggleable__content {max-height: 0;max-width: 0;overflow: hidden;text-align: left;background-color: #f0f8ff;}#sk-container-id-1 div.sk-toggleable__content pre {margin: 0.2em;color: black;border-radius: 0.25em;background-color: #f0f8ff;}#sk-container-id-1 input.sk-toggleable__control:checked~div.sk-toggleable__content {max-height: 200px;max-width: 100%;overflow: auto;}#sk-container-id-1 input.sk-toggleable__control:checked~label.sk-toggleable__label-arrow:before {content: \"▾\";}#sk-container-id-1 div.sk-estimator input.sk-toggleable__control:checked~label.sk-toggleable__label {background-color: #d4ebff;}#sk-container-id-1 div.sk-label input.sk-toggleable__control:checked~label.sk-toggleable__label {background-color: #d4ebff;}#sk-container-id-1 input.sk-hidden--visually {border: 0;clip: rect(1px 1px 1px 1px);clip: rect(1px, 1px, 1px, 1px);height: 1px;margin: -1px;overflow: hidden;padding: 0;position: absolute;width: 1px;}#sk-container-id-1 div.sk-estimator {font-family: monospace;background-color: #f0f8ff;border: 1px dotted black;border-radius: 0.25em;box-sizing: border-box;margin-bottom: 0.5em;}#sk-container-id-1 div.sk-estimator:hover {background-color: #d4ebff;}#sk-container-id-1 div.sk-parallel-item::after {content: \"\";width: 100%;border-bottom: 1px solid gray;flex-grow: 1;}#sk-container-id-1 div.sk-label:hover label.sk-toggleable__label {background-color: #d4ebff;}#sk-container-id-1 div.sk-serial::before {content: \"\";position: absolute;border-left: 1px solid gray;box-sizing: border-box;top: 0;bottom: 0;left: 50%;z-index: 0;}#sk-container-id-1 div.sk-serial {display: flex;flex-direction: column;align-items: center;background-color: white;padding-right: 0.2em;padding-left: 0.2em;position: relative;}#sk-container-id-1 div.sk-item {position: relative;z-index: 1;}#sk-container-id-1 div.sk-parallel {display: flex;align-items: stretch;justify-content: center;background-color: white;position: relative;}#sk-container-id-1 div.sk-item::before, #sk-container-id-1 div.sk-parallel-item::before {content: \"\";position: absolute;border-left: 1px solid gray;box-sizing: border-box;top: 0;bottom: 0;left: 50%;z-index: -1;}#sk-container-id-1 div.sk-parallel-item {display: flex;flex-direction: column;z-index: 1;position: relative;background-color: white;}#sk-container-id-1 div.sk-parallel-item:first-child::after {align-self: flex-end;width: 50%;}#sk-container-id-1 div.sk-parallel-item:last-child::after {align-self: flex-start;width: 50%;}#sk-container-id-1 div.sk-parallel-item:only-child::after {width: 0;}#sk-container-id-1 div.sk-dashed-wrapped {border: 1px dashed gray;margin: 0 0.4em 0.5em 0.4em;box-sizing: border-box;padding-bottom: 0.4em;background-color: white;}#sk-container-id-1 div.sk-label label {font-family: monospace;font-weight: bold;display: inline-block;line-height: 1.2em;}#sk-container-id-1 div.sk-label-container {text-align: center;}#sk-container-id-1 div.sk-container {/* jupyter's `normalize.less` sets `[hidden] { display: none; }` but bootstrap.min.css set `[hidden] { display: none !important; }` so we also need the `!important` here to be able to override the default hidden behavior on the sphinx rendered scikit-learn.org. See: https://github.com/scikit-learn/scikit-learn/issues/21755 */display: inline-block !important;position: relative;}#sk-container-id-1 div.sk-text-repr-fallback {display: none;}</style><div id=\"sk-container-id-1\" class=\"sk-top-container\"><div class=\"sk-text-repr-fallback\"><pre>SelectFromModel(estimator=LogisticRegression(C=0.5, penalty=&#x27;l1&#x27;,\n",
       "                                             random_state=10,\n",
       "                                             solver=&#x27;liblinear&#x27;))</pre><b>In a Jupyter environment, please rerun this cell to show the HTML representation or trust the notebook. <br />On GitHub, the HTML representation is unable to render, please try loading this page with nbviewer.org.</b></div><div class=\"sk-container\" hidden><div class=\"sk-item sk-dashed-wrapped\"><div class=\"sk-label-container\"><div class=\"sk-label sk-toggleable\"><input class=\"sk-toggleable__control sk-hidden--visually\" id=\"sk-estimator-id-1\" type=\"checkbox\" ><label for=\"sk-estimator-id-1\" class=\"sk-toggleable__label sk-toggleable__label-arrow\">SelectFromModel</label><div class=\"sk-toggleable__content\"><pre>SelectFromModel(estimator=LogisticRegression(C=0.5, penalty=&#x27;l1&#x27;,\n",
       "                                             random_state=10,\n",
       "                                             solver=&#x27;liblinear&#x27;))</pre></div></div></div><div class=\"sk-parallel\"><div class=\"sk-parallel-item\"><div class=\"sk-item\"><div class=\"sk-label-container\"><div class=\"sk-label sk-toggleable\"><input class=\"sk-toggleable__control sk-hidden--visually\" id=\"sk-estimator-id-2\" type=\"checkbox\" ><label for=\"sk-estimator-id-2\" class=\"sk-toggleable__label sk-toggleable__label-arrow\">estimator: LogisticRegression</label><div class=\"sk-toggleable__content\"><pre>LogisticRegression(C=0.5, penalty=&#x27;l1&#x27;, random_state=10, solver=&#x27;liblinear&#x27;)</pre></div></div></div><div class=\"sk-serial\"><div class=\"sk-item\"><div class=\"sk-estimator sk-toggleable\"><input class=\"sk-toggleable__control sk-hidden--visually\" id=\"sk-estimator-id-3\" type=\"checkbox\" ><label for=\"sk-estimator-id-3\" class=\"sk-toggleable__label sk-toggleable__label-arrow\">LogisticRegression</label><div class=\"sk-toggleable__content\"><pre>LogisticRegression(C=0.5, penalty=&#x27;l1&#x27;, random_state=10, solver=&#x27;liblinear&#x27;)</pre></div></div></div></div></div></div></div></div></div></div>"
      ],
      "text/plain": [
       "SelectFromModel(estimator=LogisticRegression(C=0.5, penalty='l1',\n",
       "                                             random_state=10,\n",
       "                                             solver='liblinear'))"
      ]
     },
     "execution_count": 12,
     "metadata": {},
     "output_type": "execute_result"
    }
   ],
   "source": [
    "sel_ = SelectFromModel(\n",
    "    LogisticRegression(C=0.5, penalty='l1', solver='liblinear', random_state=10))\n",
    "\n",
    "sel_.fit(X_train_scaled, y_train)"
   ]
  },
  {
   "cell_type": "code",
   "execution_count": 13,
   "id": "72253b85-f853-4cb3-867b-e1da45ae522f",
   "metadata": {},
   "outputs": [
    {
     "name": "stdout",
     "output_type": "stream",
     "text": [
      "total features: 19\n",
      "selected features: 10\n",
      "features with coefficients shrank to zero: 9\n"
     ]
    }
   ],
   "source": [
    "selected_feat = X_train.columns[(sel_.get_support())]\n",
    "\n",
    "print('total features: {}'.format((X_train.shape[1])))\n",
    "print('selected features: {}'.format(len(selected_feat)))\n",
    "print('features with coefficients shrank to zero: {}'.format(\n",
    "    np.sum(sel_.estimator_.coef_ == 0)))"
   ]
  },
  {
   "cell_type": "code",
   "execution_count": 14,
   "id": "cd94d364-d673-4f22-97d1-993ca89b7ee7",
   "metadata": {},
   "outputs": [
    {
     "name": "stdout",
     "output_type": "stream",
     "text": [
      "Lasso Regression F1 Score (Train): 0.77\n",
      "Lasso Regression F1 Score (Test): 0.75\n"
     ]
    }
   ],
   "source": [
    "# Transform datasets based on selected features\n",
    "X_train_selected = sel_.transform(X_train_scaled)\n",
    "X_test_selected = sel_.transform(X_test_scaled)\n",
    "\n",
    "# Train a Lasso regression model\n",
    "lasso = Lasso(alpha=0.1, random_state=42)\n",
    "lasso.fit(X_train_selected, y_train)\n",
    "\n",
    "# Make predictions\n",
    "y_train_pred = lasso.predict(X_train_selected)\n",
    "y_test_pred = lasso.predict(X_test_selected)\n",
    "\n",
    "# Convert predictions to binary using a threshold\n",
    "threshold = 0.5\n",
    "y_train_pred_binary = (y_train_pred >= threshold).astype(int)\n",
    "y_test_pred_binary = (y_test_pred >= threshold).astype(int)\n",
    "\n",
    "# Evaluate F1 scores\n",
    "f1_train = f1_score(y_train, y_train_pred_binary)\n",
    "f1_test = f1_score(y_test, y_test_pred_binary)\n",
    "\n",
    "print(f\"Lasso Regression F1 Score (Train): {f1_train:.2f}\")\n",
    "print(f\"Lasso Regression F1 Score (Test): {f1_test:.2f}\")"
   ]
  },
  {
   "cell_type": "code",
   "execution_count": 15,
   "id": "ce5c08e4-695d-4c90-92de-a8518d01ca97",
   "metadata": {},
   "outputs": [
    {
     "data": {
      "text/plain": [
       "Index(['adj_oe', 'adj_de', 'barthag', 'tord', 'ftr', '2p%', '3p%', '3prd',\n",
       "       'adj_tempo', 'wab'],\n",
       "      dtype='object')"
      ]
     },
     "execution_count": 15,
     "metadata": {},
     "output_type": "execute_result"
    }
   ],
   "source": [
    "selected_feat"
   ]
  },
  {
   "cell_type": "code",
   "execution_count": 16,
   "id": "319db2c9-0238-451f-94d5-d9d2837b5af5",
   "metadata": {},
   "outputs": [],
   "source": [
    "sfs = SequentialFeatureSelector(\n",
    "        estimator=RandomForestClassifier(\n",
    "        n_estimators=10, n_jobs=4, random_state=0),\n",
    "        n_features_to_select=10,  # the number of features to retain\n",
    "        direction='backward',  # the direction of the selection procedure\n",
    "        scoring='roc_auc',  # the metric to evaluate\n",
    "        cv=2, # the cross-validation fold\n",
    "        n_jobs=None\n",
    ")\n",
    "\n",
    "\n",
    "sfs = sfs.fit(X_train, y_train)"
   ]
  },
  {
   "cell_type": "code",
   "execution_count": 17,
   "id": "c060df7b-db56-41c5-a530-d2fdb27653d3",
   "metadata": {},
   "outputs": [],
   "source": [
    "def run_randomForests(X_train, X_test, y_train, y_test):\n",
    "    rf = RandomForestClassifier(n_estimators=200, random_state=39, max_depth=3)\n",
    "    rf.fit(X_train, y_train)\n",
    "\n",
    "    print('Train set')\n",
    "    pred = rf.predict_proba(X_train)\n",
    "    print('Random Forests roc-auc: {}'.format(roc_auc_score(y_train, pred[:,1])))\n",
    "    \n",
    "    print('Test set')\n",
    "    pred = rf.predict_proba(X_test)\n",
    "    print('Random Forests roc-auc: {}'.format(roc_auc_score(y_test, pred[:,1])))"
   ]
  },
  {
   "cell_type": "code",
   "execution_count": 18,
   "id": "aafdc54b-ede4-4d59-8930-278f16702071",
   "metadata": {},
   "outputs": [
    {
     "data": {
      "text/plain": [
       "array(['barthag', 'efg%', 'efgd%', 'tord', 'ftr', 'ftrd', '2p%', '3p%',\n",
       "       '3p%d', 'wab'], dtype=object)"
      ]
     },
     "execution_count": 18,
     "metadata": {},
     "output_type": "execute_result"
    }
   ],
   "source": [
    "selected_feat= sfs.get_feature_names_out()\n",
    "selected_feat"
   ]
  },
  {
   "cell_type": "code",
   "execution_count": 19,
   "id": "964d29c2-1b88-442f-ab0f-5d3919d1f1fe",
   "metadata": {},
   "outputs": [
    {
     "name": "stdout",
     "output_type": "stream",
     "text": [
      "Train set\n",
      "Random Forests roc-auc: 0.981081081081081\n",
      "Test set\n",
      "Random Forests roc-auc: 0.7450980392156863\n"
     ]
    }
   ],
   "source": [
    "run_randomForests(X_train[selected_feat],\n",
    "                  X_test[selected_feat],\n",
    "                  y_train, y_test)"
   ]
  },
  {
   "cell_type": "code",
   "execution_count": 20,
   "id": "ddb8cfeb-d0cb-4300-9278-a87ac4397faf",
   "metadata": {},
   "outputs": [
    {
     "name": "stdout",
     "output_type": "stream",
     "text": [
      "Train set\n",
      "Random Forests roc-auc: 0.991891891891892\n",
      "Test set\n",
      "Random Forests roc-auc: 0.8088235294117647\n"
     ]
    }
   ],
   "source": [
    "run_randomForests(X_train,\n",
    "                  X_test,\n",
    "                  y_train, y_test)"
   ]
  },
  {
   "cell_type": "code",
   "execution_count": 21,
   "id": "5f367fbf-0ce8-4866-9661-9bec336a5f64",
   "metadata": {},
   "outputs": [
    {
     "data": {
      "text/plain": [
       "[0.43872549019607837,\n",
       " 0.6470588235294119,\n",
       " 0.7156862745098039,\n",
       " 0.45098039215686275,\n",
       " 0.5735294117647058,\n",
       " 0.5588235294117647,\n",
       " 0.3823529411764706,\n",
       " 0.4558823529411765,\n",
       " 0.6323529411764706,\n",
       " 0.5147058823529412,\n",
       " 0.303921568627451,\n",
       " 0.37990196078431376,\n",
       " 0.4534313725490196,\n",
       " 0.5931372549019608,\n",
       " 0.6764705882352942,\n",
       " 0.5024509803921569,\n",
       " 0.5612745098039216,\n",
       " 0.5024509803921569,\n",
       " 0.7156862745098038]"
      ]
     },
     "execution_count": 21,
     "metadata": {},
     "output_type": "execute_result"
    }
   ],
   "source": [
    "roc_values = []\n",
    "\n",
    "# iterate over each feature in the dataset\n",
    "for feature in X_train.columns:\n",
    "\n",
    "    # train a decision tree classifier\n",
    "    clf = DecisionTreeClassifier(random_state=0)\n",
    "    clf.fit(X_train[feature].fillna(0).to_frame(), y_train)\n",
    "\n",
    "    # obtain the predictions\n",
    "    y_scored = clf.predict_proba(X_test[feature].to_frame())\n",
    "\n",
    "    # calculate and store the roc-auc\n",
    "    roc_values.append(roc_auc_score(y_test, y_scored[:, 1]))\n",
    "    \n",
    "# display the result\n",
    "roc_values"
   ]
  },
  {
   "cell_type": "code",
   "execution_count": 22,
   "id": "d220ce90-0447-480c-8878-12fad7bd1483",
   "metadata": {},
   "outputs": [
    {
     "data": {
      "text/plain": [
       "Text(0, 0.5, 'roc-auc')"
      ]
     },
     "execution_count": 22,
     "metadata": {},
     "output_type": "execute_result"
    },
    {
     "data": {
      "image/png": "[encoded data removed]",
      "text/plain": [
       "<Figure size 2000x500 with 1 Axes>"
      ]
     },
     "metadata": {},
     "output_type": "display_data"
    }
   ],
   "source": [
    "roc_values = pd.Series(roc_values)\n",
    "roc_values.index = X_train.columns\n",
    "roc_values.sort_values(ascending=False).plot.bar(figsize=(20, 5))\n",
    "plt.ylabel('roc-auc')"
   ]
  },
  {
   "cell_type": "code",
   "execution_count": 23,
   "id": "e13e8234-0c54-4f28-9c4b-9e23227c0096",
   "metadata": {},
   "outputs": [
    {
     "data": {
      "text/plain": [
       "5"
      ]
     },
     "execution_count": 23,
     "metadata": {},
     "output_type": "execute_result"
    }
   ],
   "source": [
    "len(roc_values[roc_values > 0.6])"
   ]
  },
  {
   "cell_type": "code",
   "execution_count": 24,
   "id": "2362b690-206f-4f57-889c-39eb47d5fbb0",
   "metadata": {},
   "outputs": [
    {
     "data": {
      "text/plain": [
       "adj_de    0.6471\n",
       "barthag   0.7157\n",
       "drb%      0.6324\n",
       "3p%d      0.6765\n",
       "wab       0.7157\n",
       "dtype: float64"
      ]
     },
     "execution_count": 24,
     "metadata": {},
     "output_type": "execute_result"
    }
   ],
   "source": [
    "roc_values[roc_values > 0.6]"
   ]
  },
  {
   "cell_type": "code",
   "execution_count": 27,
   "id": "c5844c27-dcdb-434c-a5df-38137a09f2ad",
   "metadata": {},
   "outputs": [
    {
     "data": {
      "text/plain": [
       "adj_de    0.6471\n",
       "barthag   0.7157\n",
       "efgd%     0.5735\n",
       "tor       0.5588\n",
       "drb%      0.6324\n",
       "3p%       0.5931\n",
       "3p%d      0.6765\n",
       "3prd      0.5613\n",
       "wab       0.7157\n",
       "dtype: float64"
      ]
     },
     "execution_count": 27,
     "metadata": {},
     "output_type": "execute_result"
    }
   ],
   "source": [
    "roc_values[roc_values > 0.52]"
   ]
  },
  {
   "cell_type": "code",
   "execution_count": 26,
   "id": "d32b9fbe-3758-4e14-8763-b1008d0e940a",
   "metadata": {},
   "outputs": [
    {
     "data": {
      "text/plain": [
       "adj_de      0.6471\n",
       "barthag     0.7157\n",
       "efgd%       0.5735\n",
       "tor         0.5588\n",
       "drb%        0.6324\n",
       "ftr         0.5147\n",
       "3p%         0.5931\n",
       "3p%d        0.6765\n",
       "3pr         0.5025\n",
       "3prd        0.5613\n",
       "adj_tempo   0.5025\n",
       "wab         0.7157\n",
       "dtype: float64"
      ]
     },
     "execution_count": 26,
     "metadata": {},
     "output_type": "execute_result"
    }
   ],
   "source": [
    "roc_values[roc_values > 0.5]"
   ]
  },
  {
   "cell_type": "markdown",
   "id": "7eebb67f-6c2e-40a6-a481-59fcdb23e1e2",
   "metadata": {},
   "source": [
    "# III. XGBoost"
   ]
  },
  {
   "cell_type": "code",
   "execution_count": 28,
   "id": "e4835884-fe17-41ef-932b-4bc106d99e94",
   "metadata": {},
   "outputs": [],
   "source": [
    "X_train_scaled2 = X_train_scaled[[\n",
    " 'adj_de',\n",
    " 'barthag',\n",
    " 'efgd%',\n",
    " 'tor',\n",
    " 'drb%',\n",
    " '3p%',\n",
    " '3p%d',\n",
    " '3prd',\n",
    " 'wab'\n",
    "]]\n",
    "\n",
    "X_test_scaled2 = X_test_scaled[[\n",
    " 'adj_de',\n",
    " 'barthag',\n",
    " 'efgd%',\n",
    " 'tor',\n",
    " 'drb%',\n",
    " '3p%',\n",
    " '3p%d',\n",
    " '3prd',\n",
    " 'wab'\n",
    "]]"
   ]
  },
  {
   "cell_type": "code",
   "execution_count": 29,
   "id": "2f96a276-28bd-49b4-b22d-6907b1f1bf25",
   "metadata": {},
   "outputs": [
    {
     "name": "stdout",
     "output_type": "stream",
     "text": [
      "Fitting 5 folds for each of 2880 candidates, totalling 14400 fits\n",
      "Best Hyperparameters: {'colsample_bytree': 0.6, 'gamma': 0.4, 'learning_rate': 0.01, 'max_depth': 2, 'n_estimators': 300, 'subsample': 0.4}\n"
     ]
    }
   ],
   "source": [
    "import xgboost as xgb\n",
    "from sklearn.model_selection import GridSearchCV\n",
    "from sklearn.metrics import log_loss\n",
    "\n",
    "xgb_model = xgb.XGBClassifier(objective='binary:logistic', eval_metric='logloss')\n",
    "\n",
    "# Set up hyperparameter grid\n",
    "param_grid = {\n",
    "    'max_depth': [2, 3, 4, 5],\n",
    "    'learning_rate': [0.01, 0.05, 0.1],\n",
    "    'n_estimators': [200, 300, 400, 500, 1000],\n",
    "    'subsample': [0.1, 0.2, 0.3, 0.4],\n",
    "    'colsample_bytree': [0.3, 0.4, 0.5, 0.6],\n",
    "    'gamma': [0.2, 0.3, 0.4]\n",
    "}\n",
    "\n",
    "# Set up GridSearchCV\n",
    "grid_search = GridSearchCV(estimator=xgb_model, param_grid=param_grid, \n",
    "                           scoring='neg_log_loss', cv=5, verbose=1, n_jobs=-1)\n",
    "\n",
    "# Fit grid search\n",
    "grid_search.fit(X_train_scaled2, y_train)\n",
    "\n",
    "# Get the best parameters\n",
    "best_params = grid_search.best_params_\n",
    "print(f\"Best Hyperparameters: {best_params}\")"
   ]
  },
  {
   "cell_type": "code",
   "execution_count": 30,
   "id": "538bad58-1647-4944-a6f3-22b857b878dc",
   "metadata": {},
   "outputs": [
    {
     "data": {
      "text/html": [
       "<style>#sk-container-id-2 {color: black;background-color: white;}#sk-container-id-2 pre{padding: 0;}#sk-container-id-2 div.sk-toggleable {background-color: white;}#sk-container-id-2 label.sk-toggleable__label {cursor: pointer;display: block;width: 100%;margin-bottom: 0;padding: 0.3em;box-sizing: border-box;text-align: center;}#sk-container-id-2 label.sk-toggleable__label-arrow:before {content: \"▸\";float: left;margin-right: 0.25em;color: #696969;}#sk-container-id-2 label.sk-toggleable__label-arrow:hover:before {color: black;}#sk-container-id-2 div.sk-estimator:hover label.sk-toggleable__label-arrow:before {color: black;}#sk-container-id-2 div.sk-toggleable__content {max-height: 0;max-width: 0;overflow: hidden;text-align: left;background-color: #f0f8ff;}#sk-container-id-2 div.sk-toggleable__content pre {margin: 0.2em;color: black;border-radius: 0.25em;background-color: #f0f8ff;}#sk-container-id-2 input.sk-toggleable__control:checked~div.sk-toggleable__content {max-height: 200px;max-width: 100%;overflow: auto;}#sk-container-id-2 input.sk-toggleable__control:checked~label.sk-toggleable__label-arrow:before {content: \"▾\";}#sk-container-id-2 div.sk-estimator input.sk-toggleable__control:checked~label.sk-toggleable__label {background-color: #d4ebff;}#sk-container-id-2 div.sk-label input.sk-toggleable__control:checked~label.sk-toggleable__label {background-color: #d4ebff;}#sk-container-id-2 input.sk-hidden--visually {border: 0;clip: rect(1px 1px 1px 1px);clip: rect(1px, 1px, 1px, 1px);height: 1px;margin: -1px;overflow: hidden;padding: 0;position: absolute;width: 1px;}#sk-container-id-2 div.sk-estimator {font-family: monospace;background-color: #f0f8ff;border: 1px dotted black;border-radius: 0.25em;box-sizing: border-box;margin-bottom: 0.5em;}#sk-container-id-2 div.sk-estimator:hover {background-color: #d4ebff;}#sk-container-id-2 div.sk-parallel-item::after {content: \"\";width: 100%;border-bottom: 1px solid gray;flex-grow: 1;}#sk-container-id-2 div.sk-label:hover label.sk-toggleable__label {background-color: #d4ebff;}#sk-container-id-2 div.sk-serial::before {content: \"\";position: absolute;border-left: 1px solid gray;box-sizing: border-box;top: 0;bottom: 0;left: 50%;z-index: 0;}#sk-container-id-2 div.sk-serial {display: flex;flex-direction: column;align-items: center;background-color: white;padding-right: 0.2em;padding-left: 0.2em;position: relative;}#sk-container-id-2 div.sk-item {position: relative;z-index: 1;}#sk-container-id-2 div.sk-parallel {display: flex;align-items: stretch;justify-content: center;background-color: white;position: relative;}#sk-container-id-2 div.sk-item::before, #sk-container-id-2 div.sk-parallel-item::before {content: \"\";position: absolute;border-left: 1px solid gray;box-sizing: border-box;top: 0;bottom: 0;left: 50%;z-index: -1;}#sk-container-id-2 div.sk-parallel-item {display: flex;flex-direction: column;z-index: 1;position: relative;background-color: white;}#sk-container-id-2 div.sk-parallel-item:first-child::after {align-self: flex-end;width: 50%;}#sk-container-id-2 div.sk-parallel-item:last-child::after {align-self: flex-start;width: 50%;}#sk-container-id-2 div.sk-parallel-item:only-child::after {width: 0;}#sk-container-id-2 div.sk-dashed-wrapped {border: 1px dashed gray;margin: 0 0.4em 0.5em 0.4em;box-sizing: border-box;padding-bottom: 0.4em;background-color: white;}#sk-container-id-2 div.sk-label label {font-family: monospace;font-weight: bold;display: inline-block;line-height: 1.2em;}#sk-container-id-2 div.sk-label-container {text-align: center;}#sk-container-id-2 div.sk-container {/* jupyter's `normalize.less` sets `[hidden] { display: none; }` but bootstrap.min.css set `[hidden] { display: none !important; }` so we also need the `!important` here to be able to override the default hidden behavior on the sphinx rendered scikit-learn.org. See: https://github.com/scikit-learn/scikit-learn/issues/21755 */display: inline-block !important;position: relative;}#sk-container-id-2 div.sk-text-repr-fallback {display: none;}</style><div id=\"sk-container-id-2\" class=\"sk-top-container\"><div class=\"sk-text-repr-fallback\"><pre>XGBClassifier(base_score=None, booster=None, callbacks=None,\n",
       "              colsample_bylevel=None, colsample_bynode=None,\n",
       "              colsample_bytree=0.6, device=None, early_stopping_rounds=None,\n",
       "              enable_categorical=False, eval_metric=&#x27;logloss&#x27;,\n",
       "              feature_types=None, gamma=0.4, grow_policy=None,\n",
       "              importance_type=None, interaction_constraints=None,\n",
       "              learning_rate=0.01, max_bin=None, max_cat_threshold=None,\n",
       "              max_cat_to_onehot=None, max_delta_step=None, max_depth=2,\n",
       "              max_leaves=None, min_child_weight=None, missing=nan,\n",
       "              monotone_constraints=None, multi_strategy=None, n_estimators=300,\n",
       "              n_jobs=None, num_parallel_tree=None, random_state=None, ...)</pre><b>In a Jupyter environment, please rerun this cell to show the HTML representation or trust the notebook. <br />On GitHub, the HTML representation is unable to render, please try loading this page with nbviewer.org.</b></div><div class=\"sk-container\" hidden><div class=\"sk-item\"><div class=\"sk-estimator sk-toggleable\"><input class=\"sk-toggleable__control sk-hidden--visually\" id=\"sk-estimator-id-4\" type=\"checkbox\" checked><label for=\"sk-estimator-id-4\" class=\"sk-toggleable__label sk-toggleable__label-arrow\">XGBClassifier</label><div class=\"sk-toggleable__content\"><pre>XGBClassifier(base_score=None, booster=None, callbacks=None,\n",
       "              colsample_bylevel=None, colsample_bynode=None,\n",
       "              colsample_bytree=0.6, device=None, early_stopping_rounds=None,\n",
       "              enable_categorical=False, eval_metric=&#x27;logloss&#x27;,\n",
       "              feature_types=None, gamma=0.4, grow_policy=None,\n",
       "              importance_type=None, interaction_constraints=None,\n",
       "              learning_rate=0.01, max_bin=None, max_cat_threshold=None,\n",
       "              max_cat_to_onehot=None, max_delta_step=None, max_depth=2,\n",
       "              max_leaves=None, min_child_weight=None, missing=nan,\n",
       "              monotone_constraints=None, multi_strategy=None, n_estimators=300,\n",
       "              n_jobs=None, num_parallel_tree=None, random_state=None, ...)</pre></div></div></div></div></div>"
      ],
      "text/plain": [
       "XGBClassifier(base_score=None, booster=None, callbacks=None,\n",
       "              colsample_bylevel=None, colsample_bynode=None,\n",
       "              colsample_bytree=0.6, device=None, early_stopping_rounds=None,\n",
       "              enable_categorical=False, eval_metric='logloss',\n",
       "              feature_types=None, gamma=0.4, grow_policy=None,\n",
       "              importance_type=None, interaction_constraints=None,\n",
       "              learning_rate=0.01, max_bin=None, max_cat_threshold=None,\n",
       "              max_cat_to_onehot=None, max_delta_step=None, max_depth=2,\n",
       "              max_leaves=None, min_child_weight=None, missing=nan,\n",
       "              monotone_constraints=None, multi_strategy=None, n_estimators=300,\n",
       "              n_jobs=None, num_parallel_tree=None, random_state=None, ...)"
      ]
     },
     "execution_count": 30,
     "metadata": {},
     "output_type": "execute_result"
    }
   ],
   "source": [
    "# Retrain the model with the best parameters\n",
    "best_xgb_model = xgb.XGBClassifier(\n",
    "    objective='binary:logistic',\n",
    "    eval_metric='logloss',\n",
    "    **best_params\n",
    ")\n",
    "\n",
    "best_xgb_model.fit(X_train_scaled2, y_train)"
   ]
  },
  {
   "cell_type": "code",
   "execution_count": 31,
   "id": "68a164ef-115f-4d20-9b35-6708c3691447",
   "metadata": {},
   "outputs": [
    {
     "name": "stdout",
     "output_type": "stream",
     "text": [
      "Log Loss on test set: 0.5389925393096379\n"
     ]
    }
   ],
   "source": [
    "# Predict probabilities\n",
    "y_pred_proba = best_xgb_model.predict_proba(X_test_scaled2)[:, 1]\n",
    "\n",
    "# Calculate Log Loss\n",
    "logloss = log_loss(y_test, y_pred_proba)\n",
    "print(f\"Log Loss on test set: {logloss}\")"
   ]
  },
  {
   "cell_type": "code",
   "execution_count": 32,
   "id": "f48a5b8b-6356-4fb8-8c25-2acdb165c433",
   "metadata": {},
   "outputs": [
    {
     "name": "stdout",
     "output_type": "stream",
     "text": [
      "F1 Score on Training Data: 0.89\n",
      "F1 Score on Test Data: 0.75\n"
     ]
    }
   ],
   "source": [
    "# Predictions\n",
    "y_train_pred = best_xgb_model.predict(X_train_scaled2)\n",
    "y_test_pred = best_xgb_model.predict(X_test_scaled2)\n",
    "\n",
    "# Calculate accuracy scores\n",
    "f1_train = f1_score(y_train, y_train_pred)\n",
    "f1_test = f1_score(y_test, y_test_pred)\n",
    "\n",
    "print(f\"F1 Score on Training Data: {f1_train:.2f}\")\n",
    "print(f\"F1 Score on Test Data: {f1_test:.2f}\")"
   ]
  },
  {
   "cell_type": "code",
   "execution_count": 33,
   "id": "934fd4ff-5816-491a-9da3-ffd61225f612",
   "metadata": {},
   "outputs": [
    {
     "data": {
      "text/plain": [
       "<Figure size 1000x600 with 0 Axes>"
      ]
     },
     "metadata": {},
     "output_type": "display_data"
    },
    {
     "data": {
      "image/png": "[encoded data removed]",
      "text/plain": [
       "<Figure size 640x480 with 1 Axes>"
      ]
     },
     "metadata": {},
     "output_type": "display_data"
    }
   ],
   "source": [
    "from xgboost import plot_importance\n",
    "\n",
    "# Extract feature importance\n",
    "feature_importance = best_xgb_model.get_booster().get_score(importance_type='weight')\n",
    "\n",
    "# Visualize feature importance\n",
    "plt.figure(figsize=(10, 6))\n",
    "plot_importance(best_xgb_model, importance_type='weight', show_values=True, xlabel='Feature Importance Score')\n",
    "plt.title('Feature Importance')\n",
    "plt.show()"
   ]
  },
  {
   "cell_type": "code",
   "execution_count": null,
   "id": "f3a57b92-1746-4d9f-8827-bfa0fafed671",
   "metadata": {},
   "outputs": [],
   "source": []
  }
 ],
 "metadata": {
  "kernelspec": {
   "display_name": "Python 3 (ipykernel)",
   "language": "python",
   "name": "python3"
  },
  "language_info": {
   "codemirror_mode": {
    "name": "ipython",
    "version": 3
   },
   "file_extension": ".py",
   "mimetype": "text/x-python",
   "name": "python",
   "nbconvert_exporter": "python",
   "pygments_lexer": "ipython3",
   "version": "3.8.20"
  }
 },
 "nbformat": 4,
 "nbformat_minor": 5
}
