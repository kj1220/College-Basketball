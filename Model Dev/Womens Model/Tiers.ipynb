{
 "cells": [
  {
   "cell_type": "code",
   "execution_count": 50,
   "id": "679685a5",
   "metadata": {},
   "outputs": [
    {
     "name": "stdout",
     "output_type": "stream",
     "text": [
      "(460, 55)\n"
     ]
    },
    {
     "data": {
      "text/html": [
       "<div>\n",
       "<style scoped>\n",
       "    .dataframe tbody tr th:only-of-type {\n",
       "        vertical-align: middle;\n",
       "    }\n",
       "\n",
       "    .dataframe tbody tr th {\n",
       "        vertical-align: top;\n",
       "    }\n",
       "\n",
       "    .dataframe thead th {\n",
       "        text-align: right;\n",
       "    }\n",
       "</style>\n",
       "<table border=\"1\" class=\"dataframe\">\n",
       "  <thead>\n",
       "    <tr style=\"text-align: right;\">\n",
       "      <th></th>\n",
       "      <th>team_id</th>\n",
       "      <th>year</th>\n",
       "      <th>team</th>\n",
       "      <th>region</th>\n",
       "      <th>seed</th>\n",
       "      <th>finish</th>\n",
       "      <th>weekend</th>\n",
       "      <th>her_hoops_raw</th>\n",
       "      <th>her_hoops_id</th>\n",
       "      <th>hhs_rank</th>\n",
       "      <th>...</th>\n",
       "      <th>%pts_3pd</th>\n",
       "      <th>rbd%</th>\n",
       "      <th>drbd%</th>\n",
       "      <th>trbd%</th>\n",
       "      <th>astd%</th>\n",
       "      <th>tod%</th>\n",
       "      <th>opp_ast_to</th>\n",
       "      <th>opp_stl%</th>\n",
       "      <th>opp_blk%</th>\n",
       "      <th>opp_pf%</th>\n",
       "    </tr>\n",
       "  </thead>\n",
       "  <tbody>\n",
       "    <tr>\n",
       "      <th>0</th>\n",
       "      <td>2017 Connecticut</td>\n",
       "      <td>2017</td>\n",
       "      <td>Connecticut</td>\n",
       "      <td>East</td>\n",
       "      <td>1</td>\n",
       "      <td>Final Four</td>\n",
       "      <td>3</td>\n",
       "      <td>UConn</td>\n",
       "      <td>2017 UConn</td>\n",
       "      <td>1</td>\n",
       "      <td>...</td>\n",
       "      <td>0.3040</td>\n",
       "      <td>0.3230</td>\n",
       "      <td>0.6260</td>\n",
       "      <td>0.4530</td>\n",
       "      <td>0.4840</td>\n",
       "      <td>0.2150</td>\n",
       "      <td>0.5800</td>\n",
       "      <td>0.0750</td>\n",
       "      <td>0.0650</td>\n",
       "      <td>0.2050</td>\n",
       "    </tr>\n",
       "    <tr>\n",
       "      <th>1</th>\n",
       "      <td>2017 Baylor</td>\n",
       "      <td>2017</td>\n",
       "      <td>Baylor</td>\n",
       "      <td>South</td>\n",
       "      <td>1</td>\n",
       "      <td>Elite Eight</td>\n",
       "      <td>2</td>\n",
       "      <td>Baylor</td>\n",
       "      <td>2017 Baylor</td>\n",
       "      <td>2</td>\n",
       "      <td>...</td>\n",
       "      <td>0.3000</td>\n",
       "      <td>0.2410</td>\n",
       "      <td>0.5330</td>\n",
       "      <td>0.3740</td>\n",
       "      <td>0.5010</td>\n",
       "      <td>0.1760</td>\n",
       "      <td>0.6500</td>\n",
       "      <td>0.0530</td>\n",
       "      <td>0.0520</td>\n",
       "      <td>0.2140</td>\n",
       "    </tr>\n",
       "    <tr>\n",
       "      <th>2</th>\n",
       "      <td>2017 South Carolina</td>\n",
       "      <td>2017</td>\n",
       "      <td>South Carolina</td>\n",
       "      <td>West</td>\n",
       "      <td>1</td>\n",
       "      <td>Champion</td>\n",
       "      <td>3</td>\n",
       "      <td>South Carolina</td>\n",
       "      <td>2017 South Carolina</td>\n",
       "      <td>3</td>\n",
       "      <td>...</td>\n",
       "      <td>0.2310</td>\n",
       "      <td>0.3220</td>\n",
       "      <td>0.6190</td>\n",
       "      <td>0.4560</td>\n",
       "      <td>0.4940</td>\n",
       "      <td>0.1850</td>\n",
       "      <td>0.7000</td>\n",
       "      <td>0.0700</td>\n",
       "      <td>0.0620</td>\n",
       "      <td>0.2360</td>\n",
       "    </tr>\n",
       "    <tr>\n",
       "      <th>3</th>\n",
       "      <td>2017 Notre Dame</td>\n",
       "      <td>2017</td>\n",
       "      <td>Notre Dame</td>\n",
       "      <td>Midwest</td>\n",
       "      <td>1</td>\n",
       "      <td>Elite Eight</td>\n",
       "      <td>2</td>\n",
       "      <td>Notre Dame</td>\n",
       "      <td>2017 Notre Dame</td>\n",
       "      <td>4</td>\n",
       "      <td>...</td>\n",
       "      <td>0.3200</td>\n",
       "      <td>0.2820</td>\n",
       "      <td>0.6340</td>\n",
       "      <td>0.4480</td>\n",
       "      <td>0.5940</td>\n",
       "      <td>0.1970</td>\n",
       "      <td>0.8600</td>\n",
       "      <td>0.0730</td>\n",
       "      <td>0.0540</td>\n",
       "      <td>0.2090</td>\n",
       "    </tr>\n",
       "    <tr>\n",
       "      <th>4</th>\n",
       "      <td>2017 Mississippi St.</td>\n",
       "      <td>2017</td>\n",
       "      <td>Mississippi St.</td>\n",
       "      <td>South</td>\n",
       "      <td>2</td>\n",
       "      <td>Runner Up</td>\n",
       "      <td>3</td>\n",
       "      <td>Mississippi St.</td>\n",
       "      <td>2017 Mississippi St.</td>\n",
       "      <td>5</td>\n",
       "      <td>...</td>\n",
       "      <td>0.1800</td>\n",
       "      <td>0.3020</td>\n",
       "      <td>0.5930</td>\n",
       "      <td>0.4540</td>\n",
       "      <td>0.4710</td>\n",
       "      <td>0.2400</td>\n",
       "      <td>0.5100</td>\n",
       "      <td>0.0640</td>\n",
       "      <td>0.0740</td>\n",
       "      <td>0.2520</td>\n",
       "    </tr>\n",
       "  </tbody>\n",
       "</table>\n",
       "<p>5 rows × 55 columns</p>\n",
       "</div>"
      ],
      "text/plain": [
       "                team_id  year             team   region  seed       finish  \\\n",
       "0      2017 Connecticut  2017      Connecticut     East     1   Final Four   \n",
       "1           2017 Baylor  2017           Baylor    South     1  Elite Eight   \n",
       "2   2017 South Carolina  2017   South Carolina     West     1     Champion   \n",
       "3       2017 Notre Dame  2017       Notre Dame  Midwest     1  Elite Eight   \n",
       "4  2017 Mississippi St.  2017  Mississippi St.    South     2    Runner Up   \n",
       "\n",
       "   weekend    her_hoops_raw          her_hoops_id  hhs_rank  ...  %pts_3pd  \\\n",
       "0        3            UConn            2017 UConn         1  ...    0.3040   \n",
       "1        2           Baylor           2017 Baylor         2  ...    0.3000   \n",
       "2        3   South Carolina   2017 South Carolina         3  ...    0.2310   \n",
       "3        2       Notre Dame       2017 Notre Dame         4  ...    0.3200   \n",
       "4        3  Mississippi St.  2017 Mississippi St.         5  ...    0.1800   \n",
       "\n",
       "    rbd%  drbd%  trbd%  astd%   tod%  opp_ast_to  opp_stl%  opp_blk%  opp_pf%  \n",
       "0 0.3230 0.6260 0.4530 0.4840 0.2150      0.5800    0.0750    0.0650   0.2050  \n",
       "1 0.2410 0.5330 0.3740 0.5010 0.1760      0.6500    0.0530    0.0520   0.2140  \n",
       "2 0.3220 0.6190 0.4560 0.4940 0.1850      0.7000    0.0700    0.0620   0.2360  \n",
       "3 0.2820 0.6340 0.4480 0.5940 0.1970      0.8600    0.0730    0.0540   0.2090  \n",
       "4 0.3020 0.5930 0.4540 0.4710 0.2400      0.5100    0.0640    0.0740   0.2520  \n",
       "\n",
       "[5 rows x 55 columns]"
      ]
     },
     "execution_count": 50,
     "metadata": {},
     "output_type": "execute_result"
    }
   ],
   "source": [
    "### Setup Environment ###\n",
    "import numpy as np\n",
    "import pandas as pd\n",
    "import plotly_express as px\n",
    "import plotly.graph_objects as go\n",
    "import matplotlib.pyplot as plt\n",
    "import seaborn as sns\n",
    "\n",
    "# Stats test\n",
    "from sklearn.feature_selection import f_classif\n",
    "from sklearn.feature_selection import mutual_info_regression\n",
    "from sklearn.preprocessing import StandardScaler, MinMaxScaler\n",
    "from sklearn.decomposition import FastICA\n",
    "\n",
    "# Clustering\n",
    "from sklearn.decomposition import PCA\n",
    "from sklearn.cluster import KMeans\n",
    "from factor_analyzer import FactorAnalyzer\n",
    "np.set_printoptions(suppress=True, formatter={'float_kind':'{:0.4f}'.format})\n",
    "pd.set_option('display.float_format', lambda x: '%.4f' % x)\n",
    "pd.set_option('display.max_rows', None)\n",
    "\n",
    "df = pd.read_csv('teams_women.csv')\n",
    "print(df.shape)\n",
    "df.head()"
   ]
  },
  {
   "cell_type": "code",
   "execution_count": 51,
   "id": "9b767036",
   "metadata": {},
   "outputs": [
    {
     "data": {
      "text/plain": [
       "Index(['team_id', 'year', 'team', 'region', 'seed', 'finish', 'weekend',\n",
       "       'her_hoops_raw', 'her_hoops_id', 'hhs_rank', 'ppg', 'opp_ppg',\n",
       "       'net_ppg', 'off_rtg', 'def_rtg', 'net_rtg', 'pace', 'hhs_net_rtg',\n",
       "       'hhs_off_rtg', 'hhs_def_rtg', 'rpi', 'ppp', 'ppsa', 'efg%', 'ftr',\n",
       "       '3pr', '%pts_ft', '%pts_2p', '%pts_3p', 'orb%', 'drb%', 'trb%', 'ast%',\n",
       "       'to%', 'ast_to', 'stl%', 'blk%', 'pf%', 'pppd', 'opp_ppsa', 'efgd%',\n",
       "       'ftrd', '3prd', '%pts_ftd', '%pts_2pd', '%pts_3pd', 'rbd%', 'drbd%',\n",
       "       'trbd%', 'astd%', 'tod%', 'opp_ast_to', 'opp_stl%', 'opp_blk%',\n",
       "       'opp_pf%'],\n",
       "      dtype='object')"
      ]
     },
     "execution_count": 51,
     "metadata": {},
     "output_type": "execute_result"
    }
   ],
   "source": [
    "df.columns"
   ]
  },
  {
   "cell_type": "code",
   "execution_count": 52,
   "id": "7fd78b0b",
   "metadata": {},
   "outputs": [],
   "source": [
    "X = df[['ppg', 'opp_ppg',\n",
    "       'net_ppg', 'off_rtg', 'def_rtg', 'net_rtg', 'pace', 'hhs_net_rtg',\n",
    "       'hhs_off_rtg', 'hhs_def_rtg', 'rpi', 'ppp', 'ppsa', 'efg%', 'ftr',\n",
    "       '3pr', '%pts_ft', '%pts_2p', '%pts_3p', 'orb%', 'drb%', 'trb%', 'ast%',\n",
    "       'to%', 'ast_to', 'stl%', 'blk%', 'pf%', 'pppd', 'opp_ppsa', 'efgd%',\n",
    "       'ftrd', '3prd', '%pts_ftd', '%pts_2pd', '%pts_3pd', 'rbd%', 'drbd%',\n",
    "       'trbd%', 'astd%', 'tod%', 'opp_ast_to', 'opp_stl%', 'opp_blk%',\n",
    "       'opp_pf%']]\n",
    "y = df['weekend']"
   ]
  },
  {
   "cell_type": "markdown",
   "id": "4ce2df37",
   "metadata": {},
   "source": [
    "### I. Feature Selection"
   ]
  },
  {
   "cell_type": "code",
   "execution_count": 53,
   "id": "d91ef91a",
   "metadata": {},
   "outputs": [
    {
     "data": {
      "text/html": [
       "<div>\n",
       "<style scoped>\n",
       "    .dataframe tbody tr th:only-of-type {\n",
       "        vertical-align: middle;\n",
       "    }\n",
       "\n",
       "    .dataframe tbody tr th {\n",
       "        vertical-align: top;\n",
       "    }\n",
       "\n",
       "    .dataframe thead th {\n",
       "        text-align: right;\n",
       "    }\n",
       "</style>\n",
       "<table border=\"1\" class=\"dataframe\">\n",
       "  <thead>\n",
       "    <tr style=\"text-align: right;\">\n",
       "      <th></th>\n",
       "      <th>feature</th>\n",
       "      <th>f_values</th>\n",
       "      <th>p_values</th>\n",
       "      <th>mutual_info</th>\n",
       "    </tr>\n",
       "  </thead>\n",
       "  <tbody>\n",
       "    <tr>\n",
       "      <th>0</th>\n",
       "      <td>ppg</td>\n",
       "      <td>51.3089</td>\n",
       "      <td>0.0000</td>\n",
       "      <td>0.1104</td>\n",
       "    </tr>\n",
       "    <tr>\n",
       "      <th>1</th>\n",
       "      <td>opp_ppg</td>\n",
       "      <td>7.5324</td>\n",
       "      <td>0.0006</td>\n",
       "      <td>0.0294</td>\n",
       "    </tr>\n",
       "    <tr>\n",
       "      <th>2</th>\n",
       "      <td>net_ppg</td>\n",
       "      <td>105.2117</td>\n",
       "      <td>0.0000</td>\n",
       "      <td>0.1964</td>\n",
       "    </tr>\n",
       "    <tr>\n",
       "      <th>3</th>\n",
       "      <td>off_rtg</td>\n",
       "      <td>69.4306</td>\n",
       "      <td>0.0000</td>\n",
       "      <td>0.1298</td>\n",
       "    </tr>\n",
       "    <tr>\n",
       "      <th>4</th>\n",
       "      <td>def_rtg</td>\n",
       "      <td>17.5185</td>\n",
       "      <td>0.0000</td>\n",
       "      <td>0.0919</td>\n",
       "    </tr>\n",
       "    <tr>\n",
       "      <th>5</th>\n",
       "      <td>net_rtg</td>\n",
       "      <td>99.9777</td>\n",
       "      <td>0.0000</td>\n",
       "      <td>0.1727</td>\n",
       "    </tr>\n",
       "    <tr>\n",
       "      <th>6</th>\n",
       "      <td>pace</td>\n",
       "      <td>3.3474</td>\n",
       "      <td>0.0360</td>\n",
       "      <td>0.0458</td>\n",
       "    </tr>\n",
       "    <tr>\n",
       "      <th>7</th>\n",
       "      <td>hhs_net_rtg</td>\n",
       "      <td>176.2985</td>\n",
       "      <td>0.0000</td>\n",
       "      <td>0.3029</td>\n",
       "    </tr>\n",
       "    <tr>\n",
       "      <th>8</th>\n",
       "      <td>hhs_off_rtg</td>\n",
       "      <td>112.6165</td>\n",
       "      <td>0.0000</td>\n",
       "      <td>0.2277</td>\n",
       "    </tr>\n",
       "    <tr>\n",
       "      <th>9</th>\n",
       "      <td>hhs_def_rtg</td>\n",
       "      <td>139.2806</td>\n",
       "      <td>0.0000</td>\n",
       "      <td>0.2278</td>\n",
       "    </tr>\n",
       "    <tr>\n",
       "      <th>10</th>\n",
       "      <td>rpi</td>\n",
       "      <td>170.0163</td>\n",
       "      <td>0.0000</td>\n",
       "      <td>0.3461</td>\n",
       "    </tr>\n",
       "    <tr>\n",
       "      <th>11</th>\n",
       "      <td>ppp</td>\n",
       "      <td>46.3212</td>\n",
       "      <td>0.0000</td>\n",
       "      <td>0.1006</td>\n",
       "    </tr>\n",
       "    <tr>\n",
       "      <th>12</th>\n",
       "      <td>ppsa</td>\n",
       "      <td>33.3512</td>\n",
       "      <td>0.0000</td>\n",
       "      <td>0.0876</td>\n",
       "    </tr>\n",
       "    <tr>\n",
       "      <th>13</th>\n",
       "      <td>efg%</td>\n",
       "      <td>35.9718</td>\n",
       "      <td>0.0000</td>\n",
       "      <td>0.0498</td>\n",
       "    </tr>\n",
       "    <tr>\n",
       "      <th>14</th>\n",
       "      <td>ftr</td>\n",
       "      <td>4.6733</td>\n",
       "      <td>0.0098</td>\n",
       "      <td>0.0317</td>\n",
       "    </tr>\n",
       "    <tr>\n",
       "      <th>15</th>\n",
       "      <td>3pr</td>\n",
       "      <td>9.8862</td>\n",
       "      <td>0.0001</td>\n",
       "      <td>0.0000</td>\n",
       "    </tr>\n",
       "    <tr>\n",
       "      <th>16</th>\n",
       "      <td>%pts_ft</td>\n",
       "      <td>3.9343</td>\n",
       "      <td>0.0202</td>\n",
       "      <td>0.0070</td>\n",
       "    </tr>\n",
       "    <tr>\n",
       "      <th>17</th>\n",
       "      <td>%pts_2p</td>\n",
       "      <td>14.8501</td>\n",
       "      <td>0.0000</td>\n",
       "      <td>0.0235</td>\n",
       "    </tr>\n",
       "    <tr>\n",
       "      <th>18</th>\n",
       "      <td>%pts_3p</td>\n",
       "      <td>7.4618</td>\n",
       "      <td>0.0006</td>\n",
       "      <td>0.0029</td>\n",
       "    </tr>\n",
       "    <tr>\n",
       "      <th>19</th>\n",
       "      <td>orb%</td>\n",
       "      <td>21.2050</td>\n",
       "      <td>0.0000</td>\n",
       "      <td>0.0224</td>\n",
       "    </tr>\n",
       "    <tr>\n",
       "      <th>20</th>\n",
       "      <td>drb%</td>\n",
       "      <td>14.6381</td>\n",
       "      <td>0.0000</td>\n",
       "      <td>0.0700</td>\n",
       "    </tr>\n",
       "    <tr>\n",
       "      <th>21</th>\n",
       "      <td>trb%</td>\n",
       "      <td>52.1030</td>\n",
       "      <td>0.0000</td>\n",
       "      <td>0.0757</td>\n",
       "    </tr>\n",
       "    <tr>\n",
       "      <th>22</th>\n",
       "      <td>ast%</td>\n",
       "      <td>0.1820</td>\n",
       "      <td>0.8337</td>\n",
       "      <td>0.0000</td>\n",
       "    </tr>\n",
       "    <tr>\n",
       "      <th>23</th>\n",
       "      <td>to%</td>\n",
       "      <td>19.3316</td>\n",
       "      <td>0.0000</td>\n",
       "      <td>0.0408</td>\n",
       "    </tr>\n",
       "    <tr>\n",
       "      <th>24</th>\n",
       "      <td>ast_to</td>\n",
       "      <td>36.5079</td>\n",
       "      <td>0.0000</td>\n",
       "      <td>0.0717</td>\n",
       "    </tr>\n",
       "    <tr>\n",
       "      <th>25</th>\n",
       "      <td>stl%</td>\n",
       "      <td>1.1847</td>\n",
       "      <td>0.3068</td>\n",
       "      <td>0.0000</td>\n",
       "    </tr>\n",
       "    <tr>\n",
       "      <th>26</th>\n",
       "      <td>blk%</td>\n",
       "      <td>22.0703</td>\n",
       "      <td>0.0000</td>\n",
       "      <td>0.0179</td>\n",
       "    </tr>\n",
       "    <tr>\n",
       "      <th>27</th>\n",
       "      <td>pf%</td>\n",
       "      <td>18.6979</td>\n",
       "      <td>0.0000</td>\n",
       "      <td>0.0328</td>\n",
       "    </tr>\n",
       "    <tr>\n",
       "      <th>28</th>\n",
       "      <td>pppd</td>\n",
       "      <td>15.5217</td>\n",
       "      <td>0.0000</td>\n",
       "      <td>0.0557</td>\n",
       "    </tr>\n",
       "    <tr>\n",
       "      <th>29</th>\n",
       "      <td>opp_ppsa</td>\n",
       "      <td>26.4503</td>\n",
       "      <td>0.0000</td>\n",
       "      <td>0.0273</td>\n",
       "    </tr>\n",
       "    <tr>\n",
       "      <th>30</th>\n",
       "      <td>efgd%</td>\n",
       "      <td>18.5135</td>\n",
       "      <td>0.0000</td>\n",
       "      <td>0.0203</td>\n",
       "    </tr>\n",
       "    <tr>\n",
       "      <th>31</th>\n",
       "      <td>ftrd</td>\n",
       "      <td>21.4053</td>\n",
       "      <td>0.0000</td>\n",
       "      <td>0.0311</td>\n",
       "    </tr>\n",
       "    <tr>\n",
       "      <th>32</th>\n",
       "      <td>3prd</td>\n",
       "      <td>0.2518</td>\n",
       "      <td>0.7775</td>\n",
       "      <td>0.0000</td>\n",
       "    </tr>\n",
       "    <tr>\n",
       "      <th>33</th>\n",
       "      <td>%pts_ftd</td>\n",
       "      <td>10.2093</td>\n",
       "      <td>0.0000</td>\n",
       "      <td>0.0214</td>\n",
       "    </tr>\n",
       "    <tr>\n",
       "      <th>34</th>\n",
       "      <td>%pts_2pd</td>\n",
       "      <td>0.7334</td>\n",
       "      <td>0.4808</td>\n",
       "      <td>0.0000</td>\n",
       "    </tr>\n",
       "    <tr>\n",
       "      <th>35</th>\n",
       "      <td>%pts_3pd</td>\n",
       "      <td>1.8825</td>\n",
       "      <td>0.1534</td>\n",
       "      <td>0.0000</td>\n",
       "    </tr>\n",
       "    <tr>\n",
       "      <th>36</th>\n",
       "      <td>rbd%</td>\n",
       "      <td>14.6381</td>\n",
       "      <td>0.0000</td>\n",
       "      <td>0.0572</td>\n",
       "    </tr>\n",
       "    <tr>\n",
       "      <th>37</th>\n",
       "      <td>drbd%</td>\n",
       "      <td>21.2104</td>\n",
       "      <td>0.0000</td>\n",
       "      <td>0.0335</td>\n",
       "    </tr>\n",
       "    <tr>\n",
       "      <th>38</th>\n",
       "      <td>trbd%</td>\n",
       "      <td>52.0659</td>\n",
       "      <td>0.0000</td>\n",
       "      <td>0.0692</td>\n",
       "    </tr>\n",
       "    <tr>\n",
       "      <th>39</th>\n",
       "      <td>astd%</td>\n",
       "      <td>9.5471</td>\n",
       "      <td>0.0001</td>\n",
       "      <td>0.0272</td>\n",
       "    </tr>\n",
       "    <tr>\n",
       "      <th>40</th>\n",
       "      <td>tod%</td>\n",
       "      <td>3.4739</td>\n",
       "      <td>0.0318</td>\n",
       "      <td>0.0229</td>\n",
       "    </tr>\n",
       "    <tr>\n",
       "      <th>41</th>\n",
       "      <td>opp_ast_to</td>\n",
       "      <td>3.6090</td>\n",
       "      <td>0.0279</td>\n",
       "      <td>0.0095</td>\n",
       "    </tr>\n",
       "    <tr>\n",
       "      <th>42</th>\n",
       "      <td>opp_stl%</td>\n",
       "      <td>16.1188</td>\n",
       "      <td>0.0000</td>\n",
       "      <td>0.0579</td>\n",
       "    </tr>\n",
       "    <tr>\n",
       "      <th>43</th>\n",
       "      <td>opp_blk%</td>\n",
       "      <td>6.2958</td>\n",
       "      <td>0.0020</td>\n",
       "      <td>0.0396</td>\n",
       "    </tr>\n",
       "    <tr>\n",
       "      <th>44</th>\n",
       "      <td>opp_pf%</td>\n",
       "      <td>0.9231</td>\n",
       "      <td>0.3980</td>\n",
       "      <td>0.0000</td>\n",
       "    </tr>\n",
       "  </tbody>\n",
       "</table>\n",
       "</div>"
      ],
      "text/plain": [
       "        feature  f_values  p_values  mutual_info\n",
       "0           ppg   51.3089    0.0000       0.1104\n",
       "1       opp_ppg    7.5324    0.0006       0.0294\n",
       "2       net_ppg  105.2117    0.0000       0.1964\n",
       "3       off_rtg   69.4306    0.0000       0.1298\n",
       "4       def_rtg   17.5185    0.0000       0.0919\n",
       "5       net_rtg   99.9777    0.0000       0.1727\n",
       "6          pace    3.3474    0.0360       0.0458\n",
       "7   hhs_net_rtg  176.2985    0.0000       0.3029\n",
       "8   hhs_off_rtg  112.6165    0.0000       0.2277\n",
       "9   hhs_def_rtg  139.2806    0.0000       0.2278\n",
       "10          rpi  170.0163    0.0000       0.3461\n",
       "11          ppp   46.3212    0.0000       0.1006\n",
       "12         ppsa   33.3512    0.0000       0.0876\n",
       "13         efg%   35.9718    0.0000       0.0498\n",
       "14          ftr    4.6733    0.0098       0.0317\n",
       "15          3pr    9.8862    0.0001       0.0000\n",
       "16      %pts_ft    3.9343    0.0202       0.0070\n",
       "17      %pts_2p   14.8501    0.0000       0.0235\n",
       "18      %pts_3p    7.4618    0.0006       0.0029\n",
       "19         orb%   21.2050    0.0000       0.0224\n",
       "20         drb%   14.6381    0.0000       0.0700\n",
       "21         trb%   52.1030    0.0000       0.0757\n",
       "22         ast%    0.1820    0.8337       0.0000\n",
       "23          to%   19.3316    0.0000       0.0408\n",
       "24       ast_to   36.5079    0.0000       0.0717\n",
       "25         stl%    1.1847    0.3068       0.0000\n",
       "26         blk%   22.0703    0.0000       0.0179\n",
       "27          pf%   18.6979    0.0000       0.0328\n",
       "28         pppd   15.5217    0.0000       0.0557\n",
       "29     opp_ppsa   26.4503    0.0000       0.0273\n",
       "30        efgd%   18.5135    0.0000       0.0203\n",
       "31         ftrd   21.4053    0.0000       0.0311\n",
       "32         3prd    0.2518    0.7775       0.0000\n",
       "33     %pts_ftd   10.2093    0.0000       0.0214\n",
       "34     %pts_2pd    0.7334    0.4808       0.0000\n",
       "35     %pts_3pd    1.8825    0.1534       0.0000\n",
       "36         rbd%   14.6381    0.0000       0.0572\n",
       "37        drbd%   21.2104    0.0000       0.0335\n",
       "38        trbd%   52.0659    0.0000       0.0692\n",
       "39        astd%    9.5471    0.0001       0.0272\n",
       "40         tod%    3.4739    0.0318       0.0229\n",
       "41   opp_ast_to    3.6090    0.0279       0.0095\n",
       "42     opp_stl%   16.1188    0.0000       0.0579\n",
       "43     opp_blk%    6.2958    0.0020       0.0396\n",
       "44      opp_pf%    0.9231    0.3980       0.0000"
      ]
     },
     "execution_count": 53,
     "metadata": {},
     "output_type": "execute_result"
    }
   ],
   "source": [
    "# ANOVA\n",
    "f_values, p_values = f_classif(X, y)\n",
    "# Mutual Information\n",
    "mi = mutual_info_regression(X, y)\n",
    "\n",
    "column_names = np.array(X.columns)\n",
    "stats_df = pd.DataFrame({\n",
    "    'feature': column_names,\n",
    "    'f_values': f_values,\n",
    "    'p_values': p_values,\n",
    "    'mutual_info': mi\n",
    "})\n",
    "stats_df"
   ]
  },
  {
   "cell_type": "code",
   "execution_count": 54,
   "id": "08c7b978",
   "metadata": {},
   "outputs": [
    {
     "data": {
      "text/html": [
       "<div>\n",
       "<style scoped>\n",
       "    .dataframe tbody tr th:only-of-type {\n",
       "        vertical-align: middle;\n",
       "    }\n",
       "\n",
       "    .dataframe tbody tr th {\n",
       "        vertical-align: top;\n",
       "    }\n",
       "\n",
       "    .dataframe thead th {\n",
       "        text-align: right;\n",
       "    }\n",
       "</style>\n",
       "<table border=\"1\" class=\"dataframe\">\n",
       "  <thead>\n",
       "    <tr style=\"text-align: right;\">\n",
       "      <th></th>\n",
       "      <th>feature</th>\n",
       "      <th>f_values</th>\n",
       "      <th>p_values</th>\n",
       "      <th>mutual_info</th>\n",
       "    </tr>\n",
       "  </thead>\n",
       "  <tbody>\n",
       "    <tr>\n",
       "      <th>0</th>\n",
       "      <td>ppg</td>\n",
       "      <td>51.3089</td>\n",
       "      <td>0.0000</td>\n",
       "      <td>0.1104</td>\n",
       "    </tr>\n",
       "    <tr>\n",
       "      <th>2</th>\n",
       "      <td>net_ppg</td>\n",
       "      <td>105.2117</td>\n",
       "      <td>0.0000</td>\n",
       "      <td>0.1964</td>\n",
       "    </tr>\n",
       "    <tr>\n",
       "      <th>3</th>\n",
       "      <td>off_rtg</td>\n",
       "      <td>69.4306</td>\n",
       "      <td>0.0000</td>\n",
       "      <td>0.1298</td>\n",
       "    </tr>\n",
       "    <tr>\n",
       "      <th>4</th>\n",
       "      <td>def_rtg</td>\n",
       "      <td>17.5185</td>\n",
       "      <td>0.0000</td>\n",
       "      <td>0.0919</td>\n",
       "    </tr>\n",
       "    <tr>\n",
       "      <th>5</th>\n",
       "      <td>net_rtg</td>\n",
       "      <td>99.9777</td>\n",
       "      <td>0.0000</td>\n",
       "      <td>0.1727</td>\n",
       "    </tr>\n",
       "    <tr>\n",
       "      <th>7</th>\n",
       "      <td>hhs_net_rtg</td>\n",
       "      <td>176.2985</td>\n",
       "      <td>0.0000</td>\n",
       "      <td>0.3029</td>\n",
       "    </tr>\n",
       "    <tr>\n",
       "      <th>8</th>\n",
       "      <td>hhs_off_rtg</td>\n",
       "      <td>112.6165</td>\n",
       "      <td>0.0000</td>\n",
       "      <td>0.2277</td>\n",
       "    </tr>\n",
       "    <tr>\n",
       "      <th>9</th>\n",
       "      <td>hhs_def_rtg</td>\n",
       "      <td>139.2806</td>\n",
       "      <td>0.0000</td>\n",
       "      <td>0.2278</td>\n",
       "    </tr>\n",
       "    <tr>\n",
       "      <th>10</th>\n",
       "      <td>rpi</td>\n",
       "      <td>170.0163</td>\n",
       "      <td>0.0000</td>\n",
       "      <td>0.3461</td>\n",
       "    </tr>\n",
       "    <tr>\n",
       "      <th>11</th>\n",
       "      <td>ppp</td>\n",
       "      <td>46.3212</td>\n",
       "      <td>0.0000</td>\n",
       "      <td>0.1006</td>\n",
       "    </tr>\n",
       "    <tr>\n",
       "      <th>12</th>\n",
       "      <td>ppsa</td>\n",
       "      <td>33.3512</td>\n",
       "      <td>0.0000</td>\n",
       "      <td>0.0876</td>\n",
       "    </tr>\n",
       "    <tr>\n",
       "      <th>20</th>\n",
       "      <td>drb%</td>\n",
       "      <td>14.6381</td>\n",
       "      <td>0.0000</td>\n",
       "      <td>0.0700</td>\n",
       "    </tr>\n",
       "    <tr>\n",
       "      <th>21</th>\n",
       "      <td>trb%</td>\n",
       "      <td>52.1030</td>\n",
       "      <td>0.0000</td>\n",
       "      <td>0.0757</td>\n",
       "    </tr>\n",
       "    <tr>\n",
       "      <th>24</th>\n",
       "      <td>ast_to</td>\n",
       "      <td>36.5079</td>\n",
       "      <td>0.0000</td>\n",
       "      <td>0.0717</td>\n",
       "    </tr>\n",
       "    <tr>\n",
       "      <th>28</th>\n",
       "      <td>pppd</td>\n",
       "      <td>15.5217</td>\n",
       "      <td>0.0000</td>\n",
       "      <td>0.0557</td>\n",
       "    </tr>\n",
       "    <tr>\n",
       "      <th>36</th>\n",
       "      <td>rbd%</td>\n",
       "      <td>14.6381</td>\n",
       "      <td>0.0000</td>\n",
       "      <td>0.0572</td>\n",
       "    </tr>\n",
       "    <tr>\n",
       "      <th>38</th>\n",
       "      <td>trbd%</td>\n",
       "      <td>52.0659</td>\n",
       "      <td>0.0000</td>\n",
       "      <td>0.0692</td>\n",
       "    </tr>\n",
       "    <tr>\n",
       "      <th>42</th>\n",
       "      <td>opp_stl%</td>\n",
       "      <td>16.1188</td>\n",
       "      <td>0.0000</td>\n",
       "      <td>0.0579</td>\n",
       "    </tr>\n",
       "  </tbody>\n",
       "</table>\n",
       "</div>"
      ],
      "text/plain": [
       "        feature  f_values  p_values  mutual_info\n",
       "0           ppg   51.3089    0.0000       0.1104\n",
       "2       net_ppg  105.2117    0.0000       0.1964\n",
       "3       off_rtg   69.4306    0.0000       0.1298\n",
       "4       def_rtg   17.5185    0.0000       0.0919\n",
       "5       net_rtg   99.9777    0.0000       0.1727\n",
       "7   hhs_net_rtg  176.2985    0.0000       0.3029\n",
       "8   hhs_off_rtg  112.6165    0.0000       0.2277\n",
       "9   hhs_def_rtg  139.2806    0.0000       0.2278\n",
       "10          rpi  170.0163    0.0000       0.3461\n",
       "11          ppp   46.3212    0.0000       0.1006\n",
       "12         ppsa   33.3512    0.0000       0.0876\n",
       "20         drb%   14.6381    0.0000       0.0700\n",
       "21         trb%   52.1030    0.0000       0.0757\n",
       "24       ast_to   36.5079    0.0000       0.0717\n",
       "28         pppd   15.5217    0.0000       0.0557\n",
       "36         rbd%   14.6381    0.0000       0.0572\n",
       "38        trbd%   52.0659    0.0000       0.0692\n",
       "42     opp_stl%   16.1188    0.0000       0.0579"
      ]
     },
     "execution_count": 54,
     "metadata": {},
     "output_type": "execute_result"
    }
   ],
   "source": [
    "feature_df = stats_df[stats_df['mutual_info'] > .05]\n",
    "feature_df"
   ]
  },
  {
   "cell_type": "code",
   "execution_count": 55,
   "id": "67a24523",
   "metadata": {},
   "outputs": [
    {
     "data": {
      "text/html": [
       "<div>\n",
       "<style scoped>\n",
       "    .dataframe tbody tr th:only-of-type {\n",
       "        vertical-align: middle;\n",
       "    }\n",
       "\n",
       "    .dataframe tbody tr th {\n",
       "        vertical-align: top;\n",
       "    }\n",
       "\n",
       "    .dataframe thead th {\n",
       "        text-align: right;\n",
       "    }\n",
       "</style>\n",
       "<table border=\"1\" class=\"dataframe\">\n",
       "  <thead>\n",
       "    <tr style=\"text-align: right;\">\n",
       "      <th></th>\n",
       "      <th>feature</th>\n",
       "      <th>f_values</th>\n",
       "      <th>p_values</th>\n",
       "      <th>mutual_info</th>\n",
       "    </tr>\n",
       "  </thead>\n",
       "  <tbody>\n",
       "    <tr>\n",
       "      <th>7</th>\n",
       "      <td>hhs_net_rtg</td>\n",
       "      <td>176.2985</td>\n",
       "      <td>0.0000</td>\n",
       "      <td>0.3029</td>\n",
       "    </tr>\n",
       "    <tr>\n",
       "      <th>10</th>\n",
       "      <td>rpi</td>\n",
       "      <td>170.0163</td>\n",
       "      <td>0.0000</td>\n",
       "      <td>0.3461</td>\n",
       "    </tr>\n",
       "    <tr>\n",
       "      <th>9</th>\n",
       "      <td>hhs_def_rtg</td>\n",
       "      <td>139.2806</td>\n",
       "      <td>0.0000</td>\n",
       "      <td>0.2278</td>\n",
       "    </tr>\n",
       "    <tr>\n",
       "      <th>8</th>\n",
       "      <td>hhs_off_rtg</td>\n",
       "      <td>112.6165</td>\n",
       "      <td>0.0000</td>\n",
       "      <td>0.2277</td>\n",
       "    </tr>\n",
       "    <tr>\n",
       "      <th>2</th>\n",
       "      <td>net_ppg</td>\n",
       "      <td>105.2117</td>\n",
       "      <td>0.0000</td>\n",
       "      <td>0.1964</td>\n",
       "    </tr>\n",
       "    <tr>\n",
       "      <th>5</th>\n",
       "      <td>net_rtg</td>\n",
       "      <td>99.9777</td>\n",
       "      <td>0.0000</td>\n",
       "      <td>0.1727</td>\n",
       "    </tr>\n",
       "    <tr>\n",
       "      <th>3</th>\n",
       "      <td>off_rtg</td>\n",
       "      <td>69.4306</td>\n",
       "      <td>0.0000</td>\n",
       "      <td>0.1298</td>\n",
       "    </tr>\n",
       "    <tr>\n",
       "      <th>21</th>\n",
       "      <td>trb%</td>\n",
       "      <td>52.1030</td>\n",
       "      <td>0.0000</td>\n",
       "      <td>0.0757</td>\n",
       "    </tr>\n",
       "    <tr>\n",
       "      <th>38</th>\n",
       "      <td>trbd%</td>\n",
       "      <td>52.0659</td>\n",
       "      <td>0.0000</td>\n",
       "      <td>0.0692</td>\n",
       "    </tr>\n",
       "    <tr>\n",
       "      <th>0</th>\n",
       "      <td>ppg</td>\n",
       "      <td>51.3089</td>\n",
       "      <td>0.0000</td>\n",
       "      <td>0.1104</td>\n",
       "    </tr>\n",
       "    <tr>\n",
       "      <th>11</th>\n",
       "      <td>ppp</td>\n",
       "      <td>46.3212</td>\n",
       "      <td>0.0000</td>\n",
       "      <td>0.1006</td>\n",
       "    </tr>\n",
       "    <tr>\n",
       "      <th>24</th>\n",
       "      <td>ast_to</td>\n",
       "      <td>36.5079</td>\n",
       "      <td>0.0000</td>\n",
       "      <td>0.0717</td>\n",
       "    </tr>\n",
       "    <tr>\n",
       "      <th>12</th>\n",
       "      <td>ppsa</td>\n",
       "      <td>33.3512</td>\n",
       "      <td>0.0000</td>\n",
       "      <td>0.0876</td>\n",
       "    </tr>\n",
       "    <tr>\n",
       "      <th>4</th>\n",
       "      <td>def_rtg</td>\n",
       "      <td>17.5185</td>\n",
       "      <td>0.0000</td>\n",
       "      <td>0.0919</td>\n",
       "    </tr>\n",
       "    <tr>\n",
       "      <th>42</th>\n",
       "      <td>opp_stl%</td>\n",
       "      <td>16.1188</td>\n",
       "      <td>0.0000</td>\n",
       "      <td>0.0579</td>\n",
       "    </tr>\n",
       "    <tr>\n",
       "      <th>28</th>\n",
       "      <td>pppd</td>\n",
       "      <td>15.5217</td>\n",
       "      <td>0.0000</td>\n",
       "      <td>0.0557</td>\n",
       "    </tr>\n",
       "    <tr>\n",
       "      <th>36</th>\n",
       "      <td>rbd%</td>\n",
       "      <td>14.6381</td>\n",
       "      <td>0.0000</td>\n",
       "      <td>0.0572</td>\n",
       "    </tr>\n",
       "    <tr>\n",
       "      <th>20</th>\n",
       "      <td>drb%</td>\n",
       "      <td>14.6381</td>\n",
       "      <td>0.0000</td>\n",
       "      <td>0.0700</td>\n",
       "    </tr>\n",
       "  </tbody>\n",
       "</table>\n",
       "</div>"
      ],
      "text/plain": [
       "        feature  f_values  p_values  mutual_info\n",
       "7   hhs_net_rtg  176.2985    0.0000       0.3029\n",
       "10          rpi  170.0163    0.0000       0.3461\n",
       "9   hhs_def_rtg  139.2806    0.0000       0.2278\n",
       "8   hhs_off_rtg  112.6165    0.0000       0.2277\n",
       "2       net_ppg  105.2117    0.0000       0.1964\n",
       "5       net_rtg   99.9777    0.0000       0.1727\n",
       "3       off_rtg   69.4306    0.0000       0.1298\n",
       "21         trb%   52.1030    0.0000       0.0757\n",
       "38        trbd%   52.0659    0.0000       0.0692\n",
       "0           ppg   51.3089    0.0000       0.1104\n",
       "11          ppp   46.3212    0.0000       0.1006\n",
       "24       ast_to   36.5079    0.0000       0.0717\n",
       "12         ppsa   33.3512    0.0000       0.0876\n",
       "4       def_rtg   17.5185    0.0000       0.0919\n",
       "42     opp_stl%   16.1188    0.0000       0.0579\n",
       "28         pppd   15.5217    0.0000       0.0557\n",
       "36         rbd%   14.6381    0.0000       0.0572\n",
       "20         drb%   14.6381    0.0000       0.0700"
      ]
     },
     "execution_count": 55,
     "metadata": {},
     "output_type": "execute_result"
    }
   ],
   "source": [
    "feature_df = feature_df[feature_df['p_values'] < .05]\n",
    "feature_df.sort_values(by='f_values', ascending=False)"
   ]
  },
  {
   "cell_type": "code",
   "execution_count": 56,
   "id": "3c4e2f2c",
   "metadata": {},
   "outputs": [],
   "source": [
    "vars_df = df[['hhs_net_rtg',\n",
    "              'rpi',\n",
    "              'hhs_def_rtg',\n",
    "              'hhs_off_rtg',\n",
    "              'net_ppg',\n",
    "              'net_rtg',\n",
    "              'off_rtg',\n",
    "              'trb%',\n",
    "              'trbd%',\n",
    "              'ppg',\n",
    "              'ppp',\n",
    "              'ppsa',\n",
    "              'pf%',\n",
    "              'def_rtg'\n",
    "           ]]"
   ]
  },
  {
   "cell_type": "code",
   "execution_count": 57,
   "id": "b8466dcb",
   "metadata": {},
   "outputs": [
    {
     "data": {
      "image/png": "[encoded data removed]",
      "text/plain": [
       "<Figure size 1000x800 with 2 Axes>"
      ]
     },
     "metadata": {},
     "output_type": "display_data"
    }
   ],
   "source": [
    "corr_matrix = vars_df.corr()\n",
    "\n",
    "plt.figure(figsize=(10, 8))  # Optional: specify the size of the plot\n",
    "sns.heatmap(corr_matrix, annot=True, cmap='coolwarm', fmt='.2f', linewidths=0.5)\n",
    "plt.title('Correlation Heatmap')\n",
    "plt.show()"
   ]
  },
  {
   "cell_type": "markdown",
   "id": "bacf4d8b",
   "metadata": {},
   "source": [
    "### II. Build Clustering Model"
   ]
  },
  {
   "cell_type": "code",
   "execution_count": 58,
   "id": "59160fd8",
   "metadata": {},
   "outputs": [
    {
     "data": {
      "text/html": [
       "<div>\n",
       "<style scoped>\n",
       "    .dataframe tbody tr th:only-of-type {\n",
       "        vertical-align: middle;\n",
       "    }\n",
       "\n",
       "    .dataframe tbody tr th {\n",
       "        vertical-align: top;\n",
       "    }\n",
       "\n",
       "    .dataframe thead th {\n",
       "        text-align: right;\n",
       "    }\n",
       "</style>\n",
       "<table border=\"1\" class=\"dataframe\">\n",
       "  <thead>\n",
       "    <tr style=\"text-align: right;\">\n",
       "      <th></th>\n",
       "      <th>hhs_net_rtg</th>\n",
       "      <th>rpi</th>\n",
       "      <th>hhs_def_rtg</th>\n",
       "      <th>hhs_off_rtg</th>\n",
       "      <th>net_ppg</th>\n",
       "      <th>net_rtg</th>\n",
       "      <th>off_rtg</th>\n",
       "      <th>trb%</th>\n",
       "      <th>trbd%</th>\n",
       "      <th>ppg</th>\n",
       "      <th>ppp</th>\n",
       "      <th>ppsa</th>\n",
       "      <th>pf%</th>\n",
       "      <th>def_rtg</th>\n",
       "    </tr>\n",
       "  </thead>\n",
       "  <tbody>\n",
       "    <tr>\n",
       "      <th>0</th>\n",
       "      <td>3.2584</td>\n",
       "      <td>2.3608</td>\n",
       "      <td>-2.9596</td>\n",
       "      <td>2.8777</td>\n",
       "      <td>3.5169</td>\n",
       "      <td>3.5925</td>\n",
       "      <td>2.9498</td>\n",
       "      <td>0.6778</td>\n",
       "      <td>-0.6778</td>\n",
       "      <td>2.2695</td>\n",
       "      <td>3.0160</td>\n",
       "      <td>2.8752</td>\n",
       "      <td>-2.6416</td>\n",
       "      <td>-1.7817</td>\n",
       "    </tr>\n",
       "    <tr>\n",
       "      <th>1</th>\n",
       "      <td>2.7702</td>\n",
       "      <td>1.2995</td>\n",
       "      <td>-2.7503</td>\n",
       "      <td>2.2936</td>\n",
       "      <td>3.6760</td>\n",
       "      <td>3.3843</td>\n",
       "      <td>2.4412</td>\n",
       "      <td>3.2971</td>\n",
       "      <td>-3.2970</td>\n",
       "      <td>2.6243</td>\n",
       "      <td>1.6371</td>\n",
       "      <td>1.2849</td>\n",
       "      <td>-0.5464</td>\n",
       "      <td>-2.1339</td>\n",
       "    </tr>\n",
       "    <tr>\n",
       "      <th>2</th>\n",
       "      <td>1.9199</td>\n",
       "      <td>2.0071</td>\n",
       "      <td>-1.9320</td>\n",
       "      <td>1.5727</td>\n",
       "      <td>1.4967</td>\n",
       "      <td>1.6036</td>\n",
       "      <td>1.2453</td>\n",
       "      <td>0.5783</td>\n",
       "      <td>-0.5784</td>\n",
       "      <td>0.6725</td>\n",
       "      <td>1.1774</td>\n",
       "      <td>0.9957</td>\n",
       "      <td>-0.5464</td>\n",
       "      <td>-0.8918</td>\n",
       "    </tr>\n",
       "    <tr>\n",
       "      <th>3</th>\n",
       "      <td>1.8694</td>\n",
       "      <td>2.0695</td>\n",
       "      <td>-1.3991</td>\n",
       "      <td>1.8337</td>\n",
       "      <td>1.2263</td>\n",
       "      <td>1.2336</td>\n",
       "      <td>1.5614</td>\n",
       "      <td>0.8436</td>\n",
       "      <td>-0.8436</td>\n",
       "      <td>1.2344</td>\n",
       "      <td>1.4839</td>\n",
       "      <td>1.2849</td>\n",
       "      <td>-0.3559</td>\n",
       "      <td>0.1279</td>\n",
       "    </tr>\n",
       "    <tr>\n",
       "      <th>4</th>\n",
       "      <td>1.7936</td>\n",
       "      <td>1.7573</td>\n",
       "      <td>-1.9320</td>\n",
       "      <td>1.3863</td>\n",
       "      <td>1.3058</td>\n",
       "      <td>1.3608</td>\n",
       "      <td>0.9704</td>\n",
       "      <td>0.6447</td>\n",
       "      <td>-0.6447</td>\n",
       "      <td>0.6133</td>\n",
       "      <td>0.4114</td>\n",
       "      <td>0.1282</td>\n",
       "      <td>1.9298</td>\n",
       "      <td>-0.8732</td>\n",
       "    </tr>\n",
       "  </tbody>\n",
       "</table>\n",
       "</div>"
      ],
      "text/plain": [
       "   hhs_net_rtg    rpi  hhs_def_rtg  hhs_off_rtg  net_ppg  net_rtg  off_rtg  \\\n",
       "0       3.2584 2.3608      -2.9596       2.8777   3.5169   3.5925   2.9498   \n",
       "1       2.7702 1.2995      -2.7503       2.2936   3.6760   3.3843   2.4412   \n",
       "2       1.9199 2.0071      -1.9320       1.5727   1.4967   1.6036   1.2453   \n",
       "3       1.8694 2.0695      -1.3991       1.8337   1.2263   1.2336   1.5614   \n",
       "4       1.7936 1.7573      -1.9320       1.3863   1.3058   1.3608   0.9704   \n",
       "\n",
       "    trb%   trbd%    ppg    ppp   ppsa     pf%  def_rtg  \n",
       "0 0.6778 -0.6778 2.2695 3.0160 2.8752 -2.6416  -1.7817  \n",
       "1 3.2971 -3.2970 2.6243 1.6371 1.2849 -0.5464  -2.1339  \n",
       "2 0.5783 -0.5784 0.6725 1.1774 0.9957 -0.5464  -0.8918  \n",
       "3 0.8436 -0.8436 1.2344 1.4839 1.2849 -0.3559   0.1279  \n",
       "4 0.6447 -0.6447 0.6133 0.4114 0.1282  1.9298  -0.8732  "
      ]
     },
     "execution_count": 58,
     "metadata": {},
     "output_type": "execute_result"
    }
   ],
   "source": [
    "sc = StandardScaler()\n",
    "scaled_array = sc.fit_transform(vars_df)\n",
    "model_df = pd.DataFrame(scaled_array)\n",
    "model_df.columns = ['hhs_net_rtg',\n",
    "              'rpi',\n",
    "              'hhs_def_rtg',\n",
    "              'hhs_off_rtg',\n",
    "              'net_ppg',\n",
    "              'net_rtg',\n",
    "              'off_rtg',\n",
    "              'trb%',\n",
    "              'trbd%',\n",
    "              'ppg',\n",
    "              'ppp',\n",
    "              'ppsa',\n",
    "              'pf%',\n",
    "              'def_rtg']\n",
    "model_df.head()"
   ]
  },
  {
   "cell_type": "code",
   "execution_count": 59,
   "id": "b07f2520",
   "metadata": {},
   "outputs": [
    {
     "data": {
      "application/vnd.plotly.v1+json": {
       "config": {
        "plotlyServerURL": "https://plot.ly"
       },
       "data": [
        {
         "type": "scatter",
         "x": [
          2,
          3,
          4,
          5,
          6,
          7,
          8,
          9,
          10
         ],
         "y": [
          4100.090299738497,
          3316.2785441878596,
          2919.077033935586,
          2611.5951782799916,
          2425.016820522703,
          2297.537083557013,
          2194.626788964593,
          2077.6037732563186
         ]
        }
       ],
       "layout": {
        "autosize": true,
        "template": {
         "data": {
          "bar": [
           {
            "error_x": {
             "color": "#2a3f5f"
            },
            "error_y": {
             "color": "#2a3f5f"
            },
            "marker": {
             "line": {
              "color": "#E5ECF6",
              "width": 0.5
             },
             "pattern": {
              "fillmode": "overlay",
              "size": 10,
              "solidity": 0.2
             }
            },
            "type": "bar"
           }
          ],
          "barpolar": [
           {
            "marker": {
             "line": {
              "color": "#E5ECF6",
              "width": 0.5
             },
             "pattern": {
              "fillmode": "overlay",
              "size": 10,
              "solidity": 0.2
             }
            },
            "type": "barpolar"
           }
          ],
          "carpet": [
           {
            "aaxis": {
             "endlinecolor": "#2a3f5f",
             "gridcolor": "white",
             "linecolor": "white",
             "minorgridcolor": "white",
             "startlinecolor": "#2a3f5f"
            },
            "baxis": {
             "endlinecolor": "#2a3f5f",
             "gridcolor": "white",
             "linecolor": "white",
             "minorgridcolor": "white",
             "startlinecolor": "#2a3f5f"
            },
            "type": "carpet"
           }
          ],
          "choropleth": [
           {
            "colorbar": {
             "outlinewidth": 0,
             "ticks": ""
            },
            "type": "choropleth"
           }
          ],
          "contour": [
           {
            "colorbar": {
             "outlinewidth": 0,
             "ticks": ""
            },
            "colorscale": [
             [
              0,
              "#0d0887"
             ],
             [
              0.1111111111111111,
              "#46039f"
             ],
             [
              0.2222222222222222,
              "#7201a8"
             ],
             [
              0.3333333333333333,
              "#9c179e"
             ],
             [
              0.4444444444444444,
              "#bd3786"
             ],
             [
              0.5555555555555556,
              "#d8576b"
             ],
             [
              0.6666666666666666,
              "#ed7953"
             ],
             [
              0.7777777777777778,
              "#fb9f3a"
             ],
             [
              0.8888888888888888,
              "#fdca26"
             ],
             [
              1,
              "#f0f921"
             ]
            ],
            "type": "contour"
           }
          ],
          "contourcarpet": [
           {
            "colorbar": {
             "outlinewidth": 0,
             "ticks": ""
            },
            "type": "contourcarpet"
           }
          ],
          "heatmap": [
           {
            "colorbar": {
             "outlinewidth": 0,
             "ticks": ""
            },
            "colorscale": [
             [
              0,
              "#0d0887"
             ],
             [
              0.1111111111111111,
              "#46039f"
             ],
             [
              0.2222222222222222,
              "#7201a8"
             ],
             [
              0.3333333333333333,
              "#9c179e"
             ],
             [
              0.4444444444444444,
              "#bd3786"
             ],
             [
              0.5555555555555556,
              "#d8576b"
             ],
             [
              0.6666666666666666,
              "#ed7953"
             ],
             [
              0.7777777777777778,
              "#fb9f3a"
             ],
             [
              0.8888888888888888,
              "#fdca26"
             ],
             [
              1,
              "#f0f921"
             ]
            ],
            "type": "heatmap"
           }
          ],
          "heatmapgl": [
           {
            "colorbar": {
             "outlinewidth": 0,
             "ticks": ""
            },
            "colorscale": [
             [
              0,
              "#0d0887"
             ],
             [
              0.1111111111111111,
              "#46039f"
             ],
             [
              0.2222222222222222,
              "#7201a8"
             ],
             [
              0.3333333333333333,
              "#9c179e"
             ],
             [
              0.4444444444444444,
              "#bd3786"
             ],
             [
              0.5555555555555556,
              "#d8576b"
             ],
             [
              0.6666666666666666,
              "#ed7953"
             ],
             [
              0.7777777777777778,
              "#fb9f3a"
             ],
             [
              0.8888888888888888,
              "#fdca26"
             ],
             [
              1,
              "#f0f921"
             ]
            ],
            "type": "heatmapgl"
           }
          ],
          "histogram": [
           {
            "marker": {
             "pattern": {
              "fillmode": "overlay",
              "size": 10,
              "solidity": 0.2
             }
            },
            "type": "histogram"
           }
          ],
          "histogram2d": [
           {
            "colorbar": {
             "outlinewidth": 0,
             "ticks": ""
            },
            "colorscale": [
             [
              0,
              "#0d0887"
             ],
             [
              0.1111111111111111,
              "#46039f"
             ],
             [
              0.2222222222222222,
              "#7201a8"
             ],
             [
              0.3333333333333333,
              "#9c179e"
             ],
             [
              0.4444444444444444,
              "#bd3786"
             ],
             [
              0.5555555555555556,
              "#d8576b"
             ],
             [
              0.6666666666666666,
              "#ed7953"
             ],
             [
              0.7777777777777778,
              "#fb9f3a"
             ],
             [
              0.8888888888888888,
              "#fdca26"
             ],
             [
              1,
              "#f0f921"
             ]
            ],
            "type": "histogram2d"
           }
          ],
          "histogram2dcontour": [
           {
            "colorbar": {
             "outlinewidth": 0,
             "ticks": ""
            },
            "colorscale": [
             [
              0,
              "#0d0887"
             ],
             [
              0.1111111111111111,
              "#46039f"
             ],
             [
              0.2222222222222222,
              "#7201a8"
             ],
             [
              0.3333333333333333,
              "#9c179e"
             ],
             [
              0.4444444444444444,
              "#bd3786"
             ],
             [
              0.5555555555555556,
              "#d8576b"
             ],
             [
              0.6666666666666666,
              "#ed7953"
             ],
             [
              0.7777777777777778,
              "#fb9f3a"
             ],
             [
              0.8888888888888888,
              "#fdca26"
             ],
             [
              1,
              "#f0f921"
             ]
            ],
            "type": "histogram2dcontour"
           }
          ],
          "mesh3d": [
           {
            "colorbar": {
             "outlinewidth": 0,
             "ticks": ""
            },
            "type": "mesh3d"
           }
          ],
          "parcoords": [
           {
            "line": {
             "colorbar": {
              "outlinewidth": 0,
              "ticks": ""
             }
            },
            "type": "parcoords"
           }
          ],
          "pie": [
           {
            "automargin": true,
            "type": "pie"
           }
          ],
          "scatter": [
           {
            "fillpattern": {
             "fillmode": "overlay",
             "size": 10,
             "solidity": 0.2
            },
            "type": "scatter"
           }
          ],
          "scatter3d": [
           {
            "line": {
             "colorbar": {
              "outlinewidth": 0,
              "ticks": ""
             }
            },
            "marker": {
             "colorbar": {
              "outlinewidth": 0,
              "ticks": ""
             }
            },
            "type": "scatter3d"
           }
          ],
          "scattercarpet": [
           {
            "marker": {
             "colorbar": {
              "outlinewidth": 0,
              "ticks": ""
             }
            },
            "type": "scattercarpet"
           }
          ],
          "scattergeo": [
           {
            "marker": {
             "colorbar": {
              "outlinewidth": 0,
              "ticks": ""
             }
            },
            "type": "scattergeo"
           }
          ],
          "scattergl": [
           {
            "marker": {
             "colorbar": {
              "outlinewidth": 0,
              "ticks": ""
             }
            },
            "type": "scattergl"
           }
          ],
          "scattermapbox": [
           {
            "marker": {
             "colorbar": {
              "outlinewidth": 0,
              "ticks": ""
             }
            },
            "type": "scattermapbox"
           }
          ],
          "scatterpolar": [
           {
            "marker": {
             "colorbar": {
              "outlinewidth": 0,
              "ticks": ""
             }
            },
            "type": "scatterpolar"
           }
          ],
          "scatterpolargl": [
           {
            "marker": {
             "colorbar": {
              "outlinewidth": 0,
              "ticks": ""
             }
            },
            "type": "scatterpolargl"
           }
          ],
          "scatterternary": [
           {
            "marker": {
             "colorbar": {
              "outlinewidth": 0,
              "ticks": ""
             }
            },
            "type": "scatterternary"
           }
          ],
          "surface": [
           {
            "colorbar": {
             "outlinewidth": 0,
             "ticks": ""
            },
            "colorscale": [
             [
              0,
              "#0d0887"
             ],
             [
              0.1111111111111111,
              "#46039f"
             ],
             [
              0.2222222222222222,
              "#7201a8"
             ],
             [
              0.3333333333333333,
              "#9c179e"
             ],
             [
              0.4444444444444444,
              "#bd3786"
             ],
             [
              0.5555555555555556,
              "#d8576b"
             ],
             [
              0.6666666666666666,
              "#ed7953"
             ],
             [
              0.7777777777777778,
              "#fb9f3a"
             ],
             [
              0.8888888888888888,
              "#fdca26"
             ],
             [
              1,
              "#f0f921"
             ]
            ],
            "type": "surface"
           }
          ],
          "table": [
           {
            "cells": {
             "fill": {
              "color": "#EBF0F8"
             },
             "line": {
              "color": "white"
             }
            },
            "header": {
             "fill": {
              "color": "#C8D4E3"
             },
             "line": {
              "color": "white"
             }
            },
            "type": "table"
           }
          ]
         },
         "layout": {
          "annotationdefaults": {
           "arrowcolor": "#2a3f5f",
           "arrowhead": 0,
           "arrowwidth": 1
          },
          "autotypenumbers": "strict",
          "coloraxis": {
           "colorbar": {
            "outlinewidth": 0,
            "ticks": ""
           }
          },
          "colorscale": {
           "diverging": [
            [
             0,
             "#8e0152"
            ],
            [
             0.1,
             "#c51b7d"
            ],
            [
             0.2,
             "#de77ae"
            ],
            [
             0.3,
             "#f1b6da"
            ],
            [
             0.4,
             "#fde0ef"
            ],
            [
             0.5,
             "#f7f7f7"
            ],
            [
             0.6,
             "#e6f5d0"
            ],
            [
             0.7,
             "#b8e186"
            ],
            [
             0.8,
             "#7fbc41"
            ],
            [
             0.9,
             "#4d9221"
            ],
            [
             1,
             "#276419"
            ]
           ],
           "sequential": [
            [
             0,
             "#0d0887"
            ],
            [
             0.1111111111111111,
             "#46039f"
            ],
            [
             0.2222222222222222,
             "#7201a8"
            ],
            [
             0.3333333333333333,
             "#9c179e"
            ],
            [
             0.4444444444444444,
             "#bd3786"
            ],
            [
             0.5555555555555556,
             "#d8576b"
            ],
            [
             0.6666666666666666,
             "#ed7953"
            ],
            [
             0.7777777777777778,
             "#fb9f3a"
            ],
            [
             0.8888888888888888,
             "#fdca26"
            ],
            [
             1,
             "#f0f921"
            ]
           ],
           "sequentialminus": [
            [
             0,
             "#0d0887"
            ],
            [
             0.1111111111111111,
             "#46039f"
            ],
            [
             0.2222222222222222,
             "#7201a8"
            ],
            [
             0.3333333333333333,
             "#9c179e"
            ],
            [
             0.4444444444444444,
             "#bd3786"
            ],
            [
             0.5555555555555556,
             "#d8576b"
            ],
            [
             0.6666666666666666,
             "#ed7953"
            ],
            [
             0.7777777777777778,
             "#fb9f3a"
            ],
            [
             0.8888888888888888,
             "#fdca26"
            ],
            [
             1,
             "#f0f921"
            ]
           ]
          },
          "colorway": [
           "#636efa",
           "#EF553B",
           "#00cc96",
           "#ab63fa",
           "#FFA15A",
           "#19d3f3",
           "#FF6692",
           "#B6E880",
           "#FF97FF",
           "#FECB52"
          ],
          "font": {
           "color": "#2a3f5f"
          },
          "geo": {
           "bgcolor": "white",
           "lakecolor": "white",
           "landcolor": "#E5ECF6",
           "showlakes": true,
           "showland": true,
           "subunitcolor": "white"
          },
          "hoverlabel": {
           "align": "left"
          },
          "hovermode": "closest",
          "mapbox": {
           "style": "light"
          },
          "paper_bgcolor": "white",
          "plot_bgcolor": "#E5ECF6",
          "polar": {
           "angularaxis": {
            "gridcolor": "white",
            "linecolor": "white",
            "ticks": ""
           },
           "bgcolor": "#E5ECF6",
           "radialaxis": {
            "gridcolor": "white",
            "linecolor": "white",
            "ticks": ""
           }
          },
          "scene": {
           "xaxis": {
            "backgroundcolor": "#E5ECF6",
            "gridcolor": "white",
            "gridwidth": 2,
            "linecolor": "white",
            "showbackground": true,
            "ticks": "",
            "zerolinecolor": "white"
           },
           "yaxis": {
            "backgroundcolor": "#E5ECF6",
            "gridcolor": "white",
            "gridwidth": 2,
            "linecolor": "white",
            "showbackground": true,
            "ticks": "",
            "zerolinecolor": "white"
           },
           "zaxis": {
            "backgroundcolor": "#E5ECF6",
            "gridcolor": "white",
            "gridwidth": 2,
            "linecolor": "white",
            "showbackground": true,
            "ticks": "",
            "zerolinecolor": "white"
           }
          },
          "shapedefaults": {
           "line": {
            "color": "#2a3f5f"
           }
          },
          "ternary": {
           "aaxis": {
            "gridcolor": "white",
            "linecolor": "white",
            "ticks": ""
           },
           "baxis": {
            "gridcolor": "white",
            "linecolor": "white",
            "ticks": ""
           },
           "bgcolor": "#E5ECF6",
           "caxis": {
            "gridcolor": "white",
            "linecolor": "white",
            "ticks": ""
           }
          },
          "title": {
           "x": 0.05
          },
          "xaxis": {
           "automargin": true,
           "gridcolor": "white",
           "linecolor": "white",
           "ticks": "",
           "title": {
            "standoff": 15
           },
           "zerolinecolor": "white",
           "zerolinewidth": 2
          },
          "yaxis": {
           "automargin": true,
           "gridcolor": "white",
           "linecolor": "white",
           "ticks": "",
           "title": {
            "standoff": 15
           },
           "zerolinecolor": "white",
           "zerolinewidth": 2
          }
         }
        },
        "title": {
         "text": "WCSS vs. Cluster number"
        },
        "xaxis": {
         "autorange": true,
         "range": [
          1.5501567398119123,
          9.449843260188088
         ],
         "title": {
          "text": "Clusters"
         },
         "type": "linear"
        },
        "yaxis": {
         "autorange": true,
         "range": [
          1910.6995453427407,
          4266.994527652076
         ],
         "title": {
          "text": "WCSS"
         },
         "type": "linear"
        }
       }
      },
      "text/html": [
       "<div>                            <div id=\"059650a1-ec6e-4cd5-ba87-d1a0c7c747fe\" class=\"plotly-graph-div\" style=\"height:525px; width:100%;\"></div>            <script type=\"text/javascript\">                require([\"plotly\"], function(Plotly) {                    window.PLOTLYENV=window.PLOTLYENV || {};                                    if (document.getElementById(\"059650a1-ec6e-4cd5-ba87-d1a0c7c747fe\")) {                    Plotly.newPlot(                        \"059650a1-ec6e-4cd5-ba87-d1a0c7c747fe\",                        [{\"x\":[2,3,4,5,6,7,8,9,10],\"y\":[4100.090299738497,3316.2785441878596,2919.077033935586,2611.5951782799916,2425.016820522703,2297.537083557013,2194.626788964593,2077.6037732563186],\"type\":\"scatter\"}],                        {\"template\":{\"data\":{\"histogram2dcontour\":[{\"type\":\"histogram2dcontour\",\"colorbar\":{\"outlinewidth\":0,\"ticks\":\"\"},\"colorscale\":[[0.0,\"#0d0887\"],[0.1111111111111111,\"#46039f\"],[0.2222222222222222,\"#7201a8\"],[0.3333333333333333,\"#9c179e\"],[0.4444444444444444,\"#bd3786\"],[0.5555555555555556,\"#d8576b\"],[0.6666666666666666,\"#ed7953\"],[0.7777777777777778,\"#fb9f3a\"],[0.8888888888888888,\"#fdca26\"],[1.0,\"#f0f921\"]]}],\"choropleth\":[{\"type\":\"choropleth\",\"colorbar\":{\"outlinewidth\":0,\"ticks\":\"\"}}],\"histogram2d\":[{\"type\":\"histogram2d\",\"colorbar\":{\"outlinewidth\":0,\"ticks\":\"\"},\"colorscale\":[[0.0,\"#0d0887\"],[0.1111111111111111,\"#46039f\"],[0.2222222222222222,\"#7201a8\"],[0.3333333333333333,\"#9c179e\"],[0.4444444444444444,\"#bd3786\"],[0.5555555555555556,\"#d8576b\"],[0.6666666666666666,\"#ed7953\"],[0.7777777777777778,\"#fb9f3a\"],[0.8888888888888888,\"#fdca26\"],[1.0,\"#f0f921\"]]}],\"heatmap\":[{\"type\":\"heatmap\",\"colorbar\":{\"outlinewidth\":0,\"ticks\":\"\"},\"colorscale\":[[0.0,\"#0d0887\"],[0.1111111111111111,\"#46039f\"],[0.2222222222222222,\"#7201a8\"],[0.3333333333333333,\"#9c179e\"],[0.4444444444444444,\"#bd3786\"],[0.5555555555555556,\"#d8576b\"],[0.6666666666666666,\"#ed7953\"],[0.7777777777777778,\"#fb9f3a\"],[0.8888888888888888,\"#fdca26\"],[1.0,\"#f0f921\"]]}],\"heatmapgl\":[{\"type\":\"heatmapgl\",\"colorbar\":{\"outlinewidth\":0,\"ticks\":\"\"},\"colorscale\":[[0.0,\"#0d0887\"],[0.1111111111111111,\"#46039f\"],[0.2222222222222222,\"#7201a8\"],[0.3333333333333333,\"#9c179e\"],[0.4444444444444444,\"#bd3786\"],[0.5555555555555556,\"#d8576b\"],[0.6666666666666666,\"#ed7953\"],[0.7777777777777778,\"#fb9f3a\"],[0.8888888888888888,\"#fdca26\"],[1.0,\"#f0f921\"]]}],\"contourcarpet\":[{\"type\":\"contourcarpet\",\"colorbar\":{\"outlinewidth\":0,\"ticks\":\"\"}}],\"contour\":[{\"type\":\"contour\",\"colorbar\":{\"outlinewidth\":0,\"ticks\":\"\"},\"colorscale\":[[0.0,\"#0d0887\"],[0.1111111111111111,\"#46039f\"],[0.2222222222222222,\"#7201a8\"],[0.3333333333333333,\"#9c179e\"],[0.4444444444444444,\"#bd3786\"],[0.5555555555555556,\"#d8576b\"],[0.6666666666666666,\"#ed7953\"],[0.7777777777777778,\"#fb9f3a\"],[0.8888888888888888,\"#fdca26\"],[1.0,\"#f0f921\"]]}],\"surface\":[{\"type\":\"surface\",\"colorbar\":{\"outlinewidth\":0,\"ticks\":\"\"},\"colorscale\":[[0.0,\"#0d0887\"],[0.1111111111111111,\"#46039f\"],[0.2222222222222222,\"#7201a8\"],[0.3333333333333333,\"#9c179e\"],[0.4444444444444444,\"#bd3786\"],[0.5555555555555556,\"#d8576b\"],[0.6666666666666666,\"#ed7953\"],[0.7777777777777778,\"#fb9f3a\"],[0.8888888888888888,\"#fdca26\"],[1.0,\"#f0f921\"]]}],\"mesh3d\":[{\"type\":\"mesh3d\",\"colorbar\":{\"outlinewidth\":0,\"ticks\":\"\"}}],\"scatter\":[{\"fillpattern\":{\"fillmode\":\"overlay\",\"size\":10,\"solidity\":0.2},\"type\":\"scatter\"}],\"parcoords\":[{\"type\":\"parcoords\",\"line\":{\"colorbar\":{\"outlinewidth\":0,\"ticks\":\"\"}}}],\"scatterpolargl\":[{\"type\":\"scatterpolargl\",\"marker\":{\"colorbar\":{\"outlinewidth\":0,\"ticks\":\"\"}}}],\"bar\":[{\"error_x\":{\"color\":\"#2a3f5f\"},\"error_y\":{\"color\":\"#2a3f5f\"},\"marker\":{\"line\":{\"color\":\"#E5ECF6\",\"width\":0.5},\"pattern\":{\"fillmode\":\"overlay\",\"size\":10,\"solidity\":0.2}},\"type\":\"bar\"}],\"scattergeo\":[{\"type\":\"scattergeo\",\"marker\":{\"colorbar\":{\"outlinewidth\":0,\"ticks\":\"\"}}}],\"scatterpolar\":[{\"type\":\"scatterpolar\",\"marker\":{\"colorbar\":{\"outlinewidth\":0,\"ticks\":\"\"}}}],\"histogram\":[{\"marker\":{\"pattern\":{\"fillmode\":\"overlay\",\"size\":10,\"solidity\":0.2}},\"type\":\"histogram\"}],\"scattergl\":[{\"type\":\"scattergl\",\"marker\":{\"colorbar\":{\"outlinewidth\":0,\"ticks\":\"\"}}}],\"scatter3d\":[{\"type\":\"scatter3d\",\"line\":{\"colorbar\":{\"outlinewidth\":0,\"ticks\":\"\"}},\"marker\":{\"colorbar\":{\"outlinewidth\":0,\"ticks\":\"\"}}}],\"scattermapbox\":[{\"type\":\"scattermapbox\",\"marker\":{\"colorbar\":{\"outlinewidth\":0,\"ticks\":\"\"}}}],\"scatterternary\":[{\"type\":\"scatterternary\",\"marker\":{\"colorbar\":{\"outlinewidth\":0,\"ticks\":\"\"}}}],\"scattercarpet\":[{\"type\":\"scattercarpet\",\"marker\":{\"colorbar\":{\"outlinewidth\":0,\"ticks\":\"\"}}}],\"carpet\":[{\"aaxis\":{\"endlinecolor\":\"#2a3f5f\",\"gridcolor\":\"white\",\"linecolor\":\"white\",\"minorgridcolor\":\"white\",\"startlinecolor\":\"#2a3f5f\"},\"baxis\":{\"endlinecolor\":\"#2a3f5f\",\"gridcolor\":\"white\",\"linecolor\":\"white\",\"minorgridcolor\":\"white\",\"startlinecolor\":\"#2a3f5f\"},\"type\":\"carpet\"}],\"table\":[{\"cells\":{\"fill\":{\"color\":\"#EBF0F8\"},\"line\":{\"color\":\"white\"}},\"header\":{\"fill\":{\"color\":\"#C8D4E3\"},\"line\":{\"color\":\"white\"}},\"type\":\"table\"}],\"barpolar\":[{\"marker\":{\"line\":{\"color\":\"#E5ECF6\",\"width\":0.5},\"pattern\":{\"fillmode\":\"overlay\",\"size\":10,\"solidity\":0.2}},\"type\":\"barpolar\"}],\"pie\":[{\"automargin\":true,\"type\":\"pie\"}]},\"layout\":{\"autotypenumbers\":\"strict\",\"colorway\":[\"#636efa\",\"#EF553B\",\"#00cc96\",\"#ab63fa\",\"#FFA15A\",\"#19d3f3\",\"#FF6692\",\"#B6E880\",\"#FF97FF\",\"#FECB52\"],\"font\":{\"color\":\"#2a3f5f\"},\"hovermode\":\"closest\",\"hoverlabel\":{\"align\":\"left\"},\"paper_bgcolor\":\"white\",\"plot_bgcolor\":\"#E5ECF6\",\"polar\":{\"bgcolor\":\"#E5ECF6\",\"angularaxis\":{\"gridcolor\":\"white\",\"linecolor\":\"white\",\"ticks\":\"\"},\"radialaxis\":{\"gridcolor\":\"white\",\"linecolor\":\"white\",\"ticks\":\"\"}},\"ternary\":{\"bgcolor\":\"#E5ECF6\",\"aaxis\":{\"gridcolor\":\"white\",\"linecolor\":\"white\",\"ticks\":\"\"},\"baxis\":{\"gridcolor\":\"white\",\"linecolor\":\"white\",\"ticks\":\"\"},\"caxis\":{\"gridcolor\":\"white\",\"linecolor\":\"white\",\"ticks\":\"\"}},\"coloraxis\":{\"colorbar\":{\"outlinewidth\":0,\"ticks\":\"\"}},\"colorscale\":{\"sequential\":[[0.0,\"#0d0887\"],[0.1111111111111111,\"#46039f\"],[0.2222222222222222,\"#7201a8\"],[0.3333333333333333,\"#9c179e\"],[0.4444444444444444,\"#bd3786\"],[0.5555555555555556,\"#d8576b\"],[0.6666666666666666,\"#ed7953\"],[0.7777777777777778,\"#fb9f3a\"],[0.8888888888888888,\"#fdca26\"],[1.0,\"#f0f921\"]],\"sequentialminus\":[[0.0,\"#0d0887\"],[0.1111111111111111,\"#46039f\"],[0.2222222222222222,\"#7201a8\"],[0.3333333333333333,\"#9c179e\"],[0.4444444444444444,\"#bd3786\"],[0.5555555555555556,\"#d8576b\"],[0.6666666666666666,\"#ed7953\"],[0.7777777777777778,\"#fb9f3a\"],[0.8888888888888888,\"#fdca26\"],[1.0,\"#f0f921\"]],\"diverging\":[[0,\"#8e0152\"],[0.1,\"#c51b7d\"],[0.2,\"#de77ae\"],[0.3,\"#f1b6da\"],[0.4,\"#fde0ef\"],[0.5,\"#f7f7f7\"],[0.6,\"#e6f5d0\"],[0.7,\"#b8e186\"],[0.8,\"#7fbc41\"],[0.9,\"#4d9221\"],[1,\"#276419\"]]},\"xaxis\":{\"gridcolor\":\"white\",\"linecolor\":\"white\",\"ticks\":\"\",\"title\":{\"standoff\":15},\"zerolinecolor\":\"white\",\"automargin\":true,\"zerolinewidth\":2},\"yaxis\":{\"gridcolor\":\"white\",\"linecolor\":\"white\",\"ticks\":\"\",\"title\":{\"standoff\":15},\"zerolinecolor\":\"white\",\"automargin\":true,\"zerolinewidth\":2},\"scene\":{\"xaxis\":{\"backgroundcolor\":\"#E5ECF6\",\"gridcolor\":\"white\",\"linecolor\":\"white\",\"showbackground\":true,\"ticks\":\"\",\"zerolinecolor\":\"white\",\"gridwidth\":2},\"yaxis\":{\"backgroundcolor\":\"#E5ECF6\",\"gridcolor\":\"white\",\"linecolor\":\"white\",\"showbackground\":true,\"ticks\":\"\",\"zerolinecolor\":\"white\",\"gridwidth\":2},\"zaxis\":{\"backgroundcolor\":\"#E5ECF6\",\"gridcolor\":\"white\",\"linecolor\":\"white\",\"showbackground\":true,\"ticks\":\"\",\"zerolinecolor\":\"white\",\"gridwidth\":2}},\"shapedefaults\":{\"line\":{\"color\":\"#2a3f5f\"}},\"annotationdefaults\":{\"arrowcolor\":\"#2a3f5f\",\"arrowhead\":0,\"arrowwidth\":1},\"geo\":{\"bgcolor\":\"white\",\"landcolor\":\"#E5ECF6\",\"subunitcolor\":\"white\",\"showland\":true,\"showlakes\":true,\"lakecolor\":\"white\"},\"title\":{\"x\":0.05},\"mapbox\":{\"style\":\"light\"}}},\"title\":{\"text\":\"WCSS vs. Cluster number\"},\"xaxis\":{\"title\":{\"text\":\"Clusters\"}},\"yaxis\":{\"title\":{\"text\":\"WCSS\"}}},                        {\"responsive\": true}                    ).then(function(){\n",
       "                            \n",
       "var gd = document.getElementById('059650a1-ec6e-4cd5-ba87-d1a0c7c747fe');\n",
       "var x = new MutationObserver(function (mutations, observer) {{\n",
       "        var display = window.getComputedStyle(gd).display;\n",
       "        if (!display || display === 'none') {{\n",
       "            console.log([gd, 'removed!']);\n",
       "            Plotly.purge(gd);\n",
       "            observer.disconnect();\n",
       "        }}\n",
       "}});\n",
       "\n",
       "// Listen for the removal of the full notebook cells\n",
       "var notebookContainer = gd.closest('#notebook-container');\n",
       "if (notebookContainer) {{\n",
       "    x.observe(notebookContainer, {childList: true});\n",
       "}}\n",
       "\n",
       "// Listen for the clearing of the current output cell\n",
       "var outputEl = gd.closest('.output');\n",
       "if (outputEl) {{\n",
       "    x.observe(outputEl, {childList: true});\n",
       "}}\n",
       "\n",
       "                        })                };                });            </script>        </div>"
      ]
     },
     "metadata": {},
     "output_type": "display_data"
    }
   ],
   "source": [
    "wcss = []\n",
    "\n",
    "for i in range(2, 10):\n",
    "    kmeans = KMeans(n_clusters = i, init = \"k-means++\", algorithm=\"lloyd\",\n",
    "                    max_iter = 500, n_init = 10, random_state = 123)\n",
    "    kmeans.fit(model_df)\n",
    "    wcss.append(kmeans.inertia_)\n",
    "    \n",
    "fig = go.Figure(data = go.Scatter(x = [2,3,4,5,6,7,8,9,10], y = wcss))\n",
    "\n",
    "\n",
    "fig.update_layout(title='WCSS vs. Cluster number',\n",
    "                   xaxis_title='Clusters',\n",
    "                   yaxis_title='WCSS')\n",
    "fig.show()"
   ]
  },
  {
   "cell_type": "code",
   "execution_count": 60,
   "id": "5b1afaca",
   "metadata": {},
   "outputs": [
    {
     "name": "stderr",
     "output_type": "stream",
     "text": [
      "/opt/anaconda3/lib/python3.8/site-packages/sklearn/cluster/_kmeans.py:870: FutureWarning:\n",
      "\n",
      "The default value of `n_init` will change from 10 to 'auto' in 1.4. Set the value of `n_init` explicitly to suppress the warning\n",
      "\n"
     ]
    }
   ],
   "source": [
    "# Fit K-Means Clustering Mode\n",
    "kmeans4 = KMeans(n_clusters=5, init='k-means++', algorithm='lloyd',\n",
    "                 max_iter=500, random_state=123)\n",
    "kmeans4.fit_predict(model_df)\n",
    "df['cluster'] = kmeans4.labels_"
   ]
  },
  {
   "cell_type": "code",
   "execution_count": 61,
   "id": "889c6b2f",
   "metadata": {},
   "outputs": [
    {
     "data": {
      "text/html": [
       "<div>\n",
       "<style scoped>\n",
       "    .dataframe tbody tr th:only-of-type {\n",
       "        vertical-align: middle;\n",
       "    }\n",
       "\n",
       "    .dataframe tbody tr th {\n",
       "        vertical-align: top;\n",
       "    }\n",
       "\n",
       "    .dataframe thead th {\n",
       "        text-align: right;\n",
       "    }\n",
       "</style>\n",
       "<table border=\"1\" class=\"dataframe\">\n",
       "  <thead>\n",
       "    <tr style=\"text-align: right;\">\n",
       "      <th>cluster</th>\n",
       "      <th>0</th>\n",
       "      <th>1</th>\n",
       "      <th>2</th>\n",
       "      <th>3</th>\n",
       "      <th>4</th>\n",
       "    </tr>\n",
       "    <tr>\n",
       "      <th>finish</th>\n",
       "      <th></th>\n",
       "      <th></th>\n",
       "      <th></th>\n",
       "      <th></th>\n",
       "      <th></th>\n",
       "    </tr>\n",
       "  </thead>\n",
       "  <tbody>\n",
       "    <tr>\n",
       "      <th>Champion</th>\n",
       "      <td>0</td>\n",
       "      <td>0</td>\n",
       "      <td>7</td>\n",
       "      <td>0</td>\n",
       "      <td>0</td>\n",
       "    </tr>\n",
       "    <tr>\n",
       "      <th>Elite Eight</th>\n",
       "      <td>5</td>\n",
       "      <td>3</td>\n",
       "      <td>10</td>\n",
       "      <td>0</td>\n",
       "      <td>10</td>\n",
       "    </tr>\n",
       "    <tr>\n",
       "      <th>Final Four</th>\n",
       "      <td>0</td>\n",
       "      <td>0</td>\n",
       "      <td>10</td>\n",
       "      <td>0</td>\n",
       "      <td>4</td>\n",
       "    </tr>\n",
       "    <tr>\n",
       "      <th>First Round</th>\n",
       "      <td>58</td>\n",
       "      <td>53</td>\n",
       "      <td>2</td>\n",
       "      <td>78</td>\n",
       "      <td>46</td>\n",
       "    </tr>\n",
       "    <tr>\n",
       "      <th>Runner Up</th>\n",
       "      <td>0</td>\n",
       "      <td>1</td>\n",
       "      <td>5</td>\n",
       "      <td>0</td>\n",
       "      <td>1</td>\n",
       "    </tr>\n",
       "    <tr>\n",
       "      <th>Second Round</th>\n",
       "      <td>40</td>\n",
       "      <td>29</td>\n",
       "      <td>4</td>\n",
       "      <td>6</td>\n",
       "      <td>32</td>\n",
       "    </tr>\n",
       "    <tr>\n",
       "      <th>Sweet 16</th>\n",
       "      <td>7</td>\n",
       "      <td>16</td>\n",
       "      <td>8</td>\n",
       "      <td>0</td>\n",
       "      <td>25</td>\n",
       "    </tr>\n",
       "  </tbody>\n",
       "</table>\n",
       "</div>"
      ],
      "text/plain": [
       "cluster        0   1   2   3   4\n",
       "finish                          \n",
       "Champion       0   0   7   0   0\n",
       "Elite Eight    5   3  10   0  10\n",
       "Final Four     0   0  10   0   4\n",
       "First Round   58  53   2  78  46\n",
       "Runner Up      0   1   5   0   1\n",
       "Second Round  40  29   4   6  32\n",
       "Sweet 16       7  16   8   0  25"
      ]
     },
     "execution_count": 61,
     "metadata": {},
     "output_type": "execute_result"
    }
   ],
   "source": [
    "pd.crosstab(index=df['finish'], columns=df['cluster'])"
   ]
  },
  {
   "cell_type": "code",
   "execution_count": 62,
   "id": "fe5171e9-b9ef-4952-ad0c-e72f5cea80df",
   "metadata": {},
   "outputs": [],
   "source": [
    "df.to_csv('test.csv')"
   ]
  },
  {
   "cell_type": "code",
   "execution_count": 63,
   "id": "ed11e746",
   "metadata": {},
   "outputs": [],
   "source": [
    "# Label Tiers\n",
    "df['tier'] = ''\n",
    "\n",
    "### S Tier ###\n",
    "df.loc[(df['cluster']==2) & (df['seed']<=3) & (df['hhs_rank']<=4), 'tier'] = 'S'\n",
    "\n",
    "### A Tier ###\n",
    "df.loc[(df['cluster']==2) & (df['seed']<=3) & (df['hhs_rank']>4) & (df['hhs_rank']<=10), 'tier'] = 'A'\n",
    "df.loc[(df['cluster']==4) & (df['seed']<=3) & (df['hhs_rank']<=10), 'tier'] = 'A'\n",
    "\n",
    "### B Tier ###\n",
    "df.loc[(df['cluster']==4) & (df['hhs_rank']>10) & (df['hhs_rank']<=17), 'tier'] = 'B'\n",
    "df.loc[(df['cluster']==0) & (df['hhs_rank']<=17), 'tier'] = 'B'\n",
    "df.loc[(df['cluster']==1) & (df['hhs_rank']<=14), 'tier'] = 'B'\n",
    "df.loc[(df['cluster']==4) & (df['seed']>3) & (df['hhs_rank']<=10), 'tier'] = 'A'\n",
    "\n",
    "### C Tier ###\n",
    "df.loc[(df['cluster']==2) & (df['seed']<=3) & (df['hhs_rank']>10), 'tier'] = 'C'\n",
    "df.loc[(df['cluster']==2) & (df['seed']>3), 'tier'] = 'C'\n",
    "df.loc[(df['cluster']==0) & (df['seed']<=6) & (df['hhs_rank']>17), 'tier'] = 'C'\n",
    "df.loc[(df['cluster']==1) & (df['seed']<=6) & (df['hhs_rank']>14), 'tier'] = 'C'\n",
    "df.loc[(df['cluster']==4) & (df['seed']<=6) & (df['hhs_rank']>17), 'tier'] = 'C'\n",
    "\n",
    "### D Tier ###\n",
    "df.loc[(df['cluster']==0) & (df['seed']>6) & (df['hhs_rank']>17) & (df['hhs_rank']<=50), 'tier'] = 'D'\n",
    "df.loc[(df['cluster']==1) & (df['seed']>6) & (df['hhs_rank']>14) & (df['hhs_rank']<=50), 'tier'] = 'D'\n",
    "df.loc[(df['cluster']==4) & (df['seed']>6) & (df['hhs_rank']>17) & (df['hhs_rank']<=50), 'tier'] = 'D'\n",
    "\n",
    "### F Tier ###\n",
    "df.loc[(df['cluster']==3), 'tier'] = 'F'\n",
    "df.loc[(df['cluster']==0) & (df['hhs_rank']>50), 'tier'] = 'F'\n",
    "df.loc[(df['cluster']==1) & (df['hhs_rank']>50), 'tier'] = 'F'\n",
    "df.loc[(df['cluster']==4) & (df['hhs_rank']>50), 'tier'] = 'F'"
   ]
  },
  {
   "cell_type": "code",
   "execution_count": 64,
   "id": "043b07f1-4eed-4441-807d-c48a68091ad4",
   "metadata": {},
   "outputs": [
    {
     "data": {
      "text/html": [
       "<div>\n",
       "<style scoped>\n",
       "    .dataframe tbody tr th:only-of-type {\n",
       "        vertical-align: middle;\n",
       "    }\n",
       "\n",
       "    .dataframe tbody tr th {\n",
       "        vertical-align: top;\n",
       "    }\n",
       "\n",
       "    .dataframe thead th {\n",
       "        text-align: right;\n",
       "    }\n",
       "</style>\n",
       "<table border=\"1\" class=\"dataframe\">\n",
       "  <thead>\n",
       "    <tr style=\"text-align: right;\">\n",
       "      <th>tier</th>\n",
       "      <th>A</th>\n",
       "      <th>B</th>\n",
       "      <th>C</th>\n",
       "      <th>D</th>\n",
       "      <th>F</th>\n",
       "      <th>S</th>\n",
       "    </tr>\n",
       "    <tr>\n",
       "      <th>finish</th>\n",
       "      <th></th>\n",
       "      <th></th>\n",
       "      <th></th>\n",
       "      <th></th>\n",
       "      <th></th>\n",
       "      <th></th>\n",
       "    </tr>\n",
       "  </thead>\n",
       "  <tbody>\n",
       "    <tr>\n",
       "      <th>Champion</th>\n",
       "      <td>0</td>\n",
       "      <td>0</td>\n",
       "      <td>0</td>\n",
       "      <td>0</td>\n",
       "      <td>0</td>\n",
       "      <td>7</td>\n",
       "    </tr>\n",
       "    <tr>\n",
       "      <th>Elite Eight</th>\n",
       "      <td>9</td>\n",
       "      <td>8</td>\n",
       "      <td>2</td>\n",
       "      <td>3</td>\n",
       "      <td>0</td>\n",
       "      <td>6</td>\n",
       "    </tr>\n",
       "    <tr>\n",
       "      <th>Final Four</th>\n",
       "      <td>5</td>\n",
       "      <td>1</td>\n",
       "      <td>0</td>\n",
       "      <td>0</td>\n",
       "      <td>0</td>\n",
       "      <td>8</td>\n",
       "    </tr>\n",
       "    <tr>\n",
       "      <th>First Round</th>\n",
       "      <td>1</td>\n",
       "      <td>8</td>\n",
       "      <td>13</td>\n",
       "      <td>105</td>\n",
       "      <td>110</td>\n",
       "      <td>0</td>\n",
       "    </tr>\n",
       "    <tr>\n",
       "      <th>Runner Up</th>\n",
       "      <td>3</td>\n",
       "      <td>1</td>\n",
       "      <td>0</td>\n",
       "      <td>0</td>\n",
       "      <td>0</td>\n",
       "      <td>3</td>\n",
       "    </tr>\n",
       "    <tr>\n",
       "      <th>Second Round</th>\n",
       "      <td>5</td>\n",
       "      <td>13</td>\n",
       "      <td>33</td>\n",
       "      <td>51</td>\n",
       "      <td>7</td>\n",
       "      <td>2</td>\n",
       "    </tr>\n",
       "    <tr>\n",
       "      <th>Sweet 16</th>\n",
       "      <td>15</td>\n",
       "      <td>16</td>\n",
       "      <td>16</td>\n",
       "      <td>7</td>\n",
       "      <td>0</td>\n",
       "      <td>2</td>\n",
       "    </tr>\n",
       "  </tbody>\n",
       "</table>\n",
       "</div>"
      ],
      "text/plain": [
       "tier           A   B   C    D    F  S\n",
       "finish                               \n",
       "Champion       0   0   0    0    0  7\n",
       "Elite Eight    9   8   2    3    0  6\n",
       "Final Four     5   1   0    0    0  8\n",
       "First Round    1   8  13  105  110  0\n",
       "Runner Up      3   1   0    0    0  3\n",
       "Second Round   5  13  33   51    7  2\n",
       "Sweet 16      15  16  16    7    0  2"
      ]
     },
     "execution_count": 64,
     "metadata": {},
     "output_type": "execute_result"
    }
   ],
   "source": [
    "pd.crosstab(index=df['finish'], columns=df['tier'])"
   ]
  },
  {
   "cell_type": "code",
   "execution_count": 65,
   "id": "02b11911-ba12-4d48-ab6d-2784fd1548b6",
   "metadata": {},
   "outputs": [
    {
     "name": "stderr",
     "output_type": "stream",
     "text": [
      "/var/folders/nd/7h3lcr8d2cjbxfmfqghczqz40000gn/T/ipykernel_3406/2806126528.py:4: SettingWithCopyWarning:\n",
      "\n",
      "\n",
      "A value is trying to be set on a copy of a slice from a DataFrame.\n",
      "Try using .loc[row_indexer,col_indexer] = value instead\n",
      "\n",
      "See the caveats in the documentation: https://pandas.pydata.org/pandas-docs/stable/user_guide/indexing.html#returning-a-view-versus-a-copy\n",
      "\n",
      "/var/folders/nd/7h3lcr8d2cjbxfmfqghczqz40000gn/T/ipykernel_3406/2806126528.py:7: SettingWithCopyWarning:\n",
      "\n",
      "\n",
      "A value is trying to be set on a copy of a slice from a DataFrame.\n",
      "Try using .loc[row_indexer,col_indexer] = value instead\n",
      "\n",
      "See the caveats in the documentation: https://pandas.pydata.org/pandas-docs/stable/user_guide/indexing.html#returning-a-view-versus-a-copy\n",
      "\n",
      "/var/folders/nd/7h3lcr8d2cjbxfmfqghczqz40000gn/T/ipykernel_3406/2806126528.py:8: SettingWithCopyWarning:\n",
      "\n",
      "\n",
      "A value is trying to be set on a copy of a slice from a DataFrame.\n",
      "Try using .loc[row_indexer,col_indexer] = value instead\n",
      "\n",
      "See the caveats in the documentation: https://pandas.pydata.org/pandas-docs/stable/user_guide/indexing.html#returning-a-view-versus-a-copy\n",
      "\n",
      "/var/folders/nd/7h3lcr8d2cjbxfmfqghczqz40000gn/T/ipykernel_3406/2806126528.py:9: SettingWithCopyWarning:\n",
      "\n",
      "\n",
      "A value is trying to be set on a copy of a slice from a DataFrame.\n",
      "Try using .loc[row_indexer,col_indexer] = value instead\n",
      "\n",
      "See the caveats in the documentation: https://pandas.pydata.org/pandas-docs/stable/user_guide/indexing.html#returning-a-view-versus-a-copy\n",
      "\n"
     ]
    },
    {
     "data": {
      "text/html": [
       "<div>\n",
       "<style scoped>\n",
       "    .dataframe tbody tr th:only-of-type {\n",
       "        vertical-align: middle;\n",
       "    }\n",
       "\n",
       "    .dataframe tbody tr th {\n",
       "        vertical-align: top;\n",
       "    }\n",
       "\n",
       "    .dataframe thead th {\n",
       "        text-align: right;\n",
       "    }\n",
       "</style>\n",
       "<table border=\"1\" class=\"dataframe\">\n",
       "  <thead>\n",
       "    <tr style=\"text-align: right;\">\n",
       "      <th></th>\n",
       "      <th>Team</th>\n",
       "      <th>Cluster</th>\n",
       "      <th>Tier</th>\n",
       "      <th>Finish</th>\n",
       "      <th>Overall</th>\n",
       "      <th>Offense</th>\n",
       "      <th>Defense</th>\n",
       "    </tr>\n",
       "  </thead>\n",
       "  <tbody>\n",
       "    <tr>\n",
       "      <th>0</th>\n",
       "      <td>2017 Connecticut</td>\n",
       "      <td>2</td>\n",
       "      <td>S</td>\n",
       "      <td>Final Four</td>\n",
       "      <td>9.7000</td>\n",
       "      <td>10.0000</td>\n",
       "      <td>9.3000</td>\n",
       "    </tr>\n",
       "    <tr>\n",
       "      <th>1</th>\n",
       "      <td>2017 Baylor</td>\n",
       "      <td>2</td>\n",
       "      <td>S</td>\n",
       "      <td>Elite Eight</td>\n",
       "      <td>9.0000</td>\n",
       "      <td>9.0000</td>\n",
       "      <td>8.9000</td>\n",
       "    </tr>\n",
       "    <tr>\n",
       "      <th>2</th>\n",
       "      <td>2017 South Carolina</td>\n",
       "      <td>2</td>\n",
       "      <td>S</td>\n",
       "      <td>Champion</td>\n",
       "      <td>7.6000</td>\n",
       "      <td>7.7000</td>\n",
       "      <td>7.5000</td>\n",
       "    </tr>\n",
       "    <tr>\n",
       "      <th>3</th>\n",
       "      <td>2017 Notre Dame</td>\n",
       "      <td>2</td>\n",
       "      <td>S</td>\n",
       "      <td>Elite Eight</td>\n",
       "      <td>7.6000</td>\n",
       "      <td>8.2000</td>\n",
       "      <td>6.6000</td>\n",
       "    </tr>\n",
       "    <tr>\n",
       "      <th>4</th>\n",
       "      <td>2017 Mississippi St.</td>\n",
       "      <td>2</td>\n",
       "      <td>A</td>\n",
       "      <td>Runner Up</td>\n",
       "      <td>7.4000</td>\n",
       "      <td>7.4000</td>\n",
       "      <td>7.5000</td>\n",
       "    </tr>\n",
       "  </tbody>\n",
       "</table>\n",
       "</div>"
      ],
      "text/plain": [
       "                   Team  Cluster Tier       Finish  Overall  Offense  Defense\n",
       "0      2017 Connecticut        2    S   Final Four   9.7000  10.0000   9.3000\n",
       "1           2017 Baylor        2    S  Elite Eight   9.0000   9.0000   8.9000\n",
       "2   2017 South Carolina        2    S     Champion   7.6000   7.7000   7.5000\n",
       "3       2017 Notre Dame        2    S  Elite Eight   7.6000   8.2000   6.6000\n",
       "4  2017 Mississippi St.        2    A    Runner Up   7.4000   7.4000   7.5000"
      ]
     },
     "execution_count": 65,
     "metadata": {},
     "output_type": "execute_result"
    }
   ],
   "source": [
    "df_final = df[['team_id', 'cluster', 'tier', 'finish']]\n",
    "df_final.columns = ['Team', 'Cluster', 'Tier', 'Finish']\n",
    "df_scaled = df[['hhs_net_rtg', 'hhs_off_rtg', 'hhs_def_rtg']]\n",
    "df_scaled['hhs_def_rtg'] = 120-df_scaled['hhs_def_rtg']\n",
    "scaler = MinMaxScaler(feature_range=(0, 10))\n",
    "df_scaled = pd.DataFrame(np.round(scaler.fit_transform(df_scaled), 1), columns=df_scaled.columns)\n",
    "df_final['Overall'] = df_scaled['hhs_net_rtg']\n",
    "df_final['Offense'] = df_scaled['hhs_off_rtg']\n",
    "df_final['Defense'] = df_scaled['hhs_def_rtg']\n",
    "df_final.head()"
   ]
  },
  {
   "cell_type": "code",
   "execution_count": 66,
   "id": "0bcf13d6-8359-4d1c-8795-70632e3f305d",
   "metadata": {},
   "outputs": [],
   "source": [
    "df_final.to_csv('tiers_women.csv')"
   ]
  },
  {
   "cell_type": "code",
   "execution_count": null,
   "id": "8e5aea17-bc7b-4127-b804-e28f055a101d",
   "metadata": {},
   "outputs": [],
   "source": []
  }
 ],
 "metadata": {
  "kernelspec": {
   "display_name": "Python 3 (ipykernel)",
   "language": "python",
   "name": "python3"
  },
  "language_info": {
   "codemirror_mode": {
    "name": "ipython",
    "version": 3
   },
   "file_extension": ".py",
   "mimetype": "text/x-python",
   "name": "python",
   "nbconvert_exporter": "python",
   "pygments_lexer": "ipython3",
   "version": "3.8.20"
  }
 },
 "nbformat": 4,
 "nbformat_minor": 5
}
