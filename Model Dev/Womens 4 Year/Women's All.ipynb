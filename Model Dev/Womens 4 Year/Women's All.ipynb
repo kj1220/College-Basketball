{
 "cells": [
  {
   "cell_type": "code",
   "execution_count": 1,
   "id": "d12de5d0-90dd-420d-b5a7-dc43b4fe7919",
   "metadata": {},
   "outputs": [
    {
     "name": "stdout",
     "output_type": "stream",
     "text": [
      "(252, 27)\n"
     ]
    },
    {
     "data": {
      "text/html": [
       "<div>\n",
       "<style scoped>\n",
       "    .dataframe tbody tr th:only-of-type {\n",
       "        vertical-align: middle;\n",
       "    }\n",
       "\n",
       "    .dataframe tbody tr th {\n",
       "        vertical-align: top;\n",
       "    }\n",
       "\n",
       "    .dataframe thead th {\n",
       "        text-align: right;\n",
       "    }\n",
       "</style>\n",
       "<table border=\"1\" class=\"dataframe\">\n",
       "  <thead>\n",
       "    <tr style=\"text-align: right;\">\n",
       "      <th></th>\n",
       "      <th>year</th>\n",
       "      <th>region</th>\n",
       "      <th>round</th>\n",
       "      <th>high_bracket_seed</th>\n",
       "      <th>high_team_id</th>\n",
       "      <th>low_bracket_seed</th>\n",
       "      <th>low_team_id</th>\n",
       "      <th>win</th>\n",
       "      <th>adj_oe</th>\n",
       "      <th>adj_de</th>\n",
       "      <th>...</th>\n",
       "      <th>ftr</th>\n",
       "      <th>ftrd</th>\n",
       "      <th>2p%</th>\n",
       "      <th>2p%d</th>\n",
       "      <th>3p%</th>\n",
       "      <th>3p%d</th>\n",
       "      <th>3pr</th>\n",
       "      <th>3prd</th>\n",
       "      <th>adj_tempo</th>\n",
       "      <th>wab</th>\n",
       "    </tr>\n",
       "  </thead>\n",
       "  <tbody>\n",
       "    <tr>\n",
       "      <th>0</th>\n",
       "      <td>2021</td>\n",
       "      <td>East</td>\n",
       "      <td>First Round</td>\n",
       "      <td>1</td>\n",
       "      <td>2021 Stanford</td>\n",
       "      <td>16</td>\n",
       "      <td>2021 Utah Valley</td>\n",
       "      <td>1</td>\n",
       "      <td>15.9000</td>\n",
       "      <td>40.3000</td>\n",
       "      <td>...</td>\n",
       "      <td>-0.4000</td>\n",
       "      <td>-6.1000</td>\n",
       "      <td>11.0000</td>\n",
       "      <td>-10.9000</td>\n",
       "      <td>5.4000</td>\n",
       "      <td>-3.9000</td>\n",
       "      <td>3.4000</td>\n",
       "      <td>0.3000</td>\n",
       "      <td>4.9000</td>\n",
       "      <td>17.0000</td>\n",
       "    </tr>\n",
       "    <tr>\n",
       "      <th>1</th>\n",
       "      <td>2021</td>\n",
       "      <td>East</td>\n",
       "      <td>Second Round</td>\n",
       "      <td>1</td>\n",
       "      <td>2021 Stanford</td>\n",
       "      <td>8</td>\n",
       "      <td>2021 Oklahoma St.</td>\n",
       "      <td>1</td>\n",
       "      <td>0.9000</td>\n",
       "      <td>25.5000</td>\n",
       "      <td>...</td>\n",
       "      <td>-0.3000</td>\n",
       "      <td>1.8000</td>\n",
       "      <td>14.4000</td>\n",
       "      <td>-9.7000</td>\n",
       "      <td>2.2000</td>\n",
       "      <td>-8.4000</td>\n",
       "      <td>5.3000</td>\n",
       "      <td>9.2000</td>\n",
       "      <td>-0.3000</td>\n",
       "      <td>8.7000</td>\n",
       "    </tr>\n",
       "    <tr>\n",
       "      <th>2</th>\n",
       "      <td>2021</td>\n",
       "      <td>East</td>\n",
       "      <td>Sweet 16</td>\n",
       "      <td>1</td>\n",
       "      <td>2021 Stanford</td>\n",
       "      <td>5</td>\n",
       "      <td>2021 Missouri St.</td>\n",
       "      <td>1</td>\n",
       "      <td>2.0000</td>\n",
       "      <td>26.6000</td>\n",
       "      <td>...</td>\n",
       "      <td>-7.2000</td>\n",
       "      <td>-2.3000</td>\n",
       "      <td>7.8000</td>\n",
       "      <td>-10.3000</td>\n",
       "      <td>7.3000</td>\n",
       "      <td>-4.0000</td>\n",
       "      <td>0.2000</td>\n",
       "      <td>7.1000</td>\n",
       "      <td>0.5000</td>\n",
       "      <td>8.3000</td>\n",
       "    </tr>\n",
       "    <tr>\n",
       "      <th>3</th>\n",
       "      <td>2021</td>\n",
       "      <td>East</td>\n",
       "      <td>Elite Eight</td>\n",
       "      <td>1</td>\n",
       "      <td>2021 Stanford</td>\n",
       "      <td>2</td>\n",
       "      <td>2021 Louisville</td>\n",
       "      <td>1</td>\n",
       "      <td>3.8000</td>\n",
       "      <td>13.3000</td>\n",
       "      <td>...</td>\n",
       "      <td>-8.9000</td>\n",
       "      <td>3.1000</td>\n",
       "      <td>10.4000</td>\n",
       "      <td>-16.6000</td>\n",
       "      <td>9.5000</td>\n",
       "      <td>-9.1000</td>\n",
       "      <td>6.8000</td>\n",
       "      <td>1.8000</td>\n",
       "      <td>0.6000</td>\n",
       "      <td>5.0000</td>\n",
       "    </tr>\n",
       "    <tr>\n",
       "      <th>4</th>\n",
       "      <td>2021</td>\n",
       "      <td>East</td>\n",
       "      <td>Sweet 16</td>\n",
       "      <td>6</td>\n",
       "      <td>2021 Oregon</td>\n",
       "      <td>2</td>\n",
       "      <td>2021 Louisville</td>\n",
       "      <td>0</td>\n",
       "      <td>-3.3000</td>\n",
       "      <td>3.4000</td>\n",
       "      <td>...</td>\n",
       "      <td>-9.7000</td>\n",
       "      <td>3.2000</td>\n",
       "      <td>7.6000</td>\n",
       "      <td>-11.7000</td>\n",
       "      <td>8.1000</td>\n",
       "      <td>-3.7000</td>\n",
       "      <td>4.0000</td>\n",
       "      <td>-0.6000</td>\n",
       "      <td>-0.9000</td>\n",
       "      <td>-3.7000</td>\n",
       "    </tr>\n",
       "  </tbody>\n",
       "</table>\n",
       "<p>5 rows × 27 columns</p>\n",
       "</div>"
      ],
      "text/plain": [
       "   year region         round  high_bracket_seed   high_team_id  \\\n",
       "0  2021   East   First Round                  1  2021 Stanford   \n",
       "1  2021   East  Second Round                  1  2021 Stanford   \n",
       "2  2021   East      Sweet 16                  1  2021 Stanford   \n",
       "3  2021   East   Elite Eight                  1  2021 Stanford   \n",
       "4  2021   East      Sweet 16                  6    2021 Oregon   \n",
       "\n",
       "   low_bracket_seed        low_team_id  win  adj_oe  adj_de  ...     ftr  \\\n",
       "0                16   2021 Utah Valley    1 15.9000 40.3000  ... -0.4000   \n",
       "1                 8  2021 Oklahoma St.    1  0.9000 25.5000  ... -0.3000   \n",
       "2                 5  2021 Missouri St.    1  2.0000 26.6000  ... -7.2000   \n",
       "3                 2    2021 Louisville    1  3.8000 13.3000  ... -8.9000   \n",
       "4                 2    2021 Louisville    0 -3.3000  3.4000  ... -9.7000   \n",
       "\n",
       "     ftrd     2p%     2p%d    3p%    3p%d    3pr    3prd  adj_tempo     wab  \n",
       "0 -6.1000 11.0000 -10.9000 5.4000 -3.9000 3.4000  0.3000     4.9000 17.0000  \n",
       "1  1.8000 14.4000  -9.7000 2.2000 -8.4000 5.3000  9.2000    -0.3000  8.7000  \n",
       "2 -2.3000  7.8000 -10.3000 7.3000 -4.0000 0.2000  7.1000     0.5000  8.3000  \n",
       "3  3.1000 10.4000 -16.6000 9.5000 -9.1000 6.8000  1.8000     0.6000  5.0000  \n",
       "4  3.2000  7.6000 -11.7000 8.1000 -3.7000 4.0000 -0.6000    -0.9000 -3.7000  \n",
       "\n",
       "[5 rows x 27 columns]"
      ]
     },
     "execution_count": 1,
     "metadata": {},
     "output_type": "execute_result"
    }
   ],
   "source": [
    "### Setup Environment ###\n",
    "import numpy as np\n",
    "import pandas as pd\n",
    "import plotly_express as px\n",
    "import plotly.graph_objects as go\n",
    "import matplotlib.pyplot as plt\n",
    "import seaborn as sns\n",
    "from sklearn.preprocessing import StandardScaler, MinMaxScaler\n",
    "from scipy.stats import chi2_contingency\n",
    "from mlxtend.feature_selection import ExhaustiveFeatureSelector as EFS\n",
    "from sklearn.feature_selection import f_classif\n",
    "from sklearn.feature_selection import mutual_info_regression\n",
    "from sklearn.feature_selection import RFE\n",
    "from sklearn.linear_model import LogisticRegression\n",
    "from sklearn.tree import DecisionTreeClassifier\n",
    "from sklearn.ensemble import ExtraTreesClassifier\n",
    "from sklearn.metrics import f1_score\n",
    "from sklearn.ensemble import RandomForestClassifier\n",
    "import statsmodels.api as sm\n",
    "from itertools import combinations\n",
    "\n",
    "np.set_printoptions(suppress=True, formatter={'float_kind':'{:0.4f}'.format})\n",
    "pd.set_option('display.float_format', lambda x: '%.4f' % x)\n",
    "pd.set_option('display.max_rows', None)\n",
    "\n",
    "from sklearn.model_selection import train_test_split\n",
    "from sklearn.feature_selection import mutual_info_classif, f_classif, SelectKBest, SelectFromModel, SequentialFeatureSelector\n",
    "from sklearn.linear_model import Lasso, LogisticRegression\n",
    "from sklearn.tree import DecisionTreeClassifier\n",
    "from sklearn.ensemble import RandomForestRegressor, RandomForestClassifier\n",
    "from sklearn.metrics import roc_auc_score, r2_score\n",
    "from sklearn.preprocessing import StandardScaler\n",
    "\n",
    "df = pd.read_csv('womens_matchups.csv')\n",
    "#df = df[df['round'] == 'First Round']\n",
    "print(df.shape)\n",
    "df.head()"
   ]
  },
  {
   "cell_type": "code",
   "execution_count": 2,
   "id": "02d33038-c26e-44f3-b909-dee4b8fdd10c",
   "metadata": {},
   "outputs": [
    {
     "data": {
      "text/plain": [
       "1   0.7222\n",
       "0   0.2778\n",
       "Name: win, dtype: float64"
      ]
     },
     "execution_count": 2,
     "metadata": {},
     "output_type": "execute_result"
    }
   ],
   "source": [
    "df['win'].value_counts(normalize=True)"
   ]
  },
  {
   "cell_type": "code",
   "execution_count": 3,
   "id": "e332d18b-c8f7-44ce-8185-3d155ecb77d0",
   "metadata": {},
   "outputs": [
    {
     "data": {
      "text/plain": [
       "Index(['year', 'region', 'round', 'high_bracket_seed', 'high_team_id',\n",
       "       'low_bracket_seed', 'low_team_id', 'win', 'adj_oe', 'adj_de', 'barthag',\n",
       "       'efg%', 'efgd%', 'tor', 'tord', 'orb%', 'drb%', 'ftr', 'ftrd', '2p%',\n",
       "       '2p%d', '3p%', '3p%d', '3pr', '3prd', 'adj_tempo', 'wab'],\n",
       "      dtype='object')"
      ]
     },
     "execution_count": 3,
     "metadata": {},
     "output_type": "execute_result"
    }
   ],
   "source": [
    "df.columns"
   ]
  },
  {
   "cell_type": "code",
   "execution_count": 4,
   "id": "f13f418b-2dfa-4715-bb3f-ab9a6e4eb764",
   "metadata": {},
   "outputs": [],
   "source": [
    "eda_df = df[[\n",
    "    'win',\n",
    "    'adj_oe', \n",
    "    'adj_de', \n",
    "    'barthag',\n",
    "    'efg%', \n",
    "    'efgd%', \n",
    "    'tor', \n",
    "    'tord', \n",
    "    'orb%', \n",
    "    'drb%', \n",
    "    'ftr', \n",
    "    'ftrd',\n",
    "    '2p%', \n",
    "    '2p%d', \n",
    "    '3p%', \n",
    "    '3p%d', \n",
    "    '3pr', \n",
    "    '3prd', \n",
    "    'adj_tempo', \n",
    "    'wab']]"
   ]
  },
  {
   "cell_type": "code",
   "execution_count": 19,
   "id": "62109f62-1f36-417e-a5a5-b3fbe8909576",
   "metadata": {},
   "outputs": [
    {
     "name": "stdout",
     "output_type": "stream",
     "text": [
      "(191, 20)\n",
      "(61, 20)\n"
     ]
    }
   ],
   "source": [
    "# Split dataset into a train and test set\n",
    "X = eda_df.iloc[:,1:]\n",
    "Y = eda_df['win']\n",
    "\n",
    "X_train, X_test, y_train, y_test = train_test_split(X, Y, test_size=0.24, random_state=42)\n",
    "\n",
    "train_df = pd.concat([X_train, y_train], axis=1)\n",
    "test_df = pd.concat([X_test, y_test], axis=1)\n",
    "\n",
    "print(train_df.shape)\n",
    "print(test_df.shape)"
   ]
  },
  {
   "cell_type": "markdown",
   "id": "f716ac10-bd07-4f3a-9bfc-1412b09f4e66",
   "metadata": {},
   "source": [
    "### I. Numerical Tests"
   ]
  },
  {
   "cell_type": "code",
   "execution_count": 20,
   "id": "0cda4eca-2a5e-4e54-9220-335362166637",
   "metadata": {},
   "outputs": [
    {
     "name": "stdout",
     "output_type": "stream",
     "text": [
      "adj_oe     36.3700\n",
      "adj_de     43.1900\n",
      "barthag    35.6400\n",
      "orb%       10.5400\n",
      "2p%d       11.2500\n",
      "3pr        15.9100\n",
      "wab        47.8100\n",
      "win       100.0000\n",
      "Name: win, dtype: float64\n"
     ]
    }
   ],
   "source": [
    "corr_matrix = train_df.corr()\n",
    "correlation_with_target = round(abs(corr_matrix['win'])*100,2)\n",
    "correlation_with_target = correlation_with_target[correlation_with_target >= 10]\n",
    "print(correlation_with_target)"
   ]
  },
  {
   "cell_type": "code",
   "execution_count": 21,
   "id": "eed75435-e14a-43b2-8a20-e557de2734e3",
   "metadata": {},
   "outputs": [
    {
     "data": {
      "text/html": [
       "<div>\n",
       "<style scoped>\n",
       "    .dataframe tbody tr th:only-of-type {\n",
       "        vertical-align: middle;\n",
       "    }\n",
       "\n",
       "    .dataframe tbody tr th {\n",
       "        vertical-align: top;\n",
       "    }\n",
       "\n",
       "    .dataframe thead th {\n",
       "        text-align: right;\n",
       "    }\n",
       "</style>\n",
       "<table border=\"1\" class=\"dataframe\">\n",
       "  <thead>\n",
       "    <tr style=\"text-align: right;\">\n",
       "      <th></th>\n",
       "      <th>feature</th>\n",
       "      <th>f_values</th>\n",
       "      <th>p_values</th>\n",
       "      <th>mutual_info</th>\n",
       "    </tr>\n",
       "  </thead>\n",
       "  <tbody>\n",
       "    <tr>\n",
       "      <th>0</th>\n",
       "      <td>adj_oe</td>\n",
       "      <td>28.8184</td>\n",
       "      <td>0.0000</td>\n",
       "      <td>0.0730</td>\n",
       "    </tr>\n",
       "    <tr>\n",
       "      <th>1</th>\n",
       "      <td>adj_de</td>\n",
       "      <td>43.3472</td>\n",
       "      <td>0.0000</td>\n",
       "      <td>0.1344</td>\n",
       "    </tr>\n",
       "    <tr>\n",
       "      <th>2</th>\n",
       "      <td>barthag</td>\n",
       "      <td>27.5080</td>\n",
       "      <td>0.0000</td>\n",
       "      <td>0.1600</td>\n",
       "    </tr>\n",
       "    <tr>\n",
       "      <th>3</th>\n",
       "      <td>efg%</td>\n",
       "      <td>0.0397</td>\n",
       "      <td>0.8422</td>\n",
       "      <td>0.0000</td>\n",
       "    </tr>\n",
       "    <tr>\n",
       "      <th>4</th>\n",
       "      <td>efgd%</td>\n",
       "      <td>1.5995</td>\n",
       "      <td>0.2075</td>\n",
       "      <td>0.0000</td>\n",
       "    </tr>\n",
       "    <tr>\n",
       "      <th>5</th>\n",
       "      <td>tor</td>\n",
       "      <td>0.0608</td>\n",
       "      <td>0.8054</td>\n",
       "      <td>0.0000</td>\n",
       "    </tr>\n",
       "    <tr>\n",
       "      <th>6</th>\n",
       "      <td>tord</td>\n",
       "      <td>0.5595</td>\n",
       "      <td>0.4554</td>\n",
       "      <td>0.0000</td>\n",
       "    </tr>\n",
       "    <tr>\n",
       "      <th>7</th>\n",
       "      <td>orb%</td>\n",
       "      <td>2.1227</td>\n",
       "      <td>0.1468</td>\n",
       "      <td>0.0261</td>\n",
       "    </tr>\n",
       "    <tr>\n",
       "      <th>8</th>\n",
       "      <td>drb%</td>\n",
       "      <td>0.4190</td>\n",
       "      <td>0.5182</td>\n",
       "      <td>0.0000</td>\n",
       "    </tr>\n",
       "    <tr>\n",
       "      <th>9</th>\n",
       "      <td>ftr</td>\n",
       "      <td>0.0124</td>\n",
       "      <td>0.9116</td>\n",
       "      <td>0.0000</td>\n",
       "    </tr>\n",
       "    <tr>\n",
       "      <th>10</th>\n",
       "      <td>ftrd</td>\n",
       "      <td>0.1256</td>\n",
       "      <td>0.7234</td>\n",
       "      <td>0.0000</td>\n",
       "    </tr>\n",
       "    <tr>\n",
       "      <th>11</th>\n",
       "      <td>2p%</td>\n",
       "      <td>0.1773</td>\n",
       "      <td>0.6742</td>\n",
       "      <td>0.0112</td>\n",
       "    </tr>\n",
       "    <tr>\n",
       "      <th>12</th>\n",
       "      <td>2p%d</td>\n",
       "      <td>2.4217</td>\n",
       "      <td>0.1213</td>\n",
       "      <td>0.0000</td>\n",
       "    </tr>\n",
       "    <tr>\n",
       "      <th>13</th>\n",
       "      <td>3p%</td>\n",
       "      <td>0.2034</td>\n",
       "      <td>0.6525</td>\n",
       "      <td>0.0000</td>\n",
       "    </tr>\n",
       "    <tr>\n",
       "      <th>14</th>\n",
       "      <td>3p%d</td>\n",
       "      <td>0.0531</td>\n",
       "      <td>0.8180</td>\n",
       "      <td>0.0000</td>\n",
       "    </tr>\n",
       "    <tr>\n",
       "      <th>15</th>\n",
       "      <td>3pr</td>\n",
       "      <td>4.9109</td>\n",
       "      <td>0.0279</td>\n",
       "      <td>0.0187</td>\n",
       "    </tr>\n",
       "    <tr>\n",
       "      <th>16</th>\n",
       "      <td>3prd</td>\n",
       "      <td>0.6792</td>\n",
       "      <td>0.4109</td>\n",
       "      <td>0.0000</td>\n",
       "    </tr>\n",
       "    <tr>\n",
       "      <th>17</th>\n",
       "      <td>adj_tempo</td>\n",
       "      <td>1.8346</td>\n",
       "      <td>0.1772</td>\n",
       "      <td>0.0000</td>\n",
       "    </tr>\n",
       "    <tr>\n",
       "      <th>18</th>\n",
       "      <td>wab</td>\n",
       "      <td>56.0107</td>\n",
       "      <td>0.0000</td>\n",
       "      <td>0.1632</td>\n",
       "    </tr>\n",
       "  </tbody>\n",
       "</table>\n",
       "</div>"
      ],
      "text/plain": [
       "      feature  f_values  p_values  mutual_info\n",
       "0      adj_oe   28.8184    0.0000       0.0730\n",
       "1      adj_de   43.3472    0.0000       0.1344\n",
       "2     barthag   27.5080    0.0000       0.1600\n",
       "3        efg%    0.0397    0.8422       0.0000\n",
       "4       efgd%    1.5995    0.2075       0.0000\n",
       "5         tor    0.0608    0.8054       0.0000\n",
       "6        tord    0.5595    0.4554       0.0000\n",
       "7        orb%    2.1227    0.1468       0.0261\n",
       "8        drb%    0.4190    0.5182       0.0000\n",
       "9         ftr    0.0124    0.9116       0.0000\n",
       "10       ftrd    0.1256    0.7234       0.0000\n",
       "11        2p%    0.1773    0.6742       0.0112\n",
       "12       2p%d    2.4217    0.1213       0.0000\n",
       "13        3p%    0.2034    0.6525       0.0000\n",
       "14       3p%d    0.0531    0.8180       0.0000\n",
       "15        3pr    4.9109    0.0279       0.0187\n",
       "16       3prd    0.6792    0.4109       0.0000\n",
       "17  adj_tempo    1.8346    0.1772       0.0000\n",
       "18        wab   56.0107    0.0000       0.1632"
      ]
     },
     "execution_count": 21,
     "metadata": {},
     "output_type": "execute_result"
    }
   ],
   "source": [
    "X = train_df.drop('win', axis=1)\n",
    "y = train_df['win']\n",
    "\n",
    "# ANOVA\n",
    "f_values, p_values = f_classif(X, y)\n",
    "# Mutual Information\n",
    "mi = mutual_info_regression(X, y)\n",
    "\n",
    "column_names = np.array(X.columns)\n",
    "stats_df = pd.DataFrame({\n",
    "    'feature': column_names,\n",
    "    'f_values': f_values,\n",
    "    'p_values': p_values,\n",
    "    'mutual_info': mi\n",
    "})\n",
    "stats_df"
   ]
  },
  {
   "cell_type": "code",
   "execution_count": 22,
   "id": "f7e81533-ab59-4bc8-9c2c-2dc40d314ef5",
   "metadata": {},
   "outputs": [
    {
     "data": {
      "text/html": [
       "<div>\n",
       "<style scoped>\n",
       "    .dataframe tbody tr th:only-of-type {\n",
       "        vertical-align: middle;\n",
       "    }\n",
       "\n",
       "    .dataframe tbody tr th {\n",
       "        vertical-align: top;\n",
       "    }\n",
       "\n",
       "    .dataframe thead th {\n",
       "        text-align: right;\n",
       "    }\n",
       "</style>\n",
       "<table border=\"1\" class=\"dataframe\">\n",
       "  <thead>\n",
       "    <tr style=\"text-align: right;\">\n",
       "      <th></th>\n",
       "      <th>feature</th>\n",
       "      <th>f_values</th>\n",
       "      <th>p_values</th>\n",
       "      <th>mutual_info</th>\n",
       "    </tr>\n",
       "  </thead>\n",
       "  <tbody>\n",
       "    <tr>\n",
       "      <th>0</th>\n",
       "      <td>adj_oe</td>\n",
       "      <td>28.8184</td>\n",
       "      <td>0.0000</td>\n",
       "      <td>0.0730</td>\n",
       "    </tr>\n",
       "    <tr>\n",
       "      <th>1</th>\n",
       "      <td>adj_de</td>\n",
       "      <td>43.3472</td>\n",
       "      <td>0.0000</td>\n",
       "      <td>0.1344</td>\n",
       "    </tr>\n",
       "    <tr>\n",
       "      <th>2</th>\n",
       "      <td>barthag</td>\n",
       "      <td>27.5080</td>\n",
       "      <td>0.0000</td>\n",
       "      <td>0.1600</td>\n",
       "    </tr>\n",
       "    <tr>\n",
       "      <th>18</th>\n",
       "      <td>wab</td>\n",
       "      <td>56.0107</td>\n",
       "      <td>0.0000</td>\n",
       "      <td>0.1632</td>\n",
       "    </tr>\n",
       "  </tbody>\n",
       "</table>\n",
       "</div>"
      ],
      "text/plain": [
       "    feature  f_values  p_values  mutual_info\n",
       "0    adj_oe   28.8184    0.0000       0.0730\n",
       "1    adj_de   43.3472    0.0000       0.1344\n",
       "2   barthag   27.5080    0.0000       0.1600\n",
       "18      wab   56.0107    0.0000       0.1632"
      ]
     },
     "execution_count": 22,
     "metadata": {},
     "output_type": "execute_result"
    }
   ],
   "source": [
    "stats_df[stats_df['mutual_info'] > .05]"
   ]
  },
  {
   "cell_type": "code",
   "execution_count": 23,
   "id": "de71f098-303d-49a4-b603-fd384c0d37c3",
   "metadata": {},
   "outputs": [
    {
     "data": {
      "text/html": [
       "<div>\n",
       "<style scoped>\n",
       "    .dataframe tbody tr th:only-of-type {\n",
       "        vertical-align: middle;\n",
       "    }\n",
       "\n",
       "    .dataframe tbody tr th {\n",
       "        vertical-align: top;\n",
       "    }\n",
       "\n",
       "    .dataframe thead th {\n",
       "        text-align: right;\n",
       "    }\n",
       "</style>\n",
       "<table border=\"1\" class=\"dataframe\">\n",
       "  <thead>\n",
       "    <tr style=\"text-align: right;\">\n",
       "      <th></th>\n",
       "      <th>feature</th>\n",
       "      <th>f_values</th>\n",
       "      <th>p_values</th>\n",
       "      <th>mutual_info</th>\n",
       "    </tr>\n",
       "  </thead>\n",
       "  <tbody>\n",
       "    <tr>\n",
       "      <th>0</th>\n",
       "      <td>adj_oe</td>\n",
       "      <td>28.8184</td>\n",
       "      <td>0.0000</td>\n",
       "      <td>0.0730</td>\n",
       "    </tr>\n",
       "    <tr>\n",
       "      <th>1</th>\n",
       "      <td>adj_de</td>\n",
       "      <td>43.3472</td>\n",
       "      <td>0.0000</td>\n",
       "      <td>0.1344</td>\n",
       "    </tr>\n",
       "    <tr>\n",
       "      <th>2</th>\n",
       "      <td>barthag</td>\n",
       "      <td>27.5080</td>\n",
       "      <td>0.0000</td>\n",
       "      <td>0.1600</td>\n",
       "    </tr>\n",
       "    <tr>\n",
       "      <th>15</th>\n",
       "      <td>3pr</td>\n",
       "      <td>4.9109</td>\n",
       "      <td>0.0279</td>\n",
       "      <td>0.0187</td>\n",
       "    </tr>\n",
       "    <tr>\n",
       "      <th>18</th>\n",
       "      <td>wab</td>\n",
       "      <td>56.0107</td>\n",
       "      <td>0.0000</td>\n",
       "      <td>0.1632</td>\n",
       "    </tr>\n",
       "  </tbody>\n",
       "</table>\n",
       "</div>"
      ],
      "text/plain": [
       "    feature  f_values  p_values  mutual_info\n",
       "0    adj_oe   28.8184    0.0000       0.0730\n",
       "1    adj_de   43.3472    0.0000       0.1344\n",
       "2   barthag   27.5080    0.0000       0.1600\n",
       "15      3pr    4.9109    0.0279       0.0187\n",
       "18      wab   56.0107    0.0000       0.1632"
      ]
     },
     "execution_count": 23,
     "metadata": {},
     "output_type": "execute_result"
    }
   ],
   "source": [
    "stats_df[stats_df['p_values'] < .05]"
   ]
  },
  {
   "cell_type": "code",
   "execution_count": 24,
   "id": "f76cd4ca-300d-49de-972b-0c45f86582ba",
   "metadata": {},
   "outputs": [
    {
     "data": {
      "text/html": [
       "<div>\n",
       "<style scoped>\n",
       "    .dataframe tbody tr th:only-of-type {\n",
       "        vertical-align: middle;\n",
       "    }\n",
       "\n",
       "    .dataframe tbody tr th {\n",
       "        vertical-align: top;\n",
       "    }\n",
       "\n",
       "    .dataframe thead th {\n",
       "        text-align: right;\n",
       "    }\n",
       "</style>\n",
       "<table border=\"1\" class=\"dataframe\">\n",
       "  <thead>\n",
       "    <tr style=\"text-align: right;\">\n",
       "      <th></th>\n",
       "      <th>feature</th>\n",
       "      <th>f_values</th>\n",
       "      <th>p_values</th>\n",
       "      <th>mutual_info</th>\n",
       "    </tr>\n",
       "  </thead>\n",
       "  <tbody>\n",
       "    <tr>\n",
       "      <th>0</th>\n",
       "      <td>adj_oe</td>\n",
       "      <td>28.8184</td>\n",
       "      <td>0.0000</td>\n",
       "      <td>0.0730</td>\n",
       "    </tr>\n",
       "    <tr>\n",
       "      <th>1</th>\n",
       "      <td>adj_de</td>\n",
       "      <td>43.3472</td>\n",
       "      <td>0.0000</td>\n",
       "      <td>0.1344</td>\n",
       "    </tr>\n",
       "    <tr>\n",
       "      <th>2</th>\n",
       "      <td>barthag</td>\n",
       "      <td>27.5080</td>\n",
       "      <td>0.0000</td>\n",
       "      <td>0.1600</td>\n",
       "    </tr>\n",
       "    <tr>\n",
       "      <th>18</th>\n",
       "      <td>wab</td>\n",
       "      <td>56.0107</td>\n",
       "      <td>0.0000</td>\n",
       "      <td>0.1632</td>\n",
       "    </tr>\n",
       "  </tbody>\n",
       "</table>\n",
       "</div>"
      ],
      "text/plain": [
       "    feature  f_values  p_values  mutual_info\n",
       "0    adj_oe   28.8184    0.0000       0.0730\n",
       "1    adj_de   43.3472    0.0000       0.1344\n",
       "2   barthag   27.5080    0.0000       0.1600\n",
       "18      wab   56.0107    0.0000       0.1632"
      ]
     },
     "execution_count": 24,
     "metadata": {},
     "output_type": "execute_result"
    }
   ],
   "source": [
    "stats_df[stats_df['f_values'] > 5]"
   ]
  },
  {
   "cell_type": "markdown",
   "id": "1727be76-a80c-4ff3-9574-1ee7107a4bef",
   "metadata": {},
   "source": [
    "### II. Wrapper Methods"
   ]
  },
  {
   "cell_type": "code",
   "execution_count": 25,
   "id": "799ed371-fd4b-42dd-b361-bef8b5e00c2e",
   "metadata": {},
   "outputs": [],
   "source": [
    "X_train = train_df.drop('win', axis=1)\n",
    "y_train = train_df['win']\n",
    "\n",
    "X_test = test_df.drop('win', axis=1)\n",
    "y_test = test_df['win']\n",
    "\n",
    "float64_columns = X_train.select_dtypes(include=['float64']).columns\n",
    "\n",
    "scaler = StandardScaler()\n",
    "\n",
    "X_train_scaled = X_train.copy()\n",
    "X_train_scaled[float64_columns] = scaler.fit_transform(X_train[float64_columns])\n",
    "\n",
    "X_test_scaled = X_test.copy()\n",
    "X_test_scaled[float64_columns] = scaler.transform(X_test[float64_columns])"
   ]
  },
  {
   "cell_type": "code",
   "execution_count": 26,
   "id": "35cd251d-2f1c-4afd-a460-8bd6ebcdac6c",
   "metadata": {},
   "outputs": [
    {
     "data": {
      "text/html": [
       "<style>#sk-container-id-2 {color: black;background-color: white;}#sk-container-id-2 pre{padding: 0;}#sk-container-id-2 div.sk-toggleable {background-color: white;}#sk-container-id-2 label.sk-toggleable__label {cursor: pointer;display: block;width: 100%;margin-bottom: 0;padding: 0.3em;box-sizing: border-box;text-align: center;}#sk-container-id-2 label.sk-toggleable__label-arrow:before {content: \"▸\";float: left;margin-right: 0.25em;color: #696969;}#sk-container-id-2 label.sk-toggleable__label-arrow:hover:before {color: black;}#sk-container-id-2 div.sk-estimator:hover label.sk-toggleable__label-arrow:before {color: black;}#sk-container-id-2 div.sk-toggleable__content {max-height: 0;max-width: 0;overflow: hidden;text-align: left;background-color: #f0f8ff;}#sk-container-id-2 div.sk-toggleable__content pre {margin: 0.2em;color: black;border-radius: 0.25em;background-color: #f0f8ff;}#sk-container-id-2 input.sk-toggleable__control:checked~div.sk-toggleable__content {max-height: 200px;max-width: 100%;overflow: auto;}#sk-container-id-2 input.sk-toggleable__control:checked~label.sk-toggleable__label-arrow:before {content: \"▾\";}#sk-container-id-2 div.sk-estimator input.sk-toggleable__control:checked~label.sk-toggleable__label {background-color: #d4ebff;}#sk-container-id-2 div.sk-label input.sk-toggleable__control:checked~label.sk-toggleable__label {background-color: #d4ebff;}#sk-container-id-2 input.sk-hidden--visually {border: 0;clip: rect(1px 1px 1px 1px);clip: rect(1px, 1px, 1px, 1px);height: 1px;margin: -1px;overflow: hidden;padding: 0;position: absolute;width: 1px;}#sk-container-id-2 div.sk-estimator {font-family: monospace;background-color: #f0f8ff;border: 1px dotted black;border-radius: 0.25em;box-sizing: border-box;margin-bottom: 0.5em;}#sk-container-id-2 div.sk-estimator:hover {background-color: #d4ebff;}#sk-container-id-2 div.sk-parallel-item::after {content: \"\";width: 100%;border-bottom: 1px solid gray;flex-grow: 1;}#sk-container-id-2 div.sk-label:hover label.sk-toggleable__label {background-color: #d4ebff;}#sk-container-id-2 div.sk-serial::before {content: \"\";position: absolute;border-left: 1px solid gray;box-sizing: border-box;top: 0;bottom: 0;left: 50%;z-index: 0;}#sk-container-id-2 div.sk-serial {display: flex;flex-direction: column;align-items: center;background-color: white;padding-right: 0.2em;padding-left: 0.2em;position: relative;}#sk-container-id-2 div.sk-item {position: relative;z-index: 1;}#sk-container-id-2 div.sk-parallel {display: flex;align-items: stretch;justify-content: center;background-color: white;position: relative;}#sk-container-id-2 div.sk-item::before, #sk-container-id-2 div.sk-parallel-item::before {content: \"\";position: absolute;border-left: 1px solid gray;box-sizing: border-box;top: 0;bottom: 0;left: 50%;z-index: -1;}#sk-container-id-2 div.sk-parallel-item {display: flex;flex-direction: column;z-index: 1;position: relative;background-color: white;}#sk-container-id-2 div.sk-parallel-item:first-child::after {align-self: flex-end;width: 50%;}#sk-container-id-2 div.sk-parallel-item:last-child::after {align-self: flex-start;width: 50%;}#sk-container-id-2 div.sk-parallel-item:only-child::after {width: 0;}#sk-container-id-2 div.sk-dashed-wrapped {border: 1px dashed gray;margin: 0 0.4em 0.5em 0.4em;box-sizing: border-box;padding-bottom: 0.4em;background-color: white;}#sk-container-id-2 div.sk-label label {font-family: monospace;font-weight: bold;display: inline-block;line-height: 1.2em;}#sk-container-id-2 div.sk-label-container {text-align: center;}#sk-container-id-2 div.sk-container {/* jupyter's `normalize.less` sets `[hidden] { display: none; }` but bootstrap.min.css set `[hidden] { display: none !important; }` so we also need the `!important` here to be able to override the default hidden behavior on the sphinx rendered scikit-learn.org. See: https://github.com/scikit-learn/scikit-learn/issues/21755 */display: inline-block !important;position: relative;}#sk-container-id-2 div.sk-text-repr-fallback {display: none;}</style><div id=\"sk-container-id-2\" class=\"sk-top-container\"><div class=\"sk-text-repr-fallback\"><pre>SelectFromModel(estimator=LogisticRegression(C=0.5, penalty=&#x27;l1&#x27;,\n",
       "                                             random_state=10,\n",
       "                                             solver=&#x27;liblinear&#x27;))</pre><b>In a Jupyter environment, please rerun this cell to show the HTML representation or trust the notebook. <br />On GitHub, the HTML representation is unable to render, please try loading this page with nbviewer.org.</b></div><div class=\"sk-container\" hidden><div class=\"sk-item sk-dashed-wrapped\"><div class=\"sk-label-container\"><div class=\"sk-label sk-toggleable\"><input class=\"sk-toggleable__control sk-hidden--visually\" id=\"sk-estimator-id-4\" type=\"checkbox\" ><label for=\"sk-estimator-id-4\" class=\"sk-toggleable__label sk-toggleable__label-arrow\">SelectFromModel</label><div class=\"sk-toggleable__content\"><pre>SelectFromModel(estimator=LogisticRegression(C=0.5, penalty=&#x27;l1&#x27;,\n",
       "                                             random_state=10,\n",
       "                                             solver=&#x27;liblinear&#x27;))</pre></div></div></div><div class=\"sk-parallel\"><div class=\"sk-parallel-item\"><div class=\"sk-item\"><div class=\"sk-label-container\"><div class=\"sk-label sk-toggleable\"><input class=\"sk-toggleable__control sk-hidden--visually\" id=\"sk-estimator-id-5\" type=\"checkbox\" ><label for=\"sk-estimator-id-5\" class=\"sk-toggleable__label sk-toggleable__label-arrow\">estimator: LogisticRegression</label><div class=\"sk-toggleable__content\"><pre>LogisticRegression(C=0.5, penalty=&#x27;l1&#x27;, random_state=10, solver=&#x27;liblinear&#x27;)</pre></div></div></div><div class=\"sk-serial\"><div class=\"sk-item\"><div class=\"sk-estimator sk-toggleable\"><input class=\"sk-toggleable__control sk-hidden--visually\" id=\"sk-estimator-id-6\" type=\"checkbox\" ><label for=\"sk-estimator-id-6\" class=\"sk-toggleable__label sk-toggleable__label-arrow\">LogisticRegression</label><div class=\"sk-toggleable__content\"><pre>LogisticRegression(C=0.5, penalty=&#x27;l1&#x27;, random_state=10, solver=&#x27;liblinear&#x27;)</pre></div></div></div></div></div></div></div></div></div></div>"
      ],
      "text/plain": [
       "SelectFromModel(estimator=LogisticRegression(C=0.5, penalty='l1',\n",
       "                                             random_state=10,\n",
       "                                             solver='liblinear'))"
      ]
     },
     "execution_count": 26,
     "metadata": {},
     "output_type": "execute_result"
    }
   ],
   "source": [
    "sel_ = SelectFromModel(\n",
    "    LogisticRegression(C=0.5, penalty='l1', solver='liblinear', random_state=10))\n",
    "\n",
    "sel_.fit(X_train_scaled, y_train)"
   ]
  },
  {
   "cell_type": "code",
   "execution_count": 27,
   "id": "72253b85-f853-4cb3-867b-e1da45ae522f",
   "metadata": {},
   "outputs": [
    {
     "name": "stdout",
     "output_type": "stream",
     "text": [
      "total features: 19\n",
      "selected features: 12\n",
      "features with coefficients shrank to zero: 7\n"
     ]
    }
   ],
   "source": [
    "selected_feat = X_train.columns[(sel_.get_support())]\n",
    "\n",
    "print('total features: {}'.format((X_train.shape[1])))\n",
    "print('selected features: {}'.format(len(selected_feat)))\n",
    "print('features with coefficients shrank to zero: {}'.format(\n",
    "    np.sum(sel_.estimator_.coef_ == 0)))"
   ]
  },
  {
   "cell_type": "code",
   "execution_count": 28,
   "id": "cd94d364-d673-4f22-97d1-993ca89b7ee7",
   "metadata": {},
   "outputs": [
    {
     "name": "stdout",
     "output_type": "stream",
     "text": [
      "Lasso Regression F1 Score (Train): 0.84\n",
      "Lasso Regression F1 Score (Test): 0.83\n"
     ]
    }
   ],
   "source": [
    "# Transform datasets based on selected features\n",
    "X_train_selected = sel_.transform(X_train_scaled)\n",
    "X_test_selected = sel_.transform(X_test_scaled)\n",
    "\n",
    "# Train a Lasso regression model\n",
    "lasso = Lasso(alpha=0.1, random_state=42)\n",
    "lasso.fit(X_train_selected, y_train)\n",
    "\n",
    "# Make predictions\n",
    "y_train_pred = lasso.predict(X_train_selected)\n",
    "y_test_pred = lasso.predict(X_test_selected)\n",
    "\n",
    "# Convert predictions to binary using a threshold\n",
    "threshold = 0.5\n",
    "y_train_pred_binary = (y_train_pred >= threshold).astype(int)\n",
    "y_test_pred_binary = (y_test_pred >= threshold).astype(int)\n",
    "\n",
    "# Evaluate F1 scores\n",
    "f1_train = f1_score(y_train, y_train_pred_binary)\n",
    "f1_test = f1_score(y_test, y_test_pred_binary)\n",
    "\n",
    "print(f\"Lasso Regression F1 Score (Train): {f1_train:.2f}\")\n",
    "print(f\"Lasso Regression F1 Score (Test): {f1_test:.2f}\")"
   ]
  },
  {
   "cell_type": "code",
   "execution_count": 29,
   "id": "ce5c08e4-695d-4c90-92de-a8518d01ca97",
   "metadata": {},
   "outputs": [
    {
     "data": {
      "text/plain": [
       "Index(['adj_oe', 'adj_de', 'efg%', 'tor', 'tord', 'orb%', '2p%d', '3p%d',\n",
       "       '3pr', '3prd', 'adj_tempo', 'wab'],\n",
       "      dtype='object')"
      ]
     },
     "execution_count": 29,
     "metadata": {},
     "output_type": "execute_result"
    }
   ],
   "source": [
    "selected_feat"
   ]
  },
  {
   "cell_type": "code",
   "execution_count": 30,
   "id": "319db2c9-0238-451f-94d5-d9d2837b5af5",
   "metadata": {},
   "outputs": [],
   "source": [
    "sfs = SequentialFeatureSelector(\n",
    "        estimator=RandomForestClassifier(\n",
    "        n_estimators=10, n_jobs=4, random_state=0),\n",
    "        n_features_to_select=10,  # the number of features to retain\n",
    "        direction='backward',  # the direction of the selection procedure\n",
    "        scoring='roc_auc',  # the metric to evaluate\n",
    "        cv=2, # the cross-validation fold\n",
    "        n_jobs=None\n",
    ")\n",
    "\n",
    "\n",
    "sfs = sfs.fit(X_train, y_train)"
   ]
  },
  {
   "cell_type": "code",
   "execution_count": 31,
   "id": "c060df7b-db56-41c5-a530-d2fdb27653d3",
   "metadata": {},
   "outputs": [],
   "source": [
    "def run_randomForests(X_train, X_test, y_train, y_test):\n",
    "    rf = RandomForestClassifier(n_estimators=200, random_state=39, max_depth=3)\n",
    "    rf.fit(X_train, y_train)\n",
    "\n",
    "    print('Train set')\n",
    "    pred = rf.predict_proba(X_train)\n",
    "    print('Random Forests roc-auc: {}'.format(roc_auc_score(y_train, pred[:,1])))\n",
    "    \n",
    "    print('Test set')\n",
    "    pred = rf.predict_proba(X_test)\n",
    "    print('Random Forests roc-auc: {}'.format(roc_auc_score(y_test, pred[:,1])))"
   ]
  },
  {
   "cell_type": "code",
   "execution_count": 32,
   "id": "aafdc54b-ede4-4d59-8930-278f16702071",
   "metadata": {},
   "outputs": [
    {
     "data": {
      "text/plain": [
       "array(['adj_de', 'barthag', 'efg%', 'tor', 'tord', 'orb%', '2p%', '2p%d',\n",
       "       '3p%d', 'wab'], dtype=object)"
      ]
     },
     "execution_count": 32,
     "metadata": {},
     "output_type": "execute_result"
    }
   ],
   "source": [
    "selected_feat= sfs.get_feature_names_out()\n",
    "selected_feat"
   ]
  },
  {
   "cell_type": "code",
   "execution_count": 33,
   "id": "964d29c2-1b88-442f-ab0f-5d3919d1f1fe",
   "metadata": {},
   "outputs": [
    {
     "name": "stdout",
     "output_type": "stream",
     "text": [
      "Train set\n",
      "Random Forests roc-auc: 0.9344216934144991\n",
      "Test set\n",
      "Random Forests roc-auc: 0.7790697674418604\n"
     ]
    }
   ],
   "source": [
    "run_randomForests(X_train[selected_feat],\n",
    "                  X_test[selected_feat],\n",
    "                  y_train, y_test)"
   ]
  },
  {
   "cell_type": "code",
   "execution_count": 34,
   "id": "ddb8cfeb-d0cb-4300-9278-a87ac4397faf",
   "metadata": {},
   "outputs": [
    {
     "name": "stdout",
     "output_type": "stream",
     "text": [
      "Train set\n",
      "Random Forests roc-auc: 0.9403707802988379\n",
      "Test set\n",
      "Random Forests roc-auc: 0.797157622739018\n"
     ]
    }
   ],
   "source": [
    "run_randomForests(X_train,\n",
    "                  X_test,\n",
    "                  y_train, y_test)"
   ]
  },
  {
   "cell_type": "code",
   "execution_count": 35,
   "id": "5f367fbf-0ce8-4866-9661-9bec336a5f64",
   "metadata": {},
   "outputs": [
    {
     "data": {
      "text/plain": [
       "[0.5161498708010336,\n",
       " 0.6143410852713178,\n",
       " 0.6007751937984496,\n",
       " 0.6750645994832042,\n",
       " 0.5161498708010336,\n",
       " 0.5549095607235142,\n",
       " 0.5897932816537468,\n",
       " 0.42183462532299737,\n",
       " 0.5962532299741602,\n",
       " 0.6711886304909561,\n",
       " 0.6950904392764858,\n",
       " 0.5658914728682171,\n",
       " 0.6195090439276485,\n",
       " 0.47997416020671835,\n",
       " 0.5277777777777778,\n",
       " 0.49160206718346255,\n",
       " 0.415374677002584,\n",
       " 0.42894056847545226,\n",
       " 0.6356589147286822]"
      ]
     },
     "execution_count": 35,
     "metadata": {},
     "output_type": "execute_result"
    }
   ],
   "source": [
    "roc_values = []\n",
    "\n",
    "# iterate over each feature in the dataset\n",
    "for feature in X_train.columns:\n",
    "\n",
    "    # train a decision tree classifier\n",
    "    clf = DecisionTreeClassifier(random_state=0)\n",
    "    clf.fit(X_train[feature].fillna(0).to_frame(), y_train)\n",
    "\n",
    "    # obtain the predictions\n",
    "    y_scored = clf.predict_proba(X_test[feature].to_frame())\n",
    "\n",
    "    # calculate and store the roc-auc\n",
    "    roc_values.append(roc_auc_score(y_test, y_scored[:, 1]))\n",
    "    \n",
    "# display the result\n",
    "roc_values"
   ]
  },
  {
   "cell_type": "code",
   "execution_count": 36,
   "id": "d220ce90-0447-480c-8878-12fad7bd1483",
   "metadata": {},
   "outputs": [
    {
     "data": {
      "text/plain": [
       "Text(0, 0.5, 'roc-auc')"
      ]
     },
     "execution_count": 36,
     "metadata": {},
     "output_type": "execute_result"
    },
    {
     "data": {
      "image/png": "[encoded data removed]",
      "text/plain": [
       "<Figure size 2000x500 with 1 Axes>"
      ]
     },
     "metadata": {},
     "output_type": "display_data"
    }
   ],
   "source": [
    "roc_values = pd.Series(roc_values)\n",
    "roc_values.index = X_train.columns\n",
    "roc_values.sort_values(ascending=False).plot.bar(figsize=(20, 5))\n",
    "plt.ylabel('roc-auc')"
   ]
  },
  {
   "cell_type": "code",
   "execution_count": 37,
   "id": "e13e8234-0c54-4f28-9c4b-9e23227c0096",
   "metadata": {},
   "outputs": [
    {
     "data": {
      "text/plain": [
       "7"
      ]
     },
     "execution_count": 37,
     "metadata": {},
     "output_type": "execute_result"
    }
   ],
   "source": [
    "len(roc_values[roc_values > 0.6])"
   ]
  },
  {
   "cell_type": "code",
   "execution_count": 38,
   "id": "2362b690-206f-4f57-889c-39eb47d5fbb0",
   "metadata": {},
   "outputs": [
    {
     "data": {
      "text/plain": [
       "adj_de    0.6143\n",
       "barthag   0.6008\n",
       "efg%      0.6751\n",
       "ftr       0.6712\n",
       "ftrd      0.6951\n",
       "2p%d      0.6195\n",
       "wab       0.6357\n",
       "dtype: float64"
      ]
     },
     "execution_count": 38,
     "metadata": {},
     "output_type": "execute_result"
    }
   ],
   "source": [
    "roc_values[roc_values > 0.6]"
   ]
  },
  {
   "cell_type": "code",
   "execution_count": 41,
   "id": "c5844c27-dcdb-434c-a5df-38137a09f2ad",
   "metadata": {},
   "outputs": [
    {
     "data": {
      "text/plain": [
       "adj_de    0.6143\n",
       "barthag   0.6008\n",
       "efg%      0.6751\n",
       "tor       0.5549\n",
       "tord      0.5898\n",
       "drb%      0.5963\n",
       "ftr       0.6712\n",
       "ftrd      0.6951\n",
       "2p%       0.5659\n",
       "2p%d      0.6195\n",
       "wab       0.6357\n",
       "dtype: float64"
      ]
     },
     "execution_count": 41,
     "metadata": {},
     "output_type": "execute_result"
    }
   ],
   "source": [
    "roc_values[roc_values > 0.55]"
   ]
  },
  {
   "cell_type": "code",
   "execution_count": 48,
   "id": "d32b9fbe-3758-4e14-8763-b1008d0e940a",
   "metadata": {},
   "outputs": [
    {
     "data": {
      "text/plain": [
       "adj_de    0.6143\n",
       "barthag   0.6008\n",
       "efg%      0.6751\n",
       "tord      0.5898\n",
       "drb%      0.5963\n",
       "ftr       0.6712\n",
       "ftrd      0.6951\n",
       "2p%d      0.6195\n",
       "wab       0.6357\n",
       "dtype: float64"
      ]
     },
     "execution_count": 48,
     "metadata": {},
     "output_type": "execute_result"
    }
   ],
   "source": [
    "roc_values[roc_values > 0.58]"
   ]
  },
  {
   "cell_type": "markdown",
   "id": "7eebb67f-6c2e-40a6-a481-59fcdb23e1e2",
   "metadata": {},
   "source": [
    "# III. XGBoost"
   ]
  },
  {
   "cell_type": "code",
   "execution_count": 55,
   "id": "e4835884-fe17-41ef-932b-4bc106d99e94",
   "metadata": {},
   "outputs": [],
   "source": [
    "X_train_scaled2 = X_train_scaled[[\n",
    "'adj_de',\n",
    "'barthag',\n",
    "'efg%',\n",
    "'tord',\n",
    "'drb%',\n",
    "'ftr',\n",
    "'ftrd',\n",
    "'2p%d',\n",
    "'wab'\n",
    "]]\n",
    "\n",
    "X_test_scaled2 = X_test_scaled[[\n",
    "'adj_de',\n",
    "'barthag',\n",
    "'efg%',\n",
    "'tord',\n",
    "'drb%',\n",
    "'ftr',\n",
    "'ftrd',\n",
    "'2p%d',\n",
    "'wab'\n",
    "]]"
   ]
  },
  {
   "cell_type": "code",
   "execution_count": 56,
   "id": "2f96a276-28bd-49b4-b22d-6907b1f1bf25",
   "metadata": {},
   "outputs": [
    {
     "name": "stdout",
     "output_type": "stream",
     "text": [
      "Fitting 5 folds for each of 2880 candidates, totalling 14400 fits\n",
      "Best Hyperparameters: {'colsample_bytree': 0.5, 'gamma': 0.4, 'learning_rate': 0.01, 'max_depth': 2, 'n_estimators': 400, 'subsample': 0.2}\n"
     ]
    }
   ],
   "source": [
    "import xgboost as xgb\n",
    "from sklearn.model_selection import GridSearchCV\n",
    "from sklearn.metrics import log_loss\n",
    "\n",
    "xgb_model = xgb.XGBClassifier(objective='binary:logistic', eval_metric='logloss')\n",
    "\n",
    "# Set up hyperparameter grid\n",
    "param_grid = {\n",
    "    'max_depth': [2, 3, 4, 5],\n",
    "    'learning_rate': [0.01, 0.05, 0.1],\n",
    "    'n_estimators': [200, 300, 400, 500, 1000],\n",
    "    'subsample': [0.1, 0.2, 0.3, 0.4],\n",
    "    'colsample_bytree': [0.3, 0.4, 0.5, 0.6],\n",
    "    'gamma': [0.2, 0.3, 0.4]\n",
    "}\n",
    "\n",
    "# Set up GridSearchCV\n",
    "grid_search = GridSearchCV(estimator=xgb_model, param_grid=param_grid, \n",
    "                           scoring='neg_log_loss', cv=5, verbose=1, n_jobs=-1)\n",
    "\n",
    "# Fit grid search\n",
    "grid_search.fit(X_train_scaled2, y_train)\n",
    "\n",
    "# Get the best parameters\n",
    "best_params = grid_search.best_params_\n",
    "print(f\"Best Hyperparameters: {best_params}\")"
   ]
  },
  {
   "cell_type": "code",
   "execution_count": 57,
   "id": "538bad58-1647-4944-a6f3-22b857b878dc",
   "metadata": {},
   "outputs": [
    {
     "data": {
      "text/html": [
       "<style>#sk-container-id-5 {color: black;background-color: white;}#sk-container-id-5 pre{padding: 0;}#sk-container-id-5 div.sk-toggleable {background-color: white;}#sk-container-id-5 label.sk-toggleable__label {cursor: pointer;display: block;width: 100%;margin-bottom: 0;padding: 0.3em;box-sizing: border-box;text-align: center;}#sk-container-id-5 label.sk-toggleable__label-arrow:before {content: \"▸\";float: left;margin-right: 0.25em;color: #696969;}#sk-container-id-5 label.sk-toggleable__label-arrow:hover:before {color: black;}#sk-container-id-5 div.sk-estimator:hover label.sk-toggleable__label-arrow:before {color: black;}#sk-container-id-5 div.sk-toggleable__content {max-height: 0;max-width: 0;overflow: hidden;text-align: left;background-color: #f0f8ff;}#sk-container-id-5 div.sk-toggleable__content pre {margin: 0.2em;color: black;border-radius: 0.25em;background-color: #f0f8ff;}#sk-container-id-5 input.sk-toggleable__control:checked~div.sk-toggleable__content {max-height: 200px;max-width: 100%;overflow: auto;}#sk-container-id-5 input.sk-toggleable__control:checked~label.sk-toggleable__label-arrow:before {content: \"▾\";}#sk-container-id-5 div.sk-estimator input.sk-toggleable__control:checked~label.sk-toggleable__label {background-color: #d4ebff;}#sk-container-id-5 div.sk-label input.sk-toggleable__control:checked~label.sk-toggleable__label {background-color: #d4ebff;}#sk-container-id-5 input.sk-hidden--visually {border: 0;clip: rect(1px 1px 1px 1px);clip: rect(1px, 1px, 1px, 1px);height: 1px;margin: -1px;overflow: hidden;padding: 0;position: absolute;width: 1px;}#sk-container-id-5 div.sk-estimator {font-family: monospace;background-color: #f0f8ff;border: 1px dotted black;border-radius: 0.25em;box-sizing: border-box;margin-bottom: 0.5em;}#sk-container-id-5 div.sk-estimator:hover {background-color: #d4ebff;}#sk-container-id-5 div.sk-parallel-item::after {content: \"\";width: 100%;border-bottom: 1px solid gray;flex-grow: 1;}#sk-container-id-5 div.sk-label:hover label.sk-toggleable__label {background-color: #d4ebff;}#sk-container-id-5 div.sk-serial::before {content: \"\";position: absolute;border-left: 1px solid gray;box-sizing: border-box;top: 0;bottom: 0;left: 50%;z-index: 0;}#sk-container-id-5 div.sk-serial {display: flex;flex-direction: column;align-items: center;background-color: white;padding-right: 0.2em;padding-left: 0.2em;position: relative;}#sk-container-id-5 div.sk-item {position: relative;z-index: 1;}#sk-container-id-5 div.sk-parallel {display: flex;align-items: stretch;justify-content: center;background-color: white;position: relative;}#sk-container-id-5 div.sk-item::before, #sk-container-id-5 div.sk-parallel-item::before {content: \"\";position: absolute;border-left: 1px solid gray;box-sizing: border-box;top: 0;bottom: 0;left: 50%;z-index: -1;}#sk-container-id-5 div.sk-parallel-item {display: flex;flex-direction: column;z-index: 1;position: relative;background-color: white;}#sk-container-id-5 div.sk-parallel-item:first-child::after {align-self: flex-end;width: 50%;}#sk-container-id-5 div.sk-parallel-item:last-child::after {align-self: flex-start;width: 50%;}#sk-container-id-5 div.sk-parallel-item:only-child::after {width: 0;}#sk-container-id-5 div.sk-dashed-wrapped {border: 1px dashed gray;margin: 0 0.4em 0.5em 0.4em;box-sizing: border-box;padding-bottom: 0.4em;background-color: white;}#sk-container-id-5 div.sk-label label {font-family: monospace;font-weight: bold;display: inline-block;line-height: 1.2em;}#sk-container-id-5 div.sk-label-container {text-align: center;}#sk-container-id-5 div.sk-container {/* jupyter's `normalize.less` sets `[hidden] { display: none; }` but bootstrap.min.css set `[hidden] { display: none !important; }` so we also need the `!important` here to be able to override the default hidden behavior on the sphinx rendered scikit-learn.org. See: https://github.com/scikit-learn/scikit-learn/issues/21755 */display: inline-block !important;position: relative;}#sk-container-id-5 div.sk-text-repr-fallback {display: none;}</style><div id=\"sk-container-id-5\" class=\"sk-top-container\"><div class=\"sk-text-repr-fallback\"><pre>XGBClassifier(base_score=None, booster=None, callbacks=None,\n",
       "              colsample_bylevel=None, colsample_bynode=None,\n",
       "              colsample_bytree=0.5, device=None, early_stopping_rounds=None,\n",
       "              enable_categorical=False, eval_metric=&#x27;logloss&#x27;,\n",
       "              feature_types=None, gamma=0.4, grow_policy=None,\n",
       "              importance_type=None, interaction_constraints=None,\n",
       "              learning_rate=0.01, max_bin=None, max_cat_threshold=None,\n",
       "              max_cat_to_onehot=None, max_delta_step=None, max_depth=2,\n",
       "              max_leaves=None, min_child_weight=None, missing=nan,\n",
       "              monotone_constraints=None, multi_strategy=None, n_estimators=400,\n",
       "              n_jobs=None, num_parallel_tree=None, random_state=42, ...)</pre><b>In a Jupyter environment, please rerun this cell to show the HTML representation or trust the notebook. <br />On GitHub, the HTML representation is unable to render, please try loading this page with nbviewer.org.</b></div><div class=\"sk-container\" hidden><div class=\"sk-item\"><div class=\"sk-estimator sk-toggleable\"><input class=\"sk-toggleable__control sk-hidden--visually\" id=\"sk-estimator-id-9\" type=\"checkbox\" checked><label for=\"sk-estimator-id-9\" class=\"sk-toggleable__label sk-toggleable__label-arrow\">XGBClassifier</label><div class=\"sk-toggleable__content\"><pre>XGBClassifier(base_score=None, booster=None, callbacks=None,\n",
       "              colsample_bylevel=None, colsample_bynode=None,\n",
       "              colsample_bytree=0.5, device=None, early_stopping_rounds=None,\n",
       "              enable_categorical=False, eval_metric=&#x27;logloss&#x27;,\n",
       "              feature_types=None, gamma=0.4, grow_policy=None,\n",
       "              importance_type=None, interaction_constraints=None,\n",
       "              learning_rate=0.01, max_bin=None, max_cat_threshold=None,\n",
       "              max_cat_to_onehot=None, max_delta_step=None, max_depth=2,\n",
       "              max_leaves=None, min_child_weight=None, missing=nan,\n",
       "              monotone_constraints=None, multi_strategy=None, n_estimators=400,\n",
       "              n_jobs=None, num_parallel_tree=None, random_state=42, ...)</pre></div></div></div></div></div>"
      ],
      "text/plain": [
       "XGBClassifier(base_score=None, booster=None, callbacks=None,\n",
       "              colsample_bylevel=None, colsample_bynode=None,\n",
       "              colsample_bytree=0.5, device=None, early_stopping_rounds=None,\n",
       "              enable_categorical=False, eval_metric='logloss',\n",
       "              feature_types=None, gamma=0.4, grow_policy=None,\n",
       "              importance_type=None, interaction_constraints=None,\n",
       "              learning_rate=0.01, max_bin=None, max_cat_threshold=None,\n",
       "              max_cat_to_onehot=None, max_delta_step=None, max_depth=2,\n",
       "              max_leaves=None, min_child_weight=None, missing=nan,\n",
       "              monotone_constraints=None, multi_strategy=None, n_estimators=400,\n",
       "              n_jobs=None, num_parallel_tree=None, random_state=42, ...)"
      ]
     },
     "execution_count": 57,
     "metadata": {},
     "output_type": "execute_result"
    }
   ],
   "source": [
    "# Retrain the model with the best parameters\n",
    "best_xgb_model = xgb.XGBClassifier(\n",
    "    objective='binary:logistic',\n",
    "    eval_metric='logloss',\n",
    "    random_state=42,\n",
    "    **best_params\n",
    ")\n",
    "\n",
    "best_xgb_model.fit(X_train_scaled2, y_train)"
   ]
  },
  {
   "cell_type": "code",
   "execution_count": 58,
   "id": "68a164ef-115f-4d20-9b35-6708c3691447",
   "metadata": {},
   "outputs": [
    {
     "name": "stdout",
     "output_type": "stream",
     "text": [
      "Log Loss on test set: 0.5070288486627758\n"
     ]
    }
   ],
   "source": [
    "# Predict probabilities\n",
    "y_pred_proba = best_xgb_model.predict_proba(X_test_scaled2)[:, 1]\n",
    "\n",
    "# Calculate Log Loss\n",
    "logloss = log_loss(y_test, y_pred_proba)\n",
    "print(f\"Log Loss on test set: {logloss}\")"
   ]
  },
  {
   "cell_type": "code",
   "execution_count": 59,
   "id": "f48a5b8b-6356-4fb8-8c25-2acdb165c433",
   "metadata": {},
   "outputs": [
    {
     "name": "stdout",
     "output_type": "stream",
     "text": [
      "F1 Score on Training Data: 0.90\n",
      "F1 Score on Test Data: 0.84\n"
     ]
    }
   ],
   "source": [
    "# Predictions\n",
    "y_train_pred = best_xgb_model.predict(X_train_scaled2)\n",
    "y_test_pred = best_xgb_model.predict(X_test_scaled2)\n",
    "\n",
    "# Calculate accuracy scores\n",
    "f1_train = f1_score(y_train, y_train_pred)\n",
    "f1_test = f1_score(y_test, y_test_pred)\n",
    "\n",
    "print(f\"F1 Score on Training Data: {f1_train:.2f}\")\n",
    "print(f\"F1 Score on Test Data: {f1_test:.2f}\")"
   ]
  },
  {
   "cell_type": "code",
   "execution_count": 60,
   "id": "934fd4ff-5816-491a-9da3-ffd61225f612",
   "metadata": {},
   "outputs": [
    {
     "data": {
      "text/plain": [
       "<Figure size 1000x600 with 0 Axes>"
      ]
     },
     "metadata": {},
     "output_type": "display_data"
    },
    {
     "data": {
      "image/png": "[encoded data removed]",
      "text/plain": [
       "<Figure size 640x480 with 1 Axes>"
      ]
     },
     "metadata": {},
     "output_type": "display_data"
    }
   ],
   "source": [
    "from xgboost import plot_importance\n",
    "\n",
    "# Extract feature importance\n",
    "feature_importance = best_xgb_model.get_booster().get_score(importance_type='weight')\n",
    "\n",
    "# Visualize feature importance\n",
    "plt.figure(figsize=(10, 6))\n",
    "plot_importance(best_xgb_model, importance_type='weight', show_values=True, xlabel='Feature Importance Score')\n",
    "plt.title('Feature Importance')\n",
    "plt.show()"
   ]
  },
  {
   "cell_type": "code",
   "execution_count": null,
   "id": "4979c34a-a010-48f9-afc7-dbc5750a090c",
   "metadata": {},
   "outputs": [],
   "source": []
  }
 ],
 "metadata": {
  "kernelspec": {
   "display_name": "Python 3 (ipykernel)",
   "language": "python",
   "name": "python3"
  },
  "language_info": {
   "codemirror_mode": {
    "name": "ipython",
    "version": 3
   },
   "file_extension": ".py",
   "mimetype": "text/x-python",
   "name": "python",
   "nbconvert_exporter": "python",
   "pygments_lexer": "ipython3",
   "version": "3.8.20"
  }
 },
 "nbformat": 4,
 "nbformat_minor": 5
}
