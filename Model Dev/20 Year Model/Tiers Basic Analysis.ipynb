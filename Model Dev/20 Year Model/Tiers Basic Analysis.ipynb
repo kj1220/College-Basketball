{
 "cells": [
  {
   "cell_type": "code",
   "execution_count": 122,
   "id": "b7cb31e9-43aa-4c21-a7d0-971c7c5b536a",
   "metadata": {},
   "outputs": [
    {
     "name": "stdout",
     "output_type": "stream",
     "text": [
      "(48, 65)\n"
     ]
    },
    {
     "data": {
      "text/html": [
       "<div>\n",
       "<style scoped>\n",
       "    .dataframe tbody tr th:only-of-type {\n",
       "        vertical-align: middle;\n",
       "    }\n",
       "\n",
       "    .dataframe tbody tr th {\n",
       "        vertical-align: top;\n",
       "    }\n",
       "\n",
       "    .dataframe thead th {\n",
       "        text-align: right;\n",
       "    }\n",
       "</style>\n",
       "<table border=\"1\" class=\"dataframe\">\n",
       "  <thead>\n",
       "    <tr style=\"text-align: right;\">\n",
       "      <th></th>\n",
       "      <th>kenpom_adjem</th>\n",
       "      <th>kenpom_adjoe</th>\n",
       "      <th>kenpom_adjde</th>\n",
       "      <th>off_eff</th>\n",
       "      <th>def_eff</th>\n",
       "      <th>tempo</th>\n",
       "      <th>adj_tempo</th>\n",
       "      <th>off_efg_pct</th>\n",
       "      <th>off_to_pct</th>\n",
       "      <th>off_or_pct</th>\n",
       "      <th>...</th>\n",
       "      <th>D_B</th>\n",
       "      <th>D_C</th>\n",
       "      <th>D_D</th>\n",
       "      <th>D_F</th>\n",
       "      <th>F_S</th>\n",
       "      <th>F_A</th>\n",
       "      <th>F_B</th>\n",
       "      <th>F_C</th>\n",
       "      <th>F_D</th>\n",
       "      <th>F_F</th>\n",
       "    </tr>\n",
       "  </thead>\n",
       "  <tbody>\n",
       "    <tr>\n",
       "      <th>652</th>\n",
       "      <td>2.0343</td>\n",
       "      <td>78.4405</td>\n",
       "      <td>-76.4062</td>\n",
       "      <td>81.0610</td>\n",
       "      <td>-81.0610</td>\n",
       "      <td>0.8661</td>\n",
       "      <td>1.2172</td>\n",
       "      <td>-5.4892</td>\n",
       "      <td>62.2503</td>\n",
       "      <td>-25.3053</td>\n",
       "      <td>...</td>\n",
       "      <td>0</td>\n",
       "      <td>0</td>\n",
       "      <td>0</td>\n",
       "      <td>0</td>\n",
       "      <td>0</td>\n",
       "      <td>0</td>\n",
       "      <td>0</td>\n",
       "      <td>0</td>\n",
       "      <td>0</td>\n",
       "      <td>0</td>\n",
       "    </tr>\n",
       "    <tr>\n",
       "      <th>841</th>\n",
       "      <td>-4.1815</td>\n",
       "      <td>81.7934</td>\n",
       "      <td>-85.9752</td>\n",
       "      <td>78.8030</td>\n",
       "      <td>-78.8030</td>\n",
       "      <td>-3.3332</td>\n",
       "      <td>-3.9786</td>\n",
       "      <td>3.5926</td>\n",
       "      <td>64.3332</td>\n",
       "      <td>-42.6644</td>\n",
       "      <td>...</td>\n",
       "      <td>0</td>\n",
       "      <td>0</td>\n",
       "      <td>0</td>\n",
       "      <td>0</td>\n",
       "      <td>0</td>\n",
       "      <td>0</td>\n",
       "      <td>0</td>\n",
       "      <td>0</td>\n",
       "      <td>0</td>\n",
       "      <td>0</td>\n",
       "    </tr>\n",
       "    <tr>\n",
       "      <th>698</th>\n",
       "      <td>3.9082</td>\n",
       "      <td>84.5604</td>\n",
       "      <td>-80.6517</td>\n",
       "      <td>69.5696</td>\n",
       "      <td>-69.5696</td>\n",
       "      <td>4.5926</td>\n",
       "      <td>3.8929</td>\n",
       "      <td>-0.8307</td>\n",
       "      <td>67.9548</td>\n",
       "      <td>-36.7768</td>\n",
       "      <td>...</td>\n",
       "      <td>0</td>\n",
       "      <td>0</td>\n",
       "      <td>0</td>\n",
       "      <td>0</td>\n",
       "      <td>0</td>\n",
       "      <td>0</td>\n",
       "      <td>0</td>\n",
       "      <td>0</td>\n",
       "      <td>0</td>\n",
       "      <td>0</td>\n",
       "    </tr>\n",
       "    <tr>\n",
       "      <th>906</th>\n",
       "      <td>-8.2182</td>\n",
       "      <td>81.8749</td>\n",
       "      <td>-90.0935</td>\n",
       "      <td>77.6272</td>\n",
       "      <td>-77.6272</td>\n",
       "      <td>-4.8280</td>\n",
       "      <td>-3.9178</td>\n",
       "      <td>2.3867</td>\n",
       "      <td>67.7723</td>\n",
       "      <td>-47.4532</td>\n",
       "      <td>...</td>\n",
       "      <td>0</td>\n",
       "      <td>0</td>\n",
       "      <td>0</td>\n",
       "      <td>0</td>\n",
       "      <td>0</td>\n",
       "      <td>0</td>\n",
       "      <td>0</td>\n",
       "      <td>0</td>\n",
       "      <td>0</td>\n",
       "      <td>0</td>\n",
       "    </tr>\n",
       "    <tr>\n",
       "      <th>1014</th>\n",
       "      <td>7.1272</td>\n",
       "      <td>89.8789</td>\n",
       "      <td>-82.7522</td>\n",
       "      <td>84.0526</td>\n",
       "      <td>-84.0526</td>\n",
       "      <td>5.0599</td>\n",
       "      <td>6.3810</td>\n",
       "      <td>9.9520</td>\n",
       "      <td>59.4389</td>\n",
       "      <td>-39.3212</td>\n",
       "      <td>...</td>\n",
       "      <td>0</td>\n",
       "      <td>0</td>\n",
       "      <td>0</td>\n",
       "      <td>0</td>\n",
       "      <td>0</td>\n",
       "      <td>0</td>\n",
       "      <td>0</td>\n",
       "      <td>0</td>\n",
       "      <td>0</td>\n",
       "      <td>0</td>\n",
       "    </tr>\n",
       "  </tbody>\n",
       "</table>\n",
       "<p>5 rows × 65 columns</p>\n",
       "</div>"
      ],
      "text/plain": [
       "      kenpom_adjem  kenpom_adjoe  kenpom_adjde  off_eff  def_eff   tempo  \\\n",
       "652         2.0343       78.4405      -76.4062  81.0610 -81.0610  0.8661   \n",
       "841        -4.1815       81.7934      -85.9752  78.8030 -78.8030 -3.3332   \n",
       "698         3.9082       84.5604      -80.6517  69.5696 -69.5696  4.5926   \n",
       "906        -8.2182       81.8749      -90.0935  77.6272 -77.6272 -4.8280   \n",
       "1014        7.1272       89.8789      -82.7522  84.0526 -84.0526  5.0599   \n",
       "\n",
       "      adj_tempo  off_efg_pct  off_to_pct  off_or_pct  ...  D_B  D_C  D_D  D_F  \\\n",
       "652      1.2172      -5.4892     62.2503    -25.3053  ...    0    0    0    0   \n",
       "841     -3.9786       3.5926     64.3332    -42.6644  ...    0    0    0    0   \n",
       "698      3.8929      -0.8307     67.9548    -36.7768  ...    0    0    0    0   \n",
       "906     -3.9178       2.3867     67.7723    -47.4532  ...    0    0    0    0   \n",
       "1014     6.3810       9.9520     59.4389    -39.3212  ...    0    0    0    0   \n",
       "\n",
       "      F_S  F_A  F_B  F_C  F_D  F_F  \n",
       "652     0    0    0    0    0    0  \n",
       "841     0    0    0    0    0    0  \n",
       "698     0    0    0    0    0    0  \n",
       "906     0    0    0    0    0    0  \n",
       "1014    0    0    0    0    0    0  \n",
       "\n",
       "[5 rows x 65 columns]"
      ]
     },
     "execution_count": 122,
     "metadata": {},
     "output_type": "execute_result"
    }
   ],
   "source": [
    "import numpy as np\n",
    "import pandas as pd\n",
    "import matplotlib.pyplot as plt\n",
    "import seaborn as sns\n",
    "from scipy.stats import chi2_contingency\n",
    "from sklearn.feature_selection import mutual_info_classif\n",
    "\n",
    "from sklearn.model_selection import train_test_split\n",
    "np.set_printoptions(suppress=True, formatter={'float_kind':'{:0.4f}'.format})\n",
    "pd.set_option('display.float_format', lambda x: '%.4f' % x)\n",
    "pd.set_option('display.max_rows', None)\n",
    "\n",
    "\n",
    "df = pd.read_csv('matchups_20_with_tiers.csv')\n",
    "#df = df[df['round'] == 'Second Round']\n",
    "df = df[df['round'].isin(['Final Four', 'Championship'])]\n",
    "\n",
    "# Split dataset into a train and test set\n",
    "X = df.iloc[:,8:]\n",
    "y = df['win']\n",
    "\n",
    "X_train, X_test, y_train, y_test = train_test_split(\n",
    "    X, y, test_size=0.2, random_state=0)\n",
    "\n",
    "X_train.shape, X_test.shape\n",
    "\n",
    "print(X_train.shape)\n",
    "X_train.head()"
   ]
  },
  {
   "cell_type": "code",
   "execution_count": 123,
   "id": "1b3e17c9-bbe9-4df8-91bd-fa2443ca0c6f",
   "metadata": {},
   "outputs": [],
   "source": [
    "train_df = pd.concat([X_train, y_train], axis=1)\n",
    "X_cat = train_df[['S_S', 'S_A', 'S_B', 'S_C', 'S_D', 'S_F', 'A_S', 'A_A', 'A_B', 'A_C',\n",
    "       'A_D', 'A_F', 'B_S', 'B_A', 'B_B', 'B_C', 'B_D', 'B_F', 'C_S', 'C_A',\n",
    "       'C_B', 'C_C', 'C_D', 'C_F', 'D_S', 'D_A', 'D_B', 'D_C', 'D_D', 'D_F',\n",
    "       'F_S', 'F_A', 'F_B', 'F_C', 'F_D', 'F_F']]"
   ]
  },
  {
   "cell_type": "code",
   "execution_count": 124,
   "id": "fb044293-67e4-4135-914a-fe8a0b0d38c2",
   "metadata": {},
   "outputs": [
    {
     "name": "stdout",
     "output_type": "stream",
     "text": [
      "S_S  S_A  S_B  S_C  S_D  S_F\n",
      "0    0    0    0    0    0      26\n",
      "     1    0    0    0    0       9\n",
      "1    0    0    0    0    0       8\n",
      "0    0    1    0    0    0       3\n",
      "          0    1    0    0       2\n",
      "dtype: int64\n",
      "A_S  A_A  A_B  A_C  A_D  A_F\n",
      "0    0    0    0    0    0      33\n",
      "1    0    0    0    0    0      10\n",
      "0    1    0    0    0    0       4\n",
      "     0    1    0    0    0       1\n",
      "dtype: int64\n",
      "B_S  B_A  B_B  B_C  B_D  B_F\n",
      "0    0    0    0    0    0      41\n",
      "1    0    0    0    0    0       5\n",
      "0    0    1    0    0    0       2\n",
      "dtype: int64\n",
      "C_S  C_A  C_B  C_C  C_D  C_F\n",
      "0    0    0    0    0    0      44\n",
      "     1    0    0    0    0       2\n",
      "     0    1    0    0    0       1\n",
      "1    0    0    0    0    0       1\n",
      "dtype: int64\n",
      "D_S  D_A  D_B  D_C  D_D  D_F\n",
      "0    0    0    0    0    0      48\n",
      "dtype: int64\n",
      "F_S  F_A  F_B  F_C  F_D  F_F\n",
      "0    0    0    0    0    0      48\n",
      "dtype: int64\n"
     ]
    }
   ],
   "source": [
    "s_tiers = X_cat[[\n",
    " 'S_S',\n",
    " 'S_A',\n",
    " 'S_B',\n",
    " 'S_C',\n",
    " 'S_D',\n",
    " 'S_F']]\n",
    "print(s_tiers.value_counts())\n",
    "a_tiers = X_cat[[\n",
    " 'A_S',\n",
    " 'A_A',\n",
    " 'A_B',\n",
    " 'A_C',\n",
    " 'A_D',\n",
    " 'A_F']]\n",
    "print(a_tiers.value_counts())\n",
    "b_tiers = X_cat[[\n",
    " 'B_S',\n",
    " 'B_A',\n",
    " 'B_B',\n",
    " 'B_C',\n",
    " 'B_D',\n",
    " 'B_F']]\n",
    "print(b_tiers.value_counts())\n",
    "c_tiers = X_cat[[\n",
    " 'C_S',\n",
    " 'C_A',\n",
    " 'C_B',\n",
    " 'C_C',\n",
    " 'C_D',\n",
    " 'C_F']]\n",
    "print(c_tiers.value_counts())\n",
    "d_tiers = X_cat[[\n",
    " 'D_S',\n",
    " 'D_A',\n",
    " 'D_B',\n",
    " 'D_C',\n",
    " 'D_D',\n",
    " 'D_F']]\n",
    "print(d_tiers.value_counts())\n",
    "f_tiers = X_cat[[\n",
    " 'F_S',\n",
    " 'F_A',\n",
    " 'F_B',\n",
    " 'F_C',\n",
    " 'F_D',\n",
    " 'F_F']]\n",
    "print(f_tiers.value_counts())"
   ]
  },
  {
   "cell_type": "code",
   "execution_count": 125,
   "id": "ecd78cb2-4ba6-4e58-a85a-3f1b2c35b111",
   "metadata": {},
   "outputs": [],
   "source": [
    "# Keep tiers with 5 or more occurrences\n",
    "all_tiers = train_df[['win',\n",
    "                     'S_S',\n",
    "                     'S_A',\n",
    "                     'A_S',\n",
    "                     'B_S']]"
   ]
  },
  {
   "cell_type": "code",
   "execution_count": 126,
   "id": "435185a7-aeb0-4dfd-9777-c41f6e4ff34f",
   "metadata": {},
   "outputs": [
    {
     "data": {
      "text/plain": [
       "win  S_S\n",
       "0    0      22\n",
       "     1       4\n",
       "1    0      18\n",
       "     1       4\n",
       "dtype: int64"
      ]
     },
     "execution_count": 126,
     "metadata": {},
     "output_type": "execute_result"
    }
   ],
   "source": [
    "all_tiers.groupby(by=['win', 'S_S']).size()"
   ]
  },
  {
   "cell_type": "code",
   "execution_count": 127,
   "id": "d8aae296-cbb9-4738-aa01-6c8995bd4dfd",
   "metadata": {},
   "outputs": [
    {
     "data": {
      "text/plain": [
       "win  S_A\n",
       "0    0      25\n",
       "     1       1\n",
       "1    0      14\n",
       "     1       8\n",
       "dtype: int64"
      ]
     },
     "execution_count": 127,
     "metadata": {},
     "output_type": "execute_result"
    }
   ],
   "source": [
    "all_tiers.groupby(by=['win', 'S_A']).size()"
   ]
  },
  {
   "cell_type": "code",
   "execution_count": 128,
   "id": "a6c92efd-d65e-42bb-bf8c-de652342c83a",
   "metadata": {},
   "outputs": [
    {
     "data": {
      "text/plain": [
       "win  A_S\n",
       "0    0      16\n",
       "     1      10\n",
       "1    0      22\n",
       "dtype: int64"
      ]
     },
     "execution_count": 128,
     "metadata": {},
     "output_type": "execute_result"
    }
   ],
   "source": [
    "all_tiers.groupby(by=['win', 'A_S']).size()"
   ]
  },
  {
   "cell_type": "code",
   "execution_count": 129,
   "id": "12c65f9e-e387-441e-8f02-23b0d555796e",
   "metadata": {},
   "outputs": [
    {
     "data": {
      "text/plain": [
       "win  B_S\n",
       "0    0      23\n",
       "     1       3\n",
       "1    0      20\n",
       "     1       2\n",
       "dtype: int64"
      ]
     },
     "execution_count": 129,
     "metadata": {},
     "output_type": "execute_result"
    }
   ],
   "source": [
    "all_tiers.groupby(by=['win', 'B_S']).size()"
   ]
  },
  {
   "cell_type": "code",
   "execution_count": 131,
   "id": "ed090c51-3f0b-4925-8fc1-8b9cd18d9494",
   "metadata": {},
   "outputs": [],
   "source": [
    "# Keep tiers with win % greater that 60 or less than 40\n",
    "tiers_stats = X_train[[\n",
    "                   'S_A',  \n",
    "                   'A_S']]"
   ]
  },
  {
   "cell_type": "code",
   "execution_count": 132,
   "id": "c254ad28-5e31-4393-8d5a-bff21e704797",
   "metadata": {},
   "outputs": [
    {
     "data": {
      "text/plain": [
       "Text(0, 0.5, 'Mutual Information')"
      ]
     },
     "execution_count": 132,
     "metadata": {},
     "output_type": "execute_result"
    },
    {
     "data": {
      "image/png": "[encoded data removed]",
      "text/plain": [
       "<Figure size 2000x600 with 1 Axes>"
      ]
     },
     "metadata": {},
     "output_type": "display_data"
    }
   ],
   "source": [
    "mi = mutual_info_classif(tiers_stats, y_train)\n",
    "mi = pd.Series(mi)\n",
    "mi.index = tiers_stats.columns\n",
    "mi.sort_values(ascending=False).plot.bar(figsize=(20, 6))\n",
    "plt.ylabel('Mutual Information')"
   ]
  },
  {
   "cell_type": "code",
   "execution_count": 133,
   "id": "b634fd29-c426-4d10-92b7-591424287c17",
   "metadata": {},
   "outputs": [],
   "source": [
    "chi_ls = []\n",
    "\n",
    "for feature in tiers_stats.columns:\n",
    "    c = pd.crosstab(y_train, tiers_stats[feature])\n",
    "    p_value = chi2_contingency(c)[1]\n",
    "    chi_ls.append(p_value)"
   ]
  },
  {
   "cell_type": "code",
   "execution_count": 134,
   "id": "03a8a6ed-ceee-440d-9f6b-b581d9630bc5",
   "metadata": {},
   "outputs": [
    {
     "data": {
      "text/plain": [
       "Text(0.5, 1.0, 'Feature importance based on chi-square test')"
      ]
     },
     "execution_count": 134,
     "metadata": {},
     "output_type": "execute_result"
    },
    {
     "data": {
      "image/png": "[encoded data removed]",
      "text/plain": [
       "<Figure size 640x480 with 1 Axes>"
      ]
     },
     "metadata": {},
     "output_type": "display_data"
    }
   ],
   "source": [
    "pd.Series(chi_ls, index=tiers_stats.columns).sort_values(ascending=True).plot.bar(rot=45)\n",
    "plt.ylabel('p value')\n",
    "plt.title('Feature importance based on chi-square test')"
   ]
  },
  {
   "cell_type": "code",
   "execution_count": null,
   "id": "c84a88fb-727d-47b3-9de4-8fec8b5240fe",
   "metadata": {},
   "outputs": [],
   "source": []
  }
 ],
 "metadata": {
  "kernelspec": {
   "display_name": "Python 3 (ipykernel)",
   "language": "python",
   "name": "python3"
  },
  "language_info": {
   "codemirror_mode": {
    "name": "ipython",
    "version": 3
   },
   "file_extension": ".py",
   "mimetype": "text/x-python",
   "name": "python",
   "nbconvert_exporter": "python",
   "pygments_lexer": "ipython3",
   "version": "3.8.20"
  }
 },
 "nbformat": 4,
 "nbformat_minor": 5
}
