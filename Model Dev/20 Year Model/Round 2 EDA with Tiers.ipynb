{
 "cells": [
  {
   "cell_type": "code",
   "execution_count": 1,
   "id": "03de06e4-2a89-49cb-ad1f-13044eff8089",
   "metadata": {},
   "outputs": [
    {
     "name": "stdout",
     "output_type": "stream",
     "text": [
      "(320, 73)\n"
     ]
    },
    {
     "data": {
      "text/html": [
       "<div>\n",
       "<style scoped>\n",
       "    .dataframe tbody tr th:only-of-type {\n",
       "        vertical-align: middle;\n",
       "    }\n",
       "\n",
       "    .dataframe tbody tr th {\n",
       "        vertical-align: top;\n",
       "    }\n",
       "\n",
       "    .dataframe thead th {\n",
       "        text-align: right;\n",
       "    }\n",
       "</style>\n",
       "<table border=\"1\" class=\"dataframe\">\n",
       "  <thead>\n",
       "    <tr style=\"text-align: right;\">\n",
       "      <th></th>\n",
       "      <th>year</th>\n",
       "      <th>region</th>\n",
       "      <th>round</th>\n",
       "      <th>high_bracket_seed</th>\n",
       "      <th>high_bracket_team</th>\n",
       "      <th>low_bracket_seed</th>\n",
       "      <th>low_bracket_team</th>\n",
       "      <th>win</th>\n",
       "      <th>kenpom_adjem</th>\n",
       "      <th>kenpom_adjoe</th>\n",
       "      <th>...</th>\n",
       "      <th>D_B</th>\n",
       "      <th>D_C</th>\n",
       "      <th>D_D</th>\n",
       "      <th>D_F</th>\n",
       "      <th>F_S</th>\n",
       "      <th>F_A</th>\n",
       "      <th>F_B</th>\n",
       "      <th>F_C</th>\n",
       "      <th>F_D</th>\n",
       "      <th>F_F</th>\n",
       "    </tr>\n",
       "  </thead>\n",
       "  <tbody>\n",
       "    <tr>\n",
       "      <th>1</th>\n",
       "      <td>2004</td>\n",
       "      <td>East</td>\n",
       "      <td>Second Round</td>\n",
       "      <td>1</td>\n",
       "      <td>2004 Saint Joseph's</td>\n",
       "      <td>8</td>\n",
       "      <td>2004 Texas Tech</td>\n",
       "      <td>1</td>\n",
       "      <td>11.7131</td>\n",
       "      <td>82.5819</td>\n",
       "      <td>...</td>\n",
       "      <td>0</td>\n",
       "      <td>0</td>\n",
       "      <td>0</td>\n",
       "      <td>0</td>\n",
       "      <td>0</td>\n",
       "      <td>0</td>\n",
       "      <td>0</td>\n",
       "      <td>0</td>\n",
       "      <td>0</td>\n",
       "      <td>0</td>\n",
       "    </tr>\n",
       "    <tr>\n",
       "      <th>3</th>\n",
       "      <td>2004</td>\n",
       "      <td>East</td>\n",
       "      <td>Second Round</td>\n",
       "      <td>12</td>\n",
       "      <td>2004 Manhattan</td>\n",
       "      <td>4</td>\n",
       "      <td>2004 Wake Forest</td>\n",
       "      <td>0</td>\n",
       "      <td>-10.7518</td>\n",
       "      <td>76.1598</td>\n",
       "      <td>...</td>\n",
       "      <td>0</td>\n",
       "      <td>0</td>\n",
       "      <td>0</td>\n",
       "      <td>0</td>\n",
       "      <td>0</td>\n",
       "      <td>0</td>\n",
       "      <td>0</td>\n",
       "      <td>0</td>\n",
       "      <td>0</td>\n",
       "      <td>0</td>\n",
       "    </tr>\n",
       "    <tr>\n",
       "      <th>6</th>\n",
       "      <td>2004</td>\n",
       "      <td>East</td>\n",
       "      <td>Second Round</td>\n",
       "      <td>7</td>\n",
       "      <td>2004 Memphis</td>\n",
       "      <td>2</td>\n",
       "      <td>2004 Oklahoma St.</td>\n",
       "      <td>0</td>\n",
       "      <td>-8.7899</td>\n",
       "      <td>74.5241</td>\n",
       "      <td>...</td>\n",
       "      <td>0</td>\n",
       "      <td>0</td>\n",
       "      <td>0</td>\n",
       "      <td>0</td>\n",
       "      <td>0</td>\n",
       "      <td>0</td>\n",
       "      <td>0</td>\n",
       "      <td>0</td>\n",
       "      <td>0</td>\n",
       "      <td>0</td>\n",
       "    </tr>\n",
       "    <tr>\n",
       "      <th>11</th>\n",
       "      <td>2004</td>\n",
       "      <td>East</td>\n",
       "      <td>Second Round</td>\n",
       "      <td>6</td>\n",
       "      <td>2004 Wisconsin</td>\n",
       "      <td>3</td>\n",
       "      <td>2004 Pittsburgh</td>\n",
       "      <td>0</td>\n",
       "      <td>-1.4764</td>\n",
       "      <td>73.7798</td>\n",
       "      <td>...</td>\n",
       "      <td>0</td>\n",
       "      <td>0</td>\n",
       "      <td>0</td>\n",
       "      <td>0</td>\n",
       "      <td>0</td>\n",
       "      <td>0</td>\n",
       "      <td>0</td>\n",
       "      <td>0</td>\n",
       "      <td>0</td>\n",
       "      <td>0</td>\n",
       "    </tr>\n",
       "    <tr>\n",
       "      <th>17</th>\n",
       "      <td>2004</td>\n",
       "      <td>Midwest</td>\n",
       "      <td>Second Round</td>\n",
       "      <td>6</td>\n",
       "      <td>2004 Boston College</td>\n",
       "      <td>3</td>\n",
       "      <td>2004 Georgia Tech</td>\n",
       "      <td>0</td>\n",
       "      <td>-10.2469</td>\n",
       "      <td>69.4213</td>\n",
       "      <td>...</td>\n",
       "      <td>0</td>\n",
       "      <td>0</td>\n",
       "      <td>0</td>\n",
       "      <td>0</td>\n",
       "      <td>0</td>\n",
       "      <td>0</td>\n",
       "      <td>0</td>\n",
       "      <td>0</td>\n",
       "      <td>0</td>\n",
       "      <td>0</td>\n",
       "    </tr>\n",
       "  </tbody>\n",
       "</table>\n",
       "<p>5 rows × 73 columns</p>\n",
       "</div>"
      ],
      "text/plain": [
       "    year   region         round  high_bracket_seed    high_bracket_team  \\\n",
       "1   2004     East  Second Round                  1  2004 Saint Joseph's   \n",
       "3   2004     East  Second Round                 12       2004 Manhattan   \n",
       "6   2004     East  Second Round                  7         2004 Memphis   \n",
       "11  2004     East  Second Round                  6       2004 Wisconsin   \n",
       "17  2004  Midwest  Second Round                  6  2004 Boston College   \n",
       "\n",
       "    low_bracket_seed   low_bracket_team  win  kenpom_adjem  kenpom_adjoe  ...  \\\n",
       "1                  8    2004 Texas Tech    1       11.7131       82.5819  ...   \n",
       "3                  4   2004 Wake Forest    0      -10.7518       76.1598  ...   \n",
       "6                  2  2004 Oklahoma St.    0       -8.7899       74.5241  ...   \n",
       "11                 3    2004 Pittsburgh    0       -1.4764       73.7798  ...   \n",
       "17                 3  2004 Georgia Tech    0      -10.2469       69.4213  ...   \n",
       "\n",
       "    D_B  D_C  D_D  D_F  F_S  F_A  F_B  F_C  F_D  F_F  \n",
       "1     0    0    0    0    0    0    0    0    0    0  \n",
       "3     0    0    0    0    0    0    0    0    0    0  \n",
       "6     0    0    0    0    0    0    0    0    0    0  \n",
       "11    0    0    0    0    0    0    0    0    0    0  \n",
       "17    0    0    0    0    0    0    0    0    0    0  \n",
       "\n",
       "[5 rows x 73 columns]"
      ]
     },
     "execution_count": 1,
     "metadata": {},
     "output_type": "execute_result"
    }
   ],
   "source": [
    "### Setup Environment ###\n",
    "import numpy as np\n",
    "import pandas as pd\n",
    "import plotly_express as px\n",
    "import plotly.graph_objects as go\n",
    "import matplotlib.pyplot as plt\n",
    "import seaborn as sns\n",
    "from scipy.stats import chi2_contingency\n",
    "from mlxtend.feature_selection import ExhaustiveFeatureSelector as EFS\n",
    "from itertools import combinations\n",
    "from sklearn.metrics import f1_score\n",
    "\n",
    "np.set_printoptions(suppress=True, formatter={'float_kind':'{:0.4f}'.format})\n",
    "pd.set_option('display.float_format', lambda x: '%.4f' % x)\n",
    "pd.set_option('display.max_rows', None)\n",
    "\n",
    "from sklearn.model_selection import train_test_split\n",
    "from sklearn.feature_selection import mutual_info_classif, f_classif, SelectKBest, SelectFromModel, SequentialFeatureSelector\n",
    "from sklearn.linear_model import Lasso, LogisticRegression\n",
    "from sklearn.tree import DecisionTreeClassifier\n",
    "from sklearn.ensemble import RandomForestRegressor, RandomForestClassifier\n",
    "from sklearn.metrics import roc_auc_score, r2_score\n",
    "from sklearn.preprocessing import StandardScaler\n",
    "\n",
    "df = pd.read_csv('matchups_20_with_tiers.csv')\n",
    "df = df[df['round'] == 'Second Round']\n",
    "print(df.shape)\n",
    "df.head()"
   ]
  },
  {
   "cell_type": "code",
   "execution_count": 2,
   "id": "3a8289f6-c0f3-436d-aaaf-1fc1f0331895",
   "metadata": {},
   "outputs": [
    {
     "data": {
      "text/plain": [
       "1   0.5062\n",
       "0   0.4938\n",
       "Name: win, dtype: float64"
      ]
     },
     "execution_count": 2,
     "metadata": {},
     "output_type": "execute_result"
    }
   ],
   "source": [
    "df['win'].value_counts(normalize=True)"
   ]
  },
  {
   "cell_type": "code",
   "execution_count": 3,
   "id": "d63e09ea-c7db-4d3a-b304-f71e587fb87f",
   "metadata": {},
   "outputs": [
    {
     "data": {
      "text/plain": [
       "['year',\n",
       " 'region',\n",
       " 'round',\n",
       " 'high_bracket_seed',\n",
       " 'high_bracket_team',\n",
       " 'low_bracket_seed',\n",
       " 'low_bracket_team',\n",
       " 'win',\n",
       " 'kenpom_adjem',\n",
       " 'kenpom_adjoe',\n",
       " 'kenpom_adjde',\n",
       " 'off_eff',\n",
       " 'def_eff',\n",
       " 'tempo',\n",
       " 'adj_tempo',\n",
       " 'off_efg_pct',\n",
       " 'off_to_pct',\n",
       " 'off_or_pct',\n",
       " 'off_ft_rate',\n",
       " 'def_efg_pct',\n",
       " 'def_to_pct',\n",
       " 'def_or_pct',\n",
       " 'def_ft_rate',\n",
       " 'off_2pt_pct',\n",
       " 'off_3pt_pct',\n",
       " 'off_ft_pct',\n",
       " 'off_block_pct',\n",
       " 'def_2pt_pct',\n",
       " 'def_3pt_pct',\n",
       " 'def_ft_pct',\n",
       " 'def_block_pct',\n",
       " 'off_ast_rate',\n",
       " 'off_stl_rate',\n",
       " 'def_ast_rate',\n",
       " 'def_stl_rate',\n",
       " 'high_tier',\n",
       " 'low_tier',\n",
       " 'S_S',\n",
       " 'S_A',\n",
       " 'S_B',\n",
       " 'S_C',\n",
       " 'S_D',\n",
       " 'S_F',\n",
       " 'A_S',\n",
       " 'A_A',\n",
       " 'A_B',\n",
       " 'A_C',\n",
       " 'A_D',\n",
       " 'A_F',\n",
       " 'B_S',\n",
       " 'B_A',\n",
       " 'B_B',\n",
       " 'B_C',\n",
       " 'B_D',\n",
       " 'B_F',\n",
       " 'C_S',\n",
       " 'C_A',\n",
       " 'C_B',\n",
       " 'C_C',\n",
       " 'C_D',\n",
       " 'C_F',\n",
       " 'D_S',\n",
       " 'D_A',\n",
       " 'D_B',\n",
       " 'D_C',\n",
       " 'D_D',\n",
       " 'D_F',\n",
       " 'F_S',\n",
       " 'F_A',\n",
       " 'F_B',\n",
       " 'F_C',\n",
       " 'F_D',\n",
       " 'F_F']"
      ]
     },
     "execution_count": 3,
     "metadata": {},
     "output_type": "execute_result"
    }
   ],
   "source": [
    "df.columns.to_list()"
   ]
  },
  {
   "cell_type": "code",
   "execution_count": 4,
   "id": "da730161-306f-4a9f-aadc-fbde1cf07b7f",
   "metadata": {},
   "outputs": [],
   "source": [
    "eda_df = df[[\n",
    " 'win',\n",
    " 'kenpom_adjem',\n",
    " 'kenpom_adjoe',\n",
    " 'kenpom_adjde',\n",
    " 'off_eff',\n",
    " 'def_eff',\n",
    " 'off_efg_pct',\n",
    " 'off_or_pct',\n",
    " 'off_ft_rate',\n",
    " 'def_efg_pct',\n",
    " 'def_to_pct',\n",
    " 'def_or_pct',\n",
    " 'def_ft_rate',\n",
    " 'off_2pt_pct',\n",
    " 'off_3pt_pct',\n",
    " 'def_2pt_pct',\n",
    " 'def_block_pct',\n",
    " 'S_B',\n",
    " 'S_C',\n",
    " 'A_C',\n",
    " 'A_D',\n",
    " 'B_S',\n",
    " 'B_D',\n",
    " 'C_S',\n",
    " 'C_A',\n",
    " 'C_B',\n",
    " 'C_D']]  "
   ]
  },
  {
   "cell_type": "code",
   "execution_count": 5,
   "id": "02fec4e0-4941-4148-8244-22dd6cf2269f",
   "metadata": {},
   "outputs": [
    {
     "data": {
      "text/plain": [
       "((224, 26), (96, 26))"
      ]
     },
     "execution_count": 5,
     "metadata": {},
     "output_type": "execute_result"
    }
   ],
   "source": [
    "# Split dataset into a train and test set\n",
    "X = eda_df.iloc[:,1:]\n",
    "y = eda_df['win']\n",
    "\n",
    "X_train, X_test, y_train, y_test = train_test_split(\n",
    "    X, y, test_size=0.3, random_state=0)\n",
    "\n",
    "X_train.shape, X_test.shape"
   ]
  },
  {
   "cell_type": "markdown",
   "id": "02e94394-073e-424d-abd8-4e42a64f01cc",
   "metadata": {},
   "source": [
    "### I. Lasso Regression"
   ]
  },
  {
   "cell_type": "code",
   "execution_count": 6,
   "id": "37b00394-1701-41ee-858e-f12f38473f24",
   "metadata": {},
   "outputs": [
    {
     "data": {
      "text/html": [
       "<style>#sk-container-id-1 {color: black;background-color: white;}#sk-container-id-1 pre{padding: 0;}#sk-container-id-1 div.sk-toggleable {background-color: white;}#sk-container-id-1 label.sk-toggleable__label {cursor: pointer;display: block;width: 100%;margin-bottom: 0;padding: 0.3em;box-sizing: border-box;text-align: center;}#sk-container-id-1 label.sk-toggleable__label-arrow:before {content: \"▸\";float: left;margin-right: 0.25em;color: #696969;}#sk-container-id-1 label.sk-toggleable__label-arrow:hover:before {color: black;}#sk-container-id-1 div.sk-estimator:hover label.sk-toggleable__label-arrow:before {color: black;}#sk-container-id-1 div.sk-toggleable__content {max-height: 0;max-width: 0;overflow: hidden;text-align: left;background-color: #f0f8ff;}#sk-container-id-1 div.sk-toggleable__content pre {margin: 0.2em;color: black;border-radius: 0.25em;background-color: #f0f8ff;}#sk-container-id-1 input.sk-toggleable__control:checked~div.sk-toggleable__content {max-height: 200px;max-width: 100%;overflow: auto;}#sk-container-id-1 input.sk-toggleable__control:checked~label.sk-toggleable__label-arrow:before {content: \"▾\";}#sk-container-id-1 div.sk-estimator input.sk-toggleable__control:checked~label.sk-toggleable__label {background-color: #d4ebff;}#sk-container-id-1 div.sk-label input.sk-toggleable__control:checked~label.sk-toggleable__label {background-color: #d4ebff;}#sk-container-id-1 input.sk-hidden--visually {border: 0;clip: rect(1px 1px 1px 1px);clip: rect(1px, 1px, 1px, 1px);height: 1px;margin: -1px;overflow: hidden;padding: 0;position: absolute;width: 1px;}#sk-container-id-1 div.sk-estimator {font-family: monospace;background-color: #f0f8ff;border: 1px dotted black;border-radius: 0.25em;box-sizing: border-box;margin-bottom: 0.5em;}#sk-container-id-1 div.sk-estimator:hover {background-color: #d4ebff;}#sk-container-id-1 div.sk-parallel-item::after {content: \"\";width: 100%;border-bottom: 1px solid gray;flex-grow: 1;}#sk-container-id-1 div.sk-label:hover label.sk-toggleable__label {background-color: #d4ebff;}#sk-container-id-1 div.sk-serial::before {content: \"\";position: absolute;border-left: 1px solid gray;box-sizing: border-box;top: 0;bottom: 0;left: 50%;z-index: 0;}#sk-container-id-1 div.sk-serial {display: flex;flex-direction: column;align-items: center;background-color: white;padding-right: 0.2em;padding-left: 0.2em;position: relative;}#sk-container-id-1 div.sk-item {position: relative;z-index: 1;}#sk-container-id-1 div.sk-parallel {display: flex;align-items: stretch;justify-content: center;background-color: white;position: relative;}#sk-container-id-1 div.sk-item::before, #sk-container-id-1 div.sk-parallel-item::before {content: \"\";position: absolute;border-left: 1px solid gray;box-sizing: border-box;top: 0;bottom: 0;left: 50%;z-index: -1;}#sk-container-id-1 div.sk-parallel-item {display: flex;flex-direction: column;z-index: 1;position: relative;background-color: white;}#sk-container-id-1 div.sk-parallel-item:first-child::after {align-self: flex-end;width: 50%;}#sk-container-id-1 div.sk-parallel-item:last-child::after {align-self: flex-start;width: 50%;}#sk-container-id-1 div.sk-parallel-item:only-child::after {width: 0;}#sk-container-id-1 div.sk-dashed-wrapped {border: 1px dashed gray;margin: 0 0.4em 0.5em 0.4em;box-sizing: border-box;padding-bottom: 0.4em;background-color: white;}#sk-container-id-1 div.sk-label label {font-family: monospace;font-weight: bold;display: inline-block;line-height: 1.2em;}#sk-container-id-1 div.sk-label-container {text-align: center;}#sk-container-id-1 div.sk-container {/* jupyter's `normalize.less` sets `[hidden] { display: none; }` but bootstrap.min.css set `[hidden] { display: none !important; }` so we also need the `!important` here to be able to override the default hidden behavior on the sphinx rendered scikit-learn.org. See: https://github.com/scikit-learn/scikit-learn/issues/21755 */display: inline-block !important;position: relative;}#sk-container-id-1 div.sk-text-repr-fallback {display: none;}</style><div id=\"sk-container-id-1\" class=\"sk-top-container\"><div class=\"sk-text-repr-fallback\"><pre>StandardScaler()</pre><b>In a Jupyter environment, please rerun this cell to show the HTML representation or trust the notebook. <br />On GitHub, the HTML representation is unable to render, please try loading this page with nbviewer.org.</b></div><div class=\"sk-container\" hidden><div class=\"sk-item\"><div class=\"sk-estimator sk-toggleable\"><input class=\"sk-toggleable__control sk-hidden--visually\" id=\"sk-estimator-id-1\" type=\"checkbox\" checked><label for=\"sk-estimator-id-1\" class=\"sk-toggleable__label sk-toggleable__label-arrow\">StandardScaler</label><div class=\"sk-toggleable__content\"><pre>StandardScaler()</pre></div></div></div></div></div>"
      ],
      "text/plain": [
       "StandardScaler()"
      ]
     },
     "execution_count": 6,
     "metadata": {},
     "output_type": "execute_result"
    }
   ],
   "source": [
    "scaler = StandardScaler()\n",
    "scaler.fit(X_train)"
   ]
  },
  {
   "cell_type": "code",
   "execution_count": 7,
   "id": "9c4ad628-ef3b-4f13-92ab-47fa022fddb7",
   "metadata": {},
   "outputs": [
    {
     "data": {
      "text/html": [
       "<style>#sk-container-id-2 {color: black;background-color: white;}#sk-container-id-2 pre{padding: 0;}#sk-container-id-2 div.sk-toggleable {background-color: white;}#sk-container-id-2 label.sk-toggleable__label {cursor: pointer;display: block;width: 100%;margin-bottom: 0;padding: 0.3em;box-sizing: border-box;text-align: center;}#sk-container-id-2 label.sk-toggleable__label-arrow:before {content: \"▸\";float: left;margin-right: 0.25em;color: #696969;}#sk-container-id-2 label.sk-toggleable__label-arrow:hover:before {color: black;}#sk-container-id-2 div.sk-estimator:hover label.sk-toggleable__label-arrow:before {color: black;}#sk-container-id-2 div.sk-toggleable__content {max-height: 0;max-width: 0;overflow: hidden;text-align: left;background-color: #f0f8ff;}#sk-container-id-2 div.sk-toggleable__content pre {margin: 0.2em;color: black;border-radius: 0.25em;background-color: #f0f8ff;}#sk-container-id-2 input.sk-toggleable__control:checked~div.sk-toggleable__content {max-height: 200px;max-width: 100%;overflow: auto;}#sk-container-id-2 input.sk-toggleable__control:checked~label.sk-toggleable__label-arrow:before {content: \"▾\";}#sk-container-id-2 div.sk-estimator input.sk-toggleable__control:checked~label.sk-toggleable__label {background-color: #d4ebff;}#sk-container-id-2 div.sk-label input.sk-toggleable__control:checked~label.sk-toggleable__label {background-color: #d4ebff;}#sk-container-id-2 input.sk-hidden--visually {border: 0;clip: rect(1px 1px 1px 1px);clip: rect(1px, 1px, 1px, 1px);height: 1px;margin: -1px;overflow: hidden;padding: 0;position: absolute;width: 1px;}#sk-container-id-2 div.sk-estimator {font-family: monospace;background-color: #f0f8ff;border: 1px dotted black;border-radius: 0.25em;box-sizing: border-box;margin-bottom: 0.5em;}#sk-container-id-2 div.sk-estimator:hover {background-color: #d4ebff;}#sk-container-id-2 div.sk-parallel-item::after {content: \"\";width: 100%;border-bottom: 1px solid gray;flex-grow: 1;}#sk-container-id-2 div.sk-label:hover label.sk-toggleable__label {background-color: #d4ebff;}#sk-container-id-2 div.sk-serial::before {content: \"\";position: absolute;border-left: 1px solid gray;box-sizing: border-box;top: 0;bottom: 0;left: 50%;z-index: 0;}#sk-container-id-2 div.sk-serial {display: flex;flex-direction: column;align-items: center;background-color: white;padding-right: 0.2em;padding-left: 0.2em;position: relative;}#sk-container-id-2 div.sk-item {position: relative;z-index: 1;}#sk-container-id-2 div.sk-parallel {display: flex;align-items: stretch;justify-content: center;background-color: white;position: relative;}#sk-container-id-2 div.sk-item::before, #sk-container-id-2 div.sk-parallel-item::before {content: \"\";position: absolute;border-left: 1px solid gray;box-sizing: border-box;top: 0;bottom: 0;left: 50%;z-index: -1;}#sk-container-id-2 div.sk-parallel-item {display: flex;flex-direction: column;z-index: 1;position: relative;background-color: white;}#sk-container-id-2 div.sk-parallel-item:first-child::after {align-self: flex-end;width: 50%;}#sk-container-id-2 div.sk-parallel-item:last-child::after {align-self: flex-start;width: 50%;}#sk-container-id-2 div.sk-parallel-item:only-child::after {width: 0;}#sk-container-id-2 div.sk-dashed-wrapped {border: 1px dashed gray;margin: 0 0.4em 0.5em 0.4em;box-sizing: border-box;padding-bottom: 0.4em;background-color: white;}#sk-container-id-2 div.sk-label label {font-family: monospace;font-weight: bold;display: inline-block;line-height: 1.2em;}#sk-container-id-2 div.sk-label-container {text-align: center;}#sk-container-id-2 div.sk-container {/* jupyter's `normalize.less` sets `[hidden] { display: none; }` but bootstrap.min.css set `[hidden] { display: none !important; }` so we also need the `!important` here to be able to override the default hidden behavior on the sphinx rendered scikit-learn.org. See: https://github.com/scikit-learn/scikit-learn/issues/21755 */display: inline-block !important;position: relative;}#sk-container-id-2 div.sk-text-repr-fallback {display: none;}</style><div id=\"sk-container-id-2\" class=\"sk-top-container\"><div class=\"sk-text-repr-fallback\"><pre>SelectFromModel(estimator=LogisticRegression(C=0.5, penalty=&#x27;l1&#x27;,\n",
       "                                             random_state=10,\n",
       "                                             solver=&#x27;liblinear&#x27;))</pre><b>In a Jupyter environment, please rerun this cell to show the HTML representation or trust the notebook. <br />On GitHub, the HTML representation is unable to render, please try loading this page with nbviewer.org.</b></div><div class=\"sk-container\" hidden><div class=\"sk-item sk-dashed-wrapped\"><div class=\"sk-label-container\"><div class=\"sk-label sk-toggleable\"><input class=\"sk-toggleable__control sk-hidden--visually\" id=\"sk-estimator-id-2\" type=\"checkbox\" ><label for=\"sk-estimator-id-2\" class=\"sk-toggleable__label sk-toggleable__label-arrow\">SelectFromModel</label><div class=\"sk-toggleable__content\"><pre>SelectFromModel(estimator=LogisticRegression(C=0.5, penalty=&#x27;l1&#x27;,\n",
       "                                             random_state=10,\n",
       "                                             solver=&#x27;liblinear&#x27;))</pre></div></div></div><div class=\"sk-parallel\"><div class=\"sk-parallel-item\"><div class=\"sk-item\"><div class=\"sk-label-container\"><div class=\"sk-label sk-toggleable\"><input class=\"sk-toggleable__control sk-hidden--visually\" id=\"sk-estimator-id-3\" type=\"checkbox\" ><label for=\"sk-estimator-id-3\" class=\"sk-toggleable__label sk-toggleable__label-arrow\">estimator: LogisticRegression</label><div class=\"sk-toggleable__content\"><pre>LogisticRegression(C=0.5, penalty=&#x27;l1&#x27;, random_state=10, solver=&#x27;liblinear&#x27;)</pre></div></div></div><div class=\"sk-serial\"><div class=\"sk-item\"><div class=\"sk-estimator sk-toggleable\"><input class=\"sk-toggleable__control sk-hidden--visually\" id=\"sk-estimator-id-4\" type=\"checkbox\" ><label for=\"sk-estimator-id-4\" class=\"sk-toggleable__label sk-toggleable__label-arrow\">LogisticRegression</label><div class=\"sk-toggleable__content\"><pre>LogisticRegression(C=0.5, penalty=&#x27;l1&#x27;, random_state=10, solver=&#x27;liblinear&#x27;)</pre></div></div></div></div></div></div></div></div></div></div>"
      ],
      "text/plain": [
       "SelectFromModel(estimator=LogisticRegression(C=0.5, penalty='l1',\n",
       "                                             random_state=10,\n",
       "                                             solver='liblinear'))"
      ]
     },
     "execution_count": 7,
     "metadata": {},
     "output_type": "execute_result"
    }
   ],
   "source": [
    "sel_ = SelectFromModel(\n",
    "    LogisticRegression(C=0.5, penalty='l1', solver='liblinear', random_state=10))\n",
    "\n",
    "sel_.fit(scaler.transform(X_train), y_train)"
   ]
  },
  {
   "cell_type": "code",
   "execution_count": 8,
   "id": "32ba1636-f74e-4d93-9955-a27194508896",
   "metadata": {},
   "outputs": [
    {
     "name": "stdout",
     "output_type": "stream",
     "text": [
      "total features: 26\n",
      "selected features: 20\n",
      "features with coefficients shrank to zero: 6\n"
     ]
    }
   ],
   "source": [
    "selected_feat = X_train.columns[(sel_.get_support())]\n",
    "\n",
    "print('total features: {}'.format((X_train.shape[1])))\n",
    "print('selected features: {}'.format(len(selected_feat)))\n",
    "print('features with coefficients shrank to zero: {}'.format(\n",
    "    np.sum(sel_.estimator_.coef_ == 0)))"
   ]
  },
  {
   "cell_type": "code",
   "execution_count": 9,
   "id": "abaad755-cdf4-4c6c-a340-320a045c3ca0",
   "metadata": {},
   "outputs": [
    {
     "data": {
      "text/plain": [
       "Index(['kenpom_adjem', 'kenpom_adjoe', 'off_eff', 'def_eff', 'off_or_pct',\n",
       "       'off_ft_rate', 'def_to_pct', 'def_or_pct', 'def_ft_rate', 'off_2pt_pct',\n",
       "       'off_3pt_pct', 'def_block_pct', 'S_C', 'A_C', 'A_D', 'B_S', 'B_D',\n",
       "       'C_A', 'C_B', 'C_D'],\n",
       "      dtype='object')"
      ]
     },
     "execution_count": 9,
     "metadata": {},
     "output_type": "execute_result"
    }
   ],
   "source": [
    "selected_feat"
   ]
  },
  {
   "cell_type": "markdown",
   "id": "54453995-3224-4ce3-8c48-6f915757df6e",
   "metadata": {},
   "source": [
    "## II. Backward Selection"
   ]
  },
  {
   "cell_type": "code",
   "execution_count": 10,
   "id": "40903d8b-66aa-40e3-a5ae-5bc3d329c8f8",
   "metadata": {},
   "outputs": [],
   "source": [
    "sfs = SequentialFeatureSelector(\n",
    "        estimator=RandomForestClassifier(\n",
    "        n_estimators=10, n_jobs=4, random_state=0),\n",
    "        n_features_to_select=10,  # the number of features to retain\n",
    "        direction='backward',  # the direction of the selection procedure\n",
    "        scoring='roc_auc',  # the metric to evaluate\n",
    "        cv=2, # the cross-validation fold\n",
    "        n_jobs=None\n",
    ")\n",
    "\n",
    "\n",
    "sfs = sfs.fit(X_train, y_train)"
   ]
  },
  {
   "cell_type": "code",
   "execution_count": 11,
   "id": "99638e53-e5e1-4e43-b17a-65095e0315d1",
   "metadata": {},
   "outputs": [],
   "source": [
    "def run_randomForests(X_train, X_test, y_train, y_test):\n",
    "    rf = RandomForestClassifier(n_estimators=200, random_state=39, max_depth=3)\n",
    "    rf.fit(X_train, y_train)\n",
    "\n",
    "    print('Train set')\n",
    "    pred = rf.predict_proba(X_train)\n",
    "    print('Random Forests roc-auc: {}'.format(roc_auc_score(y_train, pred[:,1])))\n",
    "    \n",
    "    print('Test set')\n",
    "    pred = rf.predict_proba(X_test)\n",
    "    print('Random Forests roc-auc: {}'.format(roc_auc_score(y_test, pred[:,1])))"
   ]
  },
  {
   "cell_type": "code",
   "execution_count": 12,
   "id": "75e95072-8732-40fa-bc74-aa8319d836ee",
   "metadata": {},
   "outputs": [
    {
     "data": {
      "text/plain": [
       "array(['kenpom_adjem', 'def_eff', 'def_ft_rate', 'off_3pt_pct', 'S_B',\n",
       "       'S_C', 'A_D', 'C_S', 'C_A', 'C_D'], dtype=object)"
      ]
     },
     "execution_count": 12,
     "metadata": {},
     "output_type": "execute_result"
    }
   ],
   "source": [
    "selected_feat= sfs.get_feature_names_out()\n",
    "selected_feat"
   ]
  },
  {
   "cell_type": "code",
   "execution_count": 13,
   "id": "4493b70b-203f-4905-8def-b8e9407e34a7",
   "metadata": {},
   "outputs": [
    {
     "name": "stdout",
     "output_type": "stream",
     "text": [
      "Train set\n",
      "Random Forests roc-auc: 0.8859130156699713\n",
      "Test set\n",
      "Random Forests roc-auc: 0.7839285714285714\n"
     ]
    }
   ],
   "source": [
    "run_randomForests(X_train[selected_feat],\n",
    "                  X_test[selected_feat],\n",
    "                  y_train, y_test)"
   ]
  },
  {
   "cell_type": "code",
   "execution_count": 14,
   "id": "98e5a137-4f00-469d-a2cb-08e194c02868",
   "metadata": {},
   "outputs": [
    {
     "name": "stdout",
     "output_type": "stream",
     "text": [
      "Train set\n",
      "Random Forests roc-auc: 0.9198113207547169\n",
      "Test set\n",
      "Random Forests roc-auc: 0.7839285714285714\n"
     ]
    }
   ],
   "source": [
    "run_randomForests(X_train,\n",
    "                  X_test,\n",
    "                  y_train, y_test)"
   ]
  },
  {
   "cell_type": "markdown",
   "id": "c2032f78-b0e6-4db5-bf4c-11f1f66c80cc",
   "metadata": {},
   "source": [
    "### III. Forward Selection"
   ]
  },
  {
   "cell_type": "code",
   "execution_count": 15,
   "id": "42368368-8198-4727-89eb-273027abc9a1",
   "metadata": {},
   "outputs": [],
   "source": [
    "sfs = SequentialFeatureSelector(\n",
    "        estimator=RandomForestClassifier(\n",
    "        n_estimators=10, n_jobs=4, random_state=0),\n",
    "        n_features_to_select=10,  # the number of features to retain\n",
    "        direction='backward',  # the direction of the selection procedure\n",
    "        scoring='roc_auc',  # the metric to evaluate\n",
    "        cv=2, # the cross-validation fold\n",
    "        n_jobs=None\n",
    ")\n",
    "\n",
    "\n",
    "sfs = sfs.fit(X_train, y_train)"
   ]
  },
  {
   "cell_type": "code",
   "execution_count": 16,
   "id": "f41e78bb-59d0-4e5a-8071-bea5bf5f007f",
   "metadata": {},
   "outputs": [
    {
     "data": {
      "text/plain": [
       "array(['kenpom_adjem', 'def_eff', 'def_ft_rate', 'off_3pt_pct', 'S_B',\n",
       "       'S_C', 'A_D', 'C_S', 'C_A', 'C_D'], dtype=object)"
      ]
     },
     "execution_count": 16,
     "metadata": {},
     "output_type": "execute_result"
    }
   ],
   "source": [
    "selected_feat= sfs.get_feature_names_out()\n",
    "selected_feat"
   ]
  },
  {
   "cell_type": "code",
   "execution_count": 17,
   "id": "2220292e-a9dd-4d91-bc40-0e8ac804d433",
   "metadata": {},
   "outputs": [
    {
     "name": "stdout",
     "output_type": "stream",
     "text": [
      "Train set\n",
      "Random Forests roc-auc: 0.8859130156699713\n",
      "Test set\n",
      "Random Forests roc-auc: 0.7839285714285714\n"
     ]
    }
   ],
   "source": [
    "run_randomForests(X_train[selected_feat],\n",
    "                  X_test[selected_feat],\n",
    "                  y_train, y_test)"
   ]
  },
  {
   "cell_type": "markdown",
   "id": "593f2a4a-c7ff-42b1-9f64-3967ebdef556",
   "metadata": {},
   "source": [
    "### IV. ROC-AUC"
   ]
  },
  {
   "cell_type": "code",
   "execution_count": 18,
   "id": "905e790d-419d-4548-92dc-f954f51bd37a",
   "metadata": {},
   "outputs": [
    {
     "data": {
      "text/plain": [
       "[0.5553571428571429,\n",
       " 0.6267857142857143,\n",
       " 0.6053571428571428,\n",
       " 0.4839285714285714,\n",
       " 0.4839285714285714,\n",
       " 0.4714285714285715,\n",
       " 0.5464285714285714,\n",
       " 0.5107142857142857,\n",
       " 0.5142857142857142,\n",
       " 0.47678571428571426,\n",
       " 0.5410714285714286,\n",
       " 0.4839285714285714,\n",
       " 0.6339285714285715,\n",
       " 0.5232142857142856,\n",
       " 0.5660714285714286,\n",
       " 0.5821428571428572,\n",
       " 0.5589285714285713,\n",
       " 0.6428571428571428,\n",
       " 0.505357142857143,\n",
       " 0.5089285714285714,\n",
       " 0.5160714285714285,\n",
       " 0.5089285714285714,\n",
       " 0.5125,\n",
       " 0.5607142857142857,\n",
       " 0.4607142857142857,\n",
       " 0.5089285714285714]"
      ]
     },
     "execution_count": 18,
     "metadata": {},
     "output_type": "execute_result"
    }
   ],
   "source": [
    "roc_values = []\n",
    "\n",
    "# iterate over each feature in the dataset\n",
    "for feature in X_train.columns:\n",
    "\n",
    "    # train a decision tree classifier\n",
    "    clf = DecisionTreeClassifier(random_state=0)\n",
    "    clf.fit(X_train[feature].fillna(0).to_frame(), y_train)\n",
    "\n",
    "    # obtain the predictions\n",
    "    y_scored = clf.predict_proba(X_test[feature].to_frame())\n",
    "\n",
    "    # calculate and store the roc-auc\n",
    "    roc_values.append(roc_auc_score(y_test, y_scored[:, 1]))\n",
    "    \n",
    "# display the result\n",
    "roc_values"
   ]
  },
  {
   "cell_type": "code",
   "execution_count": 19,
   "id": "2c739702-43d9-40b0-8c29-96f63205a9f6",
   "metadata": {},
   "outputs": [
    {
     "data": {
      "text/plain": [
       "Text(0, 0.5, 'roc-auc')"
      ]
     },
     "execution_count": 19,
     "metadata": {},
     "output_type": "execute_result"
    },
    {
     "data": {
      "image/png": "[encoded data removed]",
      "text/plain": [
       "<Figure size 2000x500 with 1 Axes>"
      ]
     },
     "metadata": {},
     "output_type": "display_data"
    }
   ],
   "source": [
    "roc_values = pd.Series(roc_values)\n",
    "roc_values.index = X_train.columns\n",
    "roc_values.sort_values(ascending=False).plot.bar(figsize=(20, 5))\n",
    "plt.ylabel('roc-auc')"
   ]
  },
  {
   "cell_type": "code",
   "execution_count": 20,
   "id": "93593efc-ea82-4b86-abf7-6f7de0fcff02",
   "metadata": {},
   "outputs": [
    {
     "data": {
      "text/plain": [
       "20"
      ]
     },
     "execution_count": 20,
     "metadata": {},
     "output_type": "execute_result"
    }
   ],
   "source": [
    "len(roc_values[roc_values > 0.5])"
   ]
  },
  {
   "cell_type": "code",
   "execution_count": 21,
   "id": "0099e8e0-8c5f-4fb1-95f3-c05550104426",
   "metadata": {},
   "outputs": [
    {
     "data": {
      "text/plain": [
       "4"
      ]
     },
     "execution_count": 21,
     "metadata": {},
     "output_type": "execute_result"
    }
   ],
   "source": [
    "len(roc_values[roc_values > 0.6])"
   ]
  },
  {
   "cell_type": "code",
   "execution_count": 22,
   "id": "4141dc13-0e0b-4ec3-a328-0d7481344f7e",
   "metadata": {},
   "outputs": [
    {
     "data": {
      "text/plain": [
       "kenpom_adjem    0.5554\n",
       "kenpom_adjoe    0.6268\n",
       "kenpom_adjde    0.6054\n",
       "off_or_pct      0.5464\n",
       "off_ft_rate     0.5107\n",
       "def_efg_pct     0.5143\n",
       "def_or_pct      0.5411\n",
       "off_2pt_pct     0.6339\n",
       "off_3pt_pct     0.5232\n",
       "def_2pt_pct     0.5661\n",
       "def_block_pct   0.5821\n",
       "S_B             0.5589\n",
       "S_C             0.6429\n",
       "A_C             0.5054\n",
       "A_D             0.5089\n",
       "B_S             0.5161\n",
       "B_D             0.5089\n",
       "C_S             0.5125\n",
       "C_A             0.5607\n",
       "C_D             0.5089\n",
       "dtype: float64"
      ]
     },
     "execution_count": 22,
     "metadata": {},
     "output_type": "execute_result"
    }
   ],
   "source": [
    "roc_values[roc_values > 0.5]"
   ]
  },
  {
   "cell_type": "markdown",
   "id": "0f293f6f-c2c3-427d-b7aa-6ba8deeba9f6",
   "metadata": {},
   "source": [
    "### V. Exhaustive Feature Selection"
   ]
  },
  {
   "cell_type": "code",
   "execution_count": 23,
   "id": "e854af90-a700-48d5-bb62-961b5c174232",
   "metadata": {},
   "outputs": [],
   "source": [
    "from sklearn.linear_model import LogisticRegression\n",
    "scaler = StandardScaler()\n",
    "X_train_scaled = scaler.fit_transform(X_train)\n",
    "X_test_scaled = scaler.transform(X_test)\n",
    "X_train_scaled = pd.DataFrame(X_train_scaled, columns=X_train.columns)\n",
    "X_test_scaled = pd.DataFrame(X_test_scaled, columns=X_test.columns)\n",
    "\n",
    "X_train_scaled2 = X_train_scaled[[\n",
    "    'kenpom_adjem', \n",
    "    'kenpom_adjoe', \n",
    "    'off_eff', \n",
    "    'def_eff', \n",
    "    'off_or_pct',\n",
    "    'off_ft_rate', \n",
    "    'def_to_pct', \n",
    "    'def_or_pct', \n",
    "    'def_ft_rate', \n",
    "    'off_2pt_pct',\n",
    "    'off_3pt_pct', \n",
    "    'def_block_pct', \n",
    "    'S_C', \n",
    "    'A_C', \n",
    "    'A_D', \n",
    "    'B_S', \n",
    "    'B_D',\n",
    "    'C_A', \n",
    "    'C_B', \n",
    "    'C_D'   \n",
    "]]\n",
    "\n",
    "X_test_scaled2 = X_test_scaled[[\n",
    "    'kenpom_adjem', \n",
    "    'kenpom_adjoe', \n",
    "    'off_eff', \n",
    "    'def_eff', \n",
    "    'off_or_pct',\n",
    "    'off_ft_rate', \n",
    "    'def_to_pct', \n",
    "    'def_or_pct', \n",
    "    'def_ft_rate', \n",
    "    'off_2pt_pct',\n",
    "    'off_3pt_pct', \n",
    "    'def_block_pct', \n",
    "    'S_C', \n",
    "    'A_C', \n",
    "    'A_D', \n",
    "    'B_S', \n",
    "    'B_D',\n",
    "    'C_A', \n",
    "    'C_B', \n",
    "    'C_D'\n",
    "]]"
   ]
  },
  {
   "cell_type": "raw",
   "id": "d4d6c792-6883-46dc-b516-db8755be8d37",
   "metadata": {},
   "source": [
    "# Initialize variables to track the best model\n",
    "log_reg = LogisticRegression(solver='liblinear')\n",
    "best_f1 = 0\n",
    "best_features = []\n",
    "best_train_f1 = 0\n",
    "\n",
    "# Iterate over all possible subsets of features\n",
    "for k in range(1, len(X_train_scaled2.columns) + 1):\n",
    "    for subset in combinations(X_train_scaled2.columns, k):\n",
    "        X_train_subset = X_train_scaled2[list(subset)]\n",
    "        X_test_subset = X_test_scaled2[list(subset)]\n",
    "        \n",
    "        # Train the model with the subset of features\n",
    "        log_reg.fit(X_train_subset, y_train)\n",
    "        \n",
    "        # Make predictions on the test set\n",
    "        y_test_pred = log_reg.predict(X_test_subset)\n",
    "        test_f1 = f1_score(y_test, y_test_pred)\n",
    "        \n",
    "        # Make predictions on the training set\n",
    "        y_train_pred = log_reg.predict(X_train_subset)\n",
    "        train_f1 = f1_score(y_train, y_train_pred)\n",
    "        \n",
    "        # Track the best subset based on test F1 score\n",
    "        if test_f1 > best_f1:\n",
    "            best_f1 = test_f1\n",
    "            best_features = subset\n",
    "            best_train_f1 = train_f1\n",
    "\n",
    "# Output the best feature subset and the F1 scores\n",
    "print(f\"Best Feature Subset: {best_features}\")\n",
    "print(f\"Best Test F1 Score: {best_f1:.4f}\")\n",
    "print(f\"Training F1 Score of Best Model: {best_train_f1:.4f}\")"
   ]
  },
  {
   "cell_type": "markdown",
   "id": "75472714-8bcc-4f90-a0b4-c15a060456ae",
   "metadata": {},
   "source": [
    "### VI. XGBoost"
   ]
  },
  {
   "cell_type": "code",
   "execution_count": 24,
   "id": "005dfe79-fa61-4e70-93ae-8f9f4476164e",
   "metadata": {},
   "outputs": [
    {
     "name": "stdout",
     "output_type": "stream",
     "text": [
      "2.1.3\n"
     ]
    }
   ],
   "source": [
    "import xgboost\n",
    "print(xgboost.__version__)"
   ]
  },
  {
   "cell_type": "code",
   "execution_count": 28,
   "id": "b164b721-9846-4ea0-b96c-a1f0be9ce396",
   "metadata": {},
   "outputs": [
    {
     "name": "stdout",
     "output_type": "stream",
     "text": [
      "Fitting 5 folds for each of 2160 candidates, totalling 10800 fits\n",
      "Best Hyperparameters: {'colsample_bytree': 0.7, 'gamma': 0, 'learning_rate': 0.01, 'max_depth': 2, 'n_estimators': 200, 'subsample': 0.5}\n"
     ]
    }
   ],
   "source": [
    "import xgboost as xgb\n",
    "from sklearn.model_selection import GridSearchCV\n",
    "from sklearn.metrics import log_loss\n",
    "\n",
    "xgb_model = xgb.XGBClassifier(objective='binary:logistic', eval_metric='logloss')\n",
    "\n",
    "# Set up hyperparameter grid\n",
    "param_grid = {\n",
    "    'max_depth': [2, 3, 4],\n",
    "    'learning_rate': [0.001, 0.005, 0.01],\n",
    "    'n_estimators': [200, 300, 400, 500, 1000],\n",
    "    'subsample': [0.4, 0.5, 0.6, 0.7],\n",
    "    'colsample_bytree': [0.4, 0.5, 0.6, 0.7],\n",
    "    'gamma': [0, 0.1, 0.2]\n",
    "}\n",
    "\n",
    "# Set up GridSearchCV\n",
    "grid_search = GridSearchCV(estimator=xgb_model, param_grid=param_grid, \n",
    "                           scoring='neg_log_loss', cv=5, verbose=1, n_jobs=-1)\n",
    "\n",
    "# Fit grid search\n",
    "grid_search.fit(X_train, y_train)\n",
    "\n",
    "# Get the best parameters\n",
    "best_params = grid_search.best_params_\n",
    "print(f\"Best Hyperparameters: {best_params}\")"
   ]
  },
  {
   "cell_type": "code",
   "execution_count": 29,
   "id": "a95679df-d901-40ed-8f27-f1c5dcb0118f",
   "metadata": {},
   "outputs": [
    {
     "data": {
      "text/html": [
       "<style>#sk-container-id-4 {color: black;background-color: white;}#sk-container-id-4 pre{padding: 0;}#sk-container-id-4 div.sk-toggleable {background-color: white;}#sk-container-id-4 label.sk-toggleable__label {cursor: pointer;display: block;width: 100%;margin-bottom: 0;padding: 0.3em;box-sizing: border-box;text-align: center;}#sk-container-id-4 label.sk-toggleable__label-arrow:before {content: \"▸\";float: left;margin-right: 0.25em;color: #696969;}#sk-container-id-4 label.sk-toggleable__label-arrow:hover:before {color: black;}#sk-container-id-4 div.sk-estimator:hover label.sk-toggleable__label-arrow:before {color: black;}#sk-container-id-4 div.sk-toggleable__content {max-height: 0;max-width: 0;overflow: hidden;text-align: left;background-color: #f0f8ff;}#sk-container-id-4 div.sk-toggleable__content pre {margin: 0.2em;color: black;border-radius: 0.25em;background-color: #f0f8ff;}#sk-container-id-4 input.sk-toggleable__control:checked~div.sk-toggleable__content {max-height: 200px;max-width: 100%;overflow: auto;}#sk-container-id-4 input.sk-toggleable__control:checked~label.sk-toggleable__label-arrow:before {content: \"▾\";}#sk-container-id-4 div.sk-estimator input.sk-toggleable__control:checked~label.sk-toggleable__label {background-color: #d4ebff;}#sk-container-id-4 div.sk-label input.sk-toggleable__control:checked~label.sk-toggleable__label {background-color: #d4ebff;}#sk-container-id-4 input.sk-hidden--visually {border: 0;clip: rect(1px 1px 1px 1px);clip: rect(1px, 1px, 1px, 1px);height: 1px;margin: -1px;overflow: hidden;padding: 0;position: absolute;width: 1px;}#sk-container-id-4 div.sk-estimator {font-family: monospace;background-color: #f0f8ff;border: 1px dotted black;border-radius: 0.25em;box-sizing: border-box;margin-bottom: 0.5em;}#sk-container-id-4 div.sk-estimator:hover {background-color: #d4ebff;}#sk-container-id-4 div.sk-parallel-item::after {content: \"\";width: 100%;border-bottom: 1px solid gray;flex-grow: 1;}#sk-container-id-4 div.sk-label:hover label.sk-toggleable__label {background-color: #d4ebff;}#sk-container-id-4 div.sk-serial::before {content: \"\";position: absolute;border-left: 1px solid gray;box-sizing: border-box;top: 0;bottom: 0;left: 50%;z-index: 0;}#sk-container-id-4 div.sk-serial {display: flex;flex-direction: column;align-items: center;background-color: white;padding-right: 0.2em;padding-left: 0.2em;position: relative;}#sk-container-id-4 div.sk-item {position: relative;z-index: 1;}#sk-container-id-4 div.sk-parallel {display: flex;align-items: stretch;justify-content: center;background-color: white;position: relative;}#sk-container-id-4 div.sk-item::before, #sk-container-id-4 div.sk-parallel-item::before {content: \"\";position: absolute;border-left: 1px solid gray;box-sizing: border-box;top: 0;bottom: 0;left: 50%;z-index: -1;}#sk-container-id-4 div.sk-parallel-item {display: flex;flex-direction: column;z-index: 1;position: relative;background-color: white;}#sk-container-id-4 div.sk-parallel-item:first-child::after {align-self: flex-end;width: 50%;}#sk-container-id-4 div.sk-parallel-item:last-child::after {align-self: flex-start;width: 50%;}#sk-container-id-4 div.sk-parallel-item:only-child::after {width: 0;}#sk-container-id-4 div.sk-dashed-wrapped {border: 1px dashed gray;margin: 0 0.4em 0.5em 0.4em;box-sizing: border-box;padding-bottom: 0.4em;background-color: white;}#sk-container-id-4 div.sk-label label {font-family: monospace;font-weight: bold;display: inline-block;line-height: 1.2em;}#sk-container-id-4 div.sk-label-container {text-align: center;}#sk-container-id-4 div.sk-container {/* jupyter's `normalize.less` sets `[hidden] { display: none; }` but bootstrap.min.css set `[hidden] { display: none !important; }` so we also need the `!important` here to be able to override the default hidden behavior on the sphinx rendered scikit-learn.org. See: https://github.com/scikit-learn/scikit-learn/issues/21755 */display: inline-block !important;position: relative;}#sk-container-id-4 div.sk-text-repr-fallback {display: none;}</style><div id=\"sk-container-id-4\" class=\"sk-top-container\"><div class=\"sk-text-repr-fallback\"><pre>XGBClassifier(base_score=None, booster=None, callbacks=None,\n",
       "              colsample_bylevel=None, colsample_bynode=None,\n",
       "              colsample_bytree=0.7, device=None, early_stopping_rounds=None,\n",
       "              enable_categorical=False, eval_metric=&#x27;logloss&#x27;,\n",
       "              feature_types=None, gamma=0, grow_policy=None,\n",
       "              importance_type=None, interaction_constraints=None,\n",
       "              learning_rate=0.01, max_bin=None, max_cat_threshold=None,\n",
       "              max_cat_to_onehot=None, max_delta_step=None, max_depth=2,\n",
       "              max_leaves=None, min_child_weight=None, missing=nan,\n",
       "              monotone_constraints=None, multi_strategy=None, n_estimators=200,\n",
       "              n_jobs=None, num_parallel_tree=None, random_state=None, ...)</pre><b>In a Jupyter environment, please rerun this cell to show the HTML representation or trust the notebook. <br />On GitHub, the HTML representation is unable to render, please try loading this page with nbviewer.org.</b></div><div class=\"sk-container\" hidden><div class=\"sk-item\"><div class=\"sk-estimator sk-toggleable\"><input class=\"sk-toggleable__control sk-hidden--visually\" id=\"sk-estimator-id-6\" type=\"checkbox\" checked><label for=\"sk-estimator-id-6\" class=\"sk-toggleable__label sk-toggleable__label-arrow\">XGBClassifier</label><div class=\"sk-toggleable__content\"><pre>XGBClassifier(base_score=None, booster=None, callbacks=None,\n",
       "              colsample_bylevel=None, colsample_bynode=None,\n",
       "              colsample_bytree=0.7, device=None, early_stopping_rounds=None,\n",
       "              enable_categorical=False, eval_metric=&#x27;logloss&#x27;,\n",
       "              feature_types=None, gamma=0, grow_policy=None,\n",
       "              importance_type=None, interaction_constraints=None,\n",
       "              learning_rate=0.01, max_bin=None, max_cat_threshold=None,\n",
       "              max_cat_to_onehot=None, max_delta_step=None, max_depth=2,\n",
       "              max_leaves=None, min_child_weight=None, missing=nan,\n",
       "              monotone_constraints=None, multi_strategy=None, n_estimators=200,\n",
       "              n_jobs=None, num_parallel_tree=None, random_state=None, ...)</pre></div></div></div></div></div>"
      ],
      "text/plain": [
       "XGBClassifier(base_score=None, booster=None, callbacks=None,\n",
       "              colsample_bylevel=None, colsample_bynode=None,\n",
       "              colsample_bytree=0.7, device=None, early_stopping_rounds=None,\n",
       "              enable_categorical=False, eval_metric='logloss',\n",
       "              feature_types=None, gamma=0, grow_policy=None,\n",
       "              importance_type=None, interaction_constraints=None,\n",
       "              learning_rate=0.01, max_bin=None, max_cat_threshold=None,\n",
       "              max_cat_to_onehot=None, max_delta_step=None, max_depth=2,\n",
       "              max_leaves=None, min_child_weight=None, missing=nan,\n",
       "              monotone_constraints=None, multi_strategy=None, n_estimators=200,\n",
       "              n_jobs=None, num_parallel_tree=None, random_state=None, ...)"
      ]
     },
     "execution_count": 29,
     "metadata": {},
     "output_type": "execute_result"
    }
   ],
   "source": [
    "# Retrain the model with the best parameters\n",
    "best_xgb_model = xgb.XGBClassifier(\n",
    "    objective='binary:logistic',\n",
    "    eval_metric='logloss',\n",
    "    **best_params\n",
    ")\n",
    "\n",
    "best_xgb_model.fit(X_train, y_train)"
   ]
  },
  {
   "cell_type": "code",
   "execution_count": 30,
   "id": "cf32281e-8452-4c20-9954-561e61b1ba16",
   "metadata": {},
   "outputs": [
    {
     "name": "stdout",
     "output_type": "stream",
     "text": [
      "Log Loss on test set: 0.5679643774869699\n"
     ]
    }
   ],
   "source": [
    "# Predict probabilities\n",
    "y_pred_proba = best_xgb_model.predict_proba(X_test)[:, 1]\n",
    "\n",
    "# Calculate Log Loss\n",
    "logloss = log_loss(y_test, y_pred_proba)\n",
    "print(f\"Log Loss on test set: {logloss}\")\n"
   ]
  },
  {
   "cell_type": "code",
   "execution_count": 31,
   "id": "a511089a-1cbc-4d88-a269-30693f52ce44",
   "metadata": {},
   "outputs": [
    {
     "name": "stdout",
     "output_type": "stream",
     "text": [
      "F1 Score on Training Data: 0.74\n",
      "F1 Score on Test Data: 0.71\n"
     ]
    }
   ],
   "source": [
    "# Predictions\n",
    "y_train_pred = best_xgb_model.predict(X_train)\n",
    "y_test_pred = best_xgb_model.predict(X_test)\n",
    "\n",
    "# Calculate F1 scores\n",
    "f1_train = f1_score(y_train, y_train_pred)\n",
    "f1_test = f1_score(y_test, y_test_pred)\n",
    "\n",
    "print(f\"F1 Score on Training Data: {f1_train:.2f}\")\n",
    "print(f\"F1 Score on Test Data: {f1_test:.2f}\")"
   ]
  },
  {
   "cell_type": "code",
   "execution_count": null,
   "id": "089986e9-fa80-4253-8ff7-f80668102460",
   "metadata": {},
   "outputs": [],
   "source": []
  }
 ],
 "metadata": {
  "kernelspec": {
   "display_name": "Python 3 (ipykernel)",
   "language": "python",
   "name": "python3"
  },
  "language_info": {
   "codemirror_mode": {
    "name": "ipython",
    "version": 3
   },
   "file_extension": ".py",
   "mimetype": "text/x-python",
   "name": "python",
   "nbconvert_exporter": "python",
   "pygments_lexer": "ipython3",
   "version": "3.8.20"
  }
 },
 "nbformat": 4,
 "nbformat_minor": 5
}
