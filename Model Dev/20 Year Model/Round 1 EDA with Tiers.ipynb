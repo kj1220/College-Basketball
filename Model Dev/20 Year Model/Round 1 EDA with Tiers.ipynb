{
 "cells": [
  {
   "cell_type": "code",
   "execution_count": 76,
   "id": "03de06e4-2a89-49cb-ad1f-13044eff8089",
   "metadata": {},
   "outputs": [
    {
     "name": "stdout",
     "output_type": "stream",
     "text": [
      "(638, 73)\n"
     ]
    },
    {
     "data": {
      "text/html": [
       "<div>\n",
       "<style scoped>\n",
       "    .dataframe tbody tr th:only-of-type {\n",
       "        vertical-align: middle;\n",
       "    }\n",
       "\n",
       "    .dataframe tbody tr th {\n",
       "        vertical-align: top;\n",
       "    }\n",
       "\n",
       "    .dataframe thead th {\n",
       "        text-align: right;\n",
       "    }\n",
       "</style>\n",
       "<table border=\"1\" class=\"dataframe\">\n",
       "  <thead>\n",
       "    <tr style=\"text-align: right;\">\n",
       "      <th></th>\n",
       "      <th>year</th>\n",
       "      <th>region</th>\n",
       "      <th>round</th>\n",
       "      <th>high_bracket_seed</th>\n",
       "      <th>high_bracket_team</th>\n",
       "      <th>low_bracket_seed</th>\n",
       "      <th>low_bracket_team</th>\n",
       "      <th>win</th>\n",
       "      <th>kenpom_adjem</th>\n",
       "      <th>kenpom_adjoe</th>\n",
       "      <th>...</th>\n",
       "      <th>D_B</th>\n",
       "      <th>D_C</th>\n",
       "      <th>D_D</th>\n",
       "      <th>D_F</th>\n",
       "      <th>F_S</th>\n",
       "      <th>F_A</th>\n",
       "      <th>F_B</th>\n",
       "      <th>F_C</th>\n",
       "      <th>F_D</th>\n",
       "      <th>F_F</th>\n",
       "    </tr>\n",
       "  </thead>\n",
       "  <tbody>\n",
       "    <tr>\n",
       "      <th>0</th>\n",
       "      <td>2004</td>\n",
       "      <td>East</td>\n",
       "      <td>First Round</td>\n",
       "      <td>1</td>\n",
       "      <td>2004 Saint Joseph's</td>\n",
       "      <td>16</td>\n",
       "      <td>2004 Liberty</td>\n",
       "      <td>1</td>\n",
       "      <td>30.5129</td>\n",
       "      <td>89.1570</td>\n",
       "      <td>...</td>\n",
       "      <td>0</td>\n",
       "      <td>0</td>\n",
       "      <td>0</td>\n",
       "      <td>0</td>\n",
       "      <td>0</td>\n",
       "      <td>0</td>\n",
       "      <td>0</td>\n",
       "      <td>0</td>\n",
       "      <td>0</td>\n",
       "      <td>0</td>\n",
       "    </tr>\n",
       "    <tr>\n",
       "      <th>7</th>\n",
       "      <td>2004</td>\n",
       "      <td>East</td>\n",
       "      <td>First Round</td>\n",
       "      <td>8</td>\n",
       "      <td>2004 Texas Tech</td>\n",
       "      <td>9</td>\n",
       "      <td>2004 Charlotte</td>\n",
       "      <td>1</td>\n",
       "      <td>1.4368</td>\n",
       "      <td>78.2630</td>\n",
       "      <td>...</td>\n",
       "      <td>0</td>\n",
       "      <td>0</td>\n",
       "      <td>0</td>\n",
       "      <td>0</td>\n",
       "      <td>0</td>\n",
       "      <td>0</td>\n",
       "      <td>0</td>\n",
       "      <td>0</td>\n",
       "      <td>0</td>\n",
       "      <td>0</td>\n",
       "    </tr>\n",
       "    <tr>\n",
       "      <th>8</th>\n",
       "      <td>2004</td>\n",
       "      <td>East</td>\n",
       "      <td>First Round</td>\n",
       "      <td>5</td>\n",
       "      <td>2004 Florida</td>\n",
       "      <td>12</td>\n",
       "      <td>2004 Manhattan</td>\n",
       "      <td>0</td>\n",
       "      <td>8.3076</td>\n",
       "      <td>83.7144</td>\n",
       "      <td>...</td>\n",
       "      <td>0</td>\n",
       "      <td>0</td>\n",
       "      <td>0</td>\n",
       "      <td>0</td>\n",
       "      <td>0</td>\n",
       "      <td>0</td>\n",
       "      <td>0</td>\n",
       "      <td>0</td>\n",
       "      <td>0</td>\n",
       "      <td>0</td>\n",
       "    </tr>\n",
       "    <tr>\n",
       "      <th>9</th>\n",
       "      <td>2004</td>\n",
       "      <td>East</td>\n",
       "      <td>First Round</td>\n",
       "      <td>4</td>\n",
       "      <td>2004 Wake Forest</td>\n",
       "      <td>13</td>\n",
       "      <td>2004 VCU</td>\n",
       "      <td>1</td>\n",
       "      <td>13.6345</td>\n",
       "      <td>86.9167</td>\n",
       "      <td>...</td>\n",
       "      <td>0</td>\n",
       "      <td>0</td>\n",
       "      <td>0</td>\n",
       "      <td>0</td>\n",
       "      <td>0</td>\n",
       "      <td>0</td>\n",
       "      <td>0</td>\n",
       "      <td>0</td>\n",
       "      <td>0</td>\n",
       "      <td>0</td>\n",
       "    </tr>\n",
       "    <tr>\n",
       "      <th>10</th>\n",
       "      <td>2004</td>\n",
       "      <td>East</td>\n",
       "      <td>First Round</td>\n",
       "      <td>6</td>\n",
       "      <td>2004 Wisconsin</td>\n",
       "      <td>11</td>\n",
       "      <td>2004 Richmond</td>\n",
       "      <td>1</td>\n",
       "      <td>9.5954</td>\n",
       "      <td>74.4991</td>\n",
       "      <td>...</td>\n",
       "      <td>0</td>\n",
       "      <td>0</td>\n",
       "      <td>0</td>\n",
       "      <td>0</td>\n",
       "      <td>0</td>\n",
       "      <td>0</td>\n",
       "      <td>0</td>\n",
       "      <td>0</td>\n",
       "      <td>0</td>\n",
       "      <td>0</td>\n",
       "    </tr>\n",
       "  </tbody>\n",
       "</table>\n",
       "<p>5 rows × 73 columns</p>\n",
       "</div>"
      ],
      "text/plain": [
       "    year region        round  high_bracket_seed    high_bracket_team  \\\n",
       "0   2004   East  First Round                  1  2004 Saint Joseph's   \n",
       "7   2004   East  First Round                  8      2004 Texas Tech   \n",
       "8   2004   East  First Round                  5         2004 Florida   \n",
       "9   2004   East  First Round                  4     2004 Wake Forest   \n",
       "10  2004   East  First Round                  6       2004 Wisconsin   \n",
       "\n",
       "    low_bracket_seed low_bracket_team  win  kenpom_adjem  kenpom_adjoe  ...  \\\n",
       "0                 16     2004 Liberty    1       30.5129       89.1570  ...   \n",
       "7                  9   2004 Charlotte    1        1.4368       78.2630  ...   \n",
       "8                 12   2004 Manhattan    0        8.3076       83.7144  ...   \n",
       "9                 13         2004 VCU    1       13.6345       86.9167  ...   \n",
       "10                11    2004 Richmond    1        9.5954       74.4991  ...   \n",
       "\n",
       "    D_B  D_C  D_D  D_F  F_S  F_A  F_B  F_C  F_D  F_F  \n",
       "0     0    0    0    0    0    0    0    0    0    0  \n",
       "7     0    0    0    0    0    0    0    0    0    0  \n",
       "8     0    0    0    0    0    0    0    0    0    0  \n",
       "9     0    0    0    0    0    0    0    0    0    0  \n",
       "10    0    0    0    0    0    0    0    0    0    0  \n",
       "\n",
       "[5 rows x 73 columns]"
      ]
     },
     "execution_count": 76,
     "metadata": {},
     "output_type": "execute_result"
    }
   ],
   "source": [
    "### Setup Environment ###\n",
    "import numpy as np\n",
    "import pandas as pd\n",
    "import plotly_express as px\n",
    "import plotly.graph_objects as go\n",
    "import matplotlib.pyplot as plt\n",
    "import seaborn as sns\n",
    "from scipy.stats import chi2_contingency\n",
    "from mlxtend.feature_selection import ExhaustiveFeatureSelector as EFS\n",
    "\n",
    "np.set_printoptions(suppress=True, formatter={'float_kind':'{:0.4f}'.format})\n",
    "pd.set_option('display.float_format', lambda x: '%.4f' % x)\n",
    "pd.set_option('display.max_rows', None)\n",
    "\n",
    "from sklearn.model_selection import train_test_split\n",
    "from sklearn.feature_selection import mutual_info_classif, f_classif, SelectKBest, SelectFromModel, SequentialFeatureSelector\n",
    "from sklearn.linear_model import Lasso, LogisticRegression\n",
    "from sklearn.tree import DecisionTreeClassifier\n",
    "from sklearn.ensemble import RandomForestRegressor, RandomForestClassifier\n",
    "from sklearn.metrics import roc_auc_score, r2_score\n",
    "from sklearn.preprocessing import StandardScaler\n",
    "\n",
    "df = pd.read_csv('matchups_20_with_tiers.csv')\n",
    "df = df[df['round'] == 'First Round']\n",
    "print(df.shape)\n",
    "df.head()"
   ]
  },
  {
   "cell_type": "code",
   "execution_count": 77,
   "id": "3a8289f6-c0f3-436d-aaaf-1fc1f0331895",
   "metadata": {},
   "outputs": [
    {
     "data": {
      "text/plain": [
       "1   0.7257\n",
       "0   0.2743\n",
       "Name: win, dtype: float64"
      ]
     },
     "execution_count": 77,
     "metadata": {},
     "output_type": "execute_result"
    }
   ],
   "source": [
    "df['win'].value_counts(normalize=True)"
   ]
  },
  {
   "cell_type": "code",
   "execution_count": 78,
   "id": "da730161-306f-4a9f-aadc-fbde1cf07b7f",
   "metadata": {},
   "outputs": [],
   "source": [
    "eda_df = df[[\n",
    "'win',\n",
    " 'kenpom_adjem',\n",
    " 'kenpom_adjoe',\n",
    " 'kenpom_adjde',\n",
    " 'off_efg_pct',\n",
    " 'def_efg_pct',\n",
    " 'def_to_pct',\n",
    " 'off_2pt_pct',\n",
    " 'off_3pt_pct',\n",
    " 'def_block_pct',\n",
    " 'off_stl_rate',\n",
    " 'def_ast_rate',\n",
    " 'def_stl_rate',\n",
    " 'S_D',\n",
    " 'S_F',\n",
    " 'A_D',\n",
    " 'A_F',\n",
    " 'C_B',\n",
    " 'C_C']]  "
   ]
  },
  {
   "cell_type": "code",
   "execution_count": 79,
   "id": "02fec4e0-4941-4148-8244-22dd6cf2269f",
   "metadata": {},
   "outputs": [
    {
     "data": {
      "text/plain": [
       "((446, 18), (192, 18))"
      ]
     },
     "execution_count": 79,
     "metadata": {},
     "output_type": "execute_result"
    }
   ],
   "source": [
    "# Split dataset into a train and test set\n",
    "X = eda_df.iloc[:,1:]\n",
    "y = eda_df['win']\n",
    "\n",
    "X_train, X_test, y_train, y_test = train_test_split(\n",
    "    X, y, test_size=0.3, random_state=0)\n",
    "\n",
    "X_train.shape, X_test.shape"
   ]
  },
  {
   "cell_type": "markdown",
   "id": "02e94394-073e-424d-abd8-4e42a64f01cc",
   "metadata": {},
   "source": [
    "### I. Lasso Regression"
   ]
  },
  {
   "cell_type": "code",
   "execution_count": 80,
   "id": "37b00394-1701-41ee-858e-f12f38473f24",
   "metadata": {},
   "outputs": [
    {
     "data": {
      "text/html": [
       "<style>#sk-container-id-2 {color: black;background-color: white;}#sk-container-id-2 pre{padding: 0;}#sk-container-id-2 div.sk-toggleable {background-color: white;}#sk-container-id-2 label.sk-toggleable__label {cursor: pointer;display: block;width: 100%;margin-bottom: 0;padding: 0.3em;box-sizing: border-box;text-align: center;}#sk-container-id-2 label.sk-toggleable__label-arrow:before {content: \"▸\";float: left;margin-right: 0.25em;color: #696969;}#sk-container-id-2 label.sk-toggleable__label-arrow:hover:before {color: black;}#sk-container-id-2 div.sk-estimator:hover label.sk-toggleable__label-arrow:before {color: black;}#sk-container-id-2 div.sk-toggleable__content {max-height: 0;max-width: 0;overflow: hidden;text-align: left;background-color: #f0f8ff;}#sk-container-id-2 div.sk-toggleable__content pre {margin: 0.2em;color: black;border-radius: 0.25em;background-color: #f0f8ff;}#sk-container-id-2 input.sk-toggleable__control:checked~div.sk-toggleable__content {max-height: 200px;max-width: 100%;overflow: auto;}#sk-container-id-2 input.sk-toggleable__control:checked~label.sk-toggleable__label-arrow:before {content: \"▾\";}#sk-container-id-2 div.sk-estimator input.sk-toggleable__control:checked~label.sk-toggleable__label {background-color: #d4ebff;}#sk-container-id-2 div.sk-label input.sk-toggleable__control:checked~label.sk-toggleable__label {background-color: #d4ebff;}#sk-container-id-2 input.sk-hidden--visually {border: 0;clip: rect(1px 1px 1px 1px);clip: rect(1px, 1px, 1px, 1px);height: 1px;margin: -1px;overflow: hidden;padding: 0;position: absolute;width: 1px;}#sk-container-id-2 div.sk-estimator {font-family: monospace;background-color: #f0f8ff;border: 1px dotted black;border-radius: 0.25em;box-sizing: border-box;margin-bottom: 0.5em;}#sk-container-id-2 div.sk-estimator:hover {background-color: #d4ebff;}#sk-container-id-2 div.sk-parallel-item::after {content: \"\";width: 100%;border-bottom: 1px solid gray;flex-grow: 1;}#sk-container-id-2 div.sk-label:hover label.sk-toggleable__label {background-color: #d4ebff;}#sk-container-id-2 div.sk-serial::before {content: \"\";position: absolute;border-left: 1px solid gray;box-sizing: border-box;top: 0;bottom: 0;left: 50%;z-index: 0;}#sk-container-id-2 div.sk-serial {display: flex;flex-direction: column;align-items: center;background-color: white;padding-right: 0.2em;padding-left: 0.2em;position: relative;}#sk-container-id-2 div.sk-item {position: relative;z-index: 1;}#sk-container-id-2 div.sk-parallel {display: flex;align-items: stretch;justify-content: center;background-color: white;position: relative;}#sk-container-id-2 div.sk-item::before, #sk-container-id-2 div.sk-parallel-item::before {content: \"\";position: absolute;border-left: 1px solid gray;box-sizing: border-box;top: 0;bottom: 0;left: 50%;z-index: -1;}#sk-container-id-2 div.sk-parallel-item {display: flex;flex-direction: column;z-index: 1;position: relative;background-color: white;}#sk-container-id-2 div.sk-parallel-item:first-child::after {align-self: flex-end;width: 50%;}#sk-container-id-2 div.sk-parallel-item:last-child::after {align-self: flex-start;width: 50%;}#sk-container-id-2 div.sk-parallel-item:only-child::after {width: 0;}#sk-container-id-2 div.sk-dashed-wrapped {border: 1px dashed gray;margin: 0 0.4em 0.5em 0.4em;box-sizing: border-box;padding-bottom: 0.4em;background-color: white;}#sk-container-id-2 div.sk-label label {font-family: monospace;font-weight: bold;display: inline-block;line-height: 1.2em;}#sk-container-id-2 div.sk-label-container {text-align: center;}#sk-container-id-2 div.sk-container {/* jupyter's `normalize.less` sets `[hidden] { display: none; }` but bootstrap.min.css set `[hidden] { display: none !important; }` so we also need the `!important` here to be able to override the default hidden behavior on the sphinx rendered scikit-learn.org. See: https://github.com/scikit-learn/scikit-learn/issues/21755 */display: inline-block !important;position: relative;}#sk-container-id-2 div.sk-text-repr-fallback {display: none;}</style><div id=\"sk-container-id-2\" class=\"sk-top-container\"><div class=\"sk-text-repr-fallback\"><pre>StandardScaler()</pre><b>In a Jupyter environment, please rerun this cell to show the HTML representation or trust the notebook. <br />On GitHub, the HTML representation is unable to render, please try loading this page with nbviewer.org.</b></div><div class=\"sk-container\" hidden><div class=\"sk-item\"><div class=\"sk-estimator sk-toggleable\"><input class=\"sk-toggleable__control sk-hidden--visually\" id=\"sk-estimator-id-2\" type=\"checkbox\" checked><label for=\"sk-estimator-id-2\" class=\"sk-toggleable__label sk-toggleable__label-arrow\">StandardScaler</label><div class=\"sk-toggleable__content\"><pre>StandardScaler()</pre></div></div></div></div></div>"
      ],
      "text/plain": [
       "StandardScaler()"
      ]
     },
     "execution_count": 80,
     "metadata": {},
     "output_type": "execute_result"
    }
   ],
   "source": [
    "scaler = StandardScaler()\n",
    "scaler.fit(X_train)"
   ]
  },
  {
   "cell_type": "code",
   "execution_count": 81,
   "id": "9c4ad628-ef3b-4f13-92ab-47fa022fddb7",
   "metadata": {},
   "outputs": [
    {
     "data": {
      "text/html": [
       "<style>#sk-container-id-3 {color: black;background-color: white;}#sk-container-id-3 pre{padding: 0;}#sk-container-id-3 div.sk-toggleable {background-color: white;}#sk-container-id-3 label.sk-toggleable__label {cursor: pointer;display: block;width: 100%;margin-bottom: 0;padding: 0.3em;box-sizing: border-box;text-align: center;}#sk-container-id-3 label.sk-toggleable__label-arrow:before {content: \"▸\";float: left;margin-right: 0.25em;color: #696969;}#sk-container-id-3 label.sk-toggleable__label-arrow:hover:before {color: black;}#sk-container-id-3 div.sk-estimator:hover label.sk-toggleable__label-arrow:before {color: black;}#sk-container-id-3 div.sk-toggleable__content {max-height: 0;max-width: 0;overflow: hidden;text-align: left;background-color: #f0f8ff;}#sk-container-id-3 div.sk-toggleable__content pre {margin: 0.2em;color: black;border-radius: 0.25em;background-color: #f0f8ff;}#sk-container-id-3 input.sk-toggleable__control:checked~div.sk-toggleable__content {max-height: 200px;max-width: 100%;overflow: auto;}#sk-container-id-3 input.sk-toggleable__control:checked~label.sk-toggleable__label-arrow:before {content: \"▾\";}#sk-container-id-3 div.sk-estimator input.sk-toggleable__control:checked~label.sk-toggleable__label {background-color: #d4ebff;}#sk-container-id-3 div.sk-label input.sk-toggleable__control:checked~label.sk-toggleable__label {background-color: #d4ebff;}#sk-container-id-3 input.sk-hidden--visually {border: 0;clip: rect(1px 1px 1px 1px);clip: rect(1px, 1px, 1px, 1px);height: 1px;margin: -1px;overflow: hidden;padding: 0;position: absolute;width: 1px;}#sk-container-id-3 div.sk-estimator {font-family: monospace;background-color: #f0f8ff;border: 1px dotted black;border-radius: 0.25em;box-sizing: border-box;margin-bottom: 0.5em;}#sk-container-id-3 div.sk-estimator:hover {background-color: #d4ebff;}#sk-container-id-3 div.sk-parallel-item::after {content: \"\";width: 100%;border-bottom: 1px solid gray;flex-grow: 1;}#sk-container-id-3 div.sk-label:hover label.sk-toggleable__label {background-color: #d4ebff;}#sk-container-id-3 div.sk-serial::before {content: \"\";position: absolute;border-left: 1px solid gray;box-sizing: border-box;top: 0;bottom: 0;left: 50%;z-index: 0;}#sk-container-id-3 div.sk-serial {display: flex;flex-direction: column;align-items: center;background-color: white;padding-right: 0.2em;padding-left: 0.2em;position: relative;}#sk-container-id-3 div.sk-item {position: relative;z-index: 1;}#sk-container-id-3 div.sk-parallel {display: flex;align-items: stretch;justify-content: center;background-color: white;position: relative;}#sk-container-id-3 div.sk-item::before, #sk-container-id-3 div.sk-parallel-item::before {content: \"\";position: absolute;border-left: 1px solid gray;box-sizing: border-box;top: 0;bottom: 0;left: 50%;z-index: -1;}#sk-container-id-3 div.sk-parallel-item {display: flex;flex-direction: column;z-index: 1;position: relative;background-color: white;}#sk-container-id-3 div.sk-parallel-item:first-child::after {align-self: flex-end;width: 50%;}#sk-container-id-3 div.sk-parallel-item:last-child::after {align-self: flex-start;width: 50%;}#sk-container-id-3 div.sk-parallel-item:only-child::after {width: 0;}#sk-container-id-3 div.sk-dashed-wrapped {border: 1px dashed gray;margin: 0 0.4em 0.5em 0.4em;box-sizing: border-box;padding-bottom: 0.4em;background-color: white;}#sk-container-id-3 div.sk-label label {font-family: monospace;font-weight: bold;display: inline-block;line-height: 1.2em;}#sk-container-id-3 div.sk-label-container {text-align: center;}#sk-container-id-3 div.sk-container {/* jupyter's `normalize.less` sets `[hidden] { display: none; }` but bootstrap.min.css set `[hidden] { display: none !important; }` so we also need the `!important` here to be able to override the default hidden behavior on the sphinx rendered scikit-learn.org. See: https://github.com/scikit-learn/scikit-learn/issues/21755 */display: inline-block !important;position: relative;}#sk-container-id-3 div.sk-text-repr-fallback {display: none;}</style><div id=\"sk-container-id-3\" class=\"sk-top-container\"><div class=\"sk-text-repr-fallback\"><pre>SelectFromModel(estimator=LogisticRegression(C=0.5, penalty=&#x27;l1&#x27;,\n",
       "                                             random_state=10,\n",
       "                                             solver=&#x27;liblinear&#x27;))</pre><b>In a Jupyter environment, please rerun this cell to show the HTML representation or trust the notebook. <br />On GitHub, the HTML representation is unable to render, please try loading this page with nbviewer.org.</b></div><div class=\"sk-container\" hidden><div class=\"sk-item sk-dashed-wrapped\"><div class=\"sk-label-container\"><div class=\"sk-label sk-toggleable\"><input class=\"sk-toggleable__control sk-hidden--visually\" id=\"sk-estimator-id-3\" type=\"checkbox\" ><label for=\"sk-estimator-id-3\" class=\"sk-toggleable__label sk-toggleable__label-arrow\">SelectFromModel</label><div class=\"sk-toggleable__content\"><pre>SelectFromModel(estimator=LogisticRegression(C=0.5, penalty=&#x27;l1&#x27;,\n",
       "                                             random_state=10,\n",
       "                                             solver=&#x27;liblinear&#x27;))</pre></div></div></div><div class=\"sk-parallel\"><div class=\"sk-parallel-item\"><div class=\"sk-item\"><div class=\"sk-label-container\"><div class=\"sk-label sk-toggleable\"><input class=\"sk-toggleable__control sk-hidden--visually\" id=\"sk-estimator-id-4\" type=\"checkbox\" ><label for=\"sk-estimator-id-4\" class=\"sk-toggleable__label sk-toggleable__label-arrow\">estimator: LogisticRegression</label><div class=\"sk-toggleable__content\"><pre>LogisticRegression(C=0.5, penalty=&#x27;l1&#x27;, random_state=10, solver=&#x27;liblinear&#x27;)</pre></div></div></div><div class=\"sk-serial\"><div class=\"sk-item\"><div class=\"sk-estimator sk-toggleable\"><input class=\"sk-toggleable__control sk-hidden--visually\" id=\"sk-estimator-id-5\" type=\"checkbox\" ><label for=\"sk-estimator-id-5\" class=\"sk-toggleable__label sk-toggleable__label-arrow\">LogisticRegression</label><div class=\"sk-toggleable__content\"><pre>LogisticRegression(C=0.5, penalty=&#x27;l1&#x27;, random_state=10, solver=&#x27;liblinear&#x27;)</pre></div></div></div></div></div></div></div></div></div></div>"
      ],
      "text/plain": [
       "SelectFromModel(estimator=LogisticRegression(C=0.5, penalty='l1',\n",
       "                                             random_state=10,\n",
       "                                             solver='liblinear'))"
      ]
     },
     "execution_count": 81,
     "metadata": {},
     "output_type": "execute_result"
    }
   ],
   "source": [
    "sel_ = SelectFromModel(\n",
    "    LogisticRegression(C=0.5, penalty='l1', solver='liblinear', random_state=10))\n",
    "\n",
    "sel_.fit(scaler.transform(X_train), y_train)"
   ]
  },
  {
   "cell_type": "code",
   "execution_count": 82,
   "id": "32ba1636-f74e-4d93-9955-a27194508896",
   "metadata": {},
   "outputs": [
    {
     "name": "stdout",
     "output_type": "stream",
     "text": [
      "total features: 18\n",
      "selected features: 14\n",
      "features with coefficients shrank to zero: 4\n"
     ]
    }
   ],
   "source": [
    "selected_feat = X_train.columns[(sel_.get_support())]\n",
    "\n",
    "print('total features: {}'.format((X_train.shape[1])))\n",
    "print('selected features: {}'.format(len(selected_feat)))\n",
    "print('features with coefficients shrank to zero: {}'.format(\n",
    "    np.sum(sel_.estimator_.coef_ == 0)))"
   ]
  },
  {
   "cell_type": "code",
   "execution_count": 83,
   "id": "abaad755-cdf4-4c6c-a340-320a045c3ca0",
   "metadata": {},
   "outputs": [
    {
     "data": {
      "text/plain": [
       "Index(['kenpom_adjem', 'kenpom_adjoe', 'def_to_pct', 'off_2pt_pct',\n",
       "       'off_3pt_pct', 'def_block_pct', 'off_stl_rate', 'def_ast_rate',\n",
       "       'def_stl_rate', 'S_D', 'S_F', 'A_F', 'C_B', 'C_C'],\n",
       "      dtype='object')"
      ]
     },
     "execution_count": 83,
     "metadata": {},
     "output_type": "execute_result"
    }
   ],
   "source": [
    "selected_feat"
   ]
  },
  {
   "cell_type": "markdown",
   "id": "54453995-3224-4ce3-8c48-6f915757df6e",
   "metadata": {},
   "source": [
    "## II. Backward Selection"
   ]
  },
  {
   "cell_type": "code",
   "execution_count": 84,
   "id": "40903d8b-66aa-40e3-a5ae-5bc3d329c8f8",
   "metadata": {},
   "outputs": [],
   "source": [
    "sfs = SequentialFeatureSelector(\n",
    "        estimator=RandomForestClassifier(\n",
    "        n_estimators=10, n_jobs=4, random_state=0),\n",
    "        n_features_to_select=10,  # the number of features to retain\n",
    "        direction='backward',  # the direction of the selection procedure\n",
    "        scoring='roc_auc',  # the metric to evaluate\n",
    "        cv=2, # the cross-validation fold\n",
    "        n_jobs=None\n",
    ")\n",
    "\n",
    "\n",
    "sfs = sfs.fit(X_train, y_train)"
   ]
  },
  {
   "cell_type": "code",
   "execution_count": 85,
   "id": "99638e53-e5e1-4e43-b17a-65095e0315d1",
   "metadata": {},
   "outputs": [],
   "source": [
    "def run_randomForests(X_train, X_test, y_train, y_test):\n",
    "    rf = RandomForestClassifier(n_estimators=200, random_state=39, max_depth=3)\n",
    "    rf.fit(X_train, y_train)\n",
    "\n",
    "    print('Train set')\n",
    "    pred = rf.predict_proba(X_train)\n",
    "    print('Random Forests roc-auc: {}'.format(roc_auc_score(y_train, pred[:,1])))\n",
    "    \n",
    "    print('Test set')\n",
    "    pred = rf.predict_proba(X_test)\n",
    "    print('Random Forests roc-auc: {}'.format(roc_auc_score(y_test, pred[:,1])))"
   ]
  },
  {
   "cell_type": "code",
   "execution_count": 86,
   "id": "75e95072-8732-40fa-bc74-aa8319d836ee",
   "metadata": {},
   "outputs": [
    {
     "data": {
      "text/plain": [
       "array(['kenpom_adjoe', 'kenpom_adjde', 'def_to_pct', 'off_2pt_pct',\n",
       "       'off_3pt_pct', 'off_stl_rate', 'def_ast_rate', 'def_stl_rate',\n",
       "       'A_F', 'C_B'], dtype=object)"
      ]
     },
     "execution_count": 86,
     "metadata": {},
     "output_type": "execute_result"
    }
   ],
   "source": [
    "selected_feat= sfs.get_feature_names_out()\n",
    "selected_feat"
   ]
  },
  {
   "cell_type": "code",
   "execution_count": 87,
   "id": "4493b70b-203f-4905-8def-b8e9407e34a7",
   "metadata": {},
   "outputs": [
    {
     "name": "stdout",
     "output_type": "stream",
     "text": [
      "Train set\n",
      "Random Forests roc-auc: 0.8928238817991895\n",
      "Test set\n",
      "Random Forests roc-auc: 0.7181318681318681\n"
     ]
    }
   ],
   "source": [
    "run_randomForests(X_train[selected_feat],\n",
    "                  X_test[selected_feat],\n",
    "                  y_train, y_test)"
   ]
  },
  {
   "cell_type": "code",
   "execution_count": 88,
   "id": "98e5a137-4f00-469d-a2cb-08e194c02868",
   "metadata": {},
   "outputs": [
    {
     "name": "stdout",
     "output_type": "stream",
     "text": [
      "Train set\n",
      "Random Forests roc-auc: 0.8786780437463818\n",
      "Test set\n",
      "Random Forests roc-auc: 0.7347527472527473\n"
     ]
    }
   ],
   "source": [
    "run_randomForests(X_train,\n",
    "                  X_test,\n",
    "                  y_train, y_test)"
   ]
  },
  {
   "cell_type": "markdown",
   "id": "c2032f78-b0e6-4db5-bf4c-11f1f66c80cc",
   "metadata": {},
   "source": [
    "### III. Forward Selection"
   ]
  },
  {
   "cell_type": "code",
   "execution_count": 89,
   "id": "42368368-8198-4727-89eb-273027abc9a1",
   "metadata": {},
   "outputs": [],
   "source": [
    "sfs = SequentialFeatureSelector(\n",
    "        estimator=RandomForestClassifier(\n",
    "        n_estimators=10, n_jobs=4, random_state=0),\n",
    "        n_features_to_select=10,  # the number of features to retain\n",
    "        direction='backward',  # the direction of the selection procedure\n",
    "        scoring='roc_auc',  # the metric to evaluate\n",
    "        cv=2, # the cross-validation fold\n",
    "        n_jobs=None\n",
    ")\n",
    "\n",
    "\n",
    "sfs = sfs.fit(X_train, y_train)"
   ]
  },
  {
   "cell_type": "code",
   "execution_count": 90,
   "id": "f41e78bb-59d0-4e5a-8071-bea5bf5f007f",
   "metadata": {},
   "outputs": [
    {
     "data": {
      "text/plain": [
       "array(['kenpom_adjoe', 'kenpom_adjde', 'def_to_pct', 'off_2pt_pct',\n",
       "       'off_3pt_pct', 'off_stl_rate', 'def_ast_rate', 'def_stl_rate',\n",
       "       'A_F', 'C_B'], dtype=object)"
      ]
     },
     "execution_count": 90,
     "metadata": {},
     "output_type": "execute_result"
    }
   ],
   "source": [
    "selected_feat= sfs.get_feature_names_out()\n",
    "selected_feat"
   ]
  },
  {
   "cell_type": "code",
   "execution_count": 91,
   "id": "2220292e-a9dd-4d91-bc40-0e8ac804d433",
   "metadata": {},
   "outputs": [
    {
     "name": "stdout",
     "output_type": "stream",
     "text": [
      "Train set\n",
      "Random Forests roc-auc: 0.8928238817991895\n",
      "Test set\n",
      "Random Forests roc-auc: 0.7181318681318681\n"
     ]
    }
   ],
   "source": [
    "run_randomForests(X_train[selected_feat],\n",
    "                  X_test[selected_feat],\n",
    "                  y_train, y_test)"
   ]
  },
  {
   "cell_type": "markdown",
   "id": "593f2a4a-c7ff-42b1-9f64-3967ebdef556",
   "metadata": {},
   "source": [
    "### IV. ROC-AUC"
   ]
  },
  {
   "cell_type": "code",
   "execution_count": 92,
   "id": "905e790d-419d-4548-92dc-f954f51bd37a",
   "metadata": {},
   "outputs": [
    {
     "data": {
      "text/plain": [
       "[0.6307692307692307,\n",
       " 0.5505494505494506,\n",
       " 0.570054945054945,\n",
       " 0.5192307692307692,\n",
       " 0.46401098901098903,\n",
       " 0.4785714285714286,\n",
       " 0.5027472527472527,\n",
       " 0.42967032967032964,\n",
       " 0.4829670329670329,\n",
       " 0.45604395604395603,\n",
       " 0.5335164835164835,\n",
       " 0.4905906593406593,\n",
       " 0.5071428571428571,\n",
       " 0.5857142857142857,\n",
       " 0.5475274725274725,\n",
       " 0.5343406593406593,\n",
       " 0.5277472527472526,\n",
       " 0.6076923076923078]"
      ]
     },
     "execution_count": 92,
     "metadata": {},
     "output_type": "execute_result"
    }
   ],
   "source": [
    "roc_values = []\n",
    "\n",
    "# iterate over each feature in the dataset\n",
    "for feature in X_train.columns:\n",
    "\n",
    "    # train a decision tree classifier\n",
    "    clf = DecisionTreeClassifier(random_state=0)\n",
    "    clf.fit(X_train[feature].fillna(0).to_frame(), y_train)\n",
    "\n",
    "    # obtain the predictions\n",
    "    y_scored = clf.predict_proba(X_test[feature].to_frame())\n",
    "\n",
    "    # calculate and store the roc-auc\n",
    "    roc_values.append(roc_auc_score(y_test, y_scored[:, 1]))\n",
    "    \n",
    "# display the result\n",
    "roc_values"
   ]
  },
  {
   "cell_type": "code",
   "execution_count": 93,
   "id": "2c739702-43d9-40b0-8c29-96f63205a9f6",
   "metadata": {},
   "outputs": [
    {
     "data": {
      "text/plain": [
       "Text(0, 0.5, 'roc-auc')"
      ]
     },
     "execution_count": 93,
     "metadata": {},
     "output_type": "execute_result"
    },
    {
     "data": {
      "image/png": "[encoded data removed]",
      "text/plain": [
       "<Figure size 2000x500 with 1 Axes>"
      ]
     },
     "metadata": {},
     "output_type": "display_data"
    }
   ],
   "source": [
    "roc_values = pd.Series(roc_values)\n",
    "roc_values.index = X_train.columns\n",
    "roc_values.sort_values(ascending=False).plot.bar(figsize=(20, 5))\n",
    "plt.ylabel('roc-auc')"
   ]
  },
  {
   "cell_type": "code",
   "execution_count": 94,
   "id": "93593efc-ea82-4b86-abf7-6f7de0fcff02",
   "metadata": {},
   "outputs": [
    {
     "data": {
      "text/plain": [
       "12"
      ]
     },
     "execution_count": 94,
     "metadata": {},
     "output_type": "execute_result"
    }
   ],
   "source": [
    "len(roc_values[roc_values > 0.5])"
   ]
  },
  {
   "cell_type": "code",
   "execution_count": 95,
   "id": "0099e8e0-8c5f-4fb1-95f3-c05550104426",
   "metadata": {},
   "outputs": [
    {
     "data": {
      "text/plain": [
       "2"
      ]
     },
     "execution_count": 95,
     "metadata": {},
     "output_type": "execute_result"
    }
   ],
   "source": [
    "len(roc_values[roc_values > 0.6])"
   ]
  },
  {
   "cell_type": "code",
   "execution_count": 97,
   "id": "4141dc13-0e0b-4ec3-a328-0d7481344f7e",
   "metadata": {},
   "outputs": [
    {
     "data": {
      "text/plain": [
       "kenpom_adjem   0.6308\n",
       "kenpom_adjoe   0.5505\n",
       "kenpom_adjde   0.5701\n",
       "off_efg_pct    0.5192\n",
       "off_2pt_pct    0.5027\n",
       "def_ast_rate   0.5335\n",
       "S_D            0.5071\n",
       "S_F            0.5857\n",
       "A_D            0.5475\n",
       "A_F            0.5343\n",
       "C_B            0.5277\n",
       "C_C            0.6077\n",
       "dtype: float64"
      ]
     },
     "execution_count": 97,
     "metadata": {},
     "output_type": "execute_result"
    }
   ],
   "source": [
    "roc_values[roc_values > 0.5]"
   ]
  },
  {
   "cell_type": "markdown",
   "id": "0f293f6f-c2c3-427d-b7aa-6ba8deeba9f6",
   "metadata": {},
   "source": [
    "### V. Exhaustive Feature Selection"
   ]
  },
  {
   "cell_type": "code",
   "execution_count": 100,
   "id": "e854af90-a700-48d5-bb62-961b5c174232",
   "metadata": {},
   "outputs": [],
   "source": [
    "from sklearn.linear_model import LogisticRegression\n",
    "scaler = StandardScaler()\n",
    "X_train_scaled = scaler.fit_transform(X_train)\n",
    "X_test_scaled = scaler.transform(X_test)\n",
    "X_train_scaled = pd.DataFrame(X_train_scaled, columns=X_train.columns)\n",
    "X_test_scaled = pd.DataFrame(X_test_scaled, columns=X_test.columns)\n",
    "\n",
    "X_train_scaled2 = X_train_scaled[[\n",
    " 'kenpom_adjem',\n",
    " 'kenpom_adjoe',\n",
    " 'kenpom_adjde',\n",
    " 'off_efg_pct',\n",
    " 'def_to_pct',\n",
    " 'off_2pt_pct',\n",
    " 'off_3pt_pct',\n",
    " 'def_block_pct',\n",
    " 'off_stl_rate',\n",
    " 'def_ast_rate',\n",
    " 'def_stl_rate',\n",
    " 'S_D',\n",
    " 'S_F',\n",
    " 'A_D',\n",
    " 'A_F',\n",
    " 'C_B',\n",
    " 'C_C'\n",
    "]]\n",
    "\n",
    "X_test_scaled2 = X_test_scaled[[\n",
    " 'kenpom_adjem',\n",
    " 'kenpom_adjoe',\n",
    " 'kenpom_adjde',\n",
    " 'off_efg_pct',\n",
    " 'def_to_pct',\n",
    " 'off_2pt_pct',\n",
    " 'off_3pt_pct',\n",
    " 'def_block_pct',\n",
    " 'off_stl_rate',\n",
    " 'def_ast_rate',\n",
    " 'def_stl_rate',\n",
    " 'S_D',\n",
    " 'S_F',\n",
    " 'A_D',\n",
    " 'A_F',\n",
    " 'C_B',\n",
    " 'C_C'\n",
    "]]"
   ]
  },
  {
   "cell_type": "code",
   "execution_count": 102,
   "id": "dae6b3fa-1bef-4283-823c-67b1ffec00a2",
   "metadata": {},
   "outputs": [
    {
     "name": "stdout",
     "output_type": "stream",
     "text": [
      "Best Feature Subset: ('kenpom_adjem', 'off_efg_pct', 'off_2pt_pct', 'off_3pt_pct', 'def_block_pct', 'def_ast_rate', 'def_stl_rate', 'S_D', 'S_F', 'A_F', 'C_B')\n",
      "Best Test F1 Score: 0.8679\n",
      "Training F1 Score of Best Model: 0.8329\n"
     ]
    }
   ],
   "source": [
    "# Initialize variables to track the best model\n",
    "log_reg = LogisticRegression(solver='liblinear')\n",
    "best_f1 = 0\n",
    "best_features = []\n",
    "best_train_f1 = 0\n",
    "\n",
    "# Iterate over all possible subsets of features\n",
    "for k in range(1, len(X_train_scaled2.columns) + 1):\n",
    "    for subset in combinations(X_train_scaled2.columns, k):\n",
    "        X_train_subset = X_train_scaled2[list(subset)]\n",
    "        X_test_subset = X_test_scaled2[list(subset)]\n",
    "        \n",
    "        # Train the model with the subset of features\n",
    "        log_reg.fit(X_train_subset, y_train)\n",
    "        \n",
    "        # Make predictions on the test set\n",
    "        y_test_pred = log_reg.predict(X_test_subset)\n",
    "        test_f1 = f1_score(y_test, y_test_pred)\n",
    "        \n",
    "        # Make predictions on the training set\n",
    "        y_train_pred = log_reg.predict(X_train_subset)\n",
    "        train_f1 = f1_score(y_train, y_train_pred)\n",
    "        \n",
    "        # Track the best subset based on test F1 score\n",
    "        if test_f1 > best_f1:\n",
    "            best_f1 = test_f1\n",
    "            best_features = subset\n",
    "            best_train_f1 = train_f1\n",
    "\n",
    "# Output the best feature subset and the F1 scores\n",
    "print(f\"Best Feature Subset: {best_features}\")\n",
    "print(f\"Best Test F1 Score: {best_f1:.4f}\")\n",
    "print(f\"Training F1 Score of Best Model: {best_train_f1:.4f}\")"
   ]
  },
  {
   "cell_type": "code",
   "execution_count": null,
   "id": "271ce2fe-735b-49fe-bc18-50d916455d6d",
   "metadata": {},
   "outputs": [],
   "source": []
  }
 ],
 "metadata": {
  "kernelspec": {
   "display_name": "Python 3 (ipykernel)",
   "language": "python",
   "name": "python3"
  },
  "language_info": {
   "codemirror_mode": {
    "name": "ipython",
    "version": 3
   },
   "file_extension": ".py",
   "mimetype": "text/x-python",
   "name": "python",
   "nbconvert_exporter": "python",
   "pygments_lexer": "ipython3",
   "version": "3.8.20"
  }
 },
 "nbformat": 4,
 "nbformat_minor": 5
}
