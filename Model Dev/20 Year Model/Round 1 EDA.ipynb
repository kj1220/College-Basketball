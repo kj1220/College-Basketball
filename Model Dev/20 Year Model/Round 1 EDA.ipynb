{
 "cells": [
  {
   "cell_type": "code",
   "execution_count": 37,
   "id": "03de06e4-2a89-49cb-ad1f-13044eff8089",
   "metadata": {},
   "outputs": [
    {
     "name": "stdout",
     "output_type": "stream",
     "text": [
      "(638, 35)\n"
     ]
    },
    {
     "data": {
      "text/html": [
       "<div>\n",
       "<style scoped>\n",
       "    .dataframe tbody tr th:only-of-type {\n",
       "        vertical-align: middle;\n",
       "    }\n",
       "\n",
       "    .dataframe tbody tr th {\n",
       "        vertical-align: top;\n",
       "    }\n",
       "\n",
       "    .dataframe thead th {\n",
       "        text-align: right;\n",
       "    }\n",
       "</style>\n",
       "<table border=\"1\" class=\"dataframe\">\n",
       "  <thead>\n",
       "    <tr style=\"text-align: right;\">\n",
       "      <th></th>\n",
       "      <th>year</th>\n",
       "      <th>region</th>\n",
       "      <th>round</th>\n",
       "      <th>high_bracket_seed</th>\n",
       "      <th>high_bracket_team</th>\n",
       "      <th>low_bracket_seed</th>\n",
       "      <th>low_bracket_team</th>\n",
       "      <th>win</th>\n",
       "      <th>kenpom_adjem</th>\n",
       "      <th>kenpom_adjoe</th>\n",
       "      <th>...</th>\n",
       "      <th>off_ft_pct</th>\n",
       "      <th>off_block_pct</th>\n",
       "      <th>def_2pt_pct</th>\n",
       "      <th>def_3pt_pct</th>\n",
       "      <th>def_ft_pct</th>\n",
       "      <th>def_block_pct</th>\n",
       "      <th>off_ast_rate</th>\n",
       "      <th>off_stl_rate</th>\n",
       "      <th>def_ast_rate</th>\n",
       "      <th>def_stl_rate</th>\n",
       "    </tr>\n",
       "  </thead>\n",
       "  <tbody>\n",
       "    <tr>\n",
       "      <th>0</th>\n",
       "      <td>2004</td>\n",
       "      <td>East</td>\n",
       "      <td>First Round</td>\n",
       "      <td>1</td>\n",
       "      <td>2004 Saint Joseph's</td>\n",
       "      <td>16</td>\n",
       "      <td>2004 Liberty</td>\n",
       "      <td>1</td>\n",
       "      <td>30.51285</td>\n",
       "      <td>89.1570</td>\n",
       "      <td>...</td>\n",
       "      <td>33.5825</td>\n",
       "      <td>81.9021</td>\n",
       "      <td>5.4501</td>\n",
       "      <td>41.7977</td>\n",
       "      <td>-37.4861</td>\n",
       "      <td>-84.6118</td>\n",
       "      <td>13.7502</td>\n",
       "      <td>99.7470</td>\n",
       "      <td>-10.0856</td>\n",
       "      <td>-99.7788</td>\n",
       "    </tr>\n",
       "    <tr>\n",
       "      <th>7</th>\n",
       "      <td>2004</td>\n",
       "      <td>East</td>\n",
       "      <td>First Round</td>\n",
       "      <td>8</td>\n",
       "      <td>2004 Texas Tech</td>\n",
       "      <td>9</td>\n",
       "      <td>2004 Charlotte</td>\n",
       "      <td>1</td>\n",
       "      <td>1.43680</td>\n",
       "      <td>78.2630</td>\n",
       "      <td>...</td>\n",
       "      <td>46.4728</td>\n",
       "      <td>85.4281</td>\n",
       "      <td>1.6559</td>\n",
       "      <td>30.7079</td>\n",
       "      <td>-31.5219</td>\n",
       "      <td>-85.8576</td>\n",
       "      <td>9.5939</td>\n",
       "      <td>99.7903</td>\n",
       "      <td>-9.3661</td>\n",
       "      <td>-99.7883</td>\n",
       "    </tr>\n",
       "    <tr>\n",
       "      <th>8</th>\n",
       "      <td>2004</td>\n",
       "      <td>East</td>\n",
       "      <td>First Round</td>\n",
       "      <td>5</td>\n",
       "      <td>2004 Florida</td>\n",
       "      <td>12</td>\n",
       "      <td>2004 Manhattan</td>\n",
       "      <td>0</td>\n",
       "      <td>8.30760</td>\n",
       "      <td>83.7144</td>\n",
       "      <td>...</td>\n",
       "      <td>44.9368</td>\n",
       "      <td>80.9222</td>\n",
       "      <td>6.2776</td>\n",
       "      <td>30.4742</td>\n",
       "      <td>-43.2857</td>\n",
       "      <td>-79.8805</td>\n",
       "      <td>9.8626</td>\n",
       "      <td>99.8169</td>\n",
       "      <td>-4.0085</td>\n",
       "      <td>-99.7570</td>\n",
       "    </tr>\n",
       "    <tr>\n",
       "      <th>9</th>\n",
       "      <td>2004</td>\n",
       "      <td>East</td>\n",
       "      <td>First Round</td>\n",
       "      <td>4</td>\n",
       "      <td>2004 Wake Forest</td>\n",
       "      <td>13</td>\n",
       "      <td>2004 VCU</td>\n",
       "      <td>1</td>\n",
       "      <td>13.63448</td>\n",
       "      <td>86.9167</td>\n",
       "      <td>...</td>\n",
       "      <td>38.4915</td>\n",
       "      <td>86.3280</td>\n",
       "      <td>-0.2132</td>\n",
       "      <td>23.4719</td>\n",
       "      <td>-30.7271</td>\n",
       "      <td>-80.5975</td>\n",
       "      <td>8.2795</td>\n",
       "      <td>99.7662</td>\n",
       "      <td>-4.3055</td>\n",
       "      <td>-99.7956</td>\n",
       "    </tr>\n",
       "    <tr>\n",
       "      <th>10</th>\n",
       "      <td>2004</td>\n",
       "      <td>East</td>\n",
       "      <td>First Round</td>\n",
       "      <td>6</td>\n",
       "      <td>2004 Wisconsin</td>\n",
       "      <td>11</td>\n",
       "      <td>2004 Richmond</td>\n",
       "      <td>1</td>\n",
       "      <td>9.59540</td>\n",
       "      <td>74.4991</td>\n",
       "      <td>...</td>\n",
       "      <td>35.5797</td>\n",
       "      <td>84.1809</td>\n",
       "      <td>8.4736</td>\n",
       "      <td>35.7716</td>\n",
       "      <td>-41.9849</td>\n",
       "      <td>-79.0446</td>\n",
       "      <td>11.9216</td>\n",
       "      <td>99.7869</td>\n",
       "      <td>-2.7782</td>\n",
       "      <td>-99.8064</td>\n",
       "    </tr>\n",
       "  </tbody>\n",
       "</table>\n",
       "<p>5 rows × 35 columns</p>\n",
       "</div>"
      ],
      "text/plain": [
       "    year region        round  high_bracket_seed    high_bracket_team  \\\n",
       "0   2004   East  First Round                  1  2004 Saint Joseph's   \n",
       "7   2004   East  First Round                  8      2004 Texas Tech   \n",
       "8   2004   East  First Round                  5         2004 Florida   \n",
       "9   2004   East  First Round                  4     2004 Wake Forest   \n",
       "10  2004   East  First Round                  6       2004 Wisconsin   \n",
       "\n",
       "    low_bracket_seed low_bracket_team  win  kenpom_adjem  kenpom_adjoe  ...  \\\n",
       "0                 16     2004 Liberty    1      30.51285       89.1570  ...   \n",
       "7                  9   2004 Charlotte    1       1.43680       78.2630  ...   \n",
       "8                 12   2004 Manhattan    0       8.30760       83.7144  ...   \n",
       "9                 13         2004 VCU    1      13.63448       86.9167  ...   \n",
       "10                11    2004 Richmond    1       9.59540       74.4991  ...   \n",
       "\n",
       "    off_ft_pct  off_block_pct  def_2pt_pct  def_3pt_pct  def_ft_pct  \\\n",
       "0      33.5825        81.9021       5.4501      41.7977    -37.4861   \n",
       "7      46.4728        85.4281       1.6559      30.7079    -31.5219   \n",
       "8      44.9368        80.9222       6.2776      30.4742    -43.2857   \n",
       "9      38.4915        86.3280      -0.2132      23.4719    -30.7271   \n",
       "10     35.5797        84.1809       8.4736      35.7716    -41.9849   \n",
       "\n",
       "    def_block_pct  off_ast_rate  off_stl_rate  def_ast_rate  def_stl_rate  \n",
       "0        -84.6118       13.7502       99.7470      -10.0856      -99.7788  \n",
       "7        -85.8576        9.5939       99.7903       -9.3661      -99.7883  \n",
       "8        -79.8805        9.8626       99.8169       -4.0085      -99.7570  \n",
       "9        -80.5975        8.2795       99.7662       -4.3055      -99.7956  \n",
       "10       -79.0446       11.9216       99.7869       -2.7782      -99.8064  \n",
       "\n",
       "[5 rows x 35 columns]"
      ]
     },
     "execution_count": 37,
     "metadata": {},
     "output_type": "execute_result"
    }
   ],
   "source": [
    "import pandas as pd\n",
    "import matplotlib.pyplot as plt\n",
    "import seaborn as sns\n",
    "import numpy as np\n",
    "from sklearn.model_selection import train_test_split\n",
    "from sklearn.preprocessing import StandardScaler, MinMaxScaler\n",
    "from sklearn.feature_selection import f_classif\n",
    "from sklearn.feature_selection import mutual_info_regression\n",
    "from sklearn.feature_selection import RFE\n",
    "from sklearn.linear_model import LogisticRegression\n",
    "from sklearn.tree import DecisionTreeClassifier\n",
    "from sklearn.ensemble import ExtraTreesClassifier\n",
    "from sklearn.metrics import f1_score\n",
    "from sklearn.ensemble import RandomForestClassifier\n",
    "import statsmodels.api as sm\n",
    "from itertools import combinations\n",
    "\n",
    "df = pd.read_csv('matchups_20.csv')\n",
    "df = df[df['round'] == 'First Round']\n",
    "print(df.shape)\n",
    "df.head()"
   ]
  },
  {
   "cell_type": "code",
   "execution_count": 38,
   "id": "3a8289f6-c0f3-436d-aaaf-1fc1f0331895",
   "metadata": {},
   "outputs": [
    {
     "data": {
      "text/plain": [
       "1    0.725705\n",
       "0    0.274295\n",
       "Name: win, dtype: float64"
      ]
     },
     "execution_count": 38,
     "metadata": {},
     "output_type": "execute_result"
    }
   ],
   "source": [
    "df['win'].value_counts(normalize=True)"
   ]
  },
  {
   "cell_type": "code",
   "execution_count": 39,
   "id": "906fe251-bd60-430a-86b0-4e29a3edb05a",
   "metadata": {},
   "outputs": [
    {
     "data": {
      "text/plain": [
       "Index(['year', 'region', 'round', 'high_bracket_seed', 'high_bracket_team',\n",
       "       'low_bracket_seed', 'low_bracket_team', 'win', 'kenpom_adjem',\n",
       "       'kenpom_adjoe', 'kenpom_adjde', 'off_eff', 'def_eff', 'tempo',\n",
       "       'adj_tempo', 'off_efg_pct', 'off_to_pct', 'off_or_pct', 'off_ft_rate',\n",
       "       'def_efg_pct', 'def_to_pct', 'def_or_pct', 'def_ft_rate', 'off_2pt_pct',\n",
       "       'off_3pt_pct', 'off_ft_pct', 'off_block_pct', 'def_2pt_pct',\n",
       "       'def_3pt_pct', 'def_ft_pct', 'def_block_pct', 'off_ast_rate',\n",
       "       'off_stl_rate', 'def_ast_rate', 'def_stl_rate'],\n",
       "      dtype='object')"
      ]
     },
     "execution_count": 39,
     "metadata": {},
     "output_type": "execute_result"
    }
   ],
   "source": [
    "df.columns"
   ]
  },
  {
   "cell_type": "code",
   "execution_count": 40,
   "id": "e224b63e-511d-4832-b926-1a5205c964be",
   "metadata": {},
   "outputs": [
    {
     "name": "stdout",
     "output_type": "stream",
     "text": [
      "(638, 28)\n"
     ]
    },
    {
     "data": {
      "text/html": [
       "<div>\n",
       "<style scoped>\n",
       "    .dataframe tbody tr th:only-of-type {\n",
       "        vertical-align: middle;\n",
       "    }\n",
       "\n",
       "    .dataframe tbody tr th {\n",
       "        vertical-align: top;\n",
       "    }\n",
       "\n",
       "    .dataframe thead th {\n",
       "        text-align: right;\n",
       "    }\n",
       "</style>\n",
       "<table border=\"1\" class=\"dataframe\">\n",
       "  <thead>\n",
       "    <tr style=\"text-align: right;\">\n",
       "      <th></th>\n",
       "      <th>win</th>\n",
       "      <th>kenpom_adjem</th>\n",
       "      <th>kenpom_adjoe</th>\n",
       "      <th>kenpom_adjde</th>\n",
       "      <th>off_eff</th>\n",
       "      <th>def_eff</th>\n",
       "      <th>tempo</th>\n",
       "      <th>adj_tempo</th>\n",
       "      <th>off_efg_pct</th>\n",
       "      <th>off_to_pct</th>\n",
       "      <th>...</th>\n",
       "      <th>off_ft_pct</th>\n",
       "      <th>off_block_pct</th>\n",
       "      <th>def_2pt_pct</th>\n",
       "      <th>def_3pt_pct</th>\n",
       "      <th>def_ft_pct</th>\n",
       "      <th>def_block_pct</th>\n",
       "      <th>off_ast_rate</th>\n",
       "      <th>off_stl_rate</th>\n",
       "      <th>def_ast_rate</th>\n",
       "      <th>def_stl_rate</th>\n",
       "    </tr>\n",
       "  </thead>\n",
       "  <tbody>\n",
       "    <tr>\n",
       "      <th>0</th>\n",
       "      <td>1</td>\n",
       "      <td>30.51285</td>\n",
       "      <td>89.1570</td>\n",
       "      <td>-58.6443</td>\n",
       "      <td>75.3604</td>\n",
       "      <td>-75.3604</td>\n",
       "      <td>-1.5585</td>\n",
       "      <td>-0.7522</td>\n",
       "      <td>3.4895</td>\n",
       "      <td>61.4038</td>\n",
       "      <td>...</td>\n",
       "      <td>33.5825</td>\n",
       "      <td>81.9021</td>\n",
       "      <td>5.4501</td>\n",
       "      <td>41.7977</td>\n",
       "      <td>-37.4861</td>\n",
       "      <td>-84.6118</td>\n",
       "      <td>13.7502</td>\n",
       "      <td>99.7470</td>\n",
       "      <td>-10.0856</td>\n",
       "      <td>-99.7788</td>\n",
       "    </tr>\n",
       "    <tr>\n",
       "      <th>7</th>\n",
       "      <td>1</td>\n",
       "      <td>1.43680</td>\n",
       "      <td>78.2630</td>\n",
       "      <td>-76.8259</td>\n",
       "      <td>71.9374</td>\n",
       "      <td>-71.9374</td>\n",
       "      <td>-2.5719</td>\n",
       "      <td>-2.9231</td>\n",
       "      <td>-3.0813</td>\n",
       "      <td>60.9730</td>\n",
       "      <td>...</td>\n",
       "      <td>46.4728</td>\n",
       "      <td>85.4281</td>\n",
       "      <td>1.6559</td>\n",
       "      <td>30.7079</td>\n",
       "      <td>-31.5219</td>\n",
       "      <td>-85.8576</td>\n",
       "      <td>9.5939</td>\n",
       "      <td>99.7903</td>\n",
       "      <td>-9.3661</td>\n",
       "      <td>-99.7883</td>\n",
       "    </tr>\n",
       "    <tr>\n",
       "      <th>8</th>\n",
       "      <td>0</td>\n",
       "      <td>8.30760</td>\n",
       "      <td>83.7144</td>\n",
       "      <td>-75.4066</td>\n",
       "      <td>81.7310</td>\n",
       "      <td>-81.7310</td>\n",
       "      <td>0.5867</td>\n",
       "      <td>0.8344</td>\n",
       "      <td>1.6693</td>\n",
       "      <td>54.9379</td>\n",
       "      <td>...</td>\n",
       "      <td>44.9368</td>\n",
       "      <td>80.9222</td>\n",
       "      <td>6.2776</td>\n",
       "      <td>30.4742</td>\n",
       "      <td>-43.2857</td>\n",
       "      <td>-79.8805</td>\n",
       "      <td>9.8626</td>\n",
       "      <td>99.8169</td>\n",
       "      <td>-4.0085</td>\n",
       "      <td>-99.7570</td>\n",
       "    </tr>\n",
       "    <tr>\n",
       "      <th>9</th>\n",
       "      <td>1</td>\n",
       "      <td>13.63448</td>\n",
       "      <td>86.9167</td>\n",
       "      <td>-73.2828</td>\n",
       "      <td>83.6630</td>\n",
       "      <td>-83.6630</td>\n",
       "      <td>5.5936</td>\n",
       "      <td>5.9343</td>\n",
       "      <td>-0.6875</td>\n",
       "      <td>60.0428</td>\n",
       "      <td>...</td>\n",
       "      <td>38.4915</td>\n",
       "      <td>86.3280</td>\n",
       "      <td>-0.2132</td>\n",
       "      <td>23.4719</td>\n",
       "      <td>-30.7271</td>\n",
       "      <td>-80.5975</td>\n",
       "      <td>8.2795</td>\n",
       "      <td>99.7662</td>\n",
       "      <td>-4.3055</td>\n",
       "      <td>-99.7956</td>\n",
       "    </tr>\n",
       "    <tr>\n",
       "      <th>10</th>\n",
       "      <td>1</td>\n",
       "      <td>9.59540</td>\n",
       "      <td>74.4991</td>\n",
       "      <td>-64.9044</td>\n",
       "      <td>73.7650</td>\n",
       "      <td>-73.7650</td>\n",
       "      <td>-3.3925</td>\n",
       "      <td>-2.4101</td>\n",
       "      <td>-5.1554</td>\n",
       "      <td>61.2769</td>\n",
       "      <td>...</td>\n",
       "      <td>35.5797</td>\n",
       "      <td>84.1809</td>\n",
       "      <td>8.4736</td>\n",
       "      <td>35.7716</td>\n",
       "      <td>-41.9849</td>\n",
       "      <td>-79.0446</td>\n",
       "      <td>11.9216</td>\n",
       "      <td>99.7869</td>\n",
       "      <td>-2.7782</td>\n",
       "      <td>-99.8064</td>\n",
       "    </tr>\n",
       "  </tbody>\n",
       "</table>\n",
       "<p>5 rows × 28 columns</p>\n",
       "</div>"
      ],
      "text/plain": [
       "    win  kenpom_adjem  kenpom_adjoe  kenpom_adjde  off_eff  def_eff   tempo  \\\n",
       "0     1      30.51285       89.1570      -58.6443  75.3604 -75.3604 -1.5585   \n",
       "7     1       1.43680       78.2630      -76.8259  71.9374 -71.9374 -2.5719   \n",
       "8     0       8.30760       83.7144      -75.4066  81.7310 -81.7310  0.5867   \n",
       "9     1      13.63448       86.9167      -73.2828  83.6630 -83.6630  5.5936   \n",
       "10    1       9.59540       74.4991      -64.9044  73.7650 -73.7650 -3.3925   \n",
       "\n",
       "    adj_tempo  off_efg_pct  off_to_pct  ...  off_ft_pct  off_block_pct  \\\n",
       "0     -0.7522       3.4895     61.4038  ...     33.5825        81.9021   \n",
       "7     -2.9231      -3.0813     60.9730  ...     46.4728        85.4281   \n",
       "8      0.8344       1.6693     54.9379  ...     44.9368        80.9222   \n",
       "9      5.9343      -0.6875     60.0428  ...     38.4915        86.3280   \n",
       "10    -2.4101      -5.1554     61.2769  ...     35.5797        84.1809   \n",
       "\n",
       "    def_2pt_pct  def_3pt_pct  def_ft_pct  def_block_pct  off_ast_rate  \\\n",
       "0        5.4501      41.7977    -37.4861       -84.6118       13.7502   \n",
       "7        1.6559      30.7079    -31.5219       -85.8576        9.5939   \n",
       "8        6.2776      30.4742    -43.2857       -79.8805        9.8626   \n",
       "9       -0.2132      23.4719    -30.7271       -80.5975        8.2795   \n",
       "10       8.4736      35.7716    -41.9849       -79.0446       11.9216   \n",
       "\n",
       "    off_stl_rate  def_ast_rate  def_stl_rate  \n",
       "0        99.7470      -10.0856      -99.7788  \n",
       "7        99.7903       -9.3661      -99.7883  \n",
       "8        99.8169       -4.0085      -99.7570  \n",
       "9        99.7662       -4.3055      -99.7956  \n",
       "10       99.7869       -2.7782      -99.8064  \n",
       "\n",
       "[5 rows x 28 columns]"
      ]
     },
     "execution_count": 40,
     "metadata": {},
     "output_type": "execute_result"
    }
   ],
   "source": [
    "split_df = df.drop(['year', 'region', 'round', 'high_bracket_seed', 'high_bracket_team', 'low_bracket_seed', 'low_bracket_team'],axis=1)\n",
    "print(split_df.shape)\n",
    "split_df.head()"
   ]
  },
  {
   "cell_type": "code",
   "execution_count": 41,
   "id": "623ceeb5-e043-4c14-8ce2-7ebc0e994bc3",
   "metadata": {},
   "outputs": [
    {
     "data": {
      "text/plain": [
       "Index(['win', 'kenpom_adjem', 'kenpom_adjoe', 'kenpom_adjde', 'off_eff',\n",
       "       'def_eff', 'tempo', 'adj_tempo', 'off_efg_pct', 'off_to_pct',\n",
       "       'off_or_pct', 'off_ft_rate', 'def_efg_pct', 'def_to_pct', 'def_or_pct',\n",
       "       'def_ft_rate', 'off_2pt_pct', 'off_3pt_pct', 'off_ft_pct',\n",
       "       'off_block_pct', 'def_2pt_pct', 'def_3pt_pct', 'def_ft_pct',\n",
       "       'def_block_pct', 'off_ast_rate', 'off_stl_rate', 'def_ast_rate',\n",
       "       'def_stl_rate'],\n",
       "      dtype='object')"
      ]
     },
     "execution_count": 41,
     "metadata": {},
     "output_type": "execute_result"
    }
   ],
   "source": [
    "split_df.columns"
   ]
  },
  {
   "cell_type": "code",
   "execution_count": 42,
   "id": "389a0647-3329-43e5-b4b0-a01fb5353f53",
   "metadata": {},
   "outputs": [
    {
     "name": "stdout",
     "output_type": "stream",
     "text": [
      "(446, 28)\n",
      "(192, 28)\n"
     ]
    }
   ],
   "source": [
    "X = split_df.drop('win', axis=1)\n",
    "X = split_df[['kenpom_adjem', 'kenpom_adjoe', 'kenpom_adjde', 'off_eff',\n",
    "       'def_eff', 'tempo', 'adj_tempo', 'off_efg_pct', 'off_to_pct',\n",
    "       'off_or_pct', 'off_ft_rate', 'def_efg_pct', 'def_to_pct', 'def_or_pct',\n",
    "       'def_ft_rate', 'off_2pt_pct', 'off_3pt_pct', 'off_ft_pct',\n",
    "       'off_block_pct', 'def_2pt_pct', 'def_3pt_pct', 'def_ft_pct',\n",
    "       'def_block_pct', 'off_ast_rate', 'off_stl_rate', 'def_ast_rate',\n",
    "       'def_stl_rate']]\n",
    "Y = df['win']\n",
    "\n",
    "X_train, X_test, y_train, y_test = train_test_split(X, Y, test_size=0.3, random_state=42)\n",
    "\n",
    "train_df = pd.concat([X_train, y_train], axis=1)\n",
    "test_df = pd.concat([X_test, y_test], axis=1)\n",
    "\n",
    "print(train_df.shape)\n",
    "print(test_df.shape)"
   ]
  },
  {
   "cell_type": "markdown",
   "id": "c0a53087-9533-47d8-a1c5-a4b55f8ae889",
   "metadata": {},
   "source": [
    "## I. Filter Methods"
   ]
  },
  {
   "cell_type": "markdown",
   "id": "4188f976-7752-4f1a-8a0f-2c2097ca3f79",
   "metadata": {},
   "source": [
    "### A. Box Plots"
   ]
  },
  {
   "cell_type": "code",
   "execution_count": 43,
   "id": "3d29b1c7-68ac-4864-84da-fd71a5c36a66",
   "metadata": {},
   "outputs": [
    {
     "data": {
      "image/png": "[encoded data removed]",
      "text/plain": [
       "<Figure size 400x300 with 2 Axes>"
      ]
     },
     "metadata": {},
     "output_type": "display_data"
    },
    {
     "data": {
      "image/png": "[encoded data removed]",
      "text/plain": [
       "<Figure size 400x300 with 2 Axes>"
      ]
     },
     "metadata": {},
     "output_type": "display_data"
    },
    {
     "data": {
      "image/png": "[encoded data removed]",
      "text/plain": [
       "<Figure size 400x300 with 2 Axes>"
      ]
     },
     "metadata": {},
     "output_type": "display_data"
    },
    {
     "data": {
      "image/png": "[encoded data removed]",
      "text/plain": [
       "<Figure size 400x300 with 2 Axes>"
      ]
     },
     "metadata": {},
     "output_type": "display_data"
    },
    {
     "data": {
      "image/png": "[encoded data removed]",
      "text/plain": [
       "<Figure size 400x300 with 2 Axes>"
      ]
     },
     "metadata": {},
     "output_type": "display_data"
    },
    {
     "data": {
      "image/png": "[encoded data removed]",
      "text/plain": [
       "<Figure size 400x300 with 2 Axes>"
      ]
     },
     "metadata": {},
     "output_type": "display_data"
    },
    {
     "data": {
      "image/png": "[encoded data removed]",
      "text/plain": [
       "<Figure size 400x300 with 2 Axes>"
      ]
     },
     "metadata": {},
     "output_type": "display_data"
    },
    {
     "data": {
      "image/png": "[encoded data removed]",
      "text/plain": [
       "<Figure size 400x300 with 2 Axes>"
      ]
     },
     "metadata": {},
     "output_type": "display_data"
    },
    {
     "data": {
      "image/png": "[encoded data removed]",
      "text/plain": [
       "<Figure size 400x300 with 2 Axes>"
      ]
     },
     "metadata": {},
     "output_type": "display_data"
    },
    {
     "data": {
      "image/png": "[encoded data removed]",
      "text/plain": [
       "<Figure size 400x300 with 2 Axes>"
      ]
     },
     "metadata": {},
     "output_type": "display_data"
    },
    {
     "data": {
      "image/png": "[encoded data removed]",
      "text/plain": [
       "<Figure size 400x300 with 2 Axes>"
      ]
     },
     "metadata": {},
     "output_type": "display_data"
    },
    {
     "data": {
      "image/png": "[encoded data removed]",
      "text/plain": [
       "<Figure size 400x300 with 2 Axes>"
      ]
     },
     "metadata": {},
     "output_type": "display_data"
    },
    {
     "data": {
      "image/png": "[encoded data removed]",
      "text/plain": [
       "<Figure size 400x300 with 2 Axes>"
      ]
     },
     "metadata": {},
     "output_type": "display_data"
    },
    {
     "data": {
      "image/png": "[encoded data removed]",
      "text/plain": [
       "<Figure size 400x300 with 2 Axes>"
      ]
     },
     "metadata": {},
     "output_type": "display_data"
    },
    {
     "data": {
      "image/png": "[encoded data removed]",
      "text/plain": [
       "<Figure size 400x300 with 2 Axes>"
      ]
     },
     "metadata": {},
     "output_type": "display_data"
    },
    {
     "data": {
      "image/png": "[encoded data removed]",
      "text/plain": [
       "<Figure size 400x300 with 2 Axes>"
      ]
     },
     "metadata": {},
     "output_type": "display_data"
    },
    {
     "data": {
      "image/png": "[encoded data removed]",
      "text/plain": [
       "<Figure size 400x300 with 2 Axes>"
      ]
     },
     "metadata": {},
     "output_type": "display_data"
    },
    {
     "data": {
      "image/png": "[encoded data removed]",
      "text/plain": [
       "<Figure size 400x300 with 2 Axes>"
      ]
     },
     "metadata": {},
     "output_type": "display_data"
    },
    {
     "data": {
      "image/png": "[encoded data removed]",
      "text/plain": [
       "<Figure size 400x300 with 2 Axes>"
      ]
     },
     "metadata": {},
     "output_type": "display_data"
    },
    {
     "data": {
      "image/png": "[encoded data removed]",
      "text/plain": [
       "<Figure size 400x300 with 2 Axes>"
      ]
     },
     "metadata": {},
     "output_type": "display_data"
    },
    {
     "data": {
      "image/png": "[encoded data removed]",
      "text/plain": [
       "<Figure size 400x300 with 2 Axes>"
      ]
     },
     "metadata": {},
     "output_type": "display_data"
    },
    {
     "data": {
      "image/png": "[encoded data removed]",
      "text/plain": [
       "<Figure size 400x300 with 2 Axes>"
      ]
     },
     "metadata": {},
     "output_type": "display_data"
    },
    {
     "data": {
      "image/png": "[encoded data removed]",
      "text/plain": [
       "<Figure size 400x300 with 2 Axes>"
      ]
     },
     "metadata": {},
     "output_type": "display_data"
    },
    {
     "data": {
      "image/png": "[encoded data removed]",
      "text/plain": [
       "<Figure size 400x300 with 2 Axes>"
      ]
     },
     "metadata": {},
     "output_type": "display_data"
    },
    {
     "data": {
      "image/png": "[encoded data removed]",
      "text/plain": [
       "<Figure size 400x300 with 2 Axes>"
      ]
     },
     "metadata": {},
     "output_type": "display_data"
    },
    {
     "data": {
      "image/png": "[encoded data removed]",
      "text/plain": [
       "<Figure size 400x300 with 2 Axes>"
      ]
     },
     "metadata": {},
     "output_type": "display_data"
    },
    {
     "data": {
      "image/png": "[encoded data removed]",
      "text/plain": [
       "<Figure size 400x300 with 2 Axes>"
      ]
     },
     "metadata": {},
     "output_type": "display_data"
    },
    {
     "data": {
      "image/png": "[encoded data removed]",
      "text/plain": [
       "<Figure size 400x300 with 2 Axes>"
      ]
     },
     "metadata": {},
     "output_type": "display_data"
    }
   ],
   "source": [
    "scaler = MinMaxScaler(feature_range=(0,100))\n",
    "box_df = train_df\n",
    "numeric_columns = train_df.drop(columns=['win']).columns\n",
    "box_df[numeric_columns] = scaler.fit_transform(box_df[numeric_columns])\n",
    "\n",
    "for column in box_df.columns:\n",
    "    fig, axes = plt.subplots(1, 2, figsize=(4, 3), sharey=True)\n",
    "\n",
    "    # Histogram on the left\n",
    "    sns.histplot(box_df[column], kde=True, ax=axes[0], color='skyblue', bins=30)\n",
    "    axes[0].set_title(f'Histogram of {column}')\n",
    "    axes[0].set_xlabel(column)\n",
    "\n",
    "    # Box plot on the right\n",
    "    sns.boxplot(x='win', y=column, data=box_df, ax=axes[1], color='salmon')\n",
    "    axes[1].set_title(f'Box Plot of {column}')\n",
    "    axes[1].set_xlabel(column)\n",
    "\n",
    "    # Adjust layout and show the plots\n",
    "    plt.tight_layout()\n",
    "    plt.show()"
   ]
  },
  {
   "cell_type": "markdown",
   "id": "0a859b29-4c75-49e2-ba40-641514bc4701",
   "metadata": {},
   "source": [
    "### B. Correlation"
   ]
  },
  {
   "cell_type": "code",
   "execution_count": 44,
   "id": "5432600a-5460-41a1-bf6d-0fcb19153f33",
   "metadata": {},
   "outputs": [
    {
     "name": "stdout",
     "output_type": "stream",
     "text": [
      "kenpom_adjem      37.51\n",
      "kenpom_adjoe      28.40\n",
      "kenpom_adjde      28.00\n",
      "off_efg_pct       15.69\n",
      "def_efg_pct       13.82\n",
      "def_to_pct        14.88\n",
      "off_3pt_pct       17.15\n",
      "def_2pt_pct       11.02\n",
      "def_ft_pct        12.72\n",
      "def_block_pct     20.82\n",
      "off_stl_rate      10.32\n",
      "win              100.00\n",
      "Name: win, dtype: float64\n"
     ]
    }
   ],
   "source": [
    "corr_matrix = train_df.corr()\n",
    "correlation_with_target = round(abs(corr_matrix['win'])*100,2)\n",
    "correlation_with_target = correlation_with_target[correlation_with_target >= 10]\n",
    "print(correlation_with_target)"
   ]
  },
  {
   "cell_type": "markdown",
   "id": "138e9b71-4c44-448d-aaa7-60e6584ca637",
   "metadata": {},
   "source": [
    "### C. Statistical Tests"
   ]
  },
  {
   "cell_type": "code",
   "execution_count": 45,
   "id": "b5b4bcd1-a7f4-420f-b319-e8b8460b9e42",
   "metadata": {},
   "outputs": [
    {
     "data": {
      "text/html": [
       "<div>\n",
       "<style scoped>\n",
       "    .dataframe tbody tr th:only-of-type {\n",
       "        vertical-align: middle;\n",
       "    }\n",
       "\n",
       "    .dataframe tbody tr th {\n",
       "        vertical-align: top;\n",
       "    }\n",
       "\n",
       "    .dataframe thead th {\n",
       "        text-align: right;\n",
       "    }\n",
       "</style>\n",
       "<table border=\"1\" class=\"dataframe\">\n",
       "  <thead>\n",
       "    <tr style=\"text-align: right;\">\n",
       "      <th></th>\n",
       "      <th>feature</th>\n",
       "      <th>f_values</th>\n",
       "      <th>p_values</th>\n",
       "      <th>mutual_info</th>\n",
       "    </tr>\n",
       "  </thead>\n",
       "  <tbody>\n",
       "    <tr>\n",
       "      <th>0</th>\n",
       "      <td>kenpom_adjem</td>\n",
       "      <td>72.678938</td>\n",
       "      <td>2.410809e-16</td>\n",
       "      <td>0.063541</td>\n",
       "    </tr>\n",
       "    <tr>\n",
       "      <th>1</th>\n",
       "      <td>kenpom_adjoe</td>\n",
       "      <td>38.939357</td>\n",
       "      <td>1.021282e-09</td>\n",
       "      <td>0.041527</td>\n",
       "    </tr>\n",
       "    <tr>\n",
       "      <th>2</th>\n",
       "      <td>kenpom_adjde</td>\n",
       "      <td>37.757106</td>\n",
       "      <td>1.783657e-09</td>\n",
       "      <td>0.064547</td>\n",
       "    </tr>\n",
       "    <tr>\n",
       "      <th>3</th>\n",
       "      <td>off_eff</td>\n",
       "      <td>0.124384</td>\n",
       "      <td>7.244948e-01</td>\n",
       "      <td>0.010945</td>\n",
       "    </tr>\n",
       "    <tr>\n",
       "      <th>4</th>\n",
       "      <td>def_eff</td>\n",
       "      <td>0.124384</td>\n",
       "      <td>7.244948e-01</td>\n",
       "      <td>0.010665</td>\n",
       "    </tr>\n",
       "    <tr>\n",
       "      <th>5</th>\n",
       "      <td>tempo</td>\n",
       "      <td>0.075789</td>\n",
       "      <td>7.832148e-01</td>\n",
       "      <td>0.000000</td>\n",
       "    </tr>\n",
       "    <tr>\n",
       "      <th>6</th>\n",
       "      <td>adj_tempo</td>\n",
       "      <td>0.043289</td>\n",
       "      <td>8.352781e-01</td>\n",
       "      <td>0.000000</td>\n",
       "    </tr>\n",
       "    <tr>\n",
       "      <th>7</th>\n",
       "      <td>off_efg_pct</td>\n",
       "      <td>11.203186</td>\n",
       "      <td>8.860346e-04</td>\n",
       "      <td>0.000000</td>\n",
       "    </tr>\n",
       "    <tr>\n",
       "      <th>8</th>\n",
       "      <td>off_to_pct</td>\n",
       "      <td>1.609147</td>\n",
       "      <td>2.052764e-01</td>\n",
       "      <td>0.000000</td>\n",
       "    </tr>\n",
       "    <tr>\n",
       "      <th>9</th>\n",
       "      <td>off_or_pct</td>\n",
       "      <td>3.314342</td>\n",
       "      <td>6.935084e-02</td>\n",
       "      <td>0.000000</td>\n",
       "    </tr>\n",
       "    <tr>\n",
       "      <th>10</th>\n",
       "      <td>off_ft_rate</td>\n",
       "      <td>1.251795</td>\n",
       "      <td>2.638148e-01</td>\n",
       "      <td>0.000000</td>\n",
       "    </tr>\n",
       "    <tr>\n",
       "      <th>11</th>\n",
       "      <td>def_efg_pct</td>\n",
       "      <td>8.639253</td>\n",
       "      <td>3.461562e-03</td>\n",
       "      <td>0.015136</td>\n",
       "    </tr>\n",
       "    <tr>\n",
       "      <th>12</th>\n",
       "      <td>def_to_pct</td>\n",
       "      <td>10.054431</td>\n",
       "      <td>1.625085e-03</td>\n",
       "      <td>0.011421</td>\n",
       "    </tr>\n",
       "    <tr>\n",
       "      <th>13</th>\n",
       "      <td>def_or_pct</td>\n",
       "      <td>0.361814</td>\n",
       "      <td>5.478072e-01</td>\n",
       "      <td>0.000000</td>\n",
       "    </tr>\n",
       "    <tr>\n",
       "      <th>14</th>\n",
       "      <td>def_ft_rate</td>\n",
       "      <td>0.213667</td>\n",
       "      <td>6.441347e-01</td>\n",
       "      <td>0.000000</td>\n",
       "    </tr>\n",
       "    <tr>\n",
       "      <th>15</th>\n",
       "      <td>off_2pt_pct</td>\n",
       "      <td>4.423077</td>\n",
       "      <td>3.601823e-02</td>\n",
       "      <td>0.008043</td>\n",
       "    </tr>\n",
       "    <tr>\n",
       "      <th>16</th>\n",
       "      <td>off_3pt_pct</td>\n",
       "      <td>13.449181</td>\n",
       "      <td>2.748236e-04</td>\n",
       "      <td>0.000000</td>\n",
       "    </tr>\n",
       "    <tr>\n",
       "      <th>17</th>\n",
       "      <td>off_ft_pct</td>\n",
       "      <td>0.146679</td>\n",
       "      <td>7.019129e-01</td>\n",
       "      <td>0.010034</td>\n",
       "    </tr>\n",
       "    <tr>\n",
       "      <th>18</th>\n",
       "      <td>off_block_pct</td>\n",
       "      <td>1.240235</td>\n",
       "      <td>2.660283e-01</td>\n",
       "      <td>0.028556</td>\n",
       "    </tr>\n",
       "    <tr>\n",
       "      <th>19</th>\n",
       "      <td>def_2pt_pct</td>\n",
       "      <td>5.456066</td>\n",
       "      <td>1.994482e-02</td>\n",
       "      <td>0.000000</td>\n",
       "    </tr>\n",
       "    <tr>\n",
       "      <th>20</th>\n",
       "      <td>def_3pt_pct</td>\n",
       "      <td>3.872595</td>\n",
       "      <td>4.970250e-02</td>\n",
       "      <td>0.008516</td>\n",
       "    </tr>\n",
       "    <tr>\n",
       "      <th>21</th>\n",
       "      <td>def_ft_pct</td>\n",
       "      <td>7.300269</td>\n",
       "      <td>7.158489e-03</td>\n",
       "      <td>0.000000</td>\n",
       "    </tr>\n",
       "    <tr>\n",
       "      <th>22</th>\n",
       "      <td>def_block_pct</td>\n",
       "      <td>20.114575</td>\n",
       "      <td>9.299363e-06</td>\n",
       "      <td>0.000000</td>\n",
       "    </tr>\n",
       "    <tr>\n",
       "      <th>23</th>\n",
       "      <td>off_ast_rate</td>\n",
       "      <td>1.689909</td>\n",
       "      <td>1.942874e-01</td>\n",
       "      <td>0.004174</td>\n",
       "    </tr>\n",
       "    <tr>\n",
       "      <th>24</th>\n",
       "      <td>off_stl_rate</td>\n",
       "      <td>4.784097</td>\n",
       "      <td>2.924463e-02</td>\n",
       "      <td>0.000000</td>\n",
       "    </tr>\n",
       "    <tr>\n",
       "      <th>25</th>\n",
       "      <td>def_ast_rate</td>\n",
       "      <td>4.347749</td>\n",
       "      <td>3.762854e-02</td>\n",
       "      <td>0.010269</td>\n",
       "    </tr>\n",
       "    <tr>\n",
       "      <th>26</th>\n",
       "      <td>def_stl_rate</td>\n",
       "      <td>4.270132</td>\n",
       "      <td>3.936724e-02</td>\n",
       "      <td>0.000000</td>\n",
       "    </tr>\n",
       "  </tbody>\n",
       "</table>\n",
       "</div>"
      ],
      "text/plain": [
       "          feature   f_values      p_values  mutual_info\n",
       "0    kenpom_adjem  72.678938  2.410809e-16     0.063541\n",
       "1    kenpom_adjoe  38.939357  1.021282e-09     0.041527\n",
       "2    kenpom_adjde  37.757106  1.783657e-09     0.064547\n",
       "3         off_eff   0.124384  7.244948e-01     0.010945\n",
       "4         def_eff   0.124384  7.244948e-01     0.010665\n",
       "5           tempo   0.075789  7.832148e-01     0.000000\n",
       "6       adj_tempo   0.043289  8.352781e-01     0.000000\n",
       "7     off_efg_pct  11.203186  8.860346e-04     0.000000\n",
       "8      off_to_pct   1.609147  2.052764e-01     0.000000\n",
       "9      off_or_pct   3.314342  6.935084e-02     0.000000\n",
       "10    off_ft_rate   1.251795  2.638148e-01     0.000000\n",
       "11    def_efg_pct   8.639253  3.461562e-03     0.015136\n",
       "12     def_to_pct  10.054431  1.625085e-03     0.011421\n",
       "13     def_or_pct   0.361814  5.478072e-01     0.000000\n",
       "14    def_ft_rate   0.213667  6.441347e-01     0.000000\n",
       "15    off_2pt_pct   4.423077  3.601823e-02     0.008043\n",
       "16    off_3pt_pct  13.449181  2.748236e-04     0.000000\n",
       "17     off_ft_pct   0.146679  7.019129e-01     0.010034\n",
       "18  off_block_pct   1.240235  2.660283e-01     0.028556\n",
       "19    def_2pt_pct   5.456066  1.994482e-02     0.000000\n",
       "20    def_3pt_pct   3.872595  4.970250e-02     0.008516\n",
       "21     def_ft_pct   7.300269  7.158489e-03     0.000000\n",
       "22  def_block_pct  20.114575  9.299363e-06     0.000000\n",
       "23   off_ast_rate   1.689909  1.942874e-01     0.004174\n",
       "24   off_stl_rate   4.784097  2.924463e-02     0.000000\n",
       "25   def_ast_rate   4.347749  3.762854e-02     0.010269\n",
       "26   def_stl_rate   4.270132  3.936724e-02     0.000000"
      ]
     },
     "execution_count": 45,
     "metadata": {},
     "output_type": "execute_result"
    }
   ],
   "source": [
    "X = train_df[['kenpom_adjem', 'kenpom_adjoe', 'kenpom_adjde', 'off_eff',\n",
    "       'def_eff', 'tempo', 'adj_tempo', 'off_efg_pct', 'off_to_pct',\n",
    "       'off_or_pct', 'off_ft_rate', 'def_efg_pct', 'def_to_pct', 'def_or_pct',\n",
    "       'def_ft_rate', 'off_2pt_pct', 'off_3pt_pct', 'off_ft_pct',\n",
    "       'off_block_pct', 'def_2pt_pct', 'def_3pt_pct', 'def_ft_pct',\n",
    "       'def_block_pct', 'off_ast_rate', 'off_stl_rate', 'def_ast_rate',\n",
    "       'def_stl_rate']]\n",
    "#X = train_df.drop('win', axis=1)\n",
    "y = train_df['win']\n",
    "\n",
    "# ANOVA\n",
    "f_values, p_values = f_classif(X, y)\n",
    "# Mutual Information\n",
    "mi = mutual_info_regression(X, y)\n",
    "\n",
    "column_names = np.array(X.columns)\n",
    "stats_df = pd.DataFrame({\n",
    "    'feature': column_names,\n",
    "    'f_values': f_values,\n",
    "    'p_values': p_values,\n",
    "    'mutual_info': mi\n",
    "})\n",
    "stats_df"
   ]
  },
  {
   "cell_type": "code",
   "execution_count": 46,
   "id": "bd9633b0-b9e7-4c30-85dd-c9a130d87823",
   "metadata": {},
   "outputs": [
    {
     "data": {
      "text/html": [
       "<div>\n",
       "<style scoped>\n",
       "    .dataframe tbody tr th:only-of-type {\n",
       "        vertical-align: middle;\n",
       "    }\n",
       "\n",
       "    .dataframe tbody tr th {\n",
       "        vertical-align: top;\n",
       "    }\n",
       "\n",
       "    .dataframe thead th {\n",
       "        text-align: right;\n",
       "    }\n",
       "</style>\n",
       "<table border=\"1\" class=\"dataframe\">\n",
       "  <thead>\n",
       "    <tr style=\"text-align: right;\">\n",
       "      <th></th>\n",
       "      <th>feature</th>\n",
       "      <th>f_values</th>\n",
       "      <th>p_values</th>\n",
       "      <th>mutual_info</th>\n",
       "    </tr>\n",
       "  </thead>\n",
       "  <tbody>\n",
       "    <tr>\n",
       "      <th>0</th>\n",
       "      <td>kenpom_adjem</td>\n",
       "      <td>72.678938</td>\n",
       "      <td>2.410809e-16</td>\n",
       "      <td>0.063541</td>\n",
       "    </tr>\n",
       "    <tr>\n",
       "      <th>1</th>\n",
       "      <td>kenpom_adjoe</td>\n",
       "      <td>38.939357</td>\n",
       "      <td>1.021282e-09</td>\n",
       "      <td>0.041527</td>\n",
       "    </tr>\n",
       "    <tr>\n",
       "      <th>2</th>\n",
       "      <td>kenpom_adjde</td>\n",
       "      <td>37.757106</td>\n",
       "      <td>1.783657e-09</td>\n",
       "      <td>0.064547</td>\n",
       "    </tr>\n",
       "    <tr>\n",
       "      <th>3</th>\n",
       "      <td>off_eff</td>\n",
       "      <td>0.124384</td>\n",
       "      <td>7.244948e-01</td>\n",
       "      <td>0.010945</td>\n",
       "    </tr>\n",
       "    <tr>\n",
       "      <th>4</th>\n",
       "      <td>def_eff</td>\n",
       "      <td>0.124384</td>\n",
       "      <td>7.244948e-01</td>\n",
       "      <td>0.010665</td>\n",
       "    </tr>\n",
       "    <tr>\n",
       "      <th>11</th>\n",
       "      <td>def_efg_pct</td>\n",
       "      <td>8.639253</td>\n",
       "      <td>3.461562e-03</td>\n",
       "      <td>0.015136</td>\n",
       "    </tr>\n",
       "    <tr>\n",
       "      <th>12</th>\n",
       "      <td>def_to_pct</td>\n",
       "      <td>10.054431</td>\n",
       "      <td>1.625085e-03</td>\n",
       "      <td>0.011421</td>\n",
       "    </tr>\n",
       "    <tr>\n",
       "      <th>15</th>\n",
       "      <td>off_2pt_pct</td>\n",
       "      <td>4.423077</td>\n",
       "      <td>3.601823e-02</td>\n",
       "      <td>0.008043</td>\n",
       "    </tr>\n",
       "    <tr>\n",
       "      <th>17</th>\n",
       "      <td>off_ft_pct</td>\n",
       "      <td>0.146679</td>\n",
       "      <td>7.019129e-01</td>\n",
       "      <td>0.010034</td>\n",
       "    </tr>\n",
       "    <tr>\n",
       "      <th>18</th>\n",
       "      <td>off_block_pct</td>\n",
       "      <td>1.240235</td>\n",
       "      <td>2.660283e-01</td>\n",
       "      <td>0.028556</td>\n",
       "    </tr>\n",
       "    <tr>\n",
       "      <th>20</th>\n",
       "      <td>def_3pt_pct</td>\n",
       "      <td>3.872595</td>\n",
       "      <td>4.970250e-02</td>\n",
       "      <td>0.008516</td>\n",
       "    </tr>\n",
       "    <tr>\n",
       "      <th>23</th>\n",
       "      <td>off_ast_rate</td>\n",
       "      <td>1.689909</td>\n",
       "      <td>1.942874e-01</td>\n",
       "      <td>0.004174</td>\n",
       "    </tr>\n",
       "    <tr>\n",
       "      <th>25</th>\n",
       "      <td>def_ast_rate</td>\n",
       "      <td>4.347749</td>\n",
       "      <td>3.762854e-02</td>\n",
       "      <td>0.010269</td>\n",
       "    </tr>\n",
       "  </tbody>\n",
       "</table>\n",
       "</div>"
      ],
      "text/plain": [
       "          feature   f_values      p_values  mutual_info\n",
       "0    kenpom_adjem  72.678938  2.410809e-16     0.063541\n",
       "1    kenpom_adjoe  38.939357  1.021282e-09     0.041527\n",
       "2    kenpom_adjde  37.757106  1.783657e-09     0.064547\n",
       "3         off_eff   0.124384  7.244948e-01     0.010945\n",
       "4         def_eff   0.124384  7.244948e-01     0.010665\n",
       "11    def_efg_pct   8.639253  3.461562e-03     0.015136\n",
       "12     def_to_pct  10.054431  1.625085e-03     0.011421\n",
       "15    off_2pt_pct   4.423077  3.601823e-02     0.008043\n",
       "17     off_ft_pct   0.146679  7.019129e-01     0.010034\n",
       "18  off_block_pct   1.240235  2.660283e-01     0.028556\n",
       "20    def_3pt_pct   3.872595  4.970250e-02     0.008516\n",
       "23   off_ast_rate   1.689909  1.942874e-01     0.004174\n",
       "25   def_ast_rate   4.347749  3.762854e-02     0.010269"
      ]
     },
     "execution_count": 46,
     "metadata": {},
     "output_type": "execute_result"
    }
   ],
   "source": [
    "stats_df[stats_df['mutual_info'] > 0]"
   ]
  },
  {
   "cell_type": "code",
   "execution_count": 47,
   "id": "a11bfe34-149b-42e3-816f-af35ba2f69d2",
   "metadata": {},
   "outputs": [
    {
     "data": {
      "text/html": [
       "<div>\n",
       "<style scoped>\n",
       "    .dataframe tbody tr th:only-of-type {\n",
       "        vertical-align: middle;\n",
       "    }\n",
       "\n",
       "    .dataframe tbody tr th {\n",
       "        vertical-align: top;\n",
       "    }\n",
       "\n",
       "    .dataframe thead th {\n",
       "        text-align: right;\n",
       "    }\n",
       "</style>\n",
       "<table border=\"1\" class=\"dataframe\">\n",
       "  <thead>\n",
       "    <tr style=\"text-align: right;\">\n",
       "      <th></th>\n",
       "      <th>feature</th>\n",
       "      <th>f_values</th>\n",
       "      <th>p_values</th>\n",
       "      <th>mutual_info</th>\n",
       "    </tr>\n",
       "  </thead>\n",
       "  <tbody>\n",
       "    <tr>\n",
       "      <th>0</th>\n",
       "      <td>kenpom_adjem</td>\n",
       "      <td>72.678938</td>\n",
       "      <td>2.410809e-16</td>\n",
       "      <td>0.063541</td>\n",
       "    </tr>\n",
       "    <tr>\n",
       "      <th>1</th>\n",
       "      <td>kenpom_adjoe</td>\n",
       "      <td>38.939357</td>\n",
       "      <td>1.021282e-09</td>\n",
       "      <td>0.041527</td>\n",
       "    </tr>\n",
       "    <tr>\n",
       "      <th>2</th>\n",
       "      <td>kenpom_adjde</td>\n",
       "      <td>37.757106</td>\n",
       "      <td>1.783657e-09</td>\n",
       "      <td>0.064547</td>\n",
       "    </tr>\n",
       "    <tr>\n",
       "      <th>7</th>\n",
       "      <td>off_efg_pct</td>\n",
       "      <td>11.203186</td>\n",
       "      <td>8.860346e-04</td>\n",
       "      <td>0.000000</td>\n",
       "    </tr>\n",
       "    <tr>\n",
       "      <th>11</th>\n",
       "      <td>def_efg_pct</td>\n",
       "      <td>8.639253</td>\n",
       "      <td>3.461562e-03</td>\n",
       "      <td>0.015136</td>\n",
       "    </tr>\n",
       "    <tr>\n",
       "      <th>12</th>\n",
       "      <td>def_to_pct</td>\n",
       "      <td>10.054431</td>\n",
       "      <td>1.625085e-03</td>\n",
       "      <td>0.011421</td>\n",
       "    </tr>\n",
       "    <tr>\n",
       "      <th>15</th>\n",
       "      <td>off_2pt_pct</td>\n",
       "      <td>4.423077</td>\n",
       "      <td>3.601823e-02</td>\n",
       "      <td>0.008043</td>\n",
       "    </tr>\n",
       "    <tr>\n",
       "      <th>16</th>\n",
       "      <td>off_3pt_pct</td>\n",
       "      <td>13.449181</td>\n",
       "      <td>2.748236e-04</td>\n",
       "      <td>0.000000</td>\n",
       "    </tr>\n",
       "    <tr>\n",
       "      <th>19</th>\n",
       "      <td>def_2pt_pct</td>\n",
       "      <td>5.456066</td>\n",
       "      <td>1.994482e-02</td>\n",
       "      <td>0.000000</td>\n",
       "    </tr>\n",
       "    <tr>\n",
       "      <th>20</th>\n",
       "      <td>def_3pt_pct</td>\n",
       "      <td>3.872595</td>\n",
       "      <td>4.970250e-02</td>\n",
       "      <td>0.008516</td>\n",
       "    </tr>\n",
       "    <tr>\n",
       "      <th>21</th>\n",
       "      <td>def_ft_pct</td>\n",
       "      <td>7.300269</td>\n",
       "      <td>7.158489e-03</td>\n",
       "      <td>0.000000</td>\n",
       "    </tr>\n",
       "    <tr>\n",
       "      <th>22</th>\n",
       "      <td>def_block_pct</td>\n",
       "      <td>20.114575</td>\n",
       "      <td>9.299363e-06</td>\n",
       "      <td>0.000000</td>\n",
       "    </tr>\n",
       "    <tr>\n",
       "      <th>24</th>\n",
       "      <td>off_stl_rate</td>\n",
       "      <td>4.784097</td>\n",
       "      <td>2.924463e-02</td>\n",
       "      <td>0.000000</td>\n",
       "    </tr>\n",
       "    <tr>\n",
       "      <th>25</th>\n",
       "      <td>def_ast_rate</td>\n",
       "      <td>4.347749</td>\n",
       "      <td>3.762854e-02</td>\n",
       "      <td>0.010269</td>\n",
       "    </tr>\n",
       "    <tr>\n",
       "      <th>26</th>\n",
       "      <td>def_stl_rate</td>\n",
       "      <td>4.270132</td>\n",
       "      <td>3.936724e-02</td>\n",
       "      <td>0.000000</td>\n",
       "    </tr>\n",
       "  </tbody>\n",
       "</table>\n",
       "</div>"
      ],
      "text/plain": [
       "          feature   f_values      p_values  mutual_info\n",
       "0    kenpom_adjem  72.678938  2.410809e-16     0.063541\n",
       "1    kenpom_adjoe  38.939357  1.021282e-09     0.041527\n",
       "2    kenpom_adjde  37.757106  1.783657e-09     0.064547\n",
       "7     off_efg_pct  11.203186  8.860346e-04     0.000000\n",
       "11    def_efg_pct   8.639253  3.461562e-03     0.015136\n",
       "12     def_to_pct  10.054431  1.625085e-03     0.011421\n",
       "15    off_2pt_pct   4.423077  3.601823e-02     0.008043\n",
       "16    off_3pt_pct  13.449181  2.748236e-04     0.000000\n",
       "19    def_2pt_pct   5.456066  1.994482e-02     0.000000\n",
       "20    def_3pt_pct   3.872595  4.970250e-02     0.008516\n",
       "21     def_ft_pct   7.300269  7.158489e-03     0.000000\n",
       "22  def_block_pct  20.114575  9.299363e-06     0.000000\n",
       "24   off_stl_rate   4.784097  2.924463e-02     0.000000\n",
       "25   def_ast_rate   4.347749  3.762854e-02     0.010269\n",
       "26   def_stl_rate   4.270132  3.936724e-02     0.000000"
      ]
     },
     "execution_count": 47,
     "metadata": {},
     "output_type": "execute_result"
    }
   ],
   "source": [
    "stats_df[stats_df['p_values'] < .05]"
   ]
  },
  {
   "cell_type": "code",
   "execution_count": 48,
   "id": "778a3e70-f69e-4d82-b60c-6d67303c6c27",
   "metadata": {},
   "outputs": [
    {
     "data": {
      "text/html": [
       "<div>\n",
       "<style scoped>\n",
       "    .dataframe tbody tr th:only-of-type {\n",
       "        vertical-align: middle;\n",
       "    }\n",
       "\n",
       "    .dataframe tbody tr th {\n",
       "        vertical-align: top;\n",
       "    }\n",
       "\n",
       "    .dataframe thead th {\n",
       "        text-align: right;\n",
       "    }\n",
       "</style>\n",
       "<table border=\"1\" class=\"dataframe\">\n",
       "  <thead>\n",
       "    <tr style=\"text-align: right;\">\n",
       "      <th></th>\n",
       "      <th>feature</th>\n",
       "      <th>f_values</th>\n",
       "      <th>p_values</th>\n",
       "      <th>mutual_info</th>\n",
       "    </tr>\n",
       "  </thead>\n",
       "  <tbody>\n",
       "    <tr>\n",
       "      <th>0</th>\n",
       "      <td>kenpom_adjem</td>\n",
       "      <td>72.678938</td>\n",
       "      <td>2.410809e-16</td>\n",
       "      <td>0.063541</td>\n",
       "    </tr>\n",
       "    <tr>\n",
       "      <th>1</th>\n",
       "      <td>kenpom_adjoe</td>\n",
       "      <td>38.939357</td>\n",
       "      <td>1.021282e-09</td>\n",
       "      <td>0.041527</td>\n",
       "    </tr>\n",
       "    <tr>\n",
       "      <th>2</th>\n",
       "      <td>kenpom_adjde</td>\n",
       "      <td>37.757106</td>\n",
       "      <td>1.783657e-09</td>\n",
       "      <td>0.064547</td>\n",
       "    </tr>\n",
       "    <tr>\n",
       "      <th>7</th>\n",
       "      <td>off_efg_pct</td>\n",
       "      <td>11.203186</td>\n",
       "      <td>8.860346e-04</td>\n",
       "      <td>0.000000</td>\n",
       "    </tr>\n",
       "    <tr>\n",
       "      <th>11</th>\n",
       "      <td>def_efg_pct</td>\n",
       "      <td>8.639253</td>\n",
       "      <td>3.461562e-03</td>\n",
       "      <td>0.015136</td>\n",
       "    </tr>\n",
       "    <tr>\n",
       "      <th>12</th>\n",
       "      <td>def_to_pct</td>\n",
       "      <td>10.054431</td>\n",
       "      <td>1.625085e-03</td>\n",
       "      <td>0.011421</td>\n",
       "    </tr>\n",
       "    <tr>\n",
       "      <th>16</th>\n",
       "      <td>off_3pt_pct</td>\n",
       "      <td>13.449181</td>\n",
       "      <td>2.748236e-04</td>\n",
       "      <td>0.000000</td>\n",
       "    </tr>\n",
       "    <tr>\n",
       "      <th>19</th>\n",
       "      <td>def_2pt_pct</td>\n",
       "      <td>5.456066</td>\n",
       "      <td>1.994482e-02</td>\n",
       "      <td>0.000000</td>\n",
       "    </tr>\n",
       "    <tr>\n",
       "      <th>21</th>\n",
       "      <td>def_ft_pct</td>\n",
       "      <td>7.300269</td>\n",
       "      <td>7.158489e-03</td>\n",
       "      <td>0.000000</td>\n",
       "    </tr>\n",
       "    <tr>\n",
       "      <th>22</th>\n",
       "      <td>def_block_pct</td>\n",
       "      <td>20.114575</td>\n",
       "      <td>9.299363e-06</td>\n",
       "      <td>0.000000</td>\n",
       "    </tr>\n",
       "  </tbody>\n",
       "</table>\n",
       "</div>"
      ],
      "text/plain": [
       "          feature   f_values      p_values  mutual_info\n",
       "0    kenpom_adjem  72.678938  2.410809e-16     0.063541\n",
       "1    kenpom_adjoe  38.939357  1.021282e-09     0.041527\n",
       "2    kenpom_adjde  37.757106  1.783657e-09     0.064547\n",
       "7     off_efg_pct  11.203186  8.860346e-04     0.000000\n",
       "11    def_efg_pct   8.639253  3.461562e-03     0.015136\n",
       "12     def_to_pct  10.054431  1.625085e-03     0.011421\n",
       "16    off_3pt_pct  13.449181  2.748236e-04     0.000000\n",
       "19    def_2pt_pct   5.456066  1.994482e-02     0.000000\n",
       "21     def_ft_pct   7.300269  7.158489e-03     0.000000\n",
       "22  def_block_pct  20.114575  9.299363e-06     0.000000"
      ]
     },
     "execution_count": 48,
     "metadata": {},
     "output_type": "execute_result"
    }
   ],
   "source": [
    "stats_df[stats_df['f_values'] > 5]"
   ]
  },
  {
   "cell_type": "markdown",
   "id": "ab837cb6-bb1b-45e9-93d8-6f20a5e8d290",
   "metadata": {},
   "source": [
    "## II. Wrapper Methods"
   ]
  },
  {
   "cell_type": "markdown",
   "id": "1fe9b806-d928-427b-adde-ddd4fd1682d7",
   "metadata": {},
   "source": [
    "### A. Forward Selection"
   ]
  },
  {
   "cell_type": "code",
   "execution_count": 49,
   "id": "324f021c-3a45-4162-a578-37826f1a1bc5",
   "metadata": {},
   "outputs": [
    {
     "name": "stdout",
     "output_type": "stream",
     "text": [
      "Optimization terminated successfully.\n",
      "         Current function value: 0.478080\n",
      "         Iterations 6\n",
      "Optimization terminated successfully.\n",
      "         Current function value: 0.518206\n",
      "         Iterations 6\n",
      "Optimization terminated successfully.\n",
      "         Current function value: 0.519193\n",
      "         Iterations 6\n",
      "Optimization terminated successfully.\n",
      "         Current function value: 0.560960\n",
      "         Iterations 5\n",
      "Optimization terminated successfully.\n",
      "         Current function value: 0.560960\n",
      "         Iterations 5\n",
      "Optimization terminated successfully.\n",
      "         Current function value: 0.561015\n",
      "         Iterations 5\n",
      "Optimization terminated successfully.\n",
      "         Current function value: 0.561051\n",
      "         Iterations 5\n",
      "Optimization terminated successfully.\n",
      "         Current function value: 0.548583\n",
      "         Iterations 5\n",
      "Optimization terminated successfully.\n",
      "         Current function value: 0.559305\n",
      "         Iterations 5\n",
      "Optimization terminated successfully.\n",
      "         Current function value: 0.557406\n",
      "         Iterations 5\n",
      "Optimization terminated successfully.\n",
      "         Current function value: 0.559686\n",
      "         Iterations 5\n",
      "Optimization terminated successfully.\n",
      "         Current function value: 0.551489\n",
      "         Iterations 5\n",
      "Optimization terminated successfully.\n",
      "         Current function value: 0.549864\n",
      "         Iterations 6\n",
      "Optimization terminated successfully.\n",
      "         Current function value: 0.560693\n",
      "         Iterations 5\n",
      "Optimization terminated successfully.\n",
      "         Current function value: 0.560859\n",
      "         Iterations 5\n",
      "Optimization terminated successfully.\n",
      "         Current function value: 0.556139\n",
      "         Iterations 5\n",
      "Optimization terminated successfully.\n",
      "         Current function value: 0.546085\n",
      "         Iterations 6\n",
      "Optimization terminated successfully.\n",
      "         Current function value: 0.560935\n",
      "         Iterations 5\n",
      "Optimization terminated successfully.\n",
      "         Current function value: 0.559699\n",
      "         Iterations 5\n",
      "Optimization terminated successfully.\n",
      "         Current function value: 0.554996\n",
      "         Iterations 5\n",
      "Optimization terminated successfully.\n",
      "         Current function value: 0.556749\n",
      "         Iterations 5\n",
      "Optimization terminated successfully.\n",
      "         Current function value: 0.552968\n",
      "         Iterations 5\n",
      "Optimization terminated successfully.\n",
      "         Current function value: 0.539775\n",
      "         Iterations 6\n",
      "Optimization terminated successfully.\n",
      "         Current function value: 0.559200\n",
      "         Iterations 5\n",
      "Optimization terminated successfully.\n",
      "         Current function value: 0.555687\n",
      "         Iterations 8\n",
      "Optimization terminated successfully.\n",
      "         Current function value: 0.556267\n",
      "         Iterations 5\n",
      "Optimization terminated successfully.\n",
      "         Current function value: 0.556386\n",
      "         Iterations 8\n",
      "Optimization terminated successfully.\n",
      "         Current function value: 0.478065\n",
      "         Iterations 6\n",
      "Optimization terminated successfully.\n",
      "         Current function value: 0.478065\n",
      "         Iterations 6\n",
      "Optimization terminated successfully.\n",
      "         Current function value: 0.477953\n",
      "         Iterations 6\n",
      "Optimization terminated successfully.\n",
      "         Current function value: 0.477953\n",
      "         Iterations 6\n",
      "Optimization terminated successfully.\n",
      "         Current function value: 0.478003\n",
      "         Iterations 6\n",
      "Optimization terminated successfully.\n",
      "         Current function value: 0.478032\n",
      "         Iterations 6\n",
      "Optimization terminated successfully.\n",
      "         Current function value: 0.478029\n",
      "         Iterations 6\n",
      "Optimization terminated successfully.\n",
      "         Current function value: 0.477234\n",
      "         Iterations 7\n",
      "Optimization terminated successfully.\n",
      "         Current function value: 0.477949\n",
      "         Iterations 6\n",
      "Optimization terminated successfully.\n",
      "         Current function value: 0.477162\n",
      "         Iterations 6\n",
      "Optimization terminated successfully.\n",
      "         Current function value: 0.477535\n",
      "         Iterations 6\n",
      "Optimization terminated successfully.\n",
      "         Current function value: 0.471915\n",
      "         Iterations 7\n",
      "Optimization terminated successfully.\n",
      "         Current function value: 0.470846\n",
      "         Iterations 6\n",
      "Optimization terminated successfully.\n",
      "         Current function value: 0.477304\n",
      "         Iterations 6\n",
      "Optimization terminated successfully.\n",
      "         Current function value: 0.476053\n",
      "         Iterations 6\n",
      "Optimization terminated successfully.\n",
      "         Current function value: 0.474094\n",
      "         Iterations 6\n",
      "Optimization terminated successfully.\n",
      "         Current function value: 0.477303\n",
      "         Iterations 6\n",
      "Optimization terminated successfully.\n",
      "         Current function value: 0.477922\n",
      "         Iterations 6\n",
      "Optimization terminated successfully.\n",
      "         Current function value: 0.478058\n",
      "         Iterations 6\n",
      "Optimization terminated successfully.\n",
      "         Current function value: 0.477612\n",
      "         Iterations 6\n",
      "Optimization terminated successfully.\n",
      "         Current function value: 0.474845\n",
      "         Iterations 6\n",
      "Optimization terminated successfully.\n",
      "         Current function value: 0.473711\n",
      "         Iterations 6\n",
      "Optimization terminated successfully.\n",
      "         Current function value: 0.473202\n",
      "         Iterations 6\n",
      "Optimization terminated successfully.\n",
      "         Current function value: 0.476084\n",
      "         Iterations 9\n",
      "Optimization terminated successfully.\n",
      "         Current function value: 0.477480\n",
      "         Iterations 6\n",
      "Optimization terminated successfully.\n",
      "         Current function value: 0.475387\n",
      "         Iterations 9\n",
      "Optimization terminated successfully.\n",
      "         Current function value: 0.470797\n",
      "         Iterations 6\n",
      "Optimization terminated successfully.\n",
      "         Current function value: 0.470797\n",
      "         Iterations 6\n",
      "Optimization terminated successfully.\n",
      "         Current function value: 0.470846\n",
      "         Iterations 6\n",
      "Optimization terminated successfully.\n",
      "         Current function value: 0.470846\n",
      "         Iterations 6\n",
      "Optimization terminated successfully.\n",
      "         Current function value: 0.470740\n",
      "         Iterations 6\n",
      "Optimization terminated successfully.\n",
      "         Current function value: 0.470774\n",
      "         Iterations 6\n",
      "Optimization terminated successfully.\n",
      "         Current function value: 0.470754\n",
      "         Iterations 6\n",
      "Optimization terminated successfully.\n",
      "         Current function value: 0.466737\n",
      "         Iterations 7\n",
      "Optimization terminated successfully.\n",
      "         Current function value: 0.469989\n",
      "         Iterations 6\n",
      "Optimization terminated successfully.\n",
      "         Current function value: 0.470846\n",
      "         Iterations 6\n",
      "Optimization terminated successfully.\n",
      "         Current function value: 0.470822\n",
      "         Iterations 6\n",
      "Optimization terminated successfully.\n",
      "         Current function value: 0.469736\n",
      "         Iterations 7\n",
      "Optimization terminated successfully.\n",
      "         Current function value: 0.470837\n",
      "         Iterations 6\n",
      "Optimization terminated successfully.\n",
      "         Current function value: 0.470316\n",
      "         Iterations 6\n",
      "Optimization terminated successfully.\n",
      "         Current function value: 0.467591\n",
      "         Iterations 7\n",
      "Optimization terminated successfully.\n",
      "         Current function value: 0.470791\n",
      "         Iterations 7\n",
      "Optimization terminated successfully.\n",
      "         Current function value: 0.470666\n",
      "         Iterations 7\n",
      "Optimization terminated successfully.\n",
      "         Current function value: 0.470105\n",
      "         Iterations 6\n",
      "Optimization terminated successfully.\n",
      "         Current function value: 0.470628\n",
      "         Iterations 6\n",
      "Optimization terminated successfully.\n",
      "         Current function value: 0.470305\n",
      "         Iterations 7\n",
      "Optimization terminated successfully.\n",
      "         Current function value: 0.466653\n",
      "         Iterations 6\n",
      "Optimization terminated successfully.\n",
      "         Current function value: 0.463340\n",
      "         Iterations 7\n",
      "Optimization terminated successfully.\n",
      "         Current function value: 0.470840\n",
      "         Iterations 9\n",
      "Optimization terminated successfully.\n",
      "         Current function value: 0.468736\n",
      "         Iterations 7\n",
      "Optimization terminated successfully.\n",
      "         Current function value: 0.465533\n",
      "         Iterations 9\n",
      "Optimization terminated successfully.\n",
      "         Current function value: 0.463311\n",
      "         Iterations 7\n",
      "Optimization terminated successfully.\n",
      "         Current function value: 0.463311\n",
      "         Iterations 7\n",
      "Optimization terminated successfully.\n",
      "         Current function value: 0.463334\n",
      "         Iterations 6\n",
      "Optimization terminated successfully.\n",
      "         Current function value: 0.463334\n",
      "         Iterations 6\n",
      "Optimization terminated successfully.\n",
      "         Current function value: 0.463319\n",
      "         Iterations 7\n",
      "Optimization terminated successfully.\n",
      "         Current function value: 0.463331\n",
      "         Iterations 7\n",
      "Optimization terminated successfully.\n",
      "         Current function value: 0.462622\n",
      "         Iterations 7\n",
      "Optimization terminated successfully.\n",
      "         Current function value: 0.461555\n",
      "         Iterations 7\n",
      "Optimization terminated successfully.\n",
      "         Current function value: 0.463236\n",
      "         Iterations 7\n",
      "Optimization terminated successfully.\n",
      "         Current function value: 0.463329\n",
      "         Iterations 7\n",
      "Optimization terminated successfully.\n",
      "         Current function value: 0.463273\n",
      "         Iterations 7\n",
      "Optimization terminated successfully.\n",
      "         Current function value: 0.461815\n",
      "         Iterations 7\n",
      "Optimization terminated successfully.\n",
      "         Current function value: 0.463243\n",
      "         Iterations 7\n",
      "Optimization terminated successfully.\n",
      "         Current function value: 0.463079\n",
      "         Iterations 7\n",
      "Optimization terminated successfully.\n",
      "         Current function value: 0.457090\n",
      "         Iterations 7\n",
      "Optimization terminated successfully.\n",
      "         Current function value: 0.463282\n",
      "         Iterations 7\n",
      "Optimization terminated successfully.\n",
      "         Current function value: 0.462842\n",
      "         Iterations 7\n",
      "Optimization terminated successfully.\n",
      "         Current function value: 0.463254\n",
      "         Iterations 7\n",
      "Optimization terminated successfully.\n",
      "         Current function value: 0.463123\n",
      "         Iterations 6\n",
      "Optimization terminated successfully.\n",
      "         Current function value: 0.462458\n",
      "         Iterations 7\n",
      "Optimization terminated successfully.\n",
      "         Current function value: 0.460434\n",
      "         Iterations 6\n",
      "Optimization terminated successfully.\n",
      "         Current function value: 0.463329\n",
      "         Iterations 9\n",
      "Optimization terminated successfully.\n",
      "         Current function value: 0.462940\n",
      "         Iterations 7\n",
      "Optimization terminated successfully.\n",
      "         Current function value: 0.461028\n",
      "         Iterations 9\n",
      "Optimization terminated successfully.\n",
      "         Current function value: 0.456082\n",
      "         Iterations 7\n",
      "Optimization terminated successfully.\n",
      "         Current function value: 0.456081\n",
      "         Iterations 7\n",
      "Optimization terminated successfully.\n",
      "         Current function value: 0.456485\n",
      "         Iterations 7\n",
      "Optimization terminated successfully.\n",
      "         Current function value: 0.456485\n",
      "         Iterations 7\n",
      "Optimization terminated successfully.\n",
      "         Current function value: 0.457013\n",
      "         Iterations 7\n",
      "Optimization terminated successfully.\n",
      "         Current function value: 0.457050\n",
      "         Iterations 7\n",
      "Optimization terminated successfully.\n",
      "         Current function value: 0.456534\n",
      "         Iterations 7\n",
      "Optimization terminated successfully.\n",
      "         Current function value: 0.455381\n",
      "         Iterations 7\n",
      "Optimization terminated successfully.\n",
      "         Current function value: 0.457084\n",
      "         Iterations 7\n",
      "Optimization terminated successfully.\n",
      "         Current function value: 0.457089\n",
      "         Iterations 7\n",
      "Optimization terminated successfully.\n",
      "         Current function value: 0.456480\n",
      "         Iterations 7\n",
      "Optimization terminated successfully.\n",
      "         Current function value: 0.454085\n",
      "         Iterations 7\n",
      "Optimization terminated successfully.\n",
      "         Current function value: 0.456836\n",
      "         Iterations 7\n",
      "Optimization terminated successfully.\n",
      "         Current function value: 0.456471\n",
      "         Iterations 7\n",
      "Optimization terminated successfully.\n",
      "         Current function value: 0.456571\n",
      "         Iterations 7\n",
      "Optimization terminated successfully.\n",
      "         Current function value: 0.456810\n",
      "         Iterations 7\n",
      "Optimization terminated successfully.\n",
      "         Current function value: 0.457084\n",
      "         Iterations 7\n",
      "Optimization terminated successfully.\n",
      "         Current function value: 0.456409\n",
      "         Iterations 7\n",
      "Optimization terminated successfully.\n",
      "         Current function value: 0.455648\n",
      "         Iterations 7\n",
      "Optimization terminated successfully.\n",
      "         Current function value: 0.454891\n",
      "         Iterations 7\n",
      "Optimization terminated successfully.\n",
      "         Current function value: 0.456592\n",
      "         Iterations 9\n",
      "Optimization terminated successfully.\n",
      "         Current function value: 0.456879\n",
      "         Iterations 7\n",
      "Optimization terminated successfully.\n",
      "         Current function value: 0.455440\n",
      "         Iterations 9\n",
      "Optimization terminated successfully.\n",
      "         Current function value: 0.454043\n",
      "         Iterations 7\n",
      "Optimization terminated successfully.\n",
      "         Current function value: 0.454043\n",
      "         Iterations 7\n",
      "Optimization terminated successfully.\n",
      "         Current function value: 0.454085\n",
      "         Iterations 7\n",
      "Optimization terminated successfully.\n",
      "         Current function value: 0.454085\n",
      "         Iterations 7\n",
      "Optimization terminated successfully.\n",
      "         Current function value: 0.454035\n",
      "         Iterations 7\n",
      "Optimization terminated successfully.\n",
      "         Current function value: 0.454067\n",
      "         Iterations 7\n",
      "Optimization terminated successfully.\n",
      "         Current function value: 0.454011\n",
      "         Iterations 7\n",
      "Optimization terminated successfully.\n",
      "         Current function value: 0.450338\n",
      "         Iterations 7\n",
      "Optimization terminated successfully.\n",
      "         Current function value: 0.454005\n",
      "         Iterations 7\n",
      "Optimization terminated successfully.\n",
      "         Current function value: 0.454083\n",
      "         Iterations 7\n",
      "Optimization terminated successfully.\n",
      "         Current function value: 0.452688\n",
      "         Iterations 7\n",
      "Optimization terminated successfully.\n",
      "         Current function value: 0.453234\n",
      "         Iterations 7\n",
      "Optimization terminated successfully.\n",
      "         Current function value: 0.453984\n",
      "         Iterations 7\n",
      "Optimization terminated successfully.\n",
      "         Current function value: 0.453899\n",
      "         Iterations 7\n",
      "Optimization terminated successfully.\n",
      "         Current function value: 0.453815\n",
      "         Iterations 7\n",
      "Optimization terminated successfully.\n",
      "         Current function value: 0.453931\n",
      "         Iterations 7\n",
      "Optimization terminated successfully.\n",
      "         Current function value: 0.452949\n",
      "         Iterations 7\n",
      "Optimization terminated successfully.\n",
      "         Current function value: 0.453201\n",
      "         Iterations 7\n",
      "Optimization terminated successfully.\n",
      "         Current function value: 0.451635\n",
      "         Iterations 7\n",
      "Optimization terminated successfully.\n",
      "         Current function value: 0.453458\n",
      "         Iterations 10\n",
      "Optimization terminated successfully.\n",
      "         Current function value: 0.453113\n",
      "         Iterations 7\n",
      "Optimization terminated successfully.\n",
      "         Current function value: 0.452093\n",
      "         Iterations 9\n",
      "Optimization terminated successfully.\n",
      "         Current function value: 0.449665\n",
      "         Iterations 7\n",
      "Optimization terminated successfully.\n",
      "         Current function value: 0.449664\n",
      "         Iterations 7\n",
      "Optimization terminated successfully.\n",
      "         Current function value: 0.450248\n",
      "         Iterations 7\n",
      "Optimization terminated successfully.\n",
      "         Current function value: 0.450248\n",
      "         Iterations 7\n",
      "Optimization terminated successfully.\n",
      "         Current function value: 0.450262\n",
      "         Iterations 7\n",
      "Optimization terminated successfully.\n",
      "         Current function value: 0.450312\n",
      "         Iterations 7\n",
      "Optimization terminated successfully.\n",
      "         Current function value: 0.450310\n",
      "         Iterations 7\n",
      "Optimization terminated successfully.\n",
      "         Current function value: 0.449709\n",
      "         Iterations 7\n",
      "Optimization terminated successfully.\n",
      "         Current function value: 0.449758\n",
      "         Iterations 7\n",
      "Optimization terminated successfully.\n",
      "         Current function value: 0.448327\n",
      "         Iterations 7\n",
      "Optimization terminated successfully.\n",
      "         Current function value: 0.449464\n",
      "         Iterations 7\n",
      "Optimization terminated successfully.\n",
      "         Current function value: 0.450288\n",
      "         Iterations 7\n",
      "Optimization terminated successfully.\n",
      "         Current function value: 0.449779\n",
      "         Iterations 7\n",
      "Optimization terminated successfully.\n",
      "         Current function value: 0.450167\n",
      "         Iterations 7\n",
      "Optimization terminated successfully.\n",
      "         Current function value: 0.449860\n",
      "         Iterations 7\n",
      "Optimization terminated successfully.\n",
      "         Current function value: 0.449253\n",
      "         Iterations 7\n",
      "Optimization terminated successfully.\n",
      "         Current function value: 0.448791\n",
      "         Iterations 7\n",
      "Optimization terminated successfully.\n",
      "         Current function value: 0.447274\n",
      "         Iterations 7\n",
      "Optimization terminated successfully.\n",
      "         Current function value: 0.448954\n",
      "         Iterations 11\n",
      "Optimization terminated successfully.\n",
      "         Current function value: 0.449732\n",
      "         Iterations 7\n",
      "Optimization terminated successfully.\n",
      "         Current function value: 0.450319\n",
      "         Iterations 11\n",
      "Optimization terminated successfully.\n",
      "         Current function value: 0.445357\n",
      "         Iterations 7\n",
      "Optimization terminated successfully.\n",
      "         Current function value: 0.445357\n",
      "         Iterations 7\n",
      "Optimization terminated successfully.\n",
      "         Current function value: 0.447141\n",
      "         Iterations 7\n",
      "Optimization terminated successfully.\n",
      "         Current function value: 0.447141\n",
      "         Iterations 7\n",
      "Optimization terminated successfully.\n",
      "         Current function value: 0.447239\n",
      "         Iterations 7\n",
      "Optimization terminated successfully.\n",
      "         Current function value: 0.447265\n",
      "         Iterations 7\n",
      "Optimization terminated successfully.\n",
      "         Current function value: 0.446594\n",
      "         Iterations 7\n",
      "Optimization terminated successfully.\n",
      "         Current function value: 0.446367\n",
      "         Iterations 7\n",
      "Optimization terminated successfully.\n",
      "         Current function value: 0.446169\n",
      "         Iterations 7\n",
      "Optimization terminated successfully.\n",
      "         Current function value: 0.444056\n",
      "         Iterations 7\n",
      "Optimization terminated successfully.\n",
      "         Current function value: 0.446473\n",
      "         Iterations 7\n",
      "Optimization terminated successfully.\n",
      "         Current function value: 0.446409\n",
      "         Iterations 7\n",
      "Optimization terminated successfully.\n",
      "         Current function value: 0.446368\n",
      "         Iterations 7\n",
      "Optimization terminated successfully.\n",
      "         Current function value: 0.446800\n",
      "         Iterations 7\n",
      "Optimization terminated successfully.\n",
      "         Current function value: 0.446565\n",
      "         Iterations 7\n",
      "Optimization terminated successfully.\n",
      "         Current function value: 0.445100\n",
      "         Iterations 7\n",
      "Optimization terminated successfully.\n",
      "         Current function value: 0.444462\n",
      "         Iterations 7\n",
      "Optimization terminated successfully.\n",
      "         Current function value: 0.445841\n",
      "         Iterations 11\n",
      "Optimization terminated successfully.\n",
      "         Current function value: 0.446061\n",
      "         Iterations 7\n",
      "Optimization terminated successfully.\n",
      "         Current function value: 0.447071\n",
      "         Iterations 11\n",
      "Optimization terminated successfully.\n",
      "         Current function value: 0.444042\n",
      "         Iterations 7\n",
      "Optimization terminated successfully.\n",
      "         Current function value: 0.444042\n",
      "         Iterations 7\n",
      "Optimization terminated successfully.\n",
      "         Current function value: 0.443640\n",
      "         Iterations 7\n",
      "Optimization terminated successfully.\n",
      "         Current function value: 0.443640\n",
      "         Iterations 7\n",
      "Optimization terminated successfully.\n",
      "         Current function value: 0.443965\n",
      "         Iterations 7\n",
      "Optimization terminated successfully.\n",
      "         Current function value: 0.444002\n",
      "         Iterations 7\n",
      "Optimization terminated successfully.\n",
      "         Current function value: 0.444006\n",
      "         Iterations 7\n",
      "Optimization terminated successfully.\n",
      "         Current function value: 0.443198\n",
      "         Iterations 7\n",
      "Optimization terminated successfully.\n",
      "         Current function value: 0.443262\n",
      "         Iterations 7\n",
      "Optimization terminated successfully.\n",
      "         Current function value: 0.442837\n",
      "         Iterations 7\n",
      "Optimization terminated successfully.\n",
      "         Current function value: 0.443923\n",
      "         Iterations 7\n",
      "Optimization terminated successfully.\n",
      "         Current function value: 0.443855\n",
      "         Iterations 7\n",
      "Optimization terminated successfully.\n",
      "         Current function value: 0.442885\n",
      "         Iterations 7\n",
      "Optimization terminated successfully.\n",
      "         Current function value: 0.442738\n",
      "         Iterations 7\n",
      "Optimization terminated successfully.\n",
      "         Current function value: 0.443819\n",
      "         Iterations 7\n",
      "Optimization terminated successfully.\n",
      "         Current function value: 0.442036\n",
      "         Iterations 7\n",
      "Optimization terminated successfully.\n",
      "         Current function value: 0.442920\n",
      "         Iterations 10\n",
      "Optimization terminated successfully.\n",
      "         Current function value: 0.443602\n",
      "         Iterations 7\n",
      "Optimization terminated successfully.\n",
      "         Current function value: 0.443642\n",
      "         Iterations 11\n",
      "Optimization terminated successfully.\n",
      "         Current function value: 0.441986\n",
      "         Iterations 7\n",
      "Optimization terminated successfully.\n",
      "         Current function value: 0.441986\n",
      "         Iterations 7\n",
      "Optimization terminated successfully.\n",
      "         Current function value: 0.441722\n",
      "         Iterations 7\n",
      "Optimization terminated successfully.\n",
      "         Current function value: 0.441722\n",
      "         Iterations 7\n",
      "Optimization terminated successfully.\n",
      "         Current function value: 0.441931\n",
      "         Iterations 7\n",
      "Optimization terminated successfully.\n",
      "         Current function value: 0.441983\n",
      "         Iterations 7\n",
      "Optimization terminated successfully.\n",
      "         Current function value: 0.442007\n",
      "         Iterations 7\n",
      "Optimization terminated successfully.\n",
      "         Current function value: 0.441056\n",
      "         Iterations 7\n",
      "Optimization terminated successfully.\n",
      "         Current function value: 0.441527\n",
      "         Iterations 7\n",
      "Optimization terminated successfully.\n",
      "         Current function value: 0.440902\n",
      "         Iterations 7\n",
      "Optimization terminated successfully.\n",
      "         Current function value: 0.441936\n",
      "         Iterations 7\n",
      "Optimization terminated successfully.\n",
      "         Current function value: 0.441908\n",
      "         Iterations 7\n",
      "Optimization terminated successfully.\n",
      "         Current function value: 0.440909\n",
      "         Iterations 7\n",
      "Optimization terminated successfully.\n",
      "         Current function value: 0.440944\n",
      "         Iterations 7\n",
      "Optimization terminated successfully.\n",
      "         Current function value: 0.441903\n",
      "         Iterations 7\n",
      "Optimization terminated successfully.\n",
      "         Current function value: 0.441085\n",
      "         Iterations 10\n",
      "Optimization terminated successfully.\n",
      "         Current function value: 0.441509\n",
      "         Iterations 7\n",
      "Optimization terminated successfully.\n",
      "         Current function value: 0.441600\n",
      "         Iterations 11\n",
      "Optimization terminated successfully.\n",
      "         Current function value: 0.440686\n",
      "         Iterations 7\n",
      "Optimization terminated successfully.\n",
      "         Current function value: 0.440686\n",
      "         Iterations 7\n",
      "Optimization terminated successfully.\n",
      "         Current function value: 0.440490\n",
      "         Iterations 7\n",
      "Optimization terminated successfully.\n",
      "         Current function value: 0.440490\n",
      "         Iterations 7\n",
      "Optimization terminated successfully.\n",
      "         Current function value: 0.440827\n",
      "         Iterations 7\n",
      "Optimization terminated successfully.\n",
      "         Current function value: 0.440874\n",
      "         Iterations 7\n",
      "Optimization terminated successfully.\n",
      "         Current function value: 0.440781\n",
      "         Iterations 7\n",
      "Optimization terminated successfully.\n",
      "         Current function value: 0.439176\n",
      "         Iterations 7\n",
      "Optimization terminated successfully.\n",
      "         Current function value: 0.439617\n",
      "         Iterations 7\n",
      "Optimization terminated successfully.\n",
      "         Current function value: 0.440661\n",
      "         Iterations 7\n",
      "Optimization terminated successfully.\n",
      "         Current function value: 0.440664\n",
      "         Iterations 7\n",
      "Optimization terminated successfully.\n",
      "         Current function value: 0.440058\n",
      "         Iterations 7\n",
      "Optimization terminated successfully.\n",
      "         Current function value: 0.440007\n",
      "         Iterations 7\n",
      "Optimization terminated successfully.\n",
      "         Current function value: 0.440841\n",
      "         Iterations 7\n",
      "Optimization terminated successfully.\n",
      "         Current function value: 0.439836\n",
      "         Iterations 11\n",
      "Optimization terminated successfully.\n",
      "         Current function value: 0.440367\n",
      "         Iterations 7\n",
      "Optimization terminated successfully.\n",
      "         Current function value: 0.440534\n",
      "         Iterations 11\n",
      "Optimization terminated successfully.\n",
      "         Current function value: 0.439176\n",
      "         Iterations 7\n",
      "Optimization terminated successfully.\n",
      "         Current function value: 0.439176\n",
      "         Iterations 7\n",
      "Optimization terminated successfully.\n",
      "         Current function value: 0.438901\n",
      "         Iterations 7\n",
      "Optimization terminated successfully.\n",
      "         Current function value: 0.438901\n",
      "         Iterations 7\n",
      "Optimization terminated successfully.\n",
      "         Current function value: 0.439134\n",
      "         Iterations 7\n",
      "Optimization terminated successfully.\n",
      "         Current function value: 0.439167\n",
      "         Iterations 7\n",
      "Optimization terminated successfully.\n",
      "         Current function value: 0.439174\n",
      "         Iterations 7\n",
      "Optimization terminated successfully.\n",
      "         Current function value: 0.438133\n",
      "         Iterations 7\n",
      "Optimization terminated successfully.\n",
      "         Current function value: 0.439159\n",
      "         Iterations 7\n",
      "Optimization terminated successfully.\n",
      "         Current function value: 0.439149\n",
      "         Iterations 7\n",
      "Optimization terminated successfully.\n",
      "         Current function value: 0.437873\n",
      "         Iterations 7\n",
      "Optimization terminated successfully.\n",
      "         Current function value: 0.437885\n",
      "         Iterations 7\n",
      "Optimization terminated successfully.\n",
      "         Current function value: 0.438997\n",
      "         Iterations 7\n",
      "Optimization terminated successfully.\n",
      "         Current function value: 0.437752\n",
      "         Iterations 10\n",
      "Optimization terminated successfully.\n",
      "         Current function value: 0.438422\n",
      "         Iterations 7\n",
      "Optimization terminated successfully.\n",
      "         Current function value: 0.438777\n",
      "         Iterations 11\n",
      "Optimization terminated successfully.\n",
      "         Current function value: 0.437730\n",
      "         Iterations 11\n",
      "Optimization terminated successfully.\n",
      "         Current function value: 0.437730\n",
      "         Iterations 11\n",
      "Optimization terminated successfully.\n",
      "         Current function value: 0.437550\n",
      "         Iterations 11\n",
      "Optimization terminated successfully.\n",
      "         Current function value: 0.437550\n",
      "         Iterations 11\n",
      "Optimization terminated successfully.\n",
      "         Current function value: 0.437626\n",
      "         Iterations 11\n",
      "Optimization terminated successfully.\n",
      "         Current function value: 0.437691\n",
      "         Iterations 11\n",
      "Optimization terminated successfully.\n",
      "         Current function value: 0.437713\n",
      "         Iterations 12\n",
      "Optimization terminated successfully.\n",
      "         Current function value: 0.436970\n",
      "         Iterations 10\n",
      "Optimization terminated successfully.\n",
      "         Current function value: 0.437751\n",
      "         Iterations 11\n",
      "Optimization terminated successfully.\n",
      "         Current function value: 0.437723\n",
      "         Iterations 11\n",
      "Optimization terminated successfully.\n",
      "         Current function value: 0.436728\n",
      "         Iterations 10\n",
      "Optimization terminated successfully.\n",
      "         Current function value: 0.435768\n",
      "         Iterations 12\n",
      "Optimization terminated successfully.\n",
      "         Current function value: 0.437273\n",
      "         Iterations 11\n",
      "Optimization terminated successfully.\n",
      "         Current function value: 0.437245\n",
      "         Iterations 10\n",
      "Optimization terminated successfully.\n",
      "         Current function value: 0.436588\n",
      "         Iterations 12\n",
      "Optimization terminated successfully.\n",
      "         Current function value: 0.435767\n",
      "         Iterations 11\n",
      "Optimization terminated successfully.\n",
      "         Current function value: 0.435767\n",
      "         Iterations 11\n",
      "Optimization terminated successfully.\n",
      "         Current function value: 0.435671\n",
      "         Iterations 11\n",
      "Optimization terminated successfully.\n",
      "         Current function value: 0.435671\n",
      "         Iterations 11\n",
      "Optimization terminated successfully.\n",
      "         Current function value: 0.435669\n",
      "         Iterations 11\n",
      "Optimization terminated successfully.\n",
      "         Current function value: 0.435739\n",
      "         Iterations 13\n",
      "Optimization terminated successfully.\n",
      "         Current function value: 0.435759\n",
      "         Iterations 11\n",
      "Optimization terminated successfully.\n",
      "         Current function value: 0.434662\n",
      "         Iterations 11\n",
      "Optimization terminated successfully.\n",
      "         Current function value: 0.435762\n",
      "         Iterations 11\n",
      "Optimization terminated successfully.\n",
      "         Current function value: 0.435745\n",
      "         Iterations 11\n",
      "Optimization terminated successfully.\n",
      "         Current function value: 0.435282\n",
      "         Iterations 11\n",
      "Optimization terminated successfully.\n",
      "         Current function value: 0.428940\n",
      "         Iterations 12\n",
      "Optimization terminated successfully.\n",
      "         Current function value: 0.435268\n",
      "         Iterations 11\n",
      "Optimization terminated successfully.\n",
      "         Current function value: 0.434965\n",
      "         Iterations 14\n",
      "Optimization terminated successfully.\n",
      "         Current function value: 0.428881\n",
      "         Iterations 13\n",
      "Optimization terminated successfully.\n",
      "         Current function value: 0.428881\n",
      "         Iterations 12\n",
      "Optimization terminated successfully.\n",
      "         Current function value: 0.428715\n",
      "         Iterations 11\n",
      "Optimization terminated successfully.\n",
      "         Current function value: 0.428715\n",
      "         Iterations 11\n",
      "Optimization terminated successfully.\n",
      "         Current function value: 0.428836\n",
      "         Iterations 11\n",
      "Optimization terminated successfully.\n",
      "         Current function value: 0.428894\n",
      "         Iterations 11\n",
      "Optimization terminated successfully.\n",
      "         Current function value: 0.428852\n",
      "         Iterations 12\n",
      "Optimization terminated successfully.\n",
      "         Current function value: 0.428477\n",
      "         Iterations 11\n",
      "Optimization terminated successfully.\n",
      "         Current function value: 0.428929\n",
      "         Iterations 12\n",
      "Optimization terminated successfully.\n",
      "         Current function value: 0.428912\n",
      "         Iterations 11\n",
      "Optimization terminated successfully.\n",
      "         Current function value: 0.428827\n",
      "         Iterations 12\n",
      "Optimization terminated successfully.\n",
      "         Current function value: 0.428799\n",
      "         Iterations 11\n",
      "Optimization terminated successfully.\n",
      "         Current function value: 0.428402\n",
      "         Iterations 16\n",
      "Optimization terminated successfully.\n",
      "         Current function value: 0.428364\n",
      "         Iterations 12\n",
      "Optimization terminated successfully.\n",
      "         Current function value: 0.428364\n",
      "         Iterations 16\n",
      "Optimization terminated successfully.\n",
      "         Current function value: 0.428242\n",
      "         Iterations 12\n",
      "Optimization terminated successfully.\n",
      "         Current function value: 0.428242\n",
      "         Iterations 12\n",
      "Optimization terminated successfully.\n",
      "         Current function value: 0.428291\n",
      "         Iterations 15\n",
      "Optimization terminated successfully.\n",
      "         Current function value: 0.428344\n",
      "         Iterations 13\n",
      "Optimization terminated successfully.\n",
      "         Current function value: 0.428319\n",
      "         Iterations 14\n",
      "Optimization terminated successfully.\n",
      "         Current function value: 0.427829\n",
      "         Iterations 12\n",
      "Optimization terminated successfully.\n",
      "         Current function value: 0.428393\n",
      "         Iterations 14\n",
      "Optimization terminated successfully.\n",
      "         Current function value: 0.428346\n",
      "         Iterations 15\n",
      "Optimization terminated successfully.\n",
      "         Current function value: 0.428307\n",
      "         Iterations 14\n",
      "Optimization terminated successfully.\n",
      "         Current function value: 0.428339\n",
      "         Iterations 15\n",
      "Optimization terminated successfully.\n",
      "         Current function value: 0.427800\n",
      "         Iterations 13\n",
      "Optimization terminated successfully.\n",
      "         Current function value: 0.427800\n",
      "         Iterations 13\n",
      "Optimization terminated successfully.\n",
      "         Current function value: 0.427724\n",
      "         Iterations 12\n",
      "Optimization terminated successfully.\n",
      "         Current function value: 0.427724\n",
      "         Iterations 12\n",
      "Optimization terminated successfully.\n",
      "         Current function value: 0.427719\n",
      "         Iterations 13\n",
      "Optimization terminated successfully.\n",
      "         Current function value: 0.427776\n",
      "         Iterations 13\n",
      "Optimization terminated successfully.\n",
      "         Current function value: 0.427697\n",
      "         Iterations 12\n",
      "Optimization terminated successfully.\n",
      "         Current function value: 0.427800\n",
      "         Iterations 12\n",
      "Optimization terminated successfully.\n",
      "         Current function value: 0.427803\n",
      "         Iterations 12\n",
      "Optimization terminated successfully.\n",
      "         Current function value: 0.427755\n",
      "         Iterations 12\n",
      "Optimization terminated successfully.\n",
      "         Current function value: 0.427790\n",
      "         Iterations 14\n",
      "Optimization terminated successfully.\n",
      "         Current function value: 0.427696\n",
      "         Iterations 14\n",
      "Optimization terminated successfully.\n",
      "         Current function value: 0.427696\n",
      "         Iterations 13\n",
      "Optimization terminated successfully.\n",
      "         Current function value: 0.427642\n",
      "         Iterations 13\n",
      "Optimization terminated successfully.\n",
      "         Current function value: 0.427642\n",
      "         Iterations 13\n",
      "Optimization terminated successfully.\n",
      "         Current function value: 0.427561\n",
      "         Iterations 12\n",
      "Optimization terminated successfully.\n",
      "         Current function value: 0.427626\n",
      "         Iterations 13\n",
      "Optimization terminated successfully.\n",
      "         Current function value: 0.425888\n",
      "         Iterations 17\n",
      "Optimization terminated successfully.\n",
      "         Current function value: 0.427676\n",
      "         Iterations 12\n",
      "Optimization terminated successfully.\n",
      "         Current function value: 0.427617\n",
      "         Iterations 13\n",
      "Optimization terminated successfully.\n",
      "         Current function value: 0.427680\n",
      "         Iterations 12\n",
      "Optimization terminated successfully.\n",
      "         Current function value: 0.425816\n",
      "         Iterations 14\n",
      "Optimization terminated successfully.\n",
      "         Current function value: 0.425816\n",
      "         Iterations 13\n",
      "Optimization terminated successfully.\n",
      "         Current function value: 0.425876\n",
      "         Iterations 12\n",
      "Optimization terminated successfully.\n",
      "         Current function value: 0.425876\n",
      "         Iterations 12\n",
      "Optimization terminated successfully.\n",
      "         Current function value: 0.425688\n",
      "         Iterations 12\n",
      "Optimization terminated successfully.\n",
      "         Current function value: 0.425784\n",
      "         Iterations 14\n",
      "Optimization terminated successfully.\n",
      "         Current function value: 0.425842\n",
      "         Iterations 12\n",
      "Optimization terminated successfully.\n",
      "         Current function value: 0.425759\n",
      "         Iterations 13\n",
      "Optimization terminated successfully.\n",
      "         Current function value: 0.425847\n",
      "         Iterations 12\n",
      "Optimization terminated successfully.\n",
      "         Current function value: 0.425629\n",
      "         Iterations 13\n",
      "Optimization terminated successfully.\n",
      "         Current function value: 0.425629\n",
      "         Iterations 13\n",
      "Optimization terminated successfully.\n",
      "         Current function value: 0.425688\n",
      "         Iterations 14\n",
      "Optimization terminated successfully.\n",
      "         Current function value: 0.425688\n",
      "         Iterations 14\n",
      "Optimization terminated successfully.\n",
      "         Current function value: 0.425491\n",
      "         Iterations 16\n",
      "Optimization terminated successfully.\n",
      "         Current function value: 0.425642\n",
      "         Iterations 12\n",
      "Optimization terminated successfully.\n",
      "         Current function value: 0.425550\n",
      "         Iterations 13\n",
      "Optimization terminated successfully.\n",
      "         Current function value: 0.425632\n",
      "         Iterations 13\n",
      "Optimization terminated successfully.\n",
      "         Current function value: 0.425443\n",
      "         Iterations 12\n",
      "Optimization terminated successfully.\n",
      "         Current function value: 0.425443\n",
      "         Iterations 13\n",
      "Optimization terminated successfully.\n",
      "         Current function value: 0.425490\n",
      "         Iterations 13\n",
      "Optimization terminated successfully.\n",
      "         Current function value: 0.425490\n",
      "         Iterations 13\n",
      "Optimization terminated successfully.\n",
      "         Current function value: 0.425436\n",
      "         Iterations 16\n",
      "Optimization terminated successfully.\n",
      "         Current function value: 0.425321\n",
      "         Iterations 13\n",
      "Optimization terminated successfully.\n",
      "         Current function value: 0.425428\n",
      "         Iterations 15\n",
      "Optimization terminated successfully.\n",
      "         Current function value: 0.425277\n",
      "         Iterations 13\n",
      "Optimization terminated successfully.\n",
      "         Current function value: 0.425277\n",
      "         Iterations 17\n",
      "Optimization terminated successfully.\n",
      "         Current function value: 0.425318\n",
      "         Iterations 13\n",
      "Optimization terminated successfully.\n",
      "         Current function value: 0.425318\n",
      "         Iterations 13\n",
      "Optimization terminated successfully.\n",
      "         Current function value: 0.425263\n",
      "         Iterations 12\n",
      "Optimization terminated successfully.\n",
      "         Current function value: 0.425264\n",
      "         Iterations 15\n",
      "Optimization terminated successfully.\n",
      "         Current function value: 0.425239\n",
      "         Iterations 12\n",
      "Optimization terminated successfully.\n",
      "         Current function value: 0.425239\n",
      "         Iterations 13\n",
      "Optimization terminated successfully.\n",
      "         Current function value: 0.425263\n",
      "         Iterations 13\n",
      "Optimization terminated successfully.\n",
      "         Current function value: 0.425263\n",
      "         Iterations 13\n",
      "Optimization terminated successfully.\n",
      "         Current function value: 0.425185\n",
      "         Iterations 15\n",
      "Optimization terminated successfully.\n",
      "         Current function value: 0.425163\n",
      "         Iterations 14\n",
      "Optimization terminated successfully.\n",
      "         Current function value: 0.425163\n",
      "         Iterations 12\n",
      "Optimization terminated successfully.\n",
      "         Current function value: 0.425184\n",
      "         Iterations 17\n",
      "Optimization terminated successfully.\n",
      "         Current function value: 0.425184\n",
      "         Iterations 17\n",
      "Optimization terminated successfully.\n",
      "         Current function value: 0.425081\n",
      "         Iterations 29\n",
      "Optimization terminated successfully.\n",
      "         Current function value: 0.425157\n",
      "         Iterations 14\n",
      "Optimization terminated successfully.\n",
      "         Current function value: 0.425157\n",
      "         Iterations 14\n",
      "Optimization terminated successfully.\n",
      "         Current function value: 0.425077\n",
      "         Iterations 14\n",
      "Optimization terminated successfully.\n",
      "         Current function value: 0.425077\n",
      "         Iterations 14\n",
      "Optimization terminated successfully.\n",
      "         Current function value: 0.425077\n",
      "         Iterations 13\n",
      "Selected Features: ['kenpom_adjem', 'def_or_pct', 'off_ast_rate', 'off_3pt_pct', 'def_to_pct', 'off_to_pct', 'def_block_pct', 'def_efg_pct', 'def_ft_pct', 'def_ft_rate', 'off_or_pct', 'off_stl_rate', 'def_2pt_pct', 'def_3pt_pct', 'def_stl_rate', 'off_ft_rate', 'off_efg_pct', 'off_2pt_pct', 'tempo', 'adj_tempo', 'off_block_pct', 'off_ft_pct', 'def_ast_rate', 'kenpom_adjde', 'kenpom_adjoe', 'off_eff', 'def_eff']\n",
      "Best AIC: 433.1685702336734\n",
      "Best F1 Score on Training Set: 0.8683473389355743\n",
      "Best F1 Score on Test Set: 0.7813620071684589\n",
      "Final F1 Score on Training Set: 0.8683473389355743\n",
      "Final F1 Score on Test Set: 0.7813620071684589\n"
     ]
    }
   ],
   "source": [
    "# Normalize the features using StandardScaler\n",
    "scaler = StandardScaler()\n",
    "X_train_scaled = scaler.fit_transform(X_train)\n",
    "X_test_scaled = scaler.transform(X_test)\n",
    "\n",
    "# Forward Selection using AIC\n",
    "def forward_selection_logistic_aic(X_train, y_train, X_test, y_test):\n",
    "    selected_features = []\n",
    "    remaining_features = list(X_train.columns)  # Column names\n",
    "    best_f1_train = 0\n",
    "    best_f1_test = 0\n",
    "    best_aic = np.inf  # Start with a large AIC value\n",
    "    \n",
    "    while remaining_features:\n",
    "        aic_list = []\n",
    "        f1_train_list = []\n",
    "        f1_test_list = []\n",
    "        \n",
    "        for feature in remaining_features:\n",
    "            current_features = selected_features + [feature]\n",
    "            X_train_subset = X_train[current_features]\n",
    "            X_test_subset = X_test[current_features]\n",
    "            \n",
    "            # Add constant for intercept (statsmodels requires constant)\n",
    "            X_train_subset_sm = sm.add_constant(X_train_subset)\n",
    "            X_test_subset_sm = sm.add_constant(X_test_subset)\n",
    "            \n",
    "            # Fit the logistic regression model using statsmodels (to compute AIC)\n",
    "            model = sm.Logit(y_train, X_train_subset_sm)\n",
    "            result = model.fit()\n",
    "            \n",
    "            aic = result.aic  # Extract AIC value\n",
    "            aic_list.append(aic)\n",
    "            \n",
    "            # Now, use sklearn for F1 score calculation\n",
    "            log_reg_model = LogisticRegression(solver='liblinear')\n",
    "            log_reg_model.fit(X_train_subset, y_train)  # Fit model without constant term\n",
    "            \n",
    "            # Make predictions on both train and test data\n",
    "            y_train_pred = log_reg_model.predict(X_train_subset)\n",
    "            y_test_pred = log_reg_model.predict(X_test_subset)\n",
    "            \n",
    "            # Calculate F1 scores\n",
    "            f1_train = f1_score(y_train, y_train_pred)\n",
    "            f1_test = f1_score(y_test, y_test_pred)\n",
    "            \n",
    "            f1_train_list.append(f1_train)\n",
    "            f1_test_list.append(f1_test)\n",
    "        \n",
    "        # Select the feature that gives the lowest AIC\n",
    "        best_feature_idx = np.argmin(aic_list)\n",
    "        selected_features.append(remaining_features[best_feature_idx])\n",
    "        remaining_features.remove(remaining_features[best_feature_idx])\n",
    "        \n",
    "        best_aic = aic_list[best_feature_idx]\n",
    "        best_f1_train = f1_train_list[best_feature_idx]\n",
    "        best_f1_test = f1_test_list[best_feature_idx]\n",
    "        \n",
    "    return selected_features, best_aic, best_f1_train, best_f1_test\n",
    "\n",
    "# Perform forward selection using AIC\n",
    "selected_features, best_aic, best_f1_train, best_f1_test = forward_selection_logistic_aic(\n",
    "    X_train, y_train, X_test, y_test\n",
    ")\n",
    "\n",
    "# Output the results\n",
    "print(\"Selected Features:\", selected_features)\n",
    "print(\"Best AIC:\", best_aic)\n",
    "print(\"Best F1 Score on Training Set:\", best_f1_train)\n",
    "print(\"Best F1 Score on Test Set:\", best_f1_test)\n",
    "\n",
    "# Create the final Logistic Regression model using selected features\n",
    "log_reg_final = LogisticRegression(solver='liblinear')\n",
    "X_train_final = X_train[selected_features]\n",
    "X_test_final = X_test[selected_features]\n",
    "\n",
    "# Fit the final model\n",
    "log_reg_final.fit(X_train_final, y_train)\n",
    "\n",
    "# Make predictions on training and testing sets\n",
    "y_train_pred_final = log_reg_final.predict(X_train_final)\n",
    "y_test_pred_final = log_reg_final.predict(X_test_final)\n",
    "\n",
    "# Evaluate using F1 score\n",
    "final_f1_train = f1_score(y_train, y_train_pred_final)\n",
    "final_f1_test = f1_score(y_test, y_test_pred_final)\n",
    "\n",
    "print(\"Final F1 Score on Training Set:\", final_f1_train)\n",
    "print(\"Final F1 Score on Test Set:\", final_f1_test)"
   ]
  },
  {
   "cell_type": "markdown",
   "id": "75d61cff-fd93-4a88-87b5-b46ef8673d2c",
   "metadata": {},
   "source": [
    "### B. Recursive Feature Elimination"
   ]
  },
  {
   "cell_type": "code",
   "execution_count": 50,
   "id": "b95f4b5b-246e-498b-934a-fb28f3423546",
   "metadata": {},
   "outputs": [
    {
     "name": "stdout",
     "output_type": "stream",
     "text": [
      "Selected Features: Index(['kenpom_adjem', 'kenpom_adjoe', 'kenpom_adjde', 'off_efg_pct',\n",
      "       'off_to_pct', 'def_efg_pct', 'def_to_pct', 'off_2pt_pct', 'off_3pt_pct',\n",
      "       'def_2pt_pct', 'def_block_pct', 'off_ast_rate'],\n",
      "      dtype='object')\n",
      "F1 Score on Training Set: 0.8571428571428571\n",
      "F1 Score on Test Set: 0.7676056338028169\n"
     ]
    }
   ],
   "source": [
    "# Convert scaled data back to DataFrame to keep track of column names\n",
    "X_train_scaled = pd.DataFrame(X_train_scaled, columns=X_train.columns)\n",
    "X_test_scaled = pd.DataFrame(X_test_scaled, columns=X_test.columns)\n",
    "\n",
    "# Create a Logistic Regression model\n",
    "log_reg = LogisticRegression(solver='liblinear')\n",
    "\n",
    "# Initialize RFE with logistic regression as the model and the number of features to select\n",
    "rfe = RFE(estimator=log_reg, n_features_to_select=12)  # Select top 12 features\n",
    "\n",
    "# Fit RFE on the scaled training data\n",
    "rfe.fit(X_train_scaled, y_train)\n",
    "\n",
    "# Get the selected features (column names)\n",
    "selected_features = X_train_scaled.columns[rfe.support_]\n",
    "print(\"Selected Features:\", selected_features)\n",
    "\n",
    "# Train a logistic regression model using only the selected features\n",
    "log_reg.fit(X_train_scaled[selected_features], y_train)\n",
    "\n",
    "# Make predictions on both training and testing datasets\n",
    "y_train_pred = log_reg.predict(X_train_scaled[selected_features])\n",
    "y_test_pred = log_reg.predict(X_test_scaled[selected_features])\n",
    "\n",
    "# Evaluate the F1 score on both training and testing datasets\n",
    "f1_train = f1_score(y_train, y_train_pred)\n",
    "f1_test = f1_score(y_test, y_test_pred)\n",
    "\n",
    "# Output the results\n",
    "print(\"F1 Score on Training Set:\", f1_train)\n",
    "print(\"F1 Score on Test Set:\", f1_test)"
   ]
  },
  {
   "cell_type": "markdown",
   "id": "c0670472-e389-4197-a50e-b1ab09b49afa",
   "metadata": {},
   "source": [
    "### C. Lasso Regression"
   ]
  },
  {
   "cell_type": "code",
   "execution_count": 51,
   "id": "3c947212-3464-423c-befa-60acdeec9e83",
   "metadata": {},
   "outputs": [
    {
     "name": "stdout",
     "output_type": "stream",
     "text": [
      "F1 Score on Training Set: 0.8595271210013908\n",
      "F1 Score on Test Set: 0.7703180212014135\n",
      "Selected Features (Columns used in the model): Index(['kenpom_adjem', 'tempo', 'off_to_pct', 'off_or_pct', 'off_ft_rate',\n",
      "       'def_efg_pct', 'def_to_pct', 'def_or_pct', 'def_ft_rate', 'off_3pt_pct',\n",
      "       'off_ft_pct', 'off_block_pct', 'def_2pt_pct', 'def_ft_pct',\n",
      "       'def_block_pct', 'off_ast_rate', 'off_stl_rate', 'def_ast_rate',\n",
      "       'def_stl_rate'],\n",
      "      dtype='object')\n"
     ]
    }
   ],
   "source": [
    "# Create a Lasso Logistic Regression model (penalty='l1' for Lasso)\n",
    "lasso_log_reg = LogisticRegression(solver='liblinear', penalty='l1', max_iter=1000)\n",
    "\n",
    "# Fit the model on the training data\n",
    "lasso_log_reg.fit(X_train_scaled, y_train)\n",
    "\n",
    "# Make predictions on both training and testing datasets\n",
    "y_train_pred = lasso_log_reg.predict(X_train_scaled)\n",
    "y_test_pred = lasso_log_reg.predict(X_test_scaled)\n",
    "\n",
    "# Evaluate the F1 score on both training and testing datasets\n",
    "f1_train = f1_score(y_train, y_train_pred)\n",
    "f1_test = f1_score(y_test, y_test_pred)\n",
    "\n",
    "# Output the results\n",
    "print(\"F1 Score on Training Set:\", f1_train)\n",
    "print(\"F1 Score on Test Set:\", f1_test)\n",
    "\n",
    "# Get the non-zero coefficients (selected features) from the Lasso model\n",
    "selected_features = X.columns[(lasso_log_reg.coef_ != 0).flatten()]\n",
    "print(\"Selected Features (Columns used in the model):\", selected_features)"
   ]
  },
  {
   "cell_type": "markdown",
   "id": "4cfd889d-698d-456c-b801-eccdfc4e8df4",
   "metadata": {},
   "source": [
    "## III. Tree Methods"
   ]
  },
  {
   "cell_type": "markdown",
   "id": "8b58de0b-a41e-43d5-98c7-61daa9c1a069",
   "metadata": {},
   "source": [
    "### A. Decision Tree Information Gain"
   ]
  },
  {
   "cell_type": "code",
   "execution_count": 52,
   "id": "5f1b8ab4-4e38-4483-8b8d-cb3905eb626b",
   "metadata": {},
   "outputs": [
    {
     "name": "stdout",
     "output_type": "stream",
     "text": [
      "F1 Score on Training Set: 1.0\n",
      "F1 Score on Test Set: 0.7238805970149254\n",
      "Selected Features (Columns used in the model): Index(['kenpom_adjem', 'kenpom_adjoe', 'kenpom_adjde', 'def_eff', 'tempo',\n",
      "       'off_efg_pct', 'off_to_pct', 'off_or_pct', 'off_ft_rate', 'def_efg_pct',\n",
      "       'def_to_pct', 'def_ft_rate', 'off_2pt_pct', 'off_3pt_pct', 'off_ft_pct',\n",
      "       'off_block_pct', 'def_2pt_pct', 'def_3pt_pct', 'def_ft_pct',\n",
      "       'off_ast_rate', 'def_ast_rate', 'def_stl_rate'],\n",
      "      dtype='object')\n"
     ]
    }
   ],
   "source": [
    "X_train_scaled = scaler.fit_transform(X_train)  # Scaled training features\n",
    "X_test_scaled = scaler.transform(X_test)  # Scaled test features\n",
    "\n",
    "# Create a Decision Tree Classifier model\n",
    "decision_tree = DecisionTreeClassifier(random_state=42)\n",
    "\n",
    "# Fit the model on the training data\n",
    "decision_tree.fit(X_train_scaled, y_train)\n",
    "\n",
    "# Make predictions on both training and testing datasets\n",
    "y_train_pred = decision_tree.predict(X_train_scaled)\n",
    "y_test_pred = decision_tree.predict(X_test_scaled)\n",
    "\n",
    "# Evaluate the F1 score on both training and testing datasets\n",
    "f1_train = f1_score(y_train, y_train_pred)\n",
    "f1_test = f1_score(y_test, y_test_pred)\n",
    "\n",
    "# Output the F1 scores\n",
    "print(\"F1 Score on Training Set:\", f1_train)\n",
    "print(\"F1 Score on Test Set:\", f1_test)\n",
    "\n",
    "# Get feature importances (information gain)\n",
    "feature_importances = decision_tree.feature_importances_\n",
    "\n",
    "# Get the selected features based on their importance (non-zero importance)\n",
    "selected_features = X.columns[feature_importances > 0]\n",
    "print(\"Selected Features (Columns used in the model):\", selected_features)"
   ]
  },
  {
   "cell_type": "markdown",
   "id": "fe1879f8-cf18-4a07-838b-fd0925c461f8",
   "metadata": {},
   "source": [
    "### B. Random Forest"
   ]
  },
  {
   "cell_type": "code",
   "execution_count": 53,
   "id": "19edcd0e-7bba-44ea-a06c-c5191682d92f",
   "metadata": {},
   "outputs": [
    {
     "name": "stdout",
     "output_type": "stream",
     "text": [
      "F1 Score on Training Set: 1.0\n",
      "F1 Score on Test Set: 0.7946127946127947\n",
      "Selected Features (Columns used in the model): Index(['kenpom_adjem', 'kenpom_adjoe', 'kenpom_adjde', 'off_eff', 'def_eff',\n",
      "       'tempo', 'adj_tempo', 'off_efg_pct', 'off_to_pct', 'off_or_pct',\n",
      "       'off_ft_rate', 'def_efg_pct', 'def_to_pct', 'def_or_pct', 'def_ft_rate',\n",
      "       'off_2pt_pct', 'off_3pt_pct', 'off_ft_pct', 'off_block_pct',\n",
      "       'def_2pt_pct', 'def_3pt_pct', 'def_ft_pct', 'def_block_pct',\n",
      "       'off_ast_rate', 'off_stl_rate', 'def_ast_rate', 'def_stl_rate'],\n",
      "      dtype='object')\n"
     ]
    }
   ],
   "source": [
    "# Create a Random Forest Classifier model\n",
    "random_forest = RandomForestClassifier(n_estimators=100, random_state=42)\n",
    "\n",
    "# Fit the model on the training data\n",
    "random_forest.fit(X_train_scaled, y_train)\n",
    "\n",
    "# Make predictions on both training and testing datasets\n",
    "y_train_pred = random_forest.predict(X_train_scaled)\n",
    "y_test_pred = random_forest.predict(X_test_scaled)\n",
    "\n",
    "# Evaluate the F1 score on both training and testing datasets\n",
    "f1_train = f1_score(y_train, y_train_pred)\n",
    "f1_test = f1_score(y_test, y_test_pred)\n",
    "\n",
    "# Output the F1 scores\n",
    "print(\"F1 Score on Training Set:\", f1_train)\n",
    "print(\"F1 Score on Test Set:\", f1_test)\n",
    "\n",
    "# Get feature importances (information gain)\n",
    "feature_importances = random_forest.feature_importances_\n",
    "\n",
    "# Get the columns (features) that were selected (those with non-zero importance)\n",
    "selected_features = X.columns[feature_importances > .02]\n",
    "print(\"Selected Features (Columns used in the model):\", selected_features)"
   ]
  },
  {
   "cell_type": "markdown",
   "id": "ba7b5c0c-c5d0-41e3-af6c-12c8427f4578",
   "metadata": {},
   "source": [
    "### C. Extra Tree"
   ]
  },
  {
   "cell_type": "code",
   "execution_count": 54,
   "id": "a942c0c5-5777-437f-ba7f-eaa497805dc5",
   "metadata": {},
   "outputs": [
    {
     "name": "stdout",
     "output_type": "stream",
     "text": [
      "F1 Score on Training Set: 1.0\n",
      "F1 Score on Test Set: 0.7947882736156352\n"
     ]
    }
   ],
   "source": [
    "# Create an Extra Trees Classifier model\n",
    "extra_trees = ExtraTreesClassifier(n_estimators=100, random_state=42)\n",
    "\n",
    "# Fit the model on the training data\n",
    "extra_trees.fit(X_train_scaled, y_train)\n",
    "\n",
    "# Make predictions on both training and testing datasets\n",
    "y_train_pred = extra_trees.predict(X_train_scaled)\n",
    "y_test_pred = extra_trees.predict(X_test_scaled)\n",
    "\n",
    "# Evaluate the F1 score on both training and testing datasets\n",
    "f1_train = f1_score(y_train, y_train_pred)\n",
    "f1_test = f1_score(y_test, y_test_pred)\n",
    "\n",
    "# Output the F1 scores\n",
    "print(\"F1 Score on Training Set:\", f1_train)\n",
    "print(\"F1 Score on Test Set:\", f1_test)\n",
    "\n",
    "# Get feature importances (information gain)\n",
    "feature_importances = extra_trees.feature_importances_"
   ]
  },
  {
   "cell_type": "code",
   "execution_count": 55,
   "id": "33f30afb-ed97-46a2-b3f4-c3672db405f9",
   "metadata": {},
   "outputs": [
    {
     "data": {
      "text/html": [
       "<div>\n",
       "<style scoped>\n",
       "    .dataframe tbody tr th:only-of-type {\n",
       "        vertical-align: middle;\n",
       "    }\n",
       "\n",
       "    .dataframe tbody tr th {\n",
       "        vertical-align: top;\n",
       "    }\n",
       "\n",
       "    .dataframe thead th {\n",
       "        text-align: right;\n",
       "    }\n",
       "</style>\n",
       "<table border=\"1\" class=\"dataframe\">\n",
       "  <thead>\n",
       "    <tr style=\"text-align: right;\">\n",
       "      <th></th>\n",
       "      <th>feature</th>\n",
       "      <th>importance</th>\n",
       "    </tr>\n",
       "  </thead>\n",
       "  <tbody>\n",
       "    <tr>\n",
       "      <th>0</th>\n",
       "      <td>kenpom_adjem</td>\n",
       "      <td>0.075589</td>\n",
       "    </tr>\n",
       "    <tr>\n",
       "      <th>1</th>\n",
       "      <td>kenpom_adjoe</td>\n",
       "      <td>0.060615</td>\n",
       "    </tr>\n",
       "    <tr>\n",
       "      <th>2</th>\n",
       "      <td>kenpom_adjde</td>\n",
       "      <td>0.053726</td>\n",
       "    </tr>\n",
       "    <tr>\n",
       "      <th>3</th>\n",
       "      <td>off_eff</td>\n",
       "      <td>0.030334</td>\n",
       "    </tr>\n",
       "    <tr>\n",
       "      <th>4</th>\n",
       "      <td>def_eff</td>\n",
       "      <td>0.031021</td>\n",
       "    </tr>\n",
       "    <tr>\n",
       "      <th>5</th>\n",
       "      <td>tempo</td>\n",
       "      <td>0.027634</td>\n",
       "    </tr>\n",
       "    <tr>\n",
       "      <th>6</th>\n",
       "      <td>adj_tempo</td>\n",
       "      <td>0.031964</td>\n",
       "    </tr>\n",
       "    <tr>\n",
       "      <th>7</th>\n",
       "      <td>off_efg_pct</td>\n",
       "      <td>0.031908</td>\n",
       "    </tr>\n",
       "    <tr>\n",
       "      <th>8</th>\n",
       "      <td>off_to_pct</td>\n",
       "      <td>0.031338</td>\n",
       "    </tr>\n",
       "    <tr>\n",
       "      <th>9</th>\n",
       "      <td>off_or_pct</td>\n",
       "      <td>0.028069</td>\n",
       "    </tr>\n",
       "    <tr>\n",
       "      <th>10</th>\n",
       "      <td>off_ft_rate</td>\n",
       "      <td>0.032598</td>\n",
       "    </tr>\n",
       "    <tr>\n",
       "      <th>11</th>\n",
       "      <td>def_efg_pct</td>\n",
       "      <td>0.034439</td>\n",
       "    </tr>\n",
       "    <tr>\n",
       "      <th>12</th>\n",
       "      <td>def_to_pct</td>\n",
       "      <td>0.036696</td>\n",
       "    </tr>\n",
       "    <tr>\n",
       "      <th>13</th>\n",
       "      <td>def_or_pct</td>\n",
       "      <td>0.033404</td>\n",
       "    </tr>\n",
       "    <tr>\n",
       "      <th>14</th>\n",
       "      <td>def_ft_rate</td>\n",
       "      <td>0.033631</td>\n",
       "    </tr>\n",
       "    <tr>\n",
       "      <th>15</th>\n",
       "      <td>off_2pt_pct</td>\n",
       "      <td>0.031550</td>\n",
       "    </tr>\n",
       "    <tr>\n",
       "      <th>16</th>\n",
       "      <td>off_3pt_pct</td>\n",
       "      <td>0.037604</td>\n",
       "    </tr>\n",
       "    <tr>\n",
       "      <th>17</th>\n",
       "      <td>off_ft_pct</td>\n",
       "      <td>0.031476</td>\n",
       "    </tr>\n",
       "    <tr>\n",
       "      <th>18</th>\n",
       "      <td>off_block_pct</td>\n",
       "      <td>0.036462</td>\n",
       "    </tr>\n",
       "    <tr>\n",
       "      <th>19</th>\n",
       "      <td>def_2pt_pct</td>\n",
       "      <td>0.027444</td>\n",
       "    </tr>\n",
       "    <tr>\n",
       "      <th>20</th>\n",
       "      <td>def_3pt_pct</td>\n",
       "      <td>0.037285</td>\n",
       "    </tr>\n",
       "    <tr>\n",
       "      <th>21</th>\n",
       "      <td>def_ft_pct</td>\n",
       "      <td>0.036481</td>\n",
       "    </tr>\n",
       "    <tr>\n",
       "      <th>22</th>\n",
       "      <td>def_block_pct</td>\n",
       "      <td>0.039321</td>\n",
       "    </tr>\n",
       "    <tr>\n",
       "      <th>23</th>\n",
       "      <td>off_ast_rate</td>\n",
       "      <td>0.037934</td>\n",
       "    </tr>\n",
       "    <tr>\n",
       "      <th>24</th>\n",
       "      <td>off_stl_rate</td>\n",
       "      <td>0.036315</td>\n",
       "    </tr>\n",
       "    <tr>\n",
       "      <th>25</th>\n",
       "      <td>def_ast_rate</td>\n",
       "      <td>0.037701</td>\n",
       "    </tr>\n",
       "    <tr>\n",
       "      <th>26</th>\n",
       "      <td>def_stl_rate</td>\n",
       "      <td>0.037462</td>\n",
       "    </tr>\n",
       "  </tbody>\n",
       "</table>\n",
       "</div>"
      ],
      "text/plain": [
       "          feature  importance\n",
       "0    kenpom_adjem    0.075589\n",
       "1    kenpom_adjoe    0.060615\n",
       "2    kenpom_adjde    0.053726\n",
       "3         off_eff    0.030334\n",
       "4         def_eff    0.031021\n",
       "5           tempo    0.027634\n",
       "6       adj_tempo    0.031964\n",
       "7     off_efg_pct    0.031908\n",
       "8      off_to_pct    0.031338\n",
       "9      off_or_pct    0.028069\n",
       "10    off_ft_rate    0.032598\n",
       "11    def_efg_pct    0.034439\n",
       "12     def_to_pct    0.036696\n",
       "13     def_or_pct    0.033404\n",
       "14    def_ft_rate    0.033631\n",
       "15    off_2pt_pct    0.031550\n",
       "16    off_3pt_pct    0.037604\n",
       "17     off_ft_pct    0.031476\n",
       "18  off_block_pct    0.036462\n",
       "19    def_2pt_pct    0.027444\n",
       "20    def_3pt_pct    0.037285\n",
       "21     def_ft_pct    0.036481\n",
       "22  def_block_pct    0.039321\n",
       "23   off_ast_rate    0.037934\n",
       "24   off_stl_rate    0.036315\n",
       "25   def_ast_rate    0.037701\n",
       "26   def_stl_rate    0.037462"
      ]
     },
     "execution_count": 55,
     "metadata": {},
     "output_type": "execute_result"
    }
   ],
   "source": [
    "column_names = X_train.columns\n",
    "tree_df = pd.DataFrame({\n",
    "    'feature': column_names,\n",
    "    'importance': feature_importances\n",
    "})\n",
    "tree_df\n",
    "#tree_df.to_csv('tree.csv')"
   ]
  },
  {
   "cell_type": "markdown",
   "id": "1f45c4cf-5fde-473a-bf17-7536cabc5fc2",
   "metadata": {},
   "source": [
    "# IV. Exhaustive Feature Selection"
   ]
  },
  {
   "cell_type": "code",
   "execution_count": 56,
   "id": "39fdc962-ee0a-4dee-ab1f-16a1ff44345e",
   "metadata": {},
   "outputs": [],
   "source": [
    "scaler = StandardScaler()\n",
    "X_train_scaled = scaler.fit_transform(X_train)\n",
    "X_test_scaled = scaler.transform(X_test)\n",
    "X_train_scaled = pd.DataFrame(X_train_scaled, columns=X_train.columns)\n",
    "X_test_scaled = pd.DataFrame(X_test_scaled, columns=X_test.columns)\n",
    "\n",
    "X_train_scaled2 = X_train_scaled[[\n",
    "'kenpom_adjem',\n",
    "'def_efg_pct',\n",
    "'def_to_pct',\n",
    "'kenpom_adjoe',\n",
    "'kenpom_adjde',\n",
    "'off_3pt_pct',\n",
    "'def_2pt_pct',\n",
    "'off_efg_pct',\n",
    "'def_block_pct',\n",
    "'off_2pt_pct',\n",
    "'def_ast_rate',\n",
    "'def_3pt_pct',\n",
    "'off_ast_rate',\n",
    "'off_to_pct',\n",
    "'off_ft_pct',\n",
    "'off_block_pct'\n",
    "]]\n",
    "\n",
    "X_test_scaled2 = X_test_scaled[[\n",
    "'kenpom_adjem',\n",
    "'def_efg_pct',\n",
    "'def_to_pct',\n",
    "'kenpom_adjoe',\n",
    "'kenpom_adjde',\n",
    "'off_3pt_pct',\n",
    "'def_2pt_pct',\n",
    "'off_efg_pct',\n",
    "'def_block_pct',\n",
    "'off_2pt_pct',\n",
    "'def_ast_rate',\n",
    "'def_3pt_pct',\n",
    "'off_ast_rate',\n",
    "'off_to_pct',\n",
    "'off_ft_pct',\n",
    "'off_block_pct'\n",
    "]]"
   ]
  },
  {
   "cell_type": "code",
   "execution_count": 57,
   "id": "62517e80-4d3b-4c47-8391-bda14931818d",
   "metadata": {},
   "outputs": [
    {
     "name": "stdout",
     "output_type": "stream",
     "text": [
      "Best Feature Subset: ('def_to_pct', 'kenpom_adjoe', 'off_2pt_pct', 'off_to_pct', 'off_ft_pct')\n",
      "Best Test F1 Score: 0.8322\n",
      "Training F1 Score of Best Model: 0.8448\n"
     ]
    }
   ],
   "source": [
    "# Initialize variables to track the best model\n",
    "best_f1 = 0\n",
    "best_features = []\n",
    "best_train_f1 = 0\n",
    "\n",
    "# Iterate over all possible subsets of features\n",
    "for k in range(1, len(X_train_scaled2.columns) + 1):\n",
    "    for subset in combinations(X_train_scaled2.columns, k):\n",
    "        X_train_subset = X_train_scaled2[list(subset)]\n",
    "        X_test_subset = X_test_scaled2[list(subset)]\n",
    "        \n",
    "        # Train the model with the subset of features\n",
    "        log_reg.fit(X_train_subset, y_train)\n",
    "        \n",
    "        # Make predictions on the test set\n",
    "        y_test_pred = log_reg.predict(X_test_subset)\n",
    "        test_f1 = f1_score(y_test, y_test_pred)\n",
    "        \n",
    "        # Make predictions on the training set\n",
    "        y_train_pred = log_reg.predict(X_train_subset)\n",
    "        train_f1 = f1_score(y_train, y_train_pred)\n",
    "        \n",
    "        # Track the best subset based on test F1 score\n",
    "        if test_f1 > best_f1:\n",
    "            best_f1 = test_f1\n",
    "            best_features = subset\n",
    "            best_train_f1 = train_f1\n",
    "\n",
    "# Output the best feature subset and the F1 scores\n",
    "print(f\"Best Feature Subset: {best_features}\")\n",
    "print(f\"Best Test F1 Score: {best_f1:.4f}\")\n",
    "print(f\"Training F1 Score of Best Model: {best_train_f1:.4f}\")"
   ]
  },
  {
   "cell_type": "markdown",
   "id": "746b8d70-d6e2-4b37-a7bc-f239319fb28d",
   "metadata": {},
   "source": [
    "### V. Principal Components Analysis"
   ]
  },
  {
   "cell_type": "code",
   "execution_count": 68,
   "id": "65443205-8ef4-4251-9f9b-9ab65fa8d086",
   "metadata": {},
   "outputs": [],
   "source": [
    "from sklearn.decomposition import PCA\n",
    "import plotly_express as px\n",
    "import plotly.graph_objects as go\n",
    "\n",
    "scaler = StandardScaler()\n",
    "X_train_scaled = scaler.fit_transform(X_train)\n",
    "X_test_scaled = scaler.transform(X_test)"
   ]
  },
  {
   "cell_type": "code",
   "execution_count": 69,
   "id": "0e944736-4e4d-4a40-a3e2-e144ba93b7e6",
   "metadata": {},
   "outputs": [],
   "source": [
    "shape = X_train_scaled.shape\n",
    "pca = PCA(n_components=shape[1])\n",
    "pca_array2 = pca.fit_transform(X_train_scaled)"
   ]
  },
  {
   "cell_type": "code",
   "execution_count": 70,
   "id": "b1284f16-1ca9-4487-ae78-abc35e935bdd",
   "metadata": {},
   "outputs": [
    {
     "name": "stdout",
     "output_type": "stream",
     "text": [
      "Explained variance:  [6.13620090e+00 3.69115912e+00 2.70206892e+00 2.10671003e+00\n",
      " 1.75866881e+00 1.57553533e+00 1.31458388e+00 9.92304751e-01\n",
      " 8.95094700e-01 8.27924988e-01 7.84338219e-01 7.34645705e-01\n",
      " 6.67181603e-01 6.06624211e-01 5.33122535e-01 4.49427561e-01\n",
      " 3.64303419e-01 3.11214545e-01 2.33909328e-01 2.12169951e-01\n",
      " 7.10263464e-02 5.55415856e-02 2.97176510e-02 3.98200664e-03\n",
      " 3.21804882e-03 7.88647218e-10 2.23789453e-32]\n",
      "Explained variance ratio:  [2.26757134e-01 1.36403073e-01 9.98522397e-02 7.78513506e-02\n",
      " 6.49898372e-02 5.82223238e-02 4.85791253e-02 3.66696242e-02\n",
      " 3.30773245e-02 3.05951353e-02 2.89844301e-02 2.71480932e-02\n",
      " 2.46550252e-02 2.24171877e-02 1.97010071e-02 1.66081436e-02\n",
      " 1.34624665e-02 1.15006205e-02 8.64388398e-03 7.84052717e-03\n",
      " 2.62470720e-03 2.05248344e-03 1.09818591e-03 1.47151051e-04\n",
      " 1.18919758e-04 2.91436649e-11 8.26991417e-34]\n",
      "Cumulative explained variance ratio:  [0.22675713 0.36316021 0.46301245 0.5408638  0.60585363 0.66407596\n",
      " 0.71265508 0.74932471 0.78240203 0.81299717 0.8419816  0.86912969\n",
      " 0.89378472 0.9162019  0.93590291 0.95251105 0.96597352 0.97747414\n",
      " 0.98611803 0.99395855 0.99658326 0.99863574 0.99973393 0.99988108\n",
      " 1.         1.         1.        ]\n"
     ]
    },
    {
     "data": {
      "application/vnd.plotly.v1+json": {
       "config": {
        "plotlyServerURL": "https://plot.ly"
       },
       "data": [
        {
         "fillpattern": {
          "shape": ""
         },
         "hovertemplate": "# Components=%{x}<br>Explained Variance=%{y}<extra></extra>",
         "legendgroup": "",
         "line": {
          "color": "#636efa"
         },
         "marker": {
          "symbol": "circle"
         },
         "mode": "lines",
         "name": "",
         "orientation": "v",
         "showlegend": false,
         "stackgroup": "1",
         "type": "scatter",
         "x": [
          1,
          2,
          3,
          4,
          5,
          6,
          7,
          8,
          9,
          10,
          11,
          12,
          13,
          14,
          15,
          16,
          17,
          18,
          19,
          20,
          21,
          22,
          23,
          24,
          25,
          26,
          27
         ],
         "xaxis": "x",
         "y": [
          0.2267571335476455,
          0.3631602069568248,
          0.4630124466867138,
          0.5408637972814496,
          0.6058536344776319,
          0.6640759583028789,
          0.7126550835610936,
          0.7493247077418903,
          0.7824020322127029,
          0.8129971675391805,
          0.841981597649094,
          0.8691296908656286,
          0.8937847160571563,
          0.9162019037424196,
          0.9359029108746639,
          0.9525110544313664,
          0.9659735209354477,
          0.9774741414660114,
          0.9861180254418834,
          0.993958552612676,
          0.9965832598149746,
          0.9986357432543091,
          0.999733929162092,
          0.9998810802128818,
          0.9999999999708565,
          1.0000000000000002,
          1.0000000000000002
         ],
         "yaxis": "y"
        }
       ],
       "layout": {
        "autosize": true,
        "legend": {
         "tracegroupgap": 0
        },
        "margin": {
         "t": 60
        },
        "template": {
         "data": {
          "bar": [
           {
            "error_x": {
             "color": "#2a3f5f"
            },
            "error_y": {
             "color": "#2a3f5f"
            },
            "marker": {
             "line": {
              "color": "white",
              "width": 0.5
             },
             "pattern": {
              "fillmode": "overlay",
              "size": 10,
              "solidity": 0.2
             }
            },
            "type": "bar"
           }
          ],
          "barpolar": [
           {
            "marker": {
             "line": {
              "color": "white",
              "width": 0.5
             },
             "pattern": {
              "fillmode": "overlay",
              "size": 10,
              "solidity": 0.2
             }
            },
            "type": "barpolar"
           }
          ],
          "carpet": [
           {
            "aaxis": {
             "endlinecolor": "#2a3f5f",
             "gridcolor": "#C8D4E3",
             "linecolor": "#C8D4E3",
             "minorgridcolor": "#C8D4E3",
             "startlinecolor": "#2a3f5f"
            },
            "baxis": {
             "endlinecolor": "#2a3f5f",
             "gridcolor": "#C8D4E3",
             "linecolor": "#C8D4E3",
             "minorgridcolor": "#C8D4E3",
             "startlinecolor": "#2a3f5f"
            },
            "type": "carpet"
           }
          ],
          "choropleth": [
           {
            "colorbar": {
             "outlinewidth": 0,
             "ticks": ""
            },
            "type": "choropleth"
           }
          ],
          "contour": [
           {
            "colorbar": {
             "outlinewidth": 0,
             "ticks": ""
            },
            "colorscale": [
             [
              0,
              "#0d0887"
             ],
             [
              0.1111111111111111,
              "#46039f"
             ],
             [
              0.2222222222222222,
              "#7201a8"
             ],
             [
              0.3333333333333333,
              "#9c179e"
             ],
             [
              0.4444444444444444,
              "#bd3786"
             ],
             [
              0.5555555555555556,
              "#d8576b"
             ],
             [
              0.6666666666666666,
              "#ed7953"
             ],
             [
              0.7777777777777778,
              "#fb9f3a"
             ],
             [
              0.8888888888888888,
              "#fdca26"
             ],
             [
              1,
              "#f0f921"
             ]
            ],
            "type": "contour"
           }
          ],
          "contourcarpet": [
           {
            "colorbar": {
             "outlinewidth": 0,
             "ticks": ""
            },
            "type": "contourcarpet"
           }
          ],
          "heatmap": [
           {
            "colorbar": {
             "outlinewidth": 0,
             "ticks": ""
            },
            "colorscale": [
             [
              0,
              "#0d0887"
             ],
             [
              0.1111111111111111,
              "#46039f"
             ],
             [
              0.2222222222222222,
              "#7201a8"
             ],
             [
              0.3333333333333333,
              "#9c179e"
             ],
             [
              0.4444444444444444,
              "#bd3786"
             ],
             [
              0.5555555555555556,
              "#d8576b"
             ],
             [
              0.6666666666666666,
              "#ed7953"
             ],
             [
              0.7777777777777778,
              "#fb9f3a"
             ],
             [
              0.8888888888888888,
              "#fdca26"
             ],
             [
              1,
              "#f0f921"
             ]
            ],
            "type": "heatmap"
           }
          ],
          "heatmapgl": [
           {
            "colorbar": {
             "outlinewidth": 0,
             "ticks": ""
            },
            "colorscale": [
             [
              0,
              "#0d0887"
             ],
             [
              0.1111111111111111,
              "#46039f"
             ],
             [
              0.2222222222222222,
              "#7201a8"
             ],
             [
              0.3333333333333333,
              "#9c179e"
             ],
             [
              0.4444444444444444,
              "#bd3786"
             ],
             [
              0.5555555555555556,
              "#d8576b"
             ],
             [
              0.6666666666666666,
              "#ed7953"
             ],
             [
              0.7777777777777778,
              "#fb9f3a"
             ],
             [
              0.8888888888888888,
              "#fdca26"
             ],
             [
              1,
              "#f0f921"
             ]
            ],
            "type": "heatmapgl"
           }
          ],
          "histogram": [
           {
            "marker": {
             "pattern": {
              "fillmode": "overlay",
              "size": 10,
              "solidity": 0.2
             }
            },
            "type": "histogram"
           }
          ],
          "histogram2d": [
           {
            "colorbar": {
             "outlinewidth": 0,
             "ticks": ""
            },
            "colorscale": [
             [
              0,
              "#0d0887"
             ],
             [
              0.1111111111111111,
              "#46039f"
             ],
             [
              0.2222222222222222,
              "#7201a8"
             ],
             [
              0.3333333333333333,
              "#9c179e"
             ],
             [
              0.4444444444444444,
              "#bd3786"
             ],
             [
              0.5555555555555556,
              "#d8576b"
             ],
             [
              0.6666666666666666,
              "#ed7953"
             ],
             [
              0.7777777777777778,
              "#fb9f3a"
             ],
             [
              0.8888888888888888,
              "#fdca26"
             ],
             [
              1,
              "#f0f921"
             ]
            ],
            "type": "histogram2d"
           }
          ],
          "histogram2dcontour": [
           {
            "colorbar": {
             "outlinewidth": 0,
             "ticks": ""
            },
            "colorscale": [
             [
              0,
              "#0d0887"
             ],
             [
              0.1111111111111111,
              "#46039f"
             ],
             [
              0.2222222222222222,
              "#7201a8"
             ],
             [
              0.3333333333333333,
              "#9c179e"
             ],
             [
              0.4444444444444444,
              "#bd3786"
             ],
             [
              0.5555555555555556,
              "#d8576b"
             ],
             [
              0.6666666666666666,
              "#ed7953"
             ],
             [
              0.7777777777777778,
              "#fb9f3a"
             ],
             [
              0.8888888888888888,
              "#fdca26"
             ],
             [
              1,
              "#f0f921"
             ]
            ],
            "type": "histogram2dcontour"
           }
          ],
          "mesh3d": [
           {
            "colorbar": {
             "outlinewidth": 0,
             "ticks": ""
            },
            "type": "mesh3d"
           }
          ],
          "parcoords": [
           {
            "line": {
             "colorbar": {
              "outlinewidth": 0,
              "ticks": ""
             }
            },
            "type": "parcoords"
           }
          ],
          "pie": [
           {
            "automargin": true,
            "type": "pie"
           }
          ],
          "scatter": [
           {
            "fillpattern": {
             "fillmode": "overlay",
             "size": 10,
             "solidity": 0.2
            },
            "type": "scatter"
           }
          ],
          "scatter3d": [
           {
            "line": {
             "colorbar": {
              "outlinewidth": 0,
              "ticks": ""
             }
            },
            "marker": {
             "colorbar": {
              "outlinewidth": 0,
              "ticks": ""
             }
            },
            "type": "scatter3d"
           }
          ],
          "scattercarpet": [
           {
            "marker": {
             "colorbar": {
              "outlinewidth": 0,
              "ticks": ""
             }
            },
            "type": "scattercarpet"
           }
          ],
          "scattergeo": [
           {
            "marker": {
             "colorbar": {
              "outlinewidth": 0,
              "ticks": ""
             }
            },
            "type": "scattergeo"
           }
          ],
          "scattergl": [
           {
            "marker": {
             "colorbar": {
              "outlinewidth": 0,
              "ticks": ""
             }
            },
            "type": "scattergl"
           }
          ],
          "scattermapbox": [
           {
            "marker": {
             "colorbar": {
              "outlinewidth": 0,
              "ticks": ""
             }
            },
            "type": "scattermapbox"
           }
          ],
          "scatterpolar": [
           {
            "marker": {
             "colorbar": {
              "outlinewidth": 0,
              "ticks": ""
             }
            },
            "type": "scatterpolar"
           }
          ],
          "scatterpolargl": [
           {
            "marker": {
             "colorbar": {
              "outlinewidth": 0,
              "ticks": ""
             }
            },
            "type": "scatterpolargl"
           }
          ],
          "scatterternary": [
           {
            "marker": {
             "colorbar": {
              "outlinewidth": 0,
              "ticks": ""
             }
            },
            "type": "scatterternary"
           }
          ],
          "surface": [
           {
            "colorbar": {
             "outlinewidth": 0,
             "ticks": ""
            },
            "colorscale": [
             [
              0,
              "#0d0887"
             ],
             [
              0.1111111111111111,
              "#46039f"
             ],
             [
              0.2222222222222222,
              "#7201a8"
             ],
             [
              0.3333333333333333,
              "#9c179e"
             ],
             [
              0.4444444444444444,
              "#bd3786"
             ],
             [
              0.5555555555555556,
              "#d8576b"
             ],
             [
              0.6666666666666666,
              "#ed7953"
             ],
             [
              0.7777777777777778,
              "#fb9f3a"
             ],
             [
              0.8888888888888888,
              "#fdca26"
             ],
             [
              1,
              "#f0f921"
             ]
            ],
            "type": "surface"
           }
          ],
          "table": [
           {
            "cells": {
             "fill": {
              "color": "#EBF0F8"
             },
             "line": {
              "color": "white"
             }
            },
            "header": {
             "fill": {
              "color": "#C8D4E3"
             },
             "line": {
              "color": "white"
             }
            },
            "type": "table"
           }
          ]
         },
         "layout": {
          "annotationdefaults": {
           "arrowcolor": "#2a3f5f",
           "arrowhead": 0,
           "arrowwidth": 1
          },
          "autotypenumbers": "strict",
          "coloraxis": {
           "colorbar": {
            "outlinewidth": 0,
            "ticks": ""
           }
          },
          "colorscale": {
           "diverging": [
            [
             0,
             "#8e0152"
            ],
            [
             0.1,
             "#c51b7d"
            ],
            [
             0.2,
             "#de77ae"
            ],
            [
             0.3,
             "#f1b6da"
            ],
            [
             0.4,
             "#fde0ef"
            ],
            [
             0.5,
             "#f7f7f7"
            ],
            [
             0.6,
             "#e6f5d0"
            ],
            [
             0.7,
             "#b8e186"
            ],
            [
             0.8,
             "#7fbc41"
            ],
            [
             0.9,
             "#4d9221"
            ],
            [
             1,
             "#276419"
            ]
           ],
           "sequential": [
            [
             0,
             "#0d0887"
            ],
            [
             0.1111111111111111,
             "#46039f"
            ],
            [
             0.2222222222222222,
             "#7201a8"
            ],
            [
             0.3333333333333333,
             "#9c179e"
            ],
            [
             0.4444444444444444,
             "#bd3786"
            ],
            [
             0.5555555555555556,
             "#d8576b"
            ],
            [
             0.6666666666666666,
             "#ed7953"
            ],
            [
             0.7777777777777778,
             "#fb9f3a"
            ],
            [
             0.8888888888888888,
             "#fdca26"
            ],
            [
             1,
             "#f0f921"
            ]
           ],
           "sequentialminus": [
            [
             0,
             "#0d0887"
            ],
            [
             0.1111111111111111,
             "#46039f"
            ],
            [
             0.2222222222222222,
             "#7201a8"
            ],
            [
             0.3333333333333333,
             "#9c179e"
            ],
            [
             0.4444444444444444,
             "#bd3786"
            ],
            [
             0.5555555555555556,
             "#d8576b"
            ],
            [
             0.6666666666666666,
             "#ed7953"
            ],
            [
             0.7777777777777778,
             "#fb9f3a"
            ],
            [
             0.8888888888888888,
             "#fdca26"
            ],
            [
             1,
             "#f0f921"
            ]
           ]
          },
          "colorway": [
           "#636efa",
           "#EF553B",
           "#00cc96",
           "#ab63fa",
           "#FFA15A",
           "#19d3f3",
           "#FF6692",
           "#B6E880",
           "#FF97FF",
           "#FECB52"
          ],
          "font": {
           "color": "#2a3f5f"
          },
          "geo": {
           "bgcolor": "white",
           "lakecolor": "white",
           "landcolor": "white",
           "showlakes": true,
           "showland": true,
           "subunitcolor": "#C8D4E3"
          },
          "hoverlabel": {
           "align": "left"
          },
          "hovermode": "closest",
          "mapbox": {
           "style": "light"
          },
          "paper_bgcolor": "white",
          "plot_bgcolor": "white",
          "polar": {
           "angularaxis": {
            "gridcolor": "#EBF0F8",
            "linecolor": "#EBF0F8",
            "ticks": ""
           },
           "bgcolor": "white",
           "radialaxis": {
            "gridcolor": "#EBF0F8",
            "linecolor": "#EBF0F8",
            "ticks": ""
           }
          },
          "scene": {
           "xaxis": {
            "backgroundcolor": "white",
            "gridcolor": "#DFE8F3",
            "gridwidth": 2,
            "linecolor": "#EBF0F8",
            "showbackground": true,
            "ticks": "",
            "zerolinecolor": "#EBF0F8"
           },
           "yaxis": {
            "backgroundcolor": "white",
            "gridcolor": "#DFE8F3",
            "gridwidth": 2,
            "linecolor": "#EBF0F8",
            "showbackground": true,
            "ticks": "",
            "zerolinecolor": "#EBF0F8"
           },
           "zaxis": {
            "backgroundcolor": "white",
            "gridcolor": "#DFE8F3",
            "gridwidth": 2,
            "linecolor": "#EBF0F8",
            "showbackground": true,
            "ticks": "",
            "zerolinecolor": "#EBF0F8"
           }
          },
          "shapedefaults": {
           "line": {
            "color": "#2a3f5f"
           }
          },
          "ternary": {
           "aaxis": {
            "gridcolor": "#DFE8F3",
            "linecolor": "#A2B1C6",
            "ticks": ""
           },
           "baxis": {
            "gridcolor": "#DFE8F3",
            "linecolor": "#A2B1C6",
            "ticks": ""
           },
           "bgcolor": "white",
           "caxis": {
            "gridcolor": "#DFE8F3",
            "linecolor": "#A2B1C6",
            "ticks": ""
           }
          },
          "title": {
           "x": 0.05
          },
          "xaxis": {
           "automargin": true,
           "gridcolor": "#EBF0F8",
           "linecolor": "#EBF0F8",
           "ticks": "",
           "title": {
            "standoff": 15
           },
           "zerolinecolor": "#EBF0F8",
           "zerolinewidth": 2
          },
          "yaxis": {
           "automargin": true,
           "gridcolor": "#EBF0F8",
           "linecolor": "#EBF0F8",
           "ticks": "",
           "title": {
            "standoff": 15
           },
           "zerolinecolor": "#EBF0F8",
           "zerolinewidth": 2
          }
         }
        },
        "xaxis": {
         "anchor": "y",
         "autorange": true,
         "domain": [
          0,
          1
         ],
         "range": [
          1,
          27
         ],
         "title": {
          "text": "# Components"
         },
         "type": "linear"
        },
        "yaxis": {
         "anchor": "x",
         "autorange": true,
         "domain": [
          0,
          1
         ],
         "range": [
          0,
          1.0526315789473686
         ],
         "title": {
          "text": "Explained Variance"
         },
         "type": "linear"
        }
       }
      },
      "image/png": "[encoded data removed]",
      "text/html": [
       "<div>                            <div id=\"64376016-0b60-465e-b8e1-453b18e79316\" class=\"plotly-graph-div\" style=\"height:525px; width:100%;\"></div>            <script type=\"text/javascript\">                require([\"plotly\"], function(Plotly) {                    window.PLOTLYENV=window.PLOTLYENV || {};                                    if (document.getElementById(\"64376016-0b60-465e-b8e1-453b18e79316\")) {                    Plotly.newPlot(                        \"64376016-0b60-465e-b8e1-453b18e79316\",                        [{\"fillpattern\":{\"shape\":\"\"},\"hovertemplate\":\"# Components=%{x}\\u003cbr\\u003eExplained Variance=%{y}\\u003cextra\\u003e\\u003c\\u002fextra\\u003e\",\"legendgroup\":\"\",\"line\":{\"color\":\"#636efa\"},\"marker\":{\"symbol\":\"circle\"},\"mode\":\"lines\",\"name\":\"\",\"orientation\":\"v\",\"showlegend\":false,\"stackgroup\":\"1\",\"x\":[1,2,3,4,5,6,7,8,9,10,11,12,13,14,15,16,17,18,19,20,21,22,23,24,25,26,27],\"xaxis\":\"x\",\"y\":[0.2267571335476455,0.3631602069568248,0.4630124466867138,0.5408637972814496,0.6058536344776319,0.6640759583028789,0.7126550835610936,0.7493247077418903,0.7824020322127029,0.8129971675391805,0.841981597649094,0.8691296908656286,0.8937847160571563,0.9162019037424196,0.9359029108746639,0.9525110544313664,0.9659735209354477,0.9774741414660114,0.9861180254418834,0.993958552612676,0.9965832598149746,0.9986357432543091,0.999733929162092,0.9998810802128818,0.9999999999708565,1.0000000000000002,1.0000000000000002],\"yaxis\":\"y\",\"type\":\"scatter\"}],                        {\"template\":{\"data\":{\"barpolar\":[{\"marker\":{\"line\":{\"color\":\"white\",\"width\":0.5},\"pattern\":{\"fillmode\":\"overlay\",\"size\":10,\"solidity\":0.2}},\"type\":\"barpolar\"}],\"bar\":[{\"error_x\":{\"color\":\"#2a3f5f\"},\"error_y\":{\"color\":\"#2a3f5f\"},\"marker\":{\"line\":{\"color\":\"white\",\"width\":0.5},\"pattern\":{\"fillmode\":\"overlay\",\"size\":10,\"solidity\":0.2}},\"type\":\"bar\"}],\"carpet\":[{\"aaxis\":{\"endlinecolor\":\"#2a3f5f\",\"gridcolor\":\"#C8D4E3\",\"linecolor\":\"#C8D4E3\",\"minorgridcolor\":\"#C8D4E3\",\"startlinecolor\":\"#2a3f5f\"},\"baxis\":{\"endlinecolor\":\"#2a3f5f\",\"gridcolor\":\"#C8D4E3\",\"linecolor\":\"#C8D4E3\",\"minorgridcolor\":\"#C8D4E3\",\"startlinecolor\":\"#2a3f5f\"},\"type\":\"carpet\"}],\"choropleth\":[{\"colorbar\":{\"outlinewidth\":0,\"ticks\":\"\"},\"type\":\"choropleth\"}],\"contourcarpet\":[{\"colorbar\":{\"outlinewidth\":0,\"ticks\":\"\"},\"type\":\"contourcarpet\"}],\"contour\":[{\"colorbar\":{\"outlinewidth\":0,\"ticks\":\"\"},\"colorscale\":[[0.0,\"#0d0887\"],[0.1111111111111111,\"#46039f\"],[0.2222222222222222,\"#7201a8\"],[0.3333333333333333,\"#9c179e\"],[0.4444444444444444,\"#bd3786\"],[0.5555555555555556,\"#d8576b\"],[0.6666666666666666,\"#ed7953\"],[0.7777777777777778,\"#fb9f3a\"],[0.8888888888888888,\"#fdca26\"],[1.0,\"#f0f921\"]],\"type\":\"contour\"}],\"heatmapgl\":[{\"colorbar\":{\"outlinewidth\":0,\"ticks\":\"\"},\"colorscale\":[[0.0,\"#0d0887\"],[0.1111111111111111,\"#46039f\"],[0.2222222222222222,\"#7201a8\"],[0.3333333333333333,\"#9c179e\"],[0.4444444444444444,\"#bd3786\"],[0.5555555555555556,\"#d8576b\"],[0.6666666666666666,\"#ed7953\"],[0.7777777777777778,\"#fb9f3a\"],[0.8888888888888888,\"#fdca26\"],[1.0,\"#f0f921\"]],\"type\":\"heatmapgl\"}],\"heatmap\":[{\"colorbar\":{\"outlinewidth\":0,\"ticks\":\"\"},\"colorscale\":[[0.0,\"#0d0887\"],[0.1111111111111111,\"#46039f\"],[0.2222222222222222,\"#7201a8\"],[0.3333333333333333,\"#9c179e\"],[0.4444444444444444,\"#bd3786\"],[0.5555555555555556,\"#d8576b\"],[0.6666666666666666,\"#ed7953\"],[0.7777777777777778,\"#fb9f3a\"],[0.8888888888888888,\"#fdca26\"],[1.0,\"#f0f921\"]],\"type\":\"heatmap\"}],\"histogram2dcontour\":[{\"colorbar\":{\"outlinewidth\":0,\"ticks\":\"\"},\"colorscale\":[[0.0,\"#0d0887\"],[0.1111111111111111,\"#46039f\"],[0.2222222222222222,\"#7201a8\"],[0.3333333333333333,\"#9c179e\"],[0.4444444444444444,\"#bd3786\"],[0.5555555555555556,\"#d8576b\"],[0.6666666666666666,\"#ed7953\"],[0.7777777777777778,\"#fb9f3a\"],[0.8888888888888888,\"#fdca26\"],[1.0,\"#f0f921\"]],\"type\":\"histogram2dcontour\"}],\"histogram2d\":[{\"colorbar\":{\"outlinewidth\":0,\"ticks\":\"\"},\"colorscale\":[[0.0,\"#0d0887\"],[0.1111111111111111,\"#46039f\"],[0.2222222222222222,\"#7201a8\"],[0.3333333333333333,\"#9c179e\"],[0.4444444444444444,\"#bd3786\"],[0.5555555555555556,\"#d8576b\"],[0.6666666666666666,\"#ed7953\"],[0.7777777777777778,\"#fb9f3a\"],[0.8888888888888888,\"#fdca26\"],[1.0,\"#f0f921\"]],\"type\":\"histogram2d\"}],\"histogram\":[{\"marker\":{\"pattern\":{\"fillmode\":\"overlay\",\"size\":10,\"solidity\":0.2}},\"type\":\"histogram\"}],\"mesh3d\":[{\"colorbar\":{\"outlinewidth\":0,\"ticks\":\"\"},\"type\":\"mesh3d\"}],\"parcoords\":[{\"line\":{\"colorbar\":{\"outlinewidth\":0,\"ticks\":\"\"}},\"type\":\"parcoords\"}],\"pie\":[{\"automargin\":true,\"type\":\"pie\"}],\"scatter3d\":[{\"line\":{\"colorbar\":{\"outlinewidth\":0,\"ticks\":\"\"}},\"marker\":{\"colorbar\":{\"outlinewidth\":0,\"ticks\":\"\"}},\"type\":\"scatter3d\"}],\"scattercarpet\":[{\"marker\":{\"colorbar\":{\"outlinewidth\":0,\"ticks\":\"\"}},\"type\":\"scattercarpet\"}],\"scattergeo\":[{\"marker\":{\"colorbar\":{\"outlinewidth\":0,\"ticks\":\"\"}},\"type\":\"scattergeo\"}],\"scattergl\":[{\"marker\":{\"colorbar\":{\"outlinewidth\":0,\"ticks\":\"\"}},\"type\":\"scattergl\"}],\"scattermapbox\":[{\"marker\":{\"colorbar\":{\"outlinewidth\":0,\"ticks\":\"\"}},\"type\":\"scattermapbox\"}],\"scatterpolargl\":[{\"marker\":{\"colorbar\":{\"outlinewidth\":0,\"ticks\":\"\"}},\"type\":\"scatterpolargl\"}],\"scatterpolar\":[{\"marker\":{\"colorbar\":{\"outlinewidth\":0,\"ticks\":\"\"}},\"type\":\"scatterpolar\"}],\"scatter\":[{\"fillpattern\":{\"fillmode\":\"overlay\",\"size\":10,\"solidity\":0.2},\"type\":\"scatter\"}],\"scatterternary\":[{\"marker\":{\"colorbar\":{\"outlinewidth\":0,\"ticks\":\"\"}},\"type\":\"scatterternary\"}],\"surface\":[{\"colorbar\":{\"outlinewidth\":0,\"ticks\":\"\"},\"colorscale\":[[0.0,\"#0d0887\"],[0.1111111111111111,\"#46039f\"],[0.2222222222222222,\"#7201a8\"],[0.3333333333333333,\"#9c179e\"],[0.4444444444444444,\"#bd3786\"],[0.5555555555555556,\"#d8576b\"],[0.6666666666666666,\"#ed7953\"],[0.7777777777777778,\"#fb9f3a\"],[0.8888888888888888,\"#fdca26\"],[1.0,\"#f0f921\"]],\"type\":\"surface\"}],\"table\":[{\"cells\":{\"fill\":{\"color\":\"#EBF0F8\"},\"line\":{\"color\":\"white\"}},\"header\":{\"fill\":{\"color\":\"#C8D4E3\"},\"line\":{\"color\":\"white\"}},\"type\":\"table\"}]},\"layout\":{\"annotationdefaults\":{\"arrowcolor\":\"#2a3f5f\",\"arrowhead\":0,\"arrowwidth\":1},\"autotypenumbers\":\"strict\",\"coloraxis\":{\"colorbar\":{\"outlinewidth\":0,\"ticks\":\"\"}},\"colorscale\":{\"diverging\":[[0,\"#8e0152\"],[0.1,\"#c51b7d\"],[0.2,\"#de77ae\"],[0.3,\"#f1b6da\"],[0.4,\"#fde0ef\"],[0.5,\"#f7f7f7\"],[0.6,\"#e6f5d0\"],[0.7,\"#b8e186\"],[0.8,\"#7fbc41\"],[0.9,\"#4d9221\"],[1,\"#276419\"]],\"sequential\":[[0.0,\"#0d0887\"],[0.1111111111111111,\"#46039f\"],[0.2222222222222222,\"#7201a8\"],[0.3333333333333333,\"#9c179e\"],[0.4444444444444444,\"#bd3786\"],[0.5555555555555556,\"#d8576b\"],[0.6666666666666666,\"#ed7953\"],[0.7777777777777778,\"#fb9f3a\"],[0.8888888888888888,\"#fdca26\"],[1.0,\"#f0f921\"]],\"sequentialminus\":[[0.0,\"#0d0887\"],[0.1111111111111111,\"#46039f\"],[0.2222222222222222,\"#7201a8\"],[0.3333333333333333,\"#9c179e\"],[0.4444444444444444,\"#bd3786\"],[0.5555555555555556,\"#d8576b\"],[0.6666666666666666,\"#ed7953\"],[0.7777777777777778,\"#fb9f3a\"],[0.8888888888888888,\"#fdca26\"],[1.0,\"#f0f921\"]]},\"colorway\":[\"#636efa\",\"#EF553B\",\"#00cc96\",\"#ab63fa\",\"#FFA15A\",\"#19d3f3\",\"#FF6692\",\"#B6E880\",\"#FF97FF\",\"#FECB52\"],\"font\":{\"color\":\"#2a3f5f\"},\"geo\":{\"bgcolor\":\"white\",\"lakecolor\":\"white\",\"landcolor\":\"white\",\"showlakes\":true,\"showland\":true,\"subunitcolor\":\"#C8D4E3\"},\"hoverlabel\":{\"align\":\"left\"},\"hovermode\":\"closest\",\"mapbox\":{\"style\":\"light\"},\"paper_bgcolor\":\"white\",\"plot_bgcolor\":\"white\",\"polar\":{\"angularaxis\":{\"gridcolor\":\"#EBF0F8\",\"linecolor\":\"#EBF0F8\",\"ticks\":\"\"},\"bgcolor\":\"white\",\"radialaxis\":{\"gridcolor\":\"#EBF0F8\",\"linecolor\":\"#EBF0F8\",\"ticks\":\"\"}},\"scene\":{\"xaxis\":{\"backgroundcolor\":\"white\",\"gridcolor\":\"#DFE8F3\",\"gridwidth\":2,\"linecolor\":\"#EBF0F8\",\"showbackground\":true,\"ticks\":\"\",\"zerolinecolor\":\"#EBF0F8\"},\"yaxis\":{\"backgroundcolor\":\"white\",\"gridcolor\":\"#DFE8F3\",\"gridwidth\":2,\"linecolor\":\"#EBF0F8\",\"showbackground\":true,\"ticks\":\"\",\"zerolinecolor\":\"#EBF0F8\"},\"zaxis\":{\"backgroundcolor\":\"white\",\"gridcolor\":\"#DFE8F3\",\"gridwidth\":2,\"linecolor\":\"#EBF0F8\",\"showbackground\":true,\"ticks\":\"\",\"zerolinecolor\":\"#EBF0F8\"}},\"shapedefaults\":{\"line\":{\"color\":\"#2a3f5f\"}},\"ternary\":{\"aaxis\":{\"gridcolor\":\"#DFE8F3\",\"linecolor\":\"#A2B1C6\",\"ticks\":\"\"},\"baxis\":{\"gridcolor\":\"#DFE8F3\",\"linecolor\":\"#A2B1C6\",\"ticks\":\"\"},\"bgcolor\":\"white\",\"caxis\":{\"gridcolor\":\"#DFE8F3\",\"linecolor\":\"#A2B1C6\",\"ticks\":\"\"}},\"title\":{\"x\":0.05},\"xaxis\":{\"automargin\":true,\"gridcolor\":\"#EBF0F8\",\"linecolor\":\"#EBF0F8\",\"ticks\":\"\",\"title\":{\"standoff\":15},\"zerolinecolor\":\"#EBF0F8\",\"zerolinewidth\":2},\"yaxis\":{\"automargin\":true,\"gridcolor\":\"#EBF0F8\",\"linecolor\":\"#EBF0F8\",\"ticks\":\"\",\"title\":{\"standoff\":15},\"zerolinecolor\":\"#EBF0F8\",\"zerolinewidth\":2}}},\"xaxis\":{\"anchor\":\"y\",\"domain\":[0.0,1.0],\"title\":{\"text\":\"# Components\"}},\"yaxis\":{\"anchor\":\"x\",\"domain\":[0.0,1.0],\"title\":{\"text\":\"Explained Variance\"}},\"legend\":{\"tracegroupgap\":0},\"margin\":{\"t\":60}},                        {\"responsive\": true}                    ).then(function(){\n",
       "                            \n",
       "var gd = document.getElementById('64376016-0b60-465e-b8e1-453b18e79316');\n",
       "var x = new MutationObserver(function (mutations, observer) {{\n",
       "        var display = window.getComputedStyle(gd).display;\n",
       "        if (!display || display === 'none') {{\n",
       "            console.log([gd, 'removed!']);\n",
       "            Plotly.purge(gd);\n",
       "            observer.disconnect();\n",
       "        }}\n",
       "}});\n",
       "\n",
       "// Listen for the removal of the full notebook cells\n",
       "var notebookContainer = gd.closest('#notebook-container');\n",
       "if (notebookContainer) {{\n",
       "    x.observe(notebookContainer, {childList: true});\n",
       "}}\n",
       "\n",
       "// Listen for the clearing of the current output cell\n",
       "var outputEl = gd.closest('.output');\n",
       "if (outputEl) {{\n",
       "    x.observe(outputEl, {childList: true});\n",
       "}}\n",
       "\n",
       "                        })                };                });            </script>        </div>"
      ]
     },
     "metadata": {},
     "output_type": "display_data"
    }
   ],
   "source": [
    "### Explained Variance ###\n",
    "print(\"Explained variance: \", pca.explained_variance_)\n",
    "print(\"Explained variance ratio: \", pca.explained_variance_ratio_)\n",
    "print(\"Cumulative explained variance ratio: \", np.cumsum(pca.explained_variance_ratio_))\n",
    "\n",
    "### Visualize ###\n",
    "exp_var_cumul = np.cumsum(pca.explained_variance_ratio_)\n",
    "\n",
    "px.area(\n",
    "    x = range(1, exp_var_cumul.shape[0] + 1),\n",
    "    y = exp_var_cumul,\n",
    "    template = \"plotly_white\",\n",
    "    labels = {\"x\": \"# Components\",\n",
    "              \"y\": \"Explained Variance\"})"
   ]
  },
  {
   "cell_type": "code",
   "execution_count": 98,
   "id": "8a60d86b-4510-4ada-9704-e7678ced3d76",
   "metadata": {},
   "outputs": [
    {
     "data": {
      "text/plain": [
       "0.8571428571428571"
      ]
     },
     "execution_count": 98,
     "metadata": {},
     "output_type": "execute_result"
    }
   ],
   "source": [
    "# PCA on training set\n",
    "pca_train = pd.DataFrame(pca_array2)\n",
    "pca_train = pca_train.loc[:, 0:2]\n",
    "pca_train.columns = ['PC1', 'PC2', 'PC3']\n",
    "# Run Logistic Regression on PCA dataframe\n",
    "model = LogisticRegression()\n",
    "model.fit(pca_train, y_train)\n",
    "y_train_pred = model.predict(pca_train)\n",
    "f1_train = f1_score(y_train, y_train_pred)\n",
    "f1_train"
   ]
  },
  {
   "cell_type": "code",
   "execution_count": 99,
   "id": "212ef6b8-e950-4a92-aa7f-eee2bf14f9ba",
   "metadata": {},
   "outputs": [
    {
     "data": {
      "text/plain": [
       "0.7948717948717949"
      ]
     },
     "execution_count": 99,
     "metadata": {},
     "output_type": "execute_result"
    }
   ],
   "source": [
    "# PCA on training set\n",
    "pca_test_array = pca.transform(X_test_scaled)\n",
    "pca_test_df = pd.DataFrame(pca_test_array)\n",
    "pca_test = pca_test_df.loc[:, 0:2]\n",
    "pca_test.columns = ['PC1', 'PC2', 'PC3']\n",
    "# Run Logistic Regression on PCA dataframe\n",
    "y_test_pred = model.predict(pca_test)\n",
    "f1_test = f1_score(y_test, y_test_pred)\n",
    "f1_test"
   ]
  },
  {
   "cell_type": "code",
   "execution_count": null,
   "id": "da730161-306f-4a9f-aadc-fbde1cf07b7f",
   "metadata": {},
   "outputs": [],
   "source": []
  }
 ],
 "metadata": {
  "kernelspec": {
   "display_name": "Python 3 (ipykernel)",
   "language": "python",
   "name": "python3"
  },
  "language_info": {
   "codemirror_mode": {
    "name": "ipython",
    "version": 3
   },
   "file_extension": ".py",
   "mimetype": "text/x-python",
   "name": "python",
   "nbconvert_exporter": "python",
   "pygments_lexer": "ipython3",
   "version": "3.8.20"
  }
 },
 "nbformat": 4,
 "nbformat_minor": 5
}
